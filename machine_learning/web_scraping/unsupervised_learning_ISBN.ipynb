{
 "cells": [
  {
   "cell_type": "markdown",
   "id": "bUU-2N7ntHgk",
   "metadata": {
    "id": "bUU-2N7ntHgk"
   },
   "source": [
    "# 비지도학습 군집화 테스트\n",
    "\n",
    "###  \"사용 데이터 : 장르별 베스트셀러 리뷰 모음\"\n",
    "\n",
    "### 조건\n",
    "    * 각각의 ISBN끼리 리뷰를 합쳐서 테스트"
   ]
  },
  {
   "cell_type": "code",
   "execution_count": 1,
   "id": "greek-psychology",
   "metadata": {
    "executionInfo": {
     "elapsed": 2188,
     "status": "ok",
     "timestamp": 1615857430818,
     "user": {
      "displayName": "HJ W",
      "photoUrl": "",
      "userId": "17133817769772810518"
     },
     "user_tz": -540
    },
    "id": "greek-psychology"
   },
   "outputs": [],
   "source": [
    "import pandas as pd\n",
    "import numpy as np\n",
    "import tensorflow as tf\n",
    "\n",
    "%matplotlib inline\n",
    "\n",
    "import matplotlib.pyplot as plt\n",
    "import re\n",
    "import urllib.request\n",
    "from konlpy.tag import Okt\n",
    "\n",
    "\n",
    "from tensorflow.keras.preprocessing.text import Tokenizer\n",
    "from tensorflow.keras.preprocessing.sequence import pad_sequences\n",
    "\n",
    "import urllib"
   ]
  },
  {
   "cell_type": "code",
   "execution_count": 2,
   "id": "3bY23j9WV_4L",
   "metadata": {
    "executionInfo": {
     "elapsed": 590,
     "status": "ok",
     "timestamp": 1615857432997,
     "user": {
      "displayName": "HJ W",
      "photoUrl": "",
      "userId": "17133817769772810518"
     },
     "user_tz": -540
    },
    "id": "3bY23j9WV_4L"
   },
   "outputs": [],
   "source": [
    "import konlpy\n",
    "from konlpy.tag import Okt"
   ]
  },
  {
   "cell_type": "code",
   "execution_count": 3,
   "id": "present-livestock",
   "metadata": {},
   "outputs": [
    {
     "name": "stdout",
     "output_type": "stream",
     "text": [
      "INFO:tensorflow:Using MirroredStrategy with devices ('/job:localhost/replica:0/task:0/device:GPU:0',)\n"
     ]
    }
   ],
   "source": [
    "mirrored_strategy = tf.distribute.MirroredStrategy()"
   ]
  },
  {
   "cell_type": "markdown",
   "id": "interior-vermont",
   "metadata": {},
   "source": [
    "# 데이터 전처리"
   ]
  },
  {
   "cell_type": "markdown",
   "id": "lesser-gossip",
   "metadata": {
    "id": "lesser-gossip"
   },
   "source": [
    "## 도서 리뷰 추가"
   ]
  },
  {
   "cell_type": "code",
   "execution_count": 4,
   "id": "manufactured-brand",
   "metadata": {
    "executionInfo": {
     "elapsed": 586,
     "status": "ok",
     "timestamp": 1615862813046,
     "user": {
      "displayName": "HJ W",
      "photoUrl": "",
      "userId": "17133817769772810518"
     },
     "user_tz": -540
    },
    "id": "manufactured-brand"
   },
   "outputs": [],
   "source": [
    "import glob\n",
    "import pandas as pd\n",
    "from pandas.core.dtypes.missing import notnull\n",
    "import nltk\n",
    "from konlpy.tag import Okt\n",
    "from wordcloud import WordCloud, STOPWORDS\n",
    "import numpy as np\n",
    "from PIL import Image\n",
    "import matplotlib.pyplot as plt\n",
    "import platform\n",
    "from matplotlib import font_manager, rc\n",
    "import re\n",
    "from gensim.models import Word2Vec\n",
    "from pandas import DataFrame\n",
    "from tensorflow.keras.preprocessing.text import Tokenizer\n",
    "from tensorflow.keras.preprocessing.sequence import pad_sequences"
   ]
  },
  {
   "cell_type": "code",
   "execution_count": 6,
   "id": "vocational-davis",
   "metadata": {
    "executionInfo": {
     "elapsed": 4231,
     "status": "ok",
     "timestamp": 1615863631869,
     "user": {
      "displayName": "HJ W",
      "photoUrl": "",
      "userId": "17133817769772810518"
     },
     "user_tz": -540
    },
    "id": "vocational-davis"
   },
   "outputs": [],
   "source": [
    "# 데이터 불러오기\n",
    "book_data = pd.DataFrame()\n",
    "df = pd.read_csv('data\\detail_bestbook_review.csv', encoding=\"utf-8\")\n",
    "book_data = pd.concat([book_data,df])"
   ]
  },
  {
   "cell_type": "code",
   "execution_count": 7,
   "id": "substantial-mentor",
   "metadata": {
    "colab": {
     "base_uri": "https://localhost:8080/"
    },
    "executionInfo": {
     "elapsed": 584,
     "status": "ok",
     "timestamp": 1615858818773,
     "user": {
      "displayName": "HJ W",
      "photoUrl": "",
      "userId": "17133817769772810518"
     },
     "user_tz": -540
    },
    "id": "substantial-mentor",
    "outputId": "08b3dfc8-347a-4dc8-dead-ee08fca7541c"
   },
   "outputs": [
    {
     "name": "stdout",
     "output_type": "stream",
     "text": [
      "          ISBN13  rating                                             review\n",
      "0  8809474876010      10                배송빠르고..가성비 좋네요.. 진짜 다이어리가 2개가 왔네요 .\n",
      "1  8809474876010      10  주문한 다음날 오전에 받았어요. 배송 진짜 빠름빠름. 다이어리 대만족! 표지만 살짝...\n",
      "2  8809474876003      10                             2개 세트는 아니었지만 양장에 퀄리티 굿\n",
      "3  8809474876003      10  군더더기없이 깔끔하고 하나는 양장이고, 하나는 일반입니다. 2개세트라 내년까지 쓸수...\n",
      "4  8809474876003      10  깔끔하고 심플하고, A5사이즈로 적당하고 양장인데 잘 펼쳐지고 종이 질도 매끔한거 ...\n"
     ]
    }
   ],
   "source": [
    "# 코드 확인\n",
    "print(book_data.head())"
   ]
  },
  {
   "cell_type": "code",
   "execution_count": 8,
   "id": "gXwZFWLsnxoW",
   "metadata": {
    "colab": {
     "base_uri": "https://localhost:8080/"
    },
    "executionInfo": {
     "elapsed": 557,
     "status": "ok",
     "timestamp": 1615858833947,
     "user": {
      "displayName": "HJ W",
      "photoUrl": "",
      "userId": "17133817769772810518"
     },
     "user_tz": -540
    },
    "id": "gXwZFWLsnxoW",
    "outputId": "38c08de2-204f-458d-f033-7ecc3202b48d"
   },
   "outputs": [
    {
     "data": {
      "text/plain": [
       "<AxesSubplot:>"
      ]
     },
     "execution_count": 8,
     "metadata": {},
     "output_type": "execute_result"
    },
    {
     "data": {
      "image/png": "[encoded data removed]",
      "text/plain": [
       "<Figure size 432x288 with 1 Axes>"
      ]
     },
     "metadata": {
      "needs_background": "light"
     },
     "output_type": "display_data"
    }
   ],
   "source": [
    "# 점수별 그래프\n",
    "book_data['rating'].value_counts().plot(kind = 'bar')"
   ]
  },
  {
   "cell_type": "markdown",
   "id": "broken-idaho",
   "metadata": {},
   "source": [
    "## <전처리>"
   ]
  },
  {
   "cell_type": "code",
   "execution_count": 9,
   "id": "exciting-storm",
   "metadata": {},
   "outputs": [],
   "source": [
    "def cleansing(text):\n",
    "    # text = str(text)\n",
    "    pattern = \"([a-zA-Z0-9_.+-]+@[a-zA-Z0-9-]+.[a-zA-Z0-9-.]+)\"  # e-mail 주소 제거\n",
    "    text = re.sub(pattern=pattern, repl=\" \", string=text)\n",
    "\n",
    "    pattern = \"(http|ftp|https)://(?:[-\\w.]|(?:\\da-fA-F]{2}))+\"  # url 제거\n",
    "    text = re.sub(pattern=pattern, repl=\" \", string=text)\n",
    "\n",
    "    pattern = \"([^ㄷㅋㅎㅜㅠ가-힣a-zA-Z0-9])+\"  # 한글 자음, 모음 제거 - without 'ㄷ,ㅋ,ㅎ,ㅜ,ㅠ'\n",
    "    text = re.sub(pattern=pattern, repl=\" \", string=text)\n",
    "\n",
    "    pattern = \"<[^>]*>\"  # html tag 제거\n",
    "    text = re.sub(pattern=pattern, repl=\" \", string=text)\n",
    "\n",
    "    pattern = \"[\\r|\\n]\"  # \\r, \\n 제거\n",
    "    text = re.sub(pattern=pattern, repl=\" \", string=text)\n",
    "\n",
    "    pattern = re.compile(r\"\\s+\")  # 이중 space 제거\n",
    "    text = re.sub(pattern=pattern, repl=\" \", string=text)\n",
    "\n",
    "    return text"
   ]
  },
  {
   "cell_type": "code",
   "execution_count": 10,
   "id": "atomic-syria",
   "metadata": {},
   "outputs": [
    {
     "name": "stdout",
     "output_type": "stream",
     "text": [
      "<class 'str'>\n",
      "배송빠르고 가성비 좋네요 진짜 다이어리가 2개가 왔네요 \n",
      "배송빠르고 가성비 좋네요 진짜 다이어리가 2개가 왔네요 \n",
      "배송빠르고 가성비 좋네요 진짜 다이어리가 2개가 왔네요 \n"
     ]
    }
   ],
   "source": [
    "print(type(book_data.iloc[0]['review']))\n",
    "print(cleansing(str(book_data.iloc[0]['review'])))\n",
    "print(cleansing(book_data.iloc[0]['review']))\n",
    "print(cleansing('배송빠르고..가성비 좋네요.. 진짜 다이어리가 2개가 왔네요 .'))"
   ]
  },
  {
   "cell_type": "code",
   "execution_count": 40,
   "id": "consecutive-holly",
   "metadata": {},
   "outputs": [
    {
     "name": "stdout",
     "output_type": "stream",
     "text": [
      "          ISBN13  rating                                             review\n",
      "0  8809474876010      10                    배송빠르고 가성비 좋네요 진짜 다이어리가 2개가 왔네요 \n",
      "1  8809474876010      10  주문한 다음날 오전에 받았어요 배송 진짜 빠름빠름 다이어리 대만족 표지만 살짝 다른...\n",
      "2  8809474876003      10                             2개 세트는 아니었지만 양장에 퀄리티 굿\n",
      "3  8809474876003      10  군더더기없이 깔끔하고 하나는 양장이고 하나는 일반입니다 2개세트라 내년까지 쓸수 있...\n",
      "4  8809474876003      10  깔끔하고 심플하고 A5사이즈로 적당하고 양장인데 잘 펼쳐지고 종이 질도 매끔한거 같...\n"
     ]
    }
   ],
   "source": [
    "# 전처리\n",
    "\n",
    "book_data.drop_duplicates(subset=[\"review\"], inplace=True)\n",
    "book_data = book_data.dropna(how = 'any') # Null 값이 존재하는 행 제거\n",
    " # 정규 표현식을 통한 한글 외 문자 제거\n",
    "book_data[\"review\"] = [cleansing(str(text)) for text in book_data[\"review\"]]\n",
    "book_data = book_data.dropna(how = 'any') # Null 값이 존재하는 행 제거\n",
    "\n",
    "# 코드 확인\n",
    "print(book_data.head())"
   ]
  },
  {
   "cell_type": "code",
   "execution_count": 41,
   "id": "mechanical-correspondence",
   "metadata": {},
   "outputs": [
    {
     "name": "stdout",
     "output_type": "stream",
     "text": [
      "전처리 후 테스트용 샘플의 개수 : 298322\n",
      "False\n"
     ]
    }
   ],
   "source": [
    "print('전처리 후 테스트용 샘플의 개수 :',len(book_data))\n",
    "\n",
    "print(book_data.isnull().values.any())\n",
    "# book_data = book_data.dropna(how = 'any') # Null 값이 존재하는 행 제거\n",
    "# print(book_data.isnull().values.any())"
   ]
  },
  {
   "cell_type": "code",
   "execution_count": 42,
   "id": "satisfactory-delivery",
   "metadata": {},
   "outputs": [
    {
     "name": "stdout",
     "output_type": "stream",
     "text": [
      "False\n"
     ]
    }
   ],
   "source": [
    "print(book_data.isnull().values.any())"
   ]
  },
  {
   "cell_type": "markdown",
   "id": "mexican-aircraft",
   "metadata": {},
   "source": [
    "### ISBN을 기준으로 리뷰를 모은 뒤 재조합"
   ]
  },
  {
   "cell_type": "code",
   "execution_count": 11,
   "id": "racial-harmony",
   "metadata": {},
   "outputs": [
    {
     "name": "stdout",
     "output_type": "stream",
     "text": [
      "          ISBN13  rating                                             review\n",
      "0  8809474876010      10                    배송빠르고 가성비 좋네요 진짜 다이어리가 2개가 왔네요 \n",
      "1  8809474876010      10  주문한 다음날 오전에 받았어요 배송 진짜 빠름빠름 다이어리 대만족 표지만 살짝 다른...\n",
      "2  8809474876003      10                             2개 세트는 아니었지만 양장에 퀄리티 굿\n",
      "3  8809474876003      10  군더더기없이 깔끔하고 하나는 양장이고 하나는 일반입니다 2개세트라 내년까지 쓸수 있...\n",
      "4  8809474876003      10  깔끔하고 심플하고 A5사이즈로 적당하고 양장인데 잘 펼쳐지고 종이 질도 매끔한거 같...\n"
     ]
    }
   ],
   "source": [
    "# 전처리된 데이터 가져오기\n",
    "book_data = redf = pd.read_csv('data/detail_bestbook_cleaning.csv', encoding=\"utf-8\")\n",
    "\n",
    "print(book_data.head())"
   ]
  },
  {
   "cell_type": "code",
   "execution_count": 12,
   "id": "important-beast",
   "metadata": {},
   "outputs": [
    {
     "name": "stdout",
     "output_type": "stream",
     "text": [
      "42559\n"
     ]
    }
   ],
   "source": [
    "# isbn_set 만들기\n",
    "isbn_set = set([])\n",
    "for i in range(0,len(book_data)) : \n",
    "    isbn_set.add(book_data.iloc[i]['ISBN13'])\n",
    "\n",
    "print(len(isbn_set))"
   ]
  },
  {
   "cell_type": "code",
   "execution_count": 21,
   "id": "expanded-immunology",
   "metadata": {},
   "outputs": [
    {
     "name": "stdout",
     "output_type": "stream",
     "text": [
      "          ISBN13                                             review\n",
      "0  9788959752195                                      내가제일좋아하는책이당 6\n",
      "1  9791136202772  처음 제목 보고 예상했던 스토리와 완전 다른데 너무 좋네요  우연히 본 신간을 홀린...\n",
      "2  9791127420949  덕분에 귀여운 SD를 그릴 수 있게 되어서 너무 기쁩니다 별 5개로도 사실 모자랄 ...\n",
      "3  9791164383252  나오자마자 구매해서 읽는데 30분 걸린 것 같아요 1권부터 쭉 읽고 있어요 그런데 ...\n",
      "4  9788995797020  요가의 궁극적인 의미와 요가 수행자를 위한 메시지와 방법 과정을 알 수 있어요 자세...\n"
     ]
    }
   ],
   "source": [
    "new_book_data = pd.DataFrame(columns=['ISBN13', 'review']) # ISBN별로 리뷰를 저장한 dataframe\n",
    "\n",
    "for isbn in isbn_set : \n",
    "    tmp_df = book_data[(book_data[\"ISBN13\"]==isbn)]\n",
    "#     print(tmp_df)\n",
    "    tmp_str = ''\n",
    "    for i in range(0,len(tmp_df)) : \n",
    "        tmp_str =  tmp_str + tmp_df.iloc[i]['review'] + ' '\n",
    "    tmp_str = tmp_str.strip()\n",
    "    tmp_list=[isbn,tmp_str]\n",
    "    new_book_data = new_book_data.append(pd.Series(tmp_list, index=new_book_data.columns), ignore_index=True)\n",
    "#     new_book_data = pd.concat([new_book_data,tmp_df])\n",
    "\n",
    "print(new_book_data.head())"
   ]
  },
  {
   "cell_type": "code",
   "execution_count": 24,
   "id": "coral-czech",
   "metadata": {},
   "outputs": [
    {
     "name": "stdout",
     "output_type": "stream",
     "text": [
      "13335    그림체가 제 스타일이라 주저없이 구매했어요 역시나 재밌고 귀여움  마조앤새디 소장 ...\n",
      "Name: review, dtype: object\n"
     ]
    }
   ],
   "source": [
    "tmp = new_book_data[(new_book_data[\"ISBN13\"]==9788959137015)]['review']\n",
    "print(tmp)"
   ]
  },
  {
   "cell_type": "code",
   "execution_count": 29,
   "id": "documented-earth",
   "metadata": {},
   "outputs": [
    {
     "name": "stdout",
     "output_type": "stream",
     "text": [
      "False\n"
     ]
    }
   ],
   "source": [
    "# null 있는지 확인\n",
    "print(new_book_data.isnull().values.any())"
   ]
  },
  {
   "cell_type": "code",
   "execution_count": 25,
   "id": "modern-raleigh",
   "metadata": {},
   "outputs": [],
   "source": [
    "# isbn13 단위로 리뷰를 모은 DF 저장\n",
    "new_book_data.to_csv(f'data/detail_bestbook_unit_isbn.csv', index=False)"
   ]
  },
  {
   "cell_type": "markdown",
   "id": "peaceful-conservation",
   "metadata": {},
   "source": [
    "## <토큰화>"
   ]
  },
  {
   "cell_type": "code",
   "execution_count": 62,
   "id": "metropolitan-digest",
   "metadata": {},
   "outputs": [],
   "source": [
    "#  도서 불용어를 정의\n",
    "stopwords = ['의','가','이','은','들','는','좀','잘','걍','과','도','를','으로','자','에','와','한','하다',\n",
    "             '것','라고','에게','라면','게','을','이라','라니','있다','아','랑','쯤된','에서','에선','어','이지만','으로나','때','때는','때라면','때라서','라','이다','있',\n",
    "             '죠','고','니','로','있','같','어서','어요','는데','습니다','면서','많이','마','더']\n"
   ]
  },
  {
   "cell_type": "code",
   "execution_count": 30,
   "id": "alone-ethics",
   "metadata": {},
   "outputs": [
    {
     "name": "stdout",
     "output_type": "stream",
     "text": [
      "END\n",
      "[['가제', '일', '책', '당'], ['처음', '제목', '보고', '예상', '스토리', '완전', '신간', '홀린', '듯', '장바구니', '이제야', '사서', '정말', '맘', '진작', '사서', '볼', '걸', '조금', '여자', '이야기'], ['덕분', '그릴', '수', '별', '개', '사실', '정도', '책', '채색', '채색', '책', '별', '기대', '생각', '내용', '두고두고', '볼'], ['구매', '권', '쭉', '지리', '여행', '저희', '여행', '가기', '전', '닷'], ['요가', '궁극', '의미', '요가', '수행자', '위', '메시지', '방법', '과정', '알', '수', '자세', '설명', '정리', '매우', '서적', '요가', '공부', '위해', '구입', '공부', '도움', '요가', '교과서', '말', '요가', '대한', '백과사전', '명작', '설명', '그림', '첨부', '재미', '실제', '응용', '위', '참고서', '로서', '아헹', '선생님', '요가', '책', '알라딘', '쿠폰', '무료', '배송', '보아', '요가', '대한', '교과서', '최고', '요가', '책', '입문', '로서', '무리'], ['기본', '테니스', '스킬', '개', '관할', '수'], ['한국사', '강의', '추천', '구입', '초등', '교사', '사회', '역사', '수업', '자료', '사용', '내용', '역사', '속', '아이', '활약', '정리'], ['외과', '지원', '인턴', '의대', '생', '법', '병원', '사생활', '개인', '항해', '일지', '던', '글', '말', '더', '제목', '삽화가', '조금', '더', '일기', '그', '문장', '모', '의사', '낙서'], ['신심'], ['그린', '이의', '애정', '곤충', '움', '책', '우리나라', '사계절', '곤충', '책', '생각'], ['아이', '중국어', '대한', '자신감', '실어', '줄', '수', '책', '공부', '자격증', '중국어', '더'], ['대지', '배려', '땐', '배려', '남자', '선배', '휘', '둘리', '여성향', '전통', '소재', '중', '하나', '그림', '체', '보기', '시작', '가끔', '작품', '그', '기대', '충족'], ['용산', '서점', '독일어', '공부', '구매', '서문', '대로', '씌', '비교', '이해', '생각', '다만', '군데군데', '치명', '오타'], ['혹시', '책'], ['유아식', '이제', '시작', '단계', '구매', '식단', '표', '해', '식판', '책', '알'], ['관상'], ['기본', '그', '위쪽', '분', '다른', '데생', '자료', '초보자', '조금', '인체', '정도', '아시', '중', '쓰시', '캐릭터', '동작', '그릴', '참고', '주문', '매일', '책', '연습', '동작', '기초', '서로', '그림', '그리기', '매번', '만화책', '이제', '제대로', '만화', '캐릭터', '방법', '만화', '캐릭터', '법', '만화', '캐릭터', '법', '그', '과정', '소개', '책', '보고', '초보자', '전', '완전', '생', '초보', '초보', '조금', '더', '설명', '그림', '전혀', '안그리', '사람', '조금', '수', '인체', '구조', '표정', '포즈', '등', '전반', '책', '하나', '수', '기분', '듭니', '작가', '그림', '체', '처음', '나중', '나', '그림', '도전', '만화', '캐릭터', '법', '기초', '캐릭터', '도움', '애니', '관련', '꿈', '학생', '저', '여러', '그림', '꿀팁', '알', '표정', '표현', '포즈', '등', '참고', '책', '초보자', '저', '중', '체계', '차근차근', '다시', '한번', '보고', '구매', '책', '다른', '세부', '설명', '책', '병행', '도움', '개인', '리뷰', '여기', '초보', '용', '책', '전', '책', '사고', '거의', '도움', '다른', '책', '권', '사고', '그림', '실력', '다시', '책', '완전', '초보', '거', '옷', '주름', '몸', '구도', '먼저', '연습', '채글', '도움', '그림', '도움', '책', '초등생', '딸아이', '선택', '구입', '매일', '솜씨', '취월', '장함', '보람', '기초', '실력', '수', '책', '그림', '일러스트', '쪽', '관심', '구입', '그림', '생각', '듭니', '앞', '채색', '법', '점도', '맘', '딸아이', '만화책', '캐릭터', '그리기', '문화', '상품권', '하나', '구입', '보고', '연습', '뭐', '거', '도움', '처음', '시작', '부담', '기초', '흐릿하', '처음', '그릴', '수', '그림', '마련', '마음', '책', '그', '칸', '요', '때문', '만화', '캐릭터', '그릴', '참고', '여러가지', '포즈', '채색', '방법', '등등', '여러가지', '사람', '인체', '그리기', '만화', '처음', '시작', '참고', '책', '남', '여', '법', '균형', '마음', '참고', '만화', '폭', '기본', '캐럭', '터', '데생', '연습', '도움', '책', '구체', '설명', '방법', '때문', '정도', '실력', '사람', '제외', '데생', '시작', '사람', '조금', '무리', '수', '책', '시리즈', '제일', '책', '강추', '바이블', '참고서', '이제', '노력', '열정', '내용', '그리기', '연습', '수', '도움', '거', '제', '책', '요', '게임', '그래픽', '쪽', '공부', '책', '도움', '꼭', '번', '감사', '내용', '무지', '설명', '그리기', '기초', '응용', '도움', '책', '이기', '강', '모든', '만화가', '캐릭터', '디자이너', '일러스트레이터', '한번', '책', '당신', '동인지', '부터', '내일', '입시', '작품', '도움', '드릴', '캐릭터', '바이블', '난', '산다', '책', '친구', '정보', '그림', '도움', '엄마', '쓸모', '책', '겉', '표지', '더', '초보', '위해', '배려', '책', '거', '꽤', '처음', '다시', '구입', '햇', '거', '딸', '만화', '그리기', '도움', '나름', '정말', '초보', '위', '몸', '그리기', '덕분', '일단', '그림', '체', '근육', '뼈', '구조도', '비교', '보기', '제', '그', '스타일', '책', '정말', '값', '더', '슬럼프', '꽤', '도움'], ['자주', '중국어', '한자', '순위', '리', '스팅', '구성', '완전', '유툽', '설명', '공부', '도움', '책', '댓글', '출판사', '마이너', '라스', '건', '여', '강'], ['원근법', '기초', '실전', '실수', '포인트', '캐릭터', '배경', '방법', '보고', '배경', '데', '도움', '배경', '리지', '못', '책', '책', '원근법', '이용', '예나', '투시', '방법', '이해', '설명', '배경', '도움', '배경', '그리기', '덕분', '배경', '구매', '아주', '만화', '데', '도움', '초보자', '보고', '가장', '책', '추천', '개인', '정말', '책', '그림', '대해', '요', '그림', '그리기', '짱', '일단', '이론', '부분', '크게', '곳', '후루룩', '책', '점', '책', '이란', '지면', '크기', '한계', '소실', '점', '사이', '간격', '예시', '그림', '투시', '그림', '주', '점', '학원', '작법', '책', '잠깐', '배경', '감', '법', '좀더', '예시', '설명', '느낌', '책', '비법', '팁', '감', '건', '원래', '필수', '강추', '낫다', '보고', '중간', '중간', '깨알', '만화가', '별', '음', '생각', '중간', '중간', '깨알', '팁', '배경', '그릴', '초보자', '정도', '배경', '지식', '신분', '추천', '초', '딸', '만화', '참고', '구', '설명', '배경', '대한', '초지', '얘', '미숙', '신분', '이해', '책', '생각', '건', '종이', '위', '장엄', '세계', '환상', '입체', '내', '손끝', '보이', '원근법', '나중', '차근차근', '연습', '각종', '투시', '법', '대해', '초보자', '이해', '설명', '그림', '쌈', '기초', '초보자', '어쩐지', '배경', '도움', '화용', '기초', '원근법', '참고서', '원근법', '대해', '준', '책', '추천'], ['청소년', '사회', '문제', '대한', '책', '검색', '내용'], ['역사', '관심', '학년', '딸', '위해', '구입', '힙니'], ['중국', '사적', '측면', '중국어', '어학', '측면', '거양', '득', '수', '책', '녹음', '동반', '학습', '더', '측면', '시간', '흐름', '수록', '시사', '이슈', '이슈', '중', '이상', '학습자', '공부', '도움', '정말', '요', '거', '한국어', '번역', '중국어', '뉴스', '볼', '수', '중국', '대해', '더', '알', '중고', '수준', '학습자', '공부', '책', '수록', '기사', '중국', '현지', '공부', '교재', '최신', '독해', '부도', '중국', '현실', '수', '일석이조', '교재'], ['수', '책', '잡지', '습득', '용', '깊이', '주석', '아쉬움'], ['책', '쇄라니', '용어', '가끔', '부분', '이해', '문제', '번역', '용어', '선택', '역자', '고민', '결과'], ['경', '책'], ['중간', '중간', '존댓말', '하루키', '직접', '이야기', '느낌', '더욱', '하루키', '책', '지루함', '북', '소리', '두번째', '하루키', '여행', '집', '하루키', '살', '수', '얼마나', '덕분', '경험', '하루키', '이제', '늘', '생각', '생각', '여행기', '엮', '책', '여행', '직후', '꼭', '글', '생각', '또', '여행', '독자', '대화', '듯', '필체', '셖', '웃기', '생활', '내', '생각', '글', '책', '역시', '하루키', '맥주', '차', '한잔', '여행', '기분', '보기', '책', '여행', '에세이', '오히려', '수필집', '더', '느낌', '더', '하루키', '에세이', '이번', '책', '여행', '이유', '하루키', '여행기', '직접', '여행', '또', '다른', '재미', '금방', '어디', '론', '여행', '만들기', '만요', '하루', '끼', '잉여', '로움', '돈', '에세이', '하루키', '여행가', '글', '독서', '맛', '거', '삶', '생각', '처음', '방문', '거나', '재', '방문', '여러', '곳', '대한', '단편', '글', '약간', '두서', '각', '장소', '개인', '단상', '보기', '듯', '무라카미', '하루키', '에세이', '마치', '마니아', '공간', '초대', '그', '듯이', '하루키', '여행', '에세이', '노이즈', '여행', '여행', '삶', '여행', '온', '친구', '수다', '마음', '하루키', '한결', '기분', '여행', '시야', '에세이', '도대체', '뭘', '제목', '낚였다', '느낌', '카페', '바람', '기분', '글', '그', '여느', '책', '그', '전', '마라톤', '음악', '사랑', '대한', '얘기', '또한', '그', '전의', '하루키', '책', '사람', '역시', '하루키', '최고', '여행', '에세이', '북', '소리', '여행', '책', '제', '취향', '하루키', '책', '중', '처음', '책', '책', '잡지', '기고', '여러', '여행', '에세이', '책임', '라오스', '터', '불과', '매력', '문체', '아주', '그', '여행지', '자체', '하루키', '매력', '런', '마지막', '터', '소세키', '구마몬', '루', '음', '그냥', '심심', '풀이', '생각', '무자', '무', '무라카미', '하루키', '표준', '가독성', '무언가', '열중', '자기만족', '글', '여행기', '오히려', '오히려', '느낌', '허망', '함', '요', '여행', '회고록', '여행', '곳', '다시', '느낌', '독자', '하루키', '나이', '표현', '더', '블루라군', '온천', '한국인', '한국', '온천', '생각', '대목', '웃음', '하루키', '여행', '책', '아주', '맛집', '정보', '추천', '여행지', '정보', '그냥', '낮선', '조깅', '야망', '가지', '책임', '하루키', '소설', '기대', '실망', '사람', '오히려', '에세이', '호불호', '여행', '마력', '책', '라오스', '여행기', '줄알', '오히려', '곳', '여행', '경험', '에세이', '글', '늘', '하루키', '북', '소리', '느낌', '조금', '하루키', '에세이', '늘', '하루키', '잡문', '집', '다시', '라오스', '이제', '신간', '복습', '독서', '하루키', '소설', '최근', '다른', '에세이', '작가', '로서', '삶', '또', '다른', '의미', '작가', '수', '글', '생각', '하루키', '거장', '이제', '그간', '발자국', '단계', '돌입', '건가', '중간', '표현', '의도', '건가', '여행', '느낌', '밑', '분', '말씀', '생뚱맞', '어투', '데', '부분', '갱', '세계', '문화유산', '등재', '부분', '그', '위', '실망', '하루키', '여행', '여행', '모든', '책', '내내', '그', '행로', '마음', '뿐', '아이슬란드', '핀란드', '보스턴', '그리스', '경어체', '평', '체', '북', '소리', '책', '비교', '하루키', '책', '단편', '여행기', '기대', '커서', '예전', '작가', '에세이', '기한', '느낌', '무난', '무난', '글', '다시', '엮', '후반', '부의', '몇', '개', '제외', '크게', '내용', '하루키', '곳', '검색', '여행가', '그', '보고', '본문', '케', '탄광', '갱', '세계', '문화유산', '등재', '관련', '하루키', '글', '팬', '실망', '인간', '수', '정말', '거부', '수', '마력', '온갖', '안티', '에이', '징', '제품', '요즘', '위해', '갖은', '애', '사람', '그', '말', '하루키', '살', '아라라', '일흔', '노', '작가', '글', '그', '청년', '하루키', '여행', '에세이', '대체', '뭐', '하루키', '여행기', '란', '여행기', '싹', '이번', '여행기', '그간', '재탕', '느낌', '북', '소리', '사랑', '독자', '로서', '방겔리스', '부음', '눈물', '내', '사랑', '곳', '하루키', '언어', '표현', '오히려', '부록', '박준', '시인', '글', '가장', '선물', '라오스', '추억', '세계', '정복', '꿈', '조금', '역자', '잘못', '원래', '처음', '하루키', '전시', '물', '구경', '수', '언뜻', '물고기', '나름', '매력', '갑자기', '존댓말', '문체', '흐름', '중간', '중간', '존댓말', '질적', '하루키', '이름', '굳이', '사서', '생각', '예약', '발송', '일', '북', '소리', '이후', '하루키', '신간', '요', '하루키', '문체', '글', '라오스', '거니', '느낌', '수', '하루키', '아성', '사실', '그', '글', '정말', '하루키', '수', '매력', '재미', '매력', '하루키', '대체', '하루키', '루앙프라방', '뭘', '루앙', '길거리', '그', '그것', '라오스', '무라카미', '하루키', '작품', '항상', '웃음', '매력', '하루키', '그', '감사', '여행', '마음', '거리', '정말', '작가', '토가시', '보고', '인간', '하루키', '에세이', '소', '일해', '또', '하루키', '나', '사랑', '나', '행복', '북', '소리', '여행기', '기대', '땅'], ['명명', '하자', '작품', '비', '르포르타주', '르포르타주', '소설', '엉터리', '사람', '소설', '여담', '동안', '술', '취해', '지도', '조금', '기차', '여행', '듯', '묵돌', '말', '한마디', '보고', '생각', '수', '문장', '페이지', '내내', '점', '무언가', '뭘', '글씨', '데', '슬럼프', '글', '가장', '책', '생각', '감히', '추천', '더', '마', '성의', '묵돌', '요즘', '최고', '덕담', '일', '버세', '데', '작가', '버세', '묵', '살', '편', '전부', '제목', '뜻', '이해', '숨', '전율', '종종', '삽화', '눈물', '고이', '생각', '날로', '필', '워', '느낌', '경험', '환상', '단편', '글', '권', '책', '생각', '글', '글', '작가', '강점', '아기', '고양이', '고해', '구매', '어차피', '묵돌', '이즈', '뭔들', '책', '고양이', '출판', '국밥', '작가', '작가', '책', '몸', '마음', '결제', '작가', '신간', '우리', '사회', '우리', '감정', '조금', '더', '눈', '글', '글', '눈', '수가', '글', '재미', '알', '작가', '책', '고양이', '수능', '필적', '확인', '란', '권', '책', '느낌', '묵돌', '책', '일단', '사고', '항상', '애정', '묵돌', '역마', '사랑', '계절', '책', '몇번', '다시', '책', '이번', '시간', '장의사', '또한', '몇번', '책', '리뷰', '항상', '응원', '애정', '머리', '충격', '여운', '단편', '글', '사람', '번', '보고', '생각', '작가', '항상', '지인', '추천', '작가', '글', '거', '고양이', '생각', '벌써', '권', '더', '사서', '고양이'], ['윤승운', '선생님', '책', '대부분', '정감', '만화', '권', '역시', '윤승운', '팬', '정말', '작품', '논어', '수', '권', '기대'], ['나름', '거'], ['시대', '리더십', '변화'], ['책', '작고', '퇴근길', '흡인', '밤', '일도', '육체', '인간', '신전', '거기', '무엇', '모시', '그것', '조금', '더', '상권', '보고', '하루키', '다른', '작품', '관심', '소설', '마치', '세계관', '그', '안', '사소', '남녀', '사랑', '표현', '소설', '태백산맥', '문고판', '눈', '사람', '오프라인', '서점', '보고', '양장본', '고민', '우선', '나중', '장용', '별도', '구매', '걸', '문고판', '처음', '크기', '손', '버스', '주머니', '수', '아주', '맘', '듭니', '하루키', '상탈', '줄', '도박', '사이트', '못', '한림원', '대박', '노리', '평생', '책', '권', '밥딜런', '백배', '대박', '문고본', '매하', '김', '다시', '출퇴근길', '다시', '밑줄', '더', '역시', '하루키', '꼭', '기존', '양장', '판도', '가지', '무거워', '문고판', '소식', '바로', '구매', '글씨', '이제', '곧', '여름', '휴가', '데리', '몇번', '매번', '흥미', '태엽', '새', '애정', '작품', '표지', '진짜', '하루키', '팬', '소장', '가치', '생각', '더', '글씨', '건', '좌우', '반대', '끼리', '서로', '그림자', '느낌', '정도', '정도', '지난', '내용', '올해', '여름', '휴가', '다시', '한번', '미니', '북', '보기', '문고본', '이번', '여름', '문고본', '마구', '끼리', '이해', '문고판', '리지', '널', '세트', '세', '권', '가격', '나', '만', '원', '더', '리지', '널', '권', '세트', '이번', '문고판', '결코', '가격', '문고판', '간', '심지어', '그', '가격', '안', '살', '길이'], ['흠', '맹세코', '괜', '트집', '역자', '번역', '문장', '자꾸', '번', '직역', '대신', '거의', '매', '문장', '주석', '탄복', '만', '연구', '분', '매우', '듯', '일반', '독자', '선', '음', '시간', '투자', '얄듯'], ['대책', '독립', '만세', '현실', '독립', '가이드', '제시', '책'], ['무라카미', '하루키', '작가', '정수', '소설', '책', '작고', '가격', '최고', '꼭', '무라카미', '하루키', '작가', '책', '소장', '보고', '그동안', '양장본', '박', '부담', '문고본', '기분', '구매', '손', '자주', '문고판', '글씨', '작고', '장', '집중', '문고판', '징', '재', '간', '얼른', '학교', '도서관', '신청', '오늘', '미소', '소녀', '느낌', '판형', '디자인', '마음', '동하', '내', '자신', '리즘', '불온', '생각', '책', '소장', '다시', '수입', '원서', '소설', '구매', '종이', '질', '표지', '마분지', '가격', '책', '패션', '일부인', '양', '겉', '그림', '양장', '속지', '종이', '하니', '책', '무지'], ['이방원', '런들', '하니', '뼈', '흙', '테', '안', '강직', '분', '인지', '경직', '줄', '호방', '낭만', '낭만', '여유', '술', '봄', '꽃비'], ['어린이집', '유치원', '입학', '아이', '처음', '동요', '집', '도움', '유치원', '동요', '어린이집', '동요', '계', '아이', '아주', '아주', '글공부', '그림', '아주', '처음', '가사', '목차', '세심', '배려', '가격', '아주', '아이', '동요', '역시', '삼성', '출판사', '인기', '동요', '요건', '두번째', '책정', '삼성', '노래', '성향', '세', '요즘', '명의', '위', '노래', '한장', '구성', '아이', '유치원', '노래', '더욱', '거'], ['공부', '책'], ['보이지', '여자', '책', '그동안', '여성', '유전자', '책', '통해', '알', '저자', '이야기', '흥미', '유전학', '관련', '내용', '이해', '여성', '삶', '남성', '더', '장수', '사람', '침', '질질'], ['기왕', '문고본', '낼', '권', '분책', '권', '분책', '가격', '더', '종이', '재질', '문고본', '가격', '편이'], ['글쎄', '피해', '의식', '전체', '맥락', '개인', '편협', '해석', '나', '정말', '책', '구매', '책', '통해', '성경', '대한', '통찰', '더욱', '지기', '신학', '서나', '설교집', '결', '다른', '신앙', '성경', '이야기', '남', '이야기', '지그재그', '비틀', '거리', '제대로', '집', '우리', '다시', '이야기책', '강추', '하나님', '앞', '그다음', '요', '성경', '단편', '구절', '타인', '정죄', '요즘', '다시금', '성경', '의미', '목적', '생각', '내내', '웃음', '책', '지금', '개신교', '신앙', '교회', '위기', '젊은이', '개신교', '종교', '그', '핵심', '우리', '성경', '법', '잘못', '알', '책', '우리', '다시', '성경', '제대로', '이야기'], ['화석', '처음', '끝', '모든', '책', '무척', '고고학', '관심', '우리', '아들'], ['해결', '부분', '관계', '끝장', '내기', '전', '사람', '말', '정말', '사람', '번', '공감', '거임', '조언', '마음', '편안', '현대', '직장', '스트레스', '사람', '도움', '책', '심리', '도서', '그냥', '제목', '뭔가', '책', '나열'], ['책', '라이트', '페이지', '문장', '독서', '노트', '영어', '공부', '겸', '셜록', '생각', '영어', '표현', '역자', '번역', '사은', '품', '일력', '첫', '장', '오타', '시작', '세기', '영국', '영어', '원문', '현재', '영어', '부용', '말', '조금', '애초', '영어', '공부', '책', '매일', '부담', '셜록', '홉', '문장', '원문', '한글', '접', '수', '게다가', '더', '삽화', '영어', '공부', '추리소설', '퀄리티', '삽화', '영문', '볼거리', '괜춘해', '홈즈', '십', '귀환', '나', '다시', '홈즈', '볼', '이번', '영문', '새해', '도전', '추리', '원문', '볼', '수', '영어실력', '기대', '리지', '널', '삽화', '셜록홈즈', '니요', '요', '공부', '재미', '솔솔'], ['역시', '내용', '판', '구매', '한글', '구매', '약간'], ['왜', '인문학', '수', '책', '인문학', '가치', '일', '책', '책', '내내', '마음', '희망', '가득', '분', '일독', '소통', '화두', '새', '인간', '점점', '외로워', '아이러니', '인문학', '통해', '볼', '책', '만족', '인문학', '누가', '인문학', '살', '공부', '거', '가슴', '진짜', '희망'], ['초', '딸', '위해', '구입', '푹바'], ['실망', '요', '네스', '이번', '작품', '번역', '네스', '작품', '최악', '네스', '팬텀', '거', '뭐', '펜텀', '저자', '네스', '노르웨이', '대표', '스릴러', '소설', '헤리', '홀레', '시리즈', '마지막', '작품', '전개', '숨', '틈', '주지', '동시', '네스', '작가', '별로', '젠', '작가', '피로', '스노우맨', '시절', '필', '만하', '책값', '페이지', '시간', '더', '선물', '새벽', '수', '이야기', '나', '명치', '만', '다시', '해리', '홀레', '충격', '결말', '뭥미'], ['상처', '란', '기억', '속', '부임', '인정', '빛과', '만날', '수', '용기', '내야', '내면', '아이치', '유로', '속', '울', '상처', '만날', '수', '반드시', '기억', '세상', '하나', '당신', '상처', '그', '이상', '존재'], ['켈트인', '신화', '문화', '책', '책', '켈트', '신화', '사전', '켈트', '신화', '전설', '볼', '말', '그대로', '도해', '켈트', '신화', '접근', '수'], ['영어', '논문', '실제', '예문', '별로', '리뷰', '에디터', '심리학', '책', '패턴', '논문', '리뷰', '채택']]\n"
     ]
    }
   ],
   "source": [
    "# 도서 train 데이터 토큰화 - 명사 단위\n",
    "\n",
    "okt = Okt()\n",
    "book_train_X = []\n",
    "\n",
    "for sentence in new_book_data['review']:\n",
    "    temp_X = []\n",
    "    # temp_X = okt.morphs(sentence, stem=True) # 형태소 단위로 토큰화\n",
    "    temp_X = okt.nouns(sentence) # 명사 단위로 토큰화\n",
    "    temp_X = [word for word in temp_X if not word in stopwords] # 불용어 제거\n",
    "    # print(temp_X)\n",
    "    if temp_X : \n",
    "        book_train_X.append(temp_X) #빈 list는 추가X\n",
    "\n",
    "print('END')\n",
    "print(book_train_X[:50])"
   ]
  },
  {
   "cell_type": "code",
   "execution_count": null,
   "id": "mineral-vermont",
   "metadata": {},
   "outputs": [],
   "source": [
    "okt = Okt()\n",
    "book_pos_X = []\n",
    "\n",
    "for sentence in new_book_data['review']:\n",
    "    temp_X = []\n",
    "    # temp_X = okt.morphs(sentence, stem=True) # 형태소 단위로 토큰화\n",
    "    temp_X = okt.nouns(sentence) # 명사 단위로 토큰화\n",
    "    temp_X = [word for word in temp_X if not word in stopwords] # 불용어 제거\n",
    "    # print(temp_X)\n",
    "    if temp_X : \n",
    "        book_train_X.append(temp_X) #빈 list는 추가X\n",
    "\n",
    "print('END')\n",
    "print(book_train_X[:50])"
   ]
  },
  {
   "cell_type": "code",
   "execution_count": 31,
   "id": "surgical-cannon",
   "metadata": {},
   "outputs": [],
   "source": [
    "# 저장하기\n",
    "df = pd.DataFrame(book_train_X)\n",
    "df.to_csv(f'data/detail_bestbook_unit_isbn_nouns.csv', index=False)"
   ]
  },
  {
   "cell_type": "code",
   "execution_count": 60,
   "id": "dried-center",
   "metadata": {},
   "outputs": [],
   "source": [
    "# 명사 토큰화 데이터 txt로 저장\n",
    "import pickle\n",
    "\n",
    "with open('data/detail_bestbook_nouns.txt','wb') as lf :\n",
    "    pickle.dump(book_train_X,lf)"
   ]
  },
  {
   "cell_type": "code",
   "execution_count": 61,
   "id": "spread-million",
   "metadata": {},
   "outputs": [
    {
     "name": "stdout",
     "output_type": "stream",
     "text": [
      "[['배송', '가성', '비', '진짜', '다이어리', '개'], ['주문', '다음', '날', '오전', '배송', '진짜', '다이어리', '만족', '표지', '살짝', '하나', '더', '권', '세트', '완전', '득템'], ['개', '세트', '양장', '퀄리티', '굿'], ['군더더기', '하나', '양장', '하나', '일반', '개', '세트', '내년', '쿠폰', '무료', '배송'], ['심플', '사이즈', '양장', '종이', '질도', '매', '거', '내년', '거', '보고', '걸', '정착']]\n"
     ]
    }
   ],
   "source": [
    "with open('data/detail_bestbook_nouns.txt', 'rb') as lf:\n",
    "    readList = pickle.load(lf)\n",
    "    print(readList[:5])"
   ]
  },
  {
   "cell_type": "markdown",
   "id": "short-blogger",
   "metadata": {},
   "source": [
    "#### 분류 테스트 "
   ]
  },
  {
   "cell_type": "code",
   "execution_count": 36,
   "id": "private-cartoon",
   "metadata": {},
   "outputs": [
    {
     "name": "stdout",
     "output_type": "stream",
     "text": [
      "['공감', '웃음', '마', '조앤', '책', '더', '만화']\n",
      "['많이', '공감', '과', '웃음', '을', '안기는', '마', '조앤', '새디', '책', '으로', '보면', '더', '재미있는', '만화']\n"
     ]
    }
   ],
   "source": [
    "# 분류 테스트\n",
    "\n",
    "\n",
    "tmp_nouns = okt.nouns('많이 공감과 웃음을 안기는 마조앤새디 책으로 보면 더 재미있는 만화')\n",
    "tmp_morphs = okt.morphs('많이 공감과 웃음을 안기는 마조앤새디 책으로 보면 더 재미있는 만화')\n",
    "\n",
    "print(tmp_nouns)\n",
    "print(tmp_morphs)"
   ]
  },
  {
   "cell_type": "code",
   "execution_count": 49,
   "id": "hindu-judgment",
   "metadata": {},
   "outputs": [
    {
     "name": "stdout",
     "output_type": "stream",
     "text": [
      "명사 > ['공감', '웃음', '마', '조앤', '책', '더', '만화']\n",
      "형태소 > ['많이', '공감', '과', '웃음', '을', '안기는', '마', '조앤', '새디', '책', '으로', '보면', '더', '재미있는', '만화']\n",
      "어구 > ['공감', '공감과 웃음', '마조앤', '더 재미있는 만화', '웃음', '조앤', '만화']\n",
      "[('많이', 'Adverb'), ('공감', 'Noun'), ('과', 'Josa'), ('웃음', 'Noun'), ('을', 'Josa'), ('안기는', 'Verb'), ('마', 'Noun'), ('조앤', 'Noun'), ('새디', 'Verb'), ('책', 'Noun'), ('으로', 'Josa'), ('보면', 'Verb'), ('더', 'Noun'), ('재미있는', 'Adjective'), ('만화', 'Noun')]\n",
      "[('재미있다', 'Adjective')]\n",
      "[]\n",
      "[]\n",
      "['재미있다']\n",
      "[]\n",
      "[('반등', 'Noun'), ('했다', 'Verb')]\n",
      "['반등']\n",
      "['반등', '했다']\n",
      "['반등']\n"
     ]
    }
   ],
   "source": [
    "# 분류 테스트\n",
    "\n",
    "tmp_nouns = okt.nouns('많이 공감과 웃음을 안기는 마조앤새디 책으로 보면 더 재미있는 만화')\n",
    "# tmp_nouns = [word for word in tmp_nouns if not word in stopwords] # 불용어 제거\n",
    "print('명사 > '+str(tmp_nouns))\n",
    "\n",
    "tmp_morphs = okt.morphs('많이 공감과 웃음을 안기는 마조앤새디 책으로 보면 더 재미있는 만화')\n",
    "# tmp_morphs = [word for word in tmp_morphs if not word in stopwords] # 불용어 제거\n",
    "print('형태소 > ' + str(tmp_morphs))\n",
    "\n",
    "tmp_phrases = okt.phrases('많이 공감과 웃음을 안기는 마조앤새디 책으로 보면 더 재미있는 만화')\n",
    "# tmp_phrases = [word for word in tmp_phrases if not word in stopwords] # 불용어 제거\n",
    "print('어구 > '+ str(tmp_phrases))\n",
    "\n",
    "print(okt.pos('많이 공감과 웃음을 안기는 마조앤새디 책으로 보면 더 재미있는 만화'))\n",
    "\n",
    "\n",
    "print(okt.pos('재미있다'))\n",
    "tmp = okt.nouns('재미있다')\n",
    "print(tmp)\n",
    "tmp = okt.nouns('재밌었다')\n",
    "print(tmp)\n",
    "tmp = okt.morphs('재미있다')\n",
    "print(tmp)\n",
    "tmp = okt.phrases('재미있다')\n",
    "print(tmp)\n",
    "\n",
    "print(okt.pos('반등했다'))\n",
    "tmp = okt.nouns('반등했다')\n",
    "print(tmp)\n",
    "tmp = okt.morphs('반등했다')\n",
    "print(tmp)\n",
    "tmp = okt.phrases('반등했다')\n",
    "print(tmp)"
   ]
  },
  {
   "cell_type": "code",
   "execution_count": 70,
   "id": "sixth-factory",
   "metadata": {},
   "outputs": [],
   "source": [
    "#  도서 불용어를 정의\n",
    "stopwords = ['의','가','이','은','들','는','좀','잘','걍','과','도','를','으로','자','에','와','한','하다',\n",
    "             '것','라고','에게','라면','게','을','이라','라니','있다','아','랑','쯤된','에서','에선','어','이지만','으로나','때','때는','때라면','때라서','라','이다','있',\n",
    "             '죠','고','니','로','있','같','어서','어요','는데','습니다','면서','많이','마','더']\n"
   ]
  },
  {
   "cell_type": "code",
   "execution_count": 71,
   "id": "selective-constitutional",
   "metadata": {},
   "outputs": [
    {
     "name": "stdout",
     "output_type": "stream",
     "text": [
      "['공감', '웃음', '안기다', '조앤', '새다', '책', '보다', '재미있다', '만화']\n",
      "[('공감', 'Noun'), ('웃음', 'Noun'), ('조앤', 'Noun'), ('책', 'Noun'), ('재미있다', 'Adjective'), ('만화', 'Noun')]\n",
      "['공감', '웃음', '조앤', '책', '재미있다', '만화']\n"
     ]
    }
   ],
   "source": [
    "# 분류 테스트\n",
    "\n",
    "tmp = []\n",
    "tmp = okt.morphs('많이 공감과 웃음을 안기는 마조앤새디 책으로 보면 더 재미있는 만화', stem=True) # 형태소 단위로 토큰화\n",
    "tmp = [word for word in tmp if not word in stopwords] # 불용어 제거\n",
    "\n",
    "tmp_pos = []\n",
    "tmp_non_pos = []\n",
    "for word in tmp :\n",
    "    pos = okt.pos(word)\n",
    "    if pos[0][1]=='Noun' or pos[0][1]=='Adjective':\n",
    "        tmp_pos.append(pos[0])\n",
    "        tmp_non_pos.append(pos[0][0])\n",
    "\n",
    "print(tmp_pos)\n",
    "print(tmp_non_pos)\n"
   ]
  },
  {
   "cell_type": "code",
   "execution_count": 83,
   "id": "associate-efficiency",
   "metadata": {},
   "outputs": [
    {
     "name": "stdout",
     "output_type": "stream",
     "text": [
      "42559\n",
      "\n",
      "\n",
      "42513\n"
     ]
    }
   ],
   "source": [
    "################ 명사랑 형용사 추출 \n",
    "\n",
    "book_pos_X = []\n",
    "\n",
    "print(len(new_book_data))\n",
    "print('\\n')\n",
    "\n",
    "book_pos = []\n",
    "book_pos_only_isbn = []\n",
    "book_pos_with_isbn = []\n",
    "\n",
    "\n",
    "for i in range(0,len(new_book_data)):\n",
    "    isbn = new_book_data.iloc[i]['ISBN13']\n",
    "    sentence = new_book_data.iloc[i]['review']\n",
    "    tmp = []\n",
    "    tmp = okt.morphs(sentence, stem=True) # 형태소 단위로 토큰화\n",
    "    tmp = [word for word in tmp if not word in stopwords] # 불용어 제거\n",
    "    \n",
    "    tmp_non_pos = []\n",
    "    for word in tmp :\n",
    "        pos = okt.pos(word)\n",
    "        if pos[0][1]=='Noun' or pos[0][1]=='Adjective':\n",
    "            tmp_non_pos.append(pos[0][0])\n",
    "    if tmp_non_pos : \n",
    "        book_pos_X.append(tmp_non_pos)\n",
    "        book_pos_only_isbn.append(isbn)\n",
    "        book_pos_with_isbn.append([isbn,tmp_non_pos])\n",
    "    \n",
    "print(len(book_pos_X))"
   ]
  },
  {
   "cell_type": "code",
   "execution_count": 85,
   "id": "wireless-memphis",
   "metadata": {},
   "outputs": [
    {
     "name": "stdout",
     "output_type": "stream",
     "text": [
      "[['내', '가제', '일', '좋아하다', '책', '당'], ['처음', '제목', '보고', '예상', '스토리', '완전', '다르다', '좋다', '신간', '홀린', '듯', '장바구니', '이제야', '사서', '정말', '맘', '진작', '사서', '볼', '걸', '그렇다', '유쾌하다', '조금', '유치하다', '여자', '이야기'], ['덕분', '귀엽다', '그릴', '수', '기쁘다', '별', '개', '사실', '정도', '좋다', '책', '채색', '없다', '아쉽다', '채색', '책', '아니다', '별', '기대', '안', '생각', '내용', '알차다', '두고두고', '볼', '같다'], ['구매', '같다', '권', '부터', '쭉', '지리', '여행', '저희', '여행', '가기', '전', '닷'], ['요가', '궁극', '적', '인', '의미', '요가', '수행자', '위', '메시지', '방법', '과정', '알', '수', '자세', '설명', '알다', '쉬', '정리', '매우', '유익하다', '서적', '요가', '공부', '위해', '구입', '어렵다', '공부', '도움', '요가', '교과서', '말', '요가', '대한', '백과사전', '식', '명작', '자세하다', '설명', '그림', '첨부', '재미', '좋다', '실제', '응용', '위', '참고서', '로서', '훌륭하다', '아헹', '선생님', '요가', '책', '뿐', '알라딘', '쿠폰', '무료', '배송', '보아', '요', '요가', '대한', '교과서', '최고', '요가', '책', '입문', '로서', '무리', '없다'], ['기본', '적', '인', '테니스', '스킬', '개', '관할', '수'], ['한국사', '강의', '추천', '구입', '초등', '교사', '사회', '역사', '수업', '자료', '사용', '유용하다', '내용', '많다', '역사', '속', '아이', '활약', '정리', '좋다'], ['신', '경', '외과', '지원', '인턴', '이나', '의대', '생', '좋다', '법', '병원', '사생활', '개인', '항해', '일지', '던', '글', '말', '적합하다', '제목', '삽화가', '조금', '많다', '좋다', '일기', '라서', '그', '평이하다', '편안하다', '문장', '모', '의사', '낙서'], ['신심'], ['그린', '이의', '애정', '곤충', '사랑스럽다', '움', '넘치다', '책', '우리나라', '사계절', '곤충', '좋다', '책', '요', '생각']]\n"
     ]
    }
   ],
   "source": [
    "print(book_pos_X[:10])"
   ]
  },
  {
   "cell_type": "code",
   "execution_count": 86,
   "id": "approximate-opportunity",
   "metadata": {},
   "outputs": [],
   "source": [
    "# 저장하기\n",
    "df1 = pd.DataFrame(book_pos_X)\n",
    "df1.to_csv(f'data/detail_bestbook_unit_isbn_pos.csv', index=False)"
   ]
  },
  {
   "cell_type": "code",
   "execution_count": 87,
   "id": "alien-capture",
   "metadata": {},
   "outputs": [],
   "source": [
    "import pickle\n",
    "\n",
    "with open('data/detail_bestbook_unit_isbn_pos.txt','wb') as lf :\n",
    "    pickle.dump(book_pos_X,lf)"
   ]
  },
  {
   "cell_type": "code",
   "execution_count": 88,
   "id": "dependent-addiction",
   "metadata": {},
   "outputs": [],
   "source": [
    "# 저장하기\n",
    "df2 = pd.DataFrame(book_pos_with_isbn)\n",
    "df2.to_csv(f'data/detail_bestbook_unit_isbn_pos(with.isbn).csv', index=False)"
   ]
  },
  {
   "cell_type": "code",
   "execution_count": 95,
   "id": "metallic-april",
   "metadata": {},
   "outputs": [
    {
     "name": "stdout",
     "output_type": "stream",
     "text": [
      "991\n"
     ]
    }
   ],
   "source": [
    "## 품사 태깅 데이터 셋 - 불용어 처리X\n",
    "\n",
    "# test_df = new_book_data[:10]\n",
    "\n",
    "book_morphs_with_isbn_pos_non_stopword = []\n",
    "\n",
    "for i in range(0,len(new_book_data)):\n",
    "    isbn = new_book_data.iloc[i]['ISBN13']\n",
    "    sentence = new_book_data.iloc[i]['review']\n",
    "    tmp = []\n",
    "    tmp = okt.morphs(sentence, stem=True) # 형태소 단위로 토큰화\n",
    "#     tmp = [word for word in tmp if not word in stopwords] # 불용어 제거\n",
    "    \n",
    "    if tmp :\n",
    "        tmp_non_pos = []\n",
    "        for word in tmp :\n",
    "            pos = okt.pos(word)\n",
    "            tmp_non_pos.append(pos[0])\n",
    "        if tmp_non_pos : \n",
    "#             print(tmp_non_pos)\n",
    "            book_morphs_with_isbn_pos_non_stopword.append([isbn,tmp_non_pos])\n",
    "\n",
    "print(len(book_morphs_with_isbn_pos))"
   ]
  },
  {
   "cell_type": "code",
   "execution_count": 98,
   "id": "biblical-newfoundland",
   "metadata": {},
   "outputs": [
    {
     "name": "stdout",
     "output_type": "stream",
     "text": [
      "42559\n",
      "[9788974825515, [('아이', 'Noun'), ('에게', 'Josa'), ('중국어', 'Noun'), ('에', 'Josa'), ('대한', 'Noun'), ('자신감', 'Noun'), ('을', 'Josa'), ('실어', 'Noun'), ('줄', 'Noun'), ('수', 'Noun'), ('있다', 'Adjective'), ('책', 'Noun'), ('인', 'Noun'), ('것', 'Noun'), ('같다', 'Adjective'), ('열심히', 'Adverb'), ('공부', 'Noun'), ('하다', 'Verb'), ('자격증', 'Noun'), ('을', 'Josa'), ('따다', 'Verb'), ('중국어', 'Noun'), ('와', 'Verb'), ('더', 'Noun'), ('가깝다', 'Adjective'), ('지다', 'Noun'), ('하다', 'Verb')]]\n"
     ]
    }
   ],
   "source": [
    "print(len(book_morphs_with_isbn_pos_non_stopword))\n",
    "\n",
    "print(book_morphs_with_isbn_pos_non_stopword[10])"
   ]
  },
  {
   "cell_type": "code",
   "execution_count": 97,
   "id": "loaded-winter",
   "metadata": {},
   "outputs": [],
   "source": [
    "# 불용어 제거X, ISBN, 품사 태깅 저장하기\n",
    "df1 = pd.DataFrame(book_pos_X)\n",
    "df1.to_csv(f'data/detail_bestbook_unit_isbn_with_isbn_pos_non_stopword.csv', index=False)"
   ]
  },
  {
   "cell_type": "code",
   "execution_count": 99,
   "id": "manual-buffalo",
   "metadata": {},
   "outputs": [],
   "source": [
    "with open('data/detail_bestbook_unit_isbn_with_isbn_pos_non_stopword.txt','wb') as lf :\n",
    "    pickle.dump(book_morphs_with_isbn_pos_non_stopword,lf)"
   ]
  },
  {
   "cell_type": "code",
   "execution_count": 100,
   "id": "israeli-berlin",
   "metadata": {},
   "outputs": [
    {
     "name": "stdout",
     "output_type": "stream",
     "text": [
      "[[9788959752195, [('내', 'Noun'), ('가제', 'Noun'), ('일', 'Noun'), ('좋아하다', 'Adjective'), ('책', 'Noun'), ('이', 'Noun'), ('당', 'Noun'), ('6', 'Number')]], [9791136202772, [('처음', 'Noun'), ('제목', 'Noun'), ('보고', 'Noun'), ('예상', 'Noun'), ('하다', 'Verb'), ('스토리', 'Noun'), ('와', 'Verb'), ('완전', 'Noun'), ('다르다', 'Adjective'), ('너무', 'Adverb'), ('좋다', 'Adjective'), ('우연히', 'Adverb'), ('보다', 'Verb'), ('신간', 'Noun'), ('을', 'Josa'), ('홀린', 'Noun'), ('듯', 'Noun'), ('장바구니', 'Noun'), ('에', 'Josa'), ('담다', 'Verb'), ('놓다', 'Verb'), ('이제야', 'Noun'), ('사서', 'Noun'), ('읽다', 'Verb'), ('정말', 'Noun'), ('맘', 'Noun'), ('에', 'Josa'), ('들다', 'Verb'), ('진작', 'Noun'), ('사서', 'Noun'), ('볼', 'Noun'), ('걸', 'Noun'), ('그렇다', 'Adjective'), ('유쾌하다', 'Adjective'), ('조금', 'Noun'), ('은', 'Noun'), ('유치하다', 'Adjective'), ('여자', 'Noun'), ('들', 'Verb'), ('의', 'Noun'), ('이야기', 'Noun')]], [9791127420949, [('덕분', 'Noun'), ('에', 'Josa'), ('귀엽다', 'Adjective'), ('SD', 'Alpha'), ('를', 'Noun'), ('그릴', 'Noun'), ('수', 'Noun'), ('있다', 'Adjective'), ('되어다', 'Verb'), ('너무', 'Adverb'), ('기쁘다', 'Adjective'), ('별', 'Noun'), ('5', 'Number'), ('개', 'Noun'), ('로', 'Noun'), ('도', 'Noun'), ('사실', 'Noun'), ('모자라다', 'Verb'), ('정도', 'Noun'), ('로', 'Noun'), ('좋다', 'Adjective'), ('책', 'Noun'), ('채색', 'Noun'), ('이', 'Noun'), ('없다', 'Adjective'), ('게', 'Noun'), ('좀', 'Noun'), ('아쉽다', 'Adjective'), ('채색', 'Noun'), ('책', 'Noun'), ('이', 'Noun'), ('아니다', 'Adjective'), ('별', 'Noun'), ('기대', 'Noun'), ('안', 'Noun'), ('하다', 'Verb'), ('생각', 'Noun'), ('보다', 'Verb'), ('내용', 'Noun'), ('이', 'Noun'), ('알차다', 'Adjective'), ('두고두고', 'Noun'), ('볼', 'Noun'), ('것', 'Noun'), ('같다', 'Adjective')]], [9791164383252, [('나오다', 'Verb'), ('구매', 'Noun'), ('하다', 'Verb'), ('읽다', 'Verb'), ('30분', 'Number'), ('걸리다', 'Verb'), ('것', 'Noun'), ('같다', 'Adjective'), ('1', 'Number'), ('권', 'Noun'), ('부터', 'Noun'), ('쭉', 'Noun'), ('읽다', 'Verb'), ('있다', 'Adjective'), ('그런데', 'Conjunction'), ('지리', 'Noun'), ('여행', 'Noun'), ('으로', 'Josa'), ('바뀌다', 'Verb'), ('저희', 'Noun'), ('는', 'Verb'), ('여행', 'Noun'), ('가기', 'Noun'), ('전', 'Noun'), ('에', 'Josa'), ('닷', 'Noun'), ('꺼내다', 'Verb'), ('읽다', 'Verb'), ('하다', 'Verb')]], [9788995797020, [('요가', 'Noun'), ('의', 'Noun'), ('궁극', 'Noun'), ('적', 'Noun'), ('인', 'Noun'), ('의미', 'Noun'), ('와', 'Verb'), ('요가', 'Noun'), ('수행자', 'Noun'), ('를', 'Noun'), ('위', 'Noun'), ('한', 'Verb'), ('메시지', 'Noun'), ('와', 'Verb'), ('방법', 'Noun'), ('과정', 'Noun'), ('을', 'Josa'), ('알', 'Noun'), ('수', 'Noun'), ('있다', 'Adjective'), ('자세', 'Noun'), ('설명', 'Noun'), ('도', 'Noun'), ('알다', 'Noun'), ('쉬', 'Noun'), ('정리', 'Noun'), ('되어다', 'Verb'), ('따르다', 'Verb'), ('익히다', 'Verb'), ('매우', 'Noun'), ('유익하다', 'Adjective'), ('서적', 'Noun'), ('이다', 'Josa'), ('요가', 'Noun'), ('공부', 'Noun'), ('를', 'Noun'), ('위해', 'Noun'), ('구입', 'Noun'), ('하다', 'Verb'), ('아직', 'Adverb'), ('어렵다', 'Adjective'), ('자다', 'Verb'), ('모르다', 'Verb'), ('공부', 'Noun'), ('하다', 'Verb'), ('도움', 'Noun'), ('이', 'Noun'), ('많이', 'Adverb'), ('되다', 'Verb'), ('요가', 'Noun'), ('의', 'Noun'), ('교과서', 'Noun'), ('라', 'Josa'), ('말', 'Noun'), ('하다', 'Verb'), ('하다', 'Verb'), ('요가', 'Noun'), ('에', 'Josa'), ('대한', 'Noun'), ('백과사전', 'Noun'), ('식', 'Noun'), ('명작', 'Noun'), ('자세하다', 'Adjective'), ('설명', 'Noun'), ('과', 'Noun'), ('함께', 'Adverb'), ('그림', 'Noun'), ('을', 'Josa'), ('첨부', 'Noun'), ('하다', 'Verb'), ('재미', 'Noun'), ('로', 'Noun'), ('읽다', 'Verb'), ('좋다', 'Adjective'), ('실제', 'Noun'), ('응용', 'Noun'), ('을', 'Josa'), ('위', 'Noun'), ('한', 'Verb'), ('참고서', 'Noun'), ('로서', 'Noun'), ('도', 'Noun'), ('훌륭하다', 'Adjective'), ('아헹', 'Noun'), ('가', 'Verb'), ('선생님', 'Noun'), ('의', 'Noun'), ('요가', 'Noun'), ('를', 'Noun'), ('배우다', 'Verb'), ('싶다', 'Verb'), ('이', 'Noun'), ('책', 'Noun'), ('뿐', 'Noun'), ('알라딘', 'Noun'), ('에서', 'Josa'), ('쿠폰', 'Noun'), ('과', 'Noun'), ('무료', 'Noun'), ('배송', 'Noun'), ('챙기다', 'Verb'), ('열심히', 'Adverb'), ('배우다', 'Verb'), ('보아', 'Noun'), ('요', 'Noun'), ('요가', 'Noun'), ('에', 'Josa'), ('대한', 'Noun'), ('교과서', 'Noun'), ('최고', 'Noun'), ('의', 'Noun'), ('요가', 'Noun'), ('책', 'Noun'), ('이다', 'Josa'), ('입문', 'Noun'), ('서', 'Verb'), ('로서', 'Noun'), ('도', 'Noun'), ('무리', 'Noun'), ('가', 'Verb'), ('없다', 'Adjective')]]]\n"
     ]
    }
   ],
   "source": [
    "# 불러오기\n",
    "\n",
    "readList = []\n",
    "with open('data/detail_bestbook_unit_isbn_with_isbn_pos_non_stopword.txt', 'rb') as lf:\n",
    "    readList = pickle.load(lf)\n",
    "    \n",
    "print(readList[0])"
   ]
  },
  {
   "cell_type": "code",
   "execution_count": 104,
   "id": "diverse-growth",
   "metadata": {},
   "outputs": [
    {
     "name": "stdout",
     "output_type": "stream",
     "text": [
      "[('요가', 'Noun'), ('의', 'Noun'), ('궁극', 'Noun'), ('적', 'Noun'), ('인', 'Noun'), ('의미', 'Noun'), ('와', 'Verb'), ('요가', 'Noun'), ('수행자', 'Noun'), ('를', 'Noun'), ('위', 'Noun'), ('한', 'Verb'), ('메시지', 'Noun'), ('와', 'Verb'), ('방법', 'Noun'), ('과정', 'Noun'), ('을', 'Josa'), ('알', 'Noun'), ('수', 'Noun'), ('있다', 'Adjective'), ('자세', 'Noun'), ('설명', 'Noun'), ('도', 'Noun'), ('알다', 'Noun'), ('쉬', 'Noun'), ('정리', 'Noun'), ('되어다', 'Verb'), ('따르다', 'Verb'), ('익히다', 'Verb'), ('매우', 'Noun'), ('유익하다', 'Adjective'), ('서적', 'Noun'), ('이다', 'Josa'), ('요가', 'Noun'), ('공부', 'Noun'), ('를', 'Noun'), ('위해', 'Noun'), ('구입', 'Noun'), ('하다', 'Verb'), ('아직', 'Adverb'), ('어렵다', 'Adjective'), ('자다', 'Verb'), ('모르다', 'Verb'), ('공부', 'Noun'), ('하다', 'Verb'), ('도움', 'Noun'), ('이', 'Noun'), ('많이', 'Adverb'), ('되다', 'Verb'), ('요가', 'Noun'), ('의', 'Noun'), ('교과서', 'Noun'), ('라', 'Josa'), ('말', 'Noun'), ('하다', 'Verb'), ('하다', 'Verb'), ('요가', 'Noun'), ('에', 'Josa'), ('대한', 'Noun'), ('백과사전', 'Noun'), ('식', 'Noun'), ('명작', 'Noun'), ('자세하다', 'Adjective'), ('설명', 'Noun'), ('과', 'Noun'), ('함께', 'Adverb'), ('그림', 'Noun'), ('을', 'Josa'), ('첨부', 'Noun'), ('하다', 'Verb'), ('재미', 'Noun'), ('로', 'Noun'), ('읽다', 'Verb'), ('좋다', 'Adjective'), ('실제', 'Noun'), ('응용', 'Noun'), ('을', 'Josa'), ('위', 'Noun'), ('한', 'Verb'), ('참고서', 'Noun'), ('로서', 'Noun'), ('도', 'Noun'), ('훌륭하다', 'Adjective'), ('아헹', 'Noun'), ('가', 'Verb'), ('선생님', 'Noun'), ('의', 'Noun'), ('요가', 'Noun'), ('를', 'Noun'), ('배우다', 'Verb'), ('싶다', 'Verb'), ('이', 'Noun'), ('책', 'Noun'), ('뿐', 'Noun'), ('알라딘', 'Noun'), ('에서', 'Josa'), ('쿠폰', 'Noun'), ('과', 'Noun'), ('무료', 'Noun'), ('배송', 'Noun'), ('챙기다', 'Verb'), ('열심히', 'Adverb'), ('배우다', 'Verb'), ('보아', 'Noun'), ('요', 'Noun'), ('요가', 'Noun'), ('에', 'Josa'), ('대한', 'Noun'), ('교과서', 'Noun'), ('최고', 'Noun'), ('의', 'Noun'), ('요가', 'Noun'), ('책', 'Noun'), ('이다', 'Josa'), ('입문', 'Noun'), ('서', 'Verb'), ('로서', 'Noun'), ('도', 'Noun'), ('무리', 'Noun'), ('가', 'Verb'), ('없다', 'Adjective')]\n"
     ]
    }
   ],
   "source": [
    "print(readList[4][1])"
   ]
  },
  {
   "cell_type": "code",
   "execution_count": 105,
   "id": "novel-tracker",
   "metadata": {},
   "outputs": [],
   "source": [
    "#  도서 불용어를 정의\n",
    "stopwords = ['의','가','이','은','들','는','좀','잘','걍','과','도','를','으로','자','에','와','한','하다','것','라고','에게','라면','을','이라',\n",
    "             '라니','있다','아','랑','쯤된','에서','에선','어','이지만','으로나','때','때는','때라면','때라서','라','이다','있','죠','고','니','로','있','같',\n",
    "             '어서','어요','는데','습니다','면서','많이','마','더','그렇다','의','당','좀','책','안','볼','게','안','정말','듯']\n"
   ]
  },
  {
   "cell_type": "code",
   "execution_count": 115,
   "id": "opposed-fantasy",
   "metadata": {},
   "outputs": [
    {
     "name": "stdout",
     "output_type": "stream",
     "text": [
      "[('처음', 'Noun'), ('제목', 'Noun'), ('보고', 'Noun'), ('예상', 'Noun'), ('하다', 'Verb'), ('스토리', 'Noun'), ('와', 'Verb'), ('완전', 'Noun'), ('다르다', 'Adjective'), ('너무', 'Adverb'), ('좋다', 'Adjective'), ('우연히', 'Adverb'), ('보다', 'Verb'), ('신간', 'Noun'), ('을', 'Josa'), ('홀린', 'Noun'), ('듯', 'Noun'), ('장바구니', 'Noun'), ('에', 'Josa'), ('담다', 'Verb'), ('놓다', 'Verb'), ('이제야', 'Noun'), ('사서', 'Noun'), ('읽다', 'Verb'), ('정말', 'Noun'), ('맘', 'Noun'), ('에', 'Josa'), ('들다', 'Verb'), ('진작', 'Noun'), ('사서', 'Noun'), ('볼', 'Noun'), ('걸', 'Noun'), ('그렇다', 'Adjective'), ('유쾌하다', 'Adjective'), ('조금', 'Noun'), ('은', 'Noun'), ('유치하다', 'Adjective'), ('여자', 'Noun'), ('들', 'Verb'), ('의', 'Noun'), ('이야기', 'Noun')]\n",
      "\n",
      "['처음', '제목', '보고', '예상', '스토리', '완전', '다르다', '너무', '좋다', '우연히', '보다', '신간', '홀린', '듯', '장바구니', '담다', '놓다', '이제야', '사서', '읽다', '정말', '맘', '들다', '진작', '사서', '걸', '유쾌하다', '조금', '유치하다', '여자', '이야기']\n"
     ]
    }
   ],
   "source": [
    "# 품사 있는 데이터 버리기\n",
    "tt = book_morphs_with_isbn_pos_non_stopword[1][1]\n",
    "print(tt)\n",
    "print()\n",
    "tts = []\n",
    "tts = [word for (word,pos) in tt if not word in stopwords]\n",
    "\n",
    "print(tts)\n",
    "\n"
   ]
  },
  {
   "cell_type": "code",
   "execution_count": 118,
   "id": "welsh-nightmare",
   "metadata": {},
   "outputs": [
    {
     "name": "stdout",
     "output_type": "stream",
     "text": [
      "[('처음', 'Noun'), ('제목', 'Noun'), ('보고', 'Noun'), ('예상', 'Noun'), ('하다', 'Verb'), ('스토리', 'Noun'), ('와', 'Verb'), ('완전', 'Noun'), ('다르다', 'Adjective'), ('너무', 'Adverb'), ('좋다', 'Adjective'), ('우연히', 'Adverb'), ('보다', 'Verb'), ('신간', 'Noun'), ('을', 'Josa'), ('홀린', 'Noun'), ('듯', 'Noun'), ('장바구니', 'Noun'), ('에', 'Josa'), ('담다', 'Verb'), ('놓다', 'Verb'), ('이제야', 'Noun'), ('사서', 'Noun'), ('읽다', 'Verb'), ('정말', 'Noun'), ('맘', 'Noun'), ('에', 'Josa'), ('들다', 'Verb'), ('진작', 'Noun'), ('사서', 'Noun'), ('볼', 'Noun'), ('걸', 'Noun'), ('그렇다', 'Adjective'), ('유쾌하다', 'Adjective'), ('조금', 'Noun'), ('은', 'Noun'), ('유치하다', 'Adjective'), ('여자', 'Noun'), ('들', 'Verb'), ('의', 'Noun'), ('이야기', 'Noun')]\n",
      "\n",
      "[('처음', 'Noun'), ('제목', 'Noun'), ('보고', 'Noun'), ('예상', 'Noun'), ('스토리', 'Noun'), ('완전', 'Noun'), ('다르다', 'Adjective'), ('너무', 'Adverb'), ('좋다', 'Adjective'), ('우연히', 'Adverb'), ('보다', 'Verb'), ('신간', 'Noun'), ('홀린', 'Noun'), ('듯', 'Noun'), ('장바구니', 'Noun'), ('담다', 'Verb'), ('놓다', 'Verb'), ('이제야', 'Noun'), ('사서', 'Noun'), ('읽다', 'Verb'), ('정말', 'Noun'), ('맘', 'Noun'), ('들다', 'Verb'), ('진작', 'Noun'), ('사서', 'Noun'), ('걸', 'Noun'), ('유쾌하다', 'Adjective'), ('조금', 'Noun'), ('유치하다', 'Adjective'), ('여자', 'Noun'), ('이야기', 'Noun')]\n",
      "\n",
      "[('처음', 'Noun'), ('제목', 'Noun'), ('보고', 'Noun'), ('예상', 'Noun'), ('스토리', 'Noun'), ('완전', 'Noun'), ('다르다', 'Adjective'), ('좋다', 'Adjective'), ('신간', 'Noun'), ('홀린', 'Noun'), ('듯', 'Noun'), ('장바구니', 'Noun'), ('이제야', 'Noun'), ('사서', 'Noun'), ('정말', 'Noun'), ('맘', 'Noun'), ('진작', 'Noun'), ('사서', 'Noun'), ('걸', 'Noun'), ('유쾌하다', 'Adjective'), ('조금', 'Noun'), ('유치하다', 'Adjective'), ('여자', 'Noun'), ('이야기', 'Noun')]\n"
     ]
    }
   ],
   "source": [
    "# 품사 있는 데이터 버리기\n",
    "test = book_morphs_with_isbn_pos_non_stopword[1][1]\n",
    "print(test)\n",
    "print()\n",
    "\n",
    "tts = []\n",
    "tts = [(word,pos) for (word,pos) in test if not word in stopwords]\n",
    "print(tts)\n",
    "print()\n",
    "\n",
    "\n",
    "na = ['Noun','Adjective']\n",
    "tt = [(word,pos) for (word,pos) in tts if pos in na]\n",
    "\n",
    "\n",
    "print(tt)"
   ]
  },
  {
   "cell_type": "code",
   "execution_count": null,
   "id": "adequate-statistics",
   "metadata": {},
   "outputs": [],
   "source": []
  }
 ],
 "metadata": {
  "accelerator": "GPU",
  "colab": {
   "collapsed_sections": [
    "excessive-democrat",
    "confident-respondent",
    "hawaiian-coalition"
   ],
   "name": "NaverMovieReview+AllBookReview+TestData+Mecab.ipynb",
   "provenance": []
  },
  "kernelspec": {
   "display_name": "Python 3",
   "language": "python",
   "name": "python3"
  },
  "language_info": {
   "codemirror_mode": {
    "name": "ipython",
    "version": 3
   },
   "file_extension": ".py",
   "mimetype": "text/x-python",
   "name": "python",
   "nbconvert_exporter": "python",
   "pygments_lexer": "ipython3",
   "version": "3.7.8"
  }
 },
 "nbformat": 4,
 "nbformat_minor": 5
}