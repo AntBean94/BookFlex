{
 "cells": [
  {
   "cell_type": "markdown",
   "id": "bUU-2N7ntHgk",
   "metadata": {
    "id": "bUU-2N7ntHgk"
   },
   "source": [
    "# 비지도학습 군집화 테스트\n",
    "\n",
    "###  \"사용 데이터 : 장르별 베스트셀러 리뷰 모음\"\n",
    "\n",
    "### 조건\n",
    "    * 각각의 ISBN끼리 리뷰를 합쳐서 테스트"
   ]
  },
  {
   "cell_type": "code",
   "execution_count": 1,
   "id": "greek-psychology",
   "metadata": {
    "executionInfo": {
     "elapsed": 2188,
     "status": "ok",
     "timestamp": 1615857430818,
     "user": {
      "displayName": "HJ W",
      "photoUrl": "",
      "userId": "17133817769772810518"
     },
     "user_tz": -540
    },
    "id": "greek-psychology"
   },
   "outputs": [],
   "source": [
    "import pandas as pd\n",
    "import numpy as np\n",
    "import tensorflow as tf\n",
    "\n",
    "%matplotlib inline\n",
    "\n",
    "import matplotlib.pyplot as plt\n",
    "import re\n",
    "import urllib.request\n",
    "from konlpy.tag import Okt\n",
    "\n",
    "\n",
    "from tensorflow.keras.preprocessing.text import Tokenizer\n",
    "from tensorflow.keras.preprocessing.sequence import pad_sequences\n",
    "\n",
    "import urllib"
   ]
  },
  {
   "cell_type": "code",
   "execution_count": 2,
   "id": "3bY23j9WV_4L",
   "metadata": {
    "executionInfo": {
     "elapsed": 590,
     "status": "ok",
     "timestamp": 1615857432997,
     "user": {
      "displayName": "HJ W",
      "photoUrl": "",
      "userId": "17133817769772810518"
     },
     "user_tz": -540
    },
    "id": "3bY23j9WV_4L"
   },
   "outputs": [],
   "source": [
    "import konlpy\n",
    "from konlpy.tag import Okt"
   ]
  },
  {
   "cell_type": "code",
   "execution_count": 3,
   "id": "present-livestock",
   "metadata": {},
   "outputs": [
    {
     "name": "stdout",
     "output_type": "stream",
     "text": [
      "INFO:tensorflow:Using MirroredStrategy with devices ('/job:localhost/replica:0/task:0/device:GPU:0',)\n"
     ]
    }
   ],
   "source": [
    "mirrored_strategy = tf.distribute.MirroredStrategy()"
   ]
  },
  {
   "cell_type": "markdown",
   "id": "interior-vermont",
   "metadata": {},
   "source": [
    "# 데이터 전처리"
   ]
  },
  {
   "cell_type": "markdown",
   "id": "lesser-gossip",
   "metadata": {
    "id": "lesser-gossip"
   },
   "source": [
    "## 도서 리뷰 추가"
   ]
  },
  {
   "cell_type": "code",
   "execution_count": 4,
   "id": "manufactured-brand",
   "metadata": {
    "executionInfo": {
     "elapsed": 586,
     "status": "ok",
     "timestamp": 1615862813046,
     "user": {
      "displayName": "HJ W",
      "photoUrl": "",
      "userId": "17133817769772810518"
     },
     "user_tz": -540
    },
    "id": "manufactured-brand"
   },
   "outputs": [],
   "source": [
    "import glob\n",
    "import pandas as pd\n",
    "from pandas.core.dtypes.missing import notnull\n",
    "import nltk\n",
    "from konlpy.tag import Okt\n",
    "from wordcloud import WordCloud, STOPWORDS\n",
    "import numpy as np\n",
    "from PIL import Image\n",
    "import matplotlib.pyplot as plt\n",
    "import platform\n",
    "from matplotlib import font_manager, rc\n",
    "import re\n",
    "from gensim.models import Word2Vec\n",
    "from pandas import DataFrame\n",
    "from tensorflow.keras.preprocessing.text import Tokenizer\n",
    "from tensorflow.keras.preprocessing.sequence import pad_sequences"
   ]
  },
  {
   "cell_type": "code",
   "execution_count": 6,
   "id": "vocational-davis",
   "metadata": {
    "executionInfo": {
     "elapsed": 4231,
     "status": "ok",
     "timestamp": 1615863631869,
     "user": {
      "displayName": "HJ W",
      "photoUrl": "",
      "userId": "17133817769772810518"
     },
     "user_tz": -540
    },
    "id": "vocational-davis"
   },
   "outputs": [],
   "source": [
    "# 데이터 불러오기\n",
    "book_data = pd.DataFrame()\n",
    "df = pd.read_csv('data\\detail_bestbook_review.csv', encoding=\"utf-8\")\n",
    "book_data = pd.concat([book_data,df])"
   ]
  },
  {
   "cell_type": "code",
   "execution_count": 7,
   "id": "substantial-mentor",
   "metadata": {
    "colab": {
     "base_uri": "https://localhost:8080/"
    },
    "executionInfo": {
     "elapsed": 584,
     "status": "ok",
     "timestamp": 1615858818773,
     "user": {
      "displayName": "HJ W",
      "photoUrl": "",
      "userId": "17133817769772810518"
     },
     "user_tz": -540
    },
    "id": "substantial-mentor",
    "outputId": "08b3dfc8-347a-4dc8-dead-ee08fca7541c"
   },
   "outputs": [
    {
     "name": "stdout",
     "output_type": "stream",
     "text": [
      "          ISBN13  rating                                             review\n",
      "0  8809474876010      10                배송빠르고..가성비 좋네요.. 진짜 다이어리가 2개가 왔네요 .\n",
      "1  8809474876010      10  주문한 다음날 오전에 받았어요. 배송 진짜 빠름빠름. 다이어리 대만족! 표지만 살짝...\n",
      "2  8809474876003      10                             2개 세트는 아니었지만 양장에 퀄리티 굿\n",
      "3  8809474876003      10  군더더기없이 깔끔하고 하나는 양장이고, 하나는 일반입니다. 2개세트라 내년까지 쓸수...\n",
      "4  8809474876003      10  깔끔하고 심플하고, A5사이즈로 적당하고 양장인데 잘 펼쳐지고 종이 질도 매끔한거 ...\n"
     ]
    }
   ],
   "source": [
    "# 코드 확인\n",
    "print(book_data.head())"
   ]
  },
  {
   "cell_type": "code",
   "execution_count": 8,
   "id": "gXwZFWLsnxoW",
   "metadata": {
    "colab": {
     "base_uri": "https://localhost:8080/"
    },
    "executionInfo": {
     "elapsed": 557,
     "status": "ok",
     "timestamp": 1615858833947,
     "user": {
      "displayName": "HJ W",
      "photoUrl": "",
      "userId": "17133817769772810518"
     },
     "user_tz": -540
    },
    "id": "gXwZFWLsnxoW",
    "outputId": "38c08de2-204f-458d-f033-7ecc3202b48d"
   },
   "outputs": [
    {
     "data": {
      "text/plain": [
       "<AxesSubplot:>"
      ]
     },
     "execution_count": 8,
     "metadata": {},
     "output_type": "execute_result"
    },
    {
     "data": {
      "image/png": "[encoded data removed]",
      "text/plain": [
       "<Figure size 432x288 with 1 Axes>"
      ]
     },
     "metadata": {
      "needs_background": "light"
     },
     "output_type": "display_data"
    }
   ],
   "source": [
    "# 점수별 그래프\n",
    "book_data['rating'].value_counts().plot(kind = 'bar')"
   ]
  },
  {
   "cell_type": "markdown",
   "id": "broken-idaho",
   "metadata": {},
   "source": [
    "## <전처리>"
   ]
  },
  {
   "cell_type": "code",
   "execution_count": 9,
   "id": "exciting-storm",
   "metadata": {},
   "outputs": [],
   "source": [
    "def cleansing(text):\n",
    "    # text = str(text)\n",
    "    pattern = \"([a-zA-Z0-9_.+-]+@[a-zA-Z0-9-]+.[a-zA-Z0-9-.]+)\"  # e-mail 주소 제거\n",
    "    text = re.sub(pattern=pattern, repl=\" \", string=text)\n",
    "\n",
    "    pattern = \"(http|ftp|https)://(?:[-\\w.]|(?:\\da-fA-F]{2}))+\"  # url 제거\n",
    "    text = re.sub(pattern=pattern, repl=\" \", string=text)\n",
    "\n",
    "    pattern = \"([^ㄷㅋㅎㅜㅠ가-힣a-zA-Z0-9])+\"  # 한글 자음, 모음 제거 - without 'ㄷ,ㅋ,ㅎ,ㅜ,ㅠ'\n",
    "    text = re.sub(pattern=pattern, repl=\" \", string=text)\n",
    "\n",
    "    pattern = \"<[^>]*>\"  # html tag 제거\n",
    "    text = re.sub(pattern=pattern, repl=\" \", string=text)\n",
    "\n",
    "    pattern = \"[\\r|\\n]\"  # \\r, \\n 제거\n",
    "    text = re.sub(pattern=pattern, repl=\" \", string=text)\n",
    "\n",
    "    pattern = re.compile(r\"\\s+\")  # 이중 space 제거\n",
    "    text = re.sub(pattern=pattern, repl=\" \", string=text)\n",
    "\n",
    "    return text"
   ]
  },
  {
   "cell_type": "code",
   "execution_count": 10,
   "id": "atomic-syria",
   "metadata": {},
   "outputs": [
    {
     "name": "stdout",
     "output_type": "stream",
     "text": [
      "<class 'str'>\n",
      "배송빠르고 가성비 좋네요 진짜 다이어리가 2개가 왔네요 \n",
      "배송빠르고 가성비 좋네요 진짜 다이어리가 2개가 왔네요 \n",
      "배송빠르고 가성비 좋네요 진짜 다이어리가 2개가 왔네요 \n"
     ]
    }
   ],
   "source": [
    "print(type(book_data.iloc[0]['review']))\n",
    "print(cleansing(str(book_data.iloc[0]['review'])))\n",
    "print(cleansing(book_data.iloc[0]['review']))\n",
    "print(cleansing('배송빠르고..가성비 좋네요.. 진짜 다이어리가 2개가 왔네요 .'))"
   ]
  },
  {
   "cell_type": "code",
   "execution_count": 40,
   "id": "consecutive-holly",
   "metadata": {},
   "outputs": [
    {
     "name": "stdout",
     "output_type": "stream",
     "text": [
      "          ISBN13  rating                                             review\n",
      "0  8809474876010      10                    배송빠르고 가성비 좋네요 진짜 다이어리가 2개가 왔네요 \n",
      "1  8809474876010      10  주문한 다음날 오전에 받았어요 배송 진짜 빠름빠름 다이어리 대만족 표지만 살짝 다른...\n",
      "2  8809474876003      10                             2개 세트는 아니었지만 양장에 퀄리티 굿\n",
      "3  8809474876003      10  군더더기없이 깔끔하고 하나는 양장이고 하나는 일반입니다 2개세트라 내년까지 쓸수 있...\n",
      "4  8809474876003      10  깔끔하고 심플하고 A5사이즈로 적당하고 양장인데 잘 펼쳐지고 종이 질도 매끔한거 같...\n"
     ]
    }
   ],
   "source": [
    "# 전처리\n",
    "\n",
    "book_data.drop_duplicates(subset=[\"review\"], inplace=True)\n",
    "book_data = book_data.dropna(how = 'any') # Null 값이 존재하는 행 제거\n",
    " # 정규 표현식을 통한 한글 외 문자 제거\n",
    "book_data[\"review\"] = [cleansing(str(text)) for text in book_data[\"review\"]]\n",
    "book_data = book_data.dropna(how = 'any') # Null 값이 존재하는 행 제거\n",
    "\n",
    "# 코드 확인\n",
    "print(book_data.head())"
   ]
  },
  {
   "cell_type": "code",
   "execution_count": 41,
   "id": "mechanical-correspondence",
   "metadata": {},
   "outputs": [
    {
     "name": "stdout",
     "output_type": "stream",
     "text": [
      "전처리 후 테스트용 샘플의 개수 : 298322\n",
      "False\n"
     ]
    }
   ],
   "source": [
    "print('전처리 후 테스트용 샘플의 개수 :',len(book_data))\n",
    "\n",
    "print(book_data.isnull().values.any())\n",
    "# book_data = book_data.dropna(how = 'any') # Null 값이 존재하는 행 제거\n",
    "# print(book_data.isnull().values.any())"
   ]
  },
  {
   "cell_type": "code",
   "execution_count": 42,
   "id": "satisfactory-delivery",
   "metadata": {},
   "outputs": [
    {
     "name": "stdout",
     "output_type": "stream",
     "text": [
      "False\n"
     ]
    }
   ],
   "source": [
    "print(book_data.isnull().values.any())"
   ]
  },
  {
   "cell_type": "markdown",
   "id": "mexican-aircraft",
   "metadata": {},
   "source": [
    "### ISBN을 기준으로 리뷰를 모은 뒤 재조합"
   ]
  },
  {
   "cell_type": "code",
   "execution_count": 11,
   "id": "racial-harmony",
   "metadata": {},
   "outputs": [
    {
     "name": "stdout",
     "output_type": "stream",
     "text": [
      "          ISBN13  rating                                             review\n",
      "0  8809474876010      10                    배송빠르고 가성비 좋네요 진짜 다이어리가 2개가 왔네요 \n",
      "1  8809474876010      10  주문한 다음날 오전에 받았어요 배송 진짜 빠름빠름 다이어리 대만족 표지만 살짝 다른...\n",
      "2  8809474876003      10                             2개 세트는 아니었지만 양장에 퀄리티 굿\n",
      "3  8809474876003      10  군더더기없이 깔끔하고 하나는 양장이고 하나는 일반입니다 2개세트라 내년까지 쓸수 있...\n",
      "4  8809474876003      10  깔끔하고 심플하고 A5사이즈로 적당하고 양장인데 잘 펼쳐지고 종이 질도 매끔한거 같...\n"
     ]
    }
   ],
   "source": [
    "# 전처리된 데이터 가져오기\n",
    "book_data = redf = pd.read_csv('data/detail_bestbook_cleaning.csv', encoding=\"utf-8\")\n",
    "\n",
    "print(book_data.head())"
   ]
  },
  {
   "cell_type": "code",
   "execution_count": 12,
   "id": "important-beast",
   "metadata": {},
   "outputs": [
    {
     "name": "stdout",
     "output_type": "stream",
     "text": [
      "42559\n"
     ]
    }
   ],
   "source": [
    "# isbn_set 만들기\n",
    "isbn_set = set([])\n",
    "for i in range(0,len(book_data)) : \n",
    "    isbn_set.add(book_data.iloc[i]['ISBN13'])\n",
    "\n",
    "print(len(isbn_set))"
   ]
  },
  {
   "cell_type": "code",
   "execution_count": 21,
   "id": "expanded-immunology",
   "metadata": {},
   "outputs": [
    {
     "name": "stdout",
     "output_type": "stream",
     "text": [
      "          ISBN13                                             review\n",
      "0  9788959752195                                      내가제일좋아하는책이당 6\n",
      "1  9791136202772  처음 제목 보고 예상했던 스토리와 완전 다른데 너무 좋네요  우연히 본 신간을 홀린...\n",
      "2  9791127420949  덕분에 귀여운 SD를 그릴 수 있게 되어서 너무 기쁩니다 별 5개로도 사실 모자랄 ...\n",
      "3  9791164383252  나오자마자 구매해서 읽는데 30분 걸린 것 같아요 1권부터 쭉 읽고 있어요 그런데 ...\n",
      "4  9788995797020  요가의 궁극적인 의미와 요가 수행자를 위한 메시지와 방법 과정을 알 수 있어요 자세...\n"
     ]
    }
   ],
   "source": [
    "new_book_data = pd.DataFrame(columns=['ISBN13', 'review']) # ISBN별로 리뷰를 저장한 dataframe\n",
    "\n",
    "for isbn in isbn_set : \n",
    "    tmp_df = book_data[(book_data[\"ISBN13\"]==isbn)]\n",
    "#     print(tmp_df)\n",
    "    tmp_str = ''\n",
    "    for i in range(0,len(tmp_df)) : \n",
    "        tmp_str =  tmp_str + tmp_df.iloc[i]['review'] + ' '\n",
    "    tmp_str = tmp_str.strip()\n",
    "    tmp_list=[isbn,tmp_str]\n",
    "    new_book_data = new_book_data.append(pd.Series(tmp_list, index=new_book_data.columns), ignore_index=True)\n",
    "#     new_book_data = pd.concat([new_book_data,tmp_df])\n",
    "\n",
    "print(new_book_data.head())"
   ]
  },
  {
   "cell_type": "code",
   "execution_count": 24,
   "id": "coral-czech",
   "metadata": {},
   "outputs": [
    {
     "name": "stdout",
     "output_type": "stream",
     "text": [
      "13335    그림체가 제 스타일이라 주저없이 구매했어요 역시나 재밌고 귀여움  마조앤새디 소장 ...\n",
      "Name: review, dtype: object\n"
     ]
    }
   ],
   "source": [
    "tmp = new_book_data[(new_book_data[\"ISBN13\"]==9788959137015)]['review']\n",
    "print(tmp)"
   ]
  },
  {
   "cell_type": "code",
   "execution_count": 29,
   "id": "documented-earth",
   "metadata": {},
   "outputs": [
    {
     "name": "stdout",
     "output_type": "stream",
     "text": [
      "False\n"
     ]
    }
   ],
   "source": [
    "# null 있는지 확인\n",
    "print(new_book_data.isnull().values.any())"
   ]
  },
  {
   "cell_type": "code",
   "execution_count": 25,
   "id": "modern-raleigh",
   "metadata": {},
   "outputs": [],
   "source": [
    "# isbn13 단위로 리뷰를 모은 DF 저장\n",
    "new_book_data.to_csv(f'data/detail_bestbook_unit_isbn.csv', index=False)"
   ]
  },
  {
   "cell_type": "markdown",
   "id": "peaceful-conservation",
   "metadata": {},
   "source": [
    "## <토큰화>"
   ]
  },
  {
   "cell_type": "code",
   "execution_count": 62,
   "id": "metropolitan-digest",
   "metadata": {},
   "outputs": [],
   "source": [
    "#  도서 불용어를 정의\n",
    "stopwords = ['의','가','이','은','들','는','좀','잘','걍','과','도','를','으로','자','에','와','한','하다',\n",
    "             '것','라고','에게','라면','게','을','이라','라니','있다','아','랑','쯤된','에서','에선','어','이지만','으로나','때','때는','때라면','때라서','라','이다','있',\n",
    "             '죠','고','니','로','있','같','어서','어요','는데','습니다','면서','많이','마','더']\n"
   ]
  },
  {
   "cell_type": "code",
   "execution_count": 30,
   "id": "alone-ethics",
   "metadata": {},
   "outputs": [
    {
     "name": "stdout",
     "output_type": "stream",
     "text": [
      "END\n",
      "[['가제', '일', '책', '당'], ['처음', '제목', '보고', '예상', '스토리', '완전', '신간', '홀린', '듯', '장바구니', '이제야', '사서', '정말', '맘', '진작', '사서', '볼', '걸', '조금', '여자', '이야기'], ['덕분', '그릴', '수', '별', '개', '사실', '정도', '책', '채색', '채색', '책', '별', '기대', '생각', '내용', '두고두고', '볼'], ['구매', '권', '쭉', '지리', '여행', '저희', '여행', '가기', '전', '닷'], ['요가', '궁극', '의미', '요가', '수행자', '위', '메시지', '방법', '과정', '알', '수', '자세', '설명', '정리', '매우', '서적', '요가', '공부', '위해', '구입', '공부', '도움', '요가', '교과서', '말', '요가', '대한', '백과사전', '명작', '설명', '그림', '첨부', '재미', '실제', '응용', '위', '참고서', '로서', '아헹', '선생님', '요가', '책', '알라딘', '쿠폰', '무료', '배송', '보아', '요가', '대한', '교과서', '최고', '요가', '책', '입문', '로서', '무리'], ['기본', '테니스', '스킬', '개', '관할', '수'], ['한국사', '강의', '추천', '구입', '초등', '교사', '사회', '역사', '수업', '자료', '사용', '내용', '역사', '속', '아이', '활약', '정리'], ['외과', '지원', '인턴', '의대', '생', '법', '병원', '사생활', '개인', '항해', '일지', '던', '글', '말', '더', '제목', '삽화가', '조금', '더', '일기', '그', '문장', '모', '의사', '낙서'], ['신심'], ['그린', '이의', '애정', '곤충', '움', '책', '우리나라', '사계절', '곤충', '책', '생각'], ['아이', '중국어', '대한', '자신감', '실어', '줄', '수', '책', '공부', '자격증', '중국어', '더'], ['대지', '배려', '땐', '배려', '남자', '선배', '휘', '둘리', '여성향', '전통', '소재', '중', '하나', '그림', '체', '보기', '시작', '가끔', '작품', '그', '기대', '충족'], ['용산', '서점', '독일어', '공부', '구매', '서문', '대로', '씌', '비교', '이해', '생각', '다만', '군데군데', '치명', '오타'], ['혹시', '책'], ['유아식', '이제', '시작', '단계', '구매', '식단', '표', '해', '식판', '책', '알'], ['관상'], ['기본', '그', '위쪽', '분', '다른', '데생', '자료', '초보자', '조금', '인체', '정도', '아시', '중', '쓰시', '캐릭터', '동작', '그릴', '참고', '주문', '매일', '책', '연습', '동작', '기초', '서로', '그림', '그리기', '매번', '만화책', '이제', '제대로', '만화', '캐릭터', '방법', '만화', '캐릭터', '법', '만화', '캐릭터', '법', '그', '과정', '소개', '책', '보고', '초보자', '전', '완전', '생', '초보', '초보', '조금', '더', '설명', '그림', '전혀', '안그리', '사람', '조금', '수', '인체', '구조', '표정', '포즈', '등', '전반', '책', '하나', '수', '기분', '듭니', '작가', '그림', '체', '처음', '나중', '나', '그림', '도전', '만화', '캐릭터', '법', '기초', '캐릭터', '도움', '애니', '관련', '꿈', '학생', '저', '여러', '그림', '꿀팁', '알', '표정', '표현', '포즈', '등', '참고', '책', '초보자', '저', '중', '체계', '차근차근', '다시', '한번', '보고', '구매', '책', '다른', '세부', '설명', '책', '병행', '도움', '개인', '리뷰', '여기', '초보', '용', '책', '전', '책', '사고', '거의', '도움', '다른', '책', '권', '사고', '그림', '실력', '다시', '책', '완전', '초보', '거', '옷', '주름', '몸', '구도', '먼저', '연습', '채글', '도움', '그림', '도움', '책', '초등생', '딸아이', '선택', '구입', '매일', '솜씨', '취월', '장함', '보람', '기초', '실력', '수', '책', '그림', '일러스트', '쪽', '관심', '구입', '그림', '생각', '듭니', '앞', '채색', '법', '점도', '맘', '딸아이', '만화책', '캐릭터', '그리기', '문화', '상품권', '하나', '구입', '보고', '연습', '뭐', '거', '도움', '처음', '시작', '부담', '기초', '흐릿하', '처음', '그릴', '수', '그림', '마련', '마음', '책', '그', '칸', '요', '때문', '만화', '캐릭터', '그릴', '참고', '여러가지', '포즈', '채색', '방법', '등등', '여러가지', '사람', '인체', '그리기', '만화', '처음', '시작', '참고', '책', '남', '여', '법', '균형', '마음', '참고', '만화', '폭', '기본', '캐럭', '터', '데생', '연습', '도움', '책', '구체', '설명', '방법', '때문', '정도', '실력', '사람', '제외', '데생', '시작', '사람', '조금', '무리', '수', '책', '시리즈', '제일', '책', '강추', '바이블', '참고서', '이제', '노력', '열정', '내용', '그리기', '연습', '수', '도움', '거', '제', '책', '요', '게임', '그래픽', '쪽', '공부', '책', '도움', '꼭', '번', '감사', '내용', '무지', '설명', '그리기', '기초', '응용', '도움', '책', '이기', '강', '모든', '만화가', '캐릭터', '디자이너', '일러스트레이터', '한번', '책', '당신', '동인지', '부터', '내일', '입시', '작품', '도움', '드릴', '캐릭터', '바이블', '난', '산다', '책', '친구', '정보', '그림', '도움', '엄마', '쓸모', '책', '겉', '표지', '더', '초보', '위해', '배려', '책', '거', '꽤', '처음', '다시', '구입', '햇', '거', '딸', '만화', '그리기', '도움', '나름', '정말', '초보', '위', '몸', '그리기', '덕분', '일단', '그림', '체', '근육', '뼈', '구조도', '비교', '보기', '제', '그', '스타일', '책', '정말', '값', '더', '슬럼프', '꽤', '도움'], ['자주', '중국어', '한자', '순위', '리', '스팅', '구성', '완전', '유툽', '설명', '공부', '도움', '책', '댓글', '출판사', '마이너', '라스', '건', '여', '강'], ['원근법', '기초', '실전', '실수', '포인트', '캐릭터', '배경', '방법', '보고', '배경', '데', '도움', '배경', '리지', '못', '책', '책', '원근법', '이용', '예나', '투시', '방법', '이해', '설명', '배경', '도움', '배경', '그리기', '덕분', '배경', '구매', '아주', '만화', '데', '도움', '초보자', '보고', '가장', '책', '추천', '개인', '정말', '책', '그림', '대해', '요', '그림', '그리기', '짱', '일단', '이론', '부분', '크게', '곳', '후루룩', '책', '점', '책', '이란', '지면', '크기', '한계', '소실', '점', '사이', '간격', '예시', '그림', '투시', '그림', '주', '점', '학원', '작법', '책', '잠깐', '배경', '감', '법', '좀더', '예시', '설명', '느낌', '책', '비법', '팁', '감', '건', '원래', '필수', '강추', '낫다', '보고', '중간', '중간', '깨알', '만화가', '별', '음', '생각', '중간', '중간', '깨알', '팁', '배경', '그릴', '초보자', '정도', '배경', '지식', '신분', '추천', '초', '딸', '만화', '참고', '구', '설명', '배경', '대한', '초지', '얘', '미숙', '신분', '이해', '책', '생각', '건', '종이', '위', '장엄', '세계', '환상', '입체', '내', '손끝', '보이', '원근법', '나중', '차근차근', '연습', '각종', '투시', '법', '대해', '초보자', '이해', '설명', '그림', '쌈', '기초', '초보자', '어쩐지', '배경', '도움', '화용', '기초', '원근법', '참고서', '원근법', '대해', '준', '책', '추천'], ['청소년', '사회', '문제', '대한', '책', '검색', '내용'], ['역사', '관심', '학년', '딸', '위해', '구입', '힙니'], ['중국', '사적', '측면', '중국어', '어학', '측면', '거양', '득', '수', '책', '녹음', '동반', '학습', '더', '측면', '시간', '흐름', '수록', '시사', '이슈', '이슈', '중', '이상', '학습자', '공부', '도움', '정말', '요', '거', '한국어', '번역', '중국어', '뉴스', '볼', '수', '중국', '대해', '더', '알', '중고', '수준', '학습자', '공부', '책', '수록', '기사', '중국', '현지', '공부', '교재', '최신', '독해', '부도', '중국', '현실', '수', '일석이조', '교재'], ['수', '책', '잡지', '습득', '용', '깊이', '주석', '아쉬움'], ['책', '쇄라니', '용어', '가끔', '부분', '이해', '문제', '번역', '용어', '선택', '역자', '고민', '결과'], ['경', '책'], ['중간', '중간', '존댓말', '하루키', '직접', '이야기', '느낌', '더욱', '하루키', '책', '지루함', '북', '소리', '두번째', '하루키', '여행', '집', '하루키', '살', '수', '얼마나', '덕분', '경험', '하루키', '이제', '늘', '생각', '생각', '여행기', '엮', '책', '여행', '직후', '꼭', '글', '생각', '또', '여행', '독자', '대화', '듯', '필체', '셖', '웃기', '생활', '내', '생각', '글', '책', '역시', '하루키', '맥주', '차', '한잔', '여행', '기분', '보기', '책', '여행', '에세이', '오히려', '수필집', '더', '느낌', '더', '하루키', '에세이', '이번', '책', '여행', '이유', '하루키', '여행기', '직접', '여행', '또', '다른', '재미', '금방', '어디', '론', '여행', '만들기', '만요', '하루', '끼', '잉여', '로움', '돈', '에세이', '하루키', '여행가', '글', '독서', '맛', '거', '삶', '생각', '처음', '방문', '거나', '재', '방문', '여러', '곳', '대한', '단편', '글', '약간', '두서', '각', '장소', '개인', '단상', '보기', '듯', '무라카미', '하루키', '에세이', '마치', '마니아', '공간', '초대', '그', '듯이', '하루키', '여행', '에세이', '노이즈', '여행', '여행', '삶', '여행', '온', '친구', '수다', '마음', '하루키', '한결', '기분', '여행', '시야', '에세이', '도대체', '뭘', '제목', '낚였다', '느낌', '카페', '바람', '기분', '글', '그', '여느', '책', '그', '전', '마라톤', '음악', '사랑', '대한', '얘기', '또한', '그', '전의', '하루키', '책', '사람', '역시', '하루키', '최고', '여행', '에세이', '북', '소리', '여행', '책', '제', '취향', '하루키', '책', '중', '처음', '책', '책', '잡지', '기고', '여러', '여행', '에세이', '책임', '라오스', '터', '불과', '매력', '문체', '아주', '그', '여행지', '자체', '하루키', '매력', '런', '마지막', '터', '소세키', '구마몬', '루', '음', '그냥', '심심', '풀이', '생각', '무자', '무', '무라카미', '하루키', '표준', '가독성', '무언가', '열중', '자기만족', '글', '여행기', '오히려', '오히려', '느낌', '허망', '함', '요', '여행', '회고록', '여행', '곳', '다시', '느낌', '독자', '하루키', '나이', '표현', '더', '블루라군', '온천', '한국인', '한국', '온천', '생각', '대목', '웃음', '하루키', '여행', '책', '아주', '맛집', '정보', '추천', '여행지', '정보', '그냥', '낮선', '조깅', '야망', '가지', '책임', '하루키', '소설', '기대', '실망', '사람', '오히려', '에세이', '호불호', '여행', '마력', '책', '라오스', '여행기', '줄알', '오히려', '곳', '여행', '경험', '에세이', '글', '늘', '하루키', '북', '소리', '느낌', '조금', '하루키', '에세이', '늘', '하루키', '잡문', '집', '다시', '라오스', '이제', '신간', '복습', '독서', '하루키', '소설', '최근', '다른', '에세이', '작가', '로서', '삶', '또', '다른', '의미', '작가', '수', '글', '생각', '하루키', '거장', '이제', '그간', '발자국', '단계', '돌입', '건가', '중간', '표현', '의도', '건가', '여행', '느낌', '밑', '분', '말씀', '생뚱맞', '어투', '데', '부분', '갱', '세계', '문화유산', '등재', '부분', '그', '위', '실망', '하루키', '여행', '여행', '모든', '책', '내내', '그', '행로', '마음', '뿐', '아이슬란드', '핀란드', '보스턴', '그리스', '경어체', '평', '체', '북', '소리', '책', '비교', '하루키', '책', '단편', '여행기', '기대', '커서', '예전', '작가', '에세이', '기한', '느낌', '무난', '무난', '글', '다시', '엮', '후반', '부의', '몇', '개', '제외', '크게', '내용', '하루키', '곳', '검색', '여행가', '그', '보고', '본문', '케', '탄광', '갱', '세계', '문화유산', '등재', '관련', '하루키', '글', '팬', '실망', '인간', '수', '정말', '거부', '수', '마력', '온갖', '안티', '에이', '징', '제품', '요즘', '위해', '갖은', '애', '사람', '그', '말', '하루키', '살', '아라라', '일흔', '노', '작가', '글', '그', '청년', '하루키', '여행', '에세이', '대체', '뭐', '하루키', '여행기', '란', '여행기', '싹', '이번', '여행기', '그간', '재탕', '느낌', '북', '소리', '사랑', '독자', '로서', '방겔리스', '부음', '눈물', '내', '사랑', '곳', '하루키', '언어', '표현', '오히려', '부록', '박준', '시인', '글', '가장', '선물', '라오스', '추억', '세계', '정복', '꿈', '조금', '역자', '잘못', '원래', '처음', '하루키', '전시', '물', '구경', '수', '언뜻', '물고기', '나름', '매력', '갑자기', '존댓말', '문체', '흐름', '중간', '중간', '존댓말', '질적', '하루키', '이름', '굳이', '사서', '생각', '예약', '발송', '일', '북', '소리', '이후', '하루키', '신간', '요', '하루키', '문체', '글', '라오스', '거니', '느낌', '수', '하루키', '아성', '사실', '그', '글', '정말', '하루키', '수', '매력', '재미', '매력', '하루키', '대체', '하루키', '루앙프라방', '뭘', '루앙', '길거리', '그', '그것', '라오스', '무라카미', '하루키', '작품', '항상', '웃음', '매력', '하루키', '그', '감사', '여행', '마음', '거리', '정말', '작가', '토가시', '보고', '인간', '하루키', '에세이', '소', '일해', '또', '하루키', '나', '사랑', '나', '행복', '북', '소리', '여행기', '기대', '땅'], ['명명', '하자', '작품', '비', '르포르타주', '르포르타주', '소설', '엉터리', '사람', '소설', '여담', '동안', '술', '취해', '지도', '조금', '기차', '여행', '듯', '묵돌', '말', '한마디', '보고', '생각', '수', '문장', '페이지', '내내', '점', '무언가', '뭘', '글씨', '데', '슬럼프', '글', '가장', '책', '생각', '감히', '추천', '더', '마', '성의', '묵돌', '요즘', '최고', '덕담', '일', '버세', '데', '작가', '버세', '묵', '살', '편', '전부', '제목', '뜻', '이해', '숨', '전율', '종종', '삽화', '눈물', '고이', '생각', '날로', '필', '워', '느낌', '경험', '환상', '단편', '글', '권', '책', '생각', '글', '글', '작가', '강점', '아기', '고양이', '고해', '구매', '어차피', '묵돌', '이즈', '뭔들', '책', '고양이', '출판', '국밥', '작가', '작가', '책', '몸', '마음', '결제', '작가', '신간', '우리', '사회', '우리', '감정', '조금', '더', '눈', '글', '글', '눈', '수가', '글', '재미', '알', '작가', '책', '고양이', '수능', '필적', '확인', '란', '권', '책', '느낌', '묵돌', '책', '일단', '사고', '항상', '애정', '묵돌', '역마', '사랑', '계절', '책', '몇번', '다시', '책', '이번', '시간', '장의사', '또한', '몇번', '책', '리뷰', '항상', '응원', '애정', '머리', '충격', '여운', '단편', '글', '사람', '번', '보고', '생각', '작가', '항상', '지인', '추천', '작가', '글', '거', '고양이', '생각', '벌써', '권', '더', '사서', '고양이'], ['윤승운', '선생님', '책', '대부분', '정감', '만화', '권', '역시', '윤승운', '팬', '정말', '작품', '논어', '수', '권', '기대'], ['나름', '거'], ['시대', '리더십', '변화'], ['책', '작고', '퇴근길', '흡인', '밤', '일도', '육체', '인간', '신전', '거기', '무엇', '모시', '그것', '조금', '더', '상권', '보고', '하루키', '다른', '작품', '관심', '소설', '마치', '세계관', '그', '안', '사소', '남녀', '사랑', '표현', '소설', '태백산맥', '문고판', '눈', '사람', '오프라인', '서점', '보고', '양장본', '고민', '우선', '나중', '장용', '별도', '구매', '걸', '문고판', '처음', '크기', '손', '버스', '주머니', '수', '아주', '맘', '듭니', '하루키', '상탈', '줄', '도박', '사이트', '못', '한림원', '대박', '노리', '평생', '책', '권', '밥딜런', '백배', '대박', '문고본', '매하', '김', '다시', '출퇴근길', '다시', '밑줄', '더', '역시', '하루키', '꼭', '기존', '양장', '판도', '가지', '무거워', '문고판', '소식', '바로', '구매', '글씨', '이제', '곧', '여름', '휴가', '데리', '몇번', '매번', '흥미', '태엽', '새', '애정', '작품', '표지', '진짜', '하루키', '팬', '소장', '가치', '생각', '더', '글씨', '건', '좌우', '반대', '끼리', '서로', '그림자', '느낌', '정도', '정도', '지난', '내용', '올해', '여름', '휴가', '다시', '한번', '미니', '북', '보기', '문고본', '이번', '여름', '문고본', '마구', '끼리', '이해', '문고판', '리지', '널', '세트', '세', '권', '가격', '나', '만', '원', '더', '리지', '널', '권', '세트', '이번', '문고판', '결코', '가격', '문고판', '간', '심지어', '그', '가격', '안', '살', '길이'], ['흠', '맹세코', '괜', '트집', '역자', '번역', '문장', '자꾸', '번', '직역', '대신', '거의', '매', '문장', '주석', '탄복', '만', '연구', '분', '매우', '듯', '일반', '독자', '선', '음', '시간', '투자', '얄듯'], ['대책', '독립', '만세', '현실', '독립', '가이드', '제시', '책'], ['무라카미', '하루키', '작가', '정수', '소설', '책', '작고', '가격', '최고', '꼭', '무라카미', '하루키', '작가', '책', '소장', '보고', '그동안', '양장본', '박', '부담', '문고본', '기분', '구매', '손', '자주', '문고판', '글씨', '작고', '장', '집중', '문고판', '징', '재', '간', '얼른', '학교', '도서관', '신청', '오늘', '미소', '소녀', '느낌', '판형', '디자인', '마음', '동하', '내', '자신', '리즘', '불온', '생각', '책', '소장', '다시', '수입', '원서', '소설', '구매', '종이', '질', '표지', '마분지', '가격', '책', '패션', '일부인', '양', '겉', '그림', '양장', '속지', '종이', '하니', '책', '무지'], ['이방원', '런들', '하니', '뼈', '흙', '테', '안', '강직', '분', '인지', '경직', '줄', '호방', '낭만', '낭만', '여유', '술', '봄', '꽃비'], ['어린이집', '유치원', '입학', '아이', '처음', '동요', '집', '도움', '유치원', '동요', '어린이집', '동요', '계', '아이', '아주', '아주', '글공부', '그림', '아주', '처음', '가사', '목차', '세심', '배려', '가격', '아주', '아이', '동요', '역시', '삼성', '출판사', '인기', '동요', '요건', '두번째', '책정', '삼성', '노래', '성향', '세', '요즘', '명의', '위', '노래', '한장', '구성', '아이', '유치원', '노래', '더욱', '거'], ['공부', '책'], ['보이지', '여자', '책', '그동안', '여성', '유전자', '책', '통해', '알', '저자', '이야기', '흥미', '유전학', '관련', '내용', '이해', '여성', '삶', '남성', '더', '장수', '사람', '침', '질질'], ['기왕', '문고본', '낼', '권', '분책', '권', '분책', '가격', '더', '종이', '재질', '문고본', '가격', '편이'], ['글쎄', '피해', '의식', '전체', '맥락', '개인', '편협', '해석', '나', '정말', '책', '구매', '책', '통해', '성경', '대한', '통찰', '더욱', '지기', '신학', '서나', '설교집', '결', '다른', '신앙', '성경', '이야기', '남', '이야기', '지그재그', '비틀', '거리', '제대로', '집', '우리', '다시', '이야기책', '강추', '하나님', '앞', '그다음', '요', '성경', '단편', '구절', '타인', '정죄', '요즘', '다시금', '성경', '의미', '목적', '생각', '내내', '웃음', '책', '지금', '개신교', '신앙', '교회', '위기', '젊은이', '개신교', '종교', '그', '핵심', '우리', '성경', '법', '잘못', '알', '책', '우리', '다시', '성경', '제대로', '이야기'], ['화석', '처음', '끝', '모든', '책', '무척', '고고학', '관심', '우리', '아들'], ['해결', '부분', '관계', '끝장', '내기', '전', '사람', '말', '정말', '사람', '번', '공감', '거임', '조언', '마음', '편안', '현대', '직장', '스트레스', '사람', '도움', '책', '심리', '도서', '그냥', '제목', '뭔가', '책', '나열'], ['책', '라이트', '페이지', '문장', '독서', '노트', '영어', '공부', '겸', '셜록', '생각', '영어', '표현', '역자', '번역', '사은', '품', '일력', '첫', '장', '오타', '시작', '세기', '영국', '영어', '원문', '현재', '영어', '부용', '말', '조금', '애초', '영어', '공부', '책', '매일', '부담', '셜록', '홉', '문장', '원문', '한글', '접', '수', '게다가', '더', '삽화', '영어', '공부', '추리소설', '퀄리티', '삽화', '영문', '볼거리', '괜춘해', '홈즈', '십', '귀환', '나', '다시', '홈즈', '볼', '이번', '영문', '새해', '도전', '추리', '원문', '볼', '수', '영어실력', '기대', '리지', '널', '삽화', '셜록홈즈', '니요', '요', '공부', '재미', '솔솔'], ['역시', '내용', '판', '구매', '한글', '구매', '약간'], ['왜', '인문학', '수', '책', '인문학', '가치', '일', '책', '책', '내내', '마음', '희망', '가득', '분', '일독', '소통', '화두', '새', '인간', '점점', '외로워', '아이러니', '인문학', '통해', '볼', '책', '만족', '인문학', '누가', '인문학', '살', '공부', '거', '가슴', '진짜', '희망'], ['초', '딸', '위해', '구입', '푹바'], ['실망', '요', '네스', '이번', '작품', '번역', '네스', '작품', '최악', '네스', '팬텀', '거', '뭐', '펜텀', '저자', '네스', '노르웨이', '대표', '스릴러', '소설', '헤리', '홀레', '시리즈', '마지막', '작품', '전개', '숨', '틈', '주지', '동시', '네스', '작가', '별로', '젠', '작가', '피로', '스노우맨', '시절', '필', '만하', '책값', '페이지', '시간', '더', '선물', '새벽', '수', '이야기', '나', '명치', '만', '다시', '해리', '홀레', '충격', '결말', '뭥미'], ['상처', '란', '기억', '속', '부임', '인정', '빛과', '만날', '수', '용기', '내야', '내면', '아이치', '유로', '속', '울', '상처', '만날', '수', '반드시', '기억', '세상', '하나', '당신', '상처', '그', '이상', '존재'], ['켈트인', '신화', '문화', '책', '책', '켈트', '신화', '사전', '켈트', '신화', '전설', '볼', '말', '그대로', '도해', '켈트', '신화', '접근', '수'], ['영어', '논문', '실제', '예문', '별로', '리뷰', '에디터', '심리학', '책', '패턴', '논문', '리뷰', '채택']]\n"
     ]
    }
   ],
   "source": [
    "# 도서 train 데이터 토큰화 - 명사 단위\n",
    "\n",
    "okt = Okt()\n",
    "book_train_X = []\n",
    "\n",
    "for sentence in new_book_data['review']:\n",
    "    temp_X = []\n",
    "    # temp_X = okt.morphs(sentence, stem=True) # 형태소 단위로 토큰화\n",
    "    temp_X = okt.nouns(sentence) # 명사 단위로 토큰화\n",
    "    temp_X = [word for word in temp_X if not word in stopwords] # 불용어 제거\n",
    "    # print(temp_X)\n",
    "    if temp_X : \n",
    "        book_train_X.append(temp_X) #빈 list는 추가X\n",
    "\n",
    "print('END')\n",
    "print(book_train_X[:50])"
   ]
  },
  {
   "cell_type": "code",
   "execution_count": null,
   "id": "accepted-chester",
   "metadata": {},
   "outputs": [],
   "source": [
    "okt = Okt()\n",
    "book_pos_X = []\n",
    "\n",
    "for sentence in new_book_data['review']:\n",
    "    temp_X = []\n",
    "    # temp_X = okt.morphs(sentence, stem=True) # 형태소 단위로 토큰화\n",
    "    temp_X = okt.nouns(sentence) # 명사 단위로 토큰화\n",
    "    temp_X = [word for word in temp_X if not word in stopwords] # 불용어 제거\n",
    "    # print(temp_X)\n",
    "    if temp_X : \n",
    "        book_train_X.append(temp_X) #빈 list는 추가X\n",
    "\n",
    "print('END')\n",
    "print(book_train_X[:50])"
   ]
  },
  {
   "cell_type": "code",
   "execution_count": 31,
   "id": "surgical-cannon",
   "metadata": {},
   "outputs": [],
   "source": [
    "# 저장하기\n",
    "df = pd.DataFrame(book_train_X)\n",
    "df.to_csv(f'data/detail_bestbook_unit_isbn_nouns.csv', index=False)"
   ]
  },
  {
   "cell_type": "code",
   "execution_count": 60,
   "id": "dried-center",
   "metadata": {},
   "outputs": [],
   "source": [
    "# 명사 토큰화 데이터 txt로 저장\n",
    "import pickle\n",
    "\n",
    "with open('data/detail_bestbook_nouns.txt','wb') as lf :\n",
    "    pickle.dump(book_train_X,lf)"
   ]
  },
  {
   "cell_type": "code",
   "execution_count": 61,
   "id": "spread-million",
   "metadata": {},
   "outputs": [
    {
     "name": "stdout",
     "output_type": "stream",
     "text": [
      "[['배송', '가성', '비', '진짜', '다이어리', '개'], ['주문', '다음', '날', '오전', '배송', '진짜', '다이어리', '만족', '표지', '살짝', '하나', '더', '권', '세트', '완전', '득템'], ['개', '세트', '양장', '퀄리티', '굿'], ['군더더기', '하나', '양장', '하나', '일반', '개', '세트', '내년', '쿠폰', '무료', '배송'], ['심플', '사이즈', '양장', '종이', '질도', '매', '거', '내년', '거', '보고', '걸', '정착']]\n"
     ]
    }
   ],
   "source": [
    "with open('data/detail_bestbook_nouns.txt', 'rb') as lf:\n",
    "    readList = pickle.load(lf)\n",
    "    print(readList[:5])"
   ]
  },
  {
   "cell_type": "markdown",
   "id": "moderate-alabama",
   "metadata": {},
   "source": [
    "#### 분류 테스트 "
   ]
  },
  {
   "cell_type": "code",
   "execution_count": 36,
   "id": "private-cartoon",
   "metadata": {},
   "outputs": [
    {
     "name": "stdout",
     "output_type": "stream",
     "text": [
      "['공감', '웃음', '마', '조앤', '책', '더', '만화']\n",
      "['많이', '공감', '과', '웃음', '을', '안기는', '마', '조앤', '새디', '책', '으로', '보면', '더', '재미있는', '만화']\n"
     ]
    }
   ],
   "source": [
    "# 분류 테스트\n",
    "\n",
    "\n",
    "tmp_nouns = okt.nouns('많이 공감과 웃음을 안기는 마조앤새디 책으로 보면 더 재미있는 만화')\n",
    "tmp_morphs = okt.morphs('많이 공감과 웃음을 안기는 마조앤새디 책으로 보면 더 재미있는 만화')\n",
    "\n",
    "print(tmp_nouns)\n",
    "print(tmp_morphs)"
   ]
  },
  {
   "cell_type": "code",
   "execution_count": 49,
   "id": "hindu-judgment",
   "metadata": {},
   "outputs": [
    {
     "name": "stdout",
     "output_type": "stream",
     "text": [
      "명사 > ['공감', '웃음', '마', '조앤', '책', '더', '만화']\n",
      "형태소 > ['많이', '공감', '과', '웃음', '을', '안기는', '마', '조앤', '새디', '책', '으로', '보면', '더', '재미있는', '만화']\n",
      "어구 > ['공감', '공감과 웃음', '마조앤', '더 재미있는 만화', '웃음', '조앤', '만화']\n",
      "[('많이', 'Adverb'), ('공감', 'Noun'), ('과', 'Josa'), ('웃음', 'Noun'), ('을', 'Josa'), ('안기는', 'Verb'), ('마', 'Noun'), ('조앤', 'Noun'), ('새디', 'Verb'), ('책', 'Noun'), ('으로', 'Josa'), ('보면', 'Verb'), ('더', 'Noun'), ('재미있는', 'Adjective'), ('만화', 'Noun')]\n",
      "[('재미있다', 'Adjective')]\n",
      "[]\n",
      "[]\n",
      "['재미있다']\n",
      "[]\n",
      "[('반등', 'Noun'), ('했다', 'Verb')]\n",
      "['반등']\n",
      "['반등', '했다']\n",
      "['반등']\n"
     ]
    }
   ],
   "source": [
    "# 분류 테스트\n",
    "\n",
    "tmp_nouns = okt.nouns('많이 공감과 웃음을 안기는 마조앤새디 책으로 보면 더 재미있는 만화')\n",
    "# tmp_nouns = [word for word in tmp_nouns if not word in stopwords] # 불용어 제거\n",
    "print('명사 > '+str(tmp_nouns))\n",
    "\n",
    "tmp_morphs = okt.morphs('많이 공감과 웃음을 안기는 마조앤새디 책으로 보면 더 재미있는 만화')\n",
    "# tmp_morphs = [word for word in tmp_morphs if not word in stopwords] # 불용어 제거\n",
    "print('형태소 > ' + str(tmp_morphs))\n",
    "\n",
    "tmp_phrases = okt.phrases('많이 공감과 웃음을 안기는 마조앤새디 책으로 보면 더 재미있는 만화')\n",
    "# tmp_phrases = [word for word in tmp_phrases if not word in stopwords] # 불용어 제거\n",
    "print('어구 > '+ str(tmp_phrases))\n",
    "\n",
    "print(okt.pos('많이 공감과 웃음을 안기는 마조앤새디 책으로 보면 더 재미있는 만화'))\n",
    "\n",
    "\n",
    "print(okt.pos('재미있다'))\n",
    "tmp = okt.nouns('재미있다')\n",
    "print(tmp)\n",
    "tmp = okt.nouns('재밌었다')\n",
    "print(tmp)\n",
    "tmp = okt.morphs('재미있다')\n",
    "print(tmp)\n",
    "tmp = okt.phrases('재미있다')\n",
    "print(tmp)\n",
    "\n",
    "print(okt.pos('반등했다'))\n",
    "tmp = okt.nouns('반등했다')\n",
    "print(tmp)\n",
    "tmp = okt.morphs('반등했다')\n",
    "print(tmp)\n",
    "tmp = okt.phrases('반등했다')\n",
    "print(tmp)"
   ]
  },
  {
   "cell_type": "code",
   "execution_count": 70,
   "id": "elegant-andorra",
   "metadata": {},
   "outputs": [],
   "source": [
    "#  도서 불용어를 정의\n",
    "stopwords = ['의','가','이','은','들','는','좀','잘','걍','과','도','를','으로','자','에','와','한','하다',\n",
    "             '것','라고','에게','라면','게','을','이라','라니','있다','아','랑','쯤된','에서','에선','어','이지만','으로나','때','때는','때라면','때라서','라','이다','있',\n",
    "             '죠','고','니','로','있','같','어서','어요','는데','습니다','면서','많이','마','더']\n"
   ]
  },
  {
   "cell_type": "code",
   "execution_count": 71,
   "id": "tough-commission",
   "metadata": {},
   "outputs": [
    {
     "name": "stdout",
     "output_type": "stream",
     "text": [
      "['공감', '웃음', '안기다', '조앤', '새다', '책', '보다', '재미있다', '만화']\n",
      "[('공감', 'Noun'), ('웃음', 'Noun'), ('조앤', 'Noun'), ('책', 'Noun'), ('재미있다', 'Adjective'), ('만화', 'Noun')]\n",
      "['공감', '웃음', '조앤', '책', '재미있다', '만화']\n"
     ]
    }
   ],
   "source": [
    "# 분류 테스트\n",
    "\n",
    "tmp = []\n",
    "tmp = okt.morphs('많이 공감과 웃음을 안기는 마조앤새디 책으로 보면 더 재미있는 만화', stem=True) # 형태소 단위로 토큰화\n",
    "tmp = [word for word in tmp if not word in stopwords] # 불용어 제거\n",
    "\n",
    "tmp_pos = []\n",
    "tmp_non_pos = []\n",
    "for word in tmp :\n",
    "    pos = okt.pos(word)\n",
    "    if pos[0][1]=='Noun' or pos[0][1]=='Adjective':\n",
    "        tmp_pos.append(pos[0])\n",
    "        tmp_non_pos.append(pos[0][0])\n",
    "\n",
    "print(tmp_pos)\n",
    "print(tmp_non_pos)\n"
   ]
  },
  {
   "cell_type": "code",
   "execution_count": 83,
   "id": "sealed-might",
   "metadata": {},
   "outputs": [
    {
     "name": "stdout",
     "output_type": "stream",
     "text": [
      "42559\n",
      "\n",
      "\n",
      "42513\n"
     ]
    }
   ],
   "source": [
    "################ 명사랑 형용사 추출 \n",
    "\n",
    "book_pos_X = []\n",
    "\n",
    "print(len(new_book_data))\n",
    "print('\\n')\n",
    "\n",
    "book_pos = []\n",
    "book_pos_only_isbn = []\n",
    "book_pos_with_isbn = []\n",
    "\n",
    "\n",
    "for i in range(0,len(new_book_data)):\n",
    "    isbn = new_book_data.iloc[i]['ISBN13']\n",
    "    sentence = new_book_data.iloc[i]['review']\n",
    "    tmp = []\n",
    "    tmp = okt.morphs(sentence, stem=True) # 형태소 단위로 토큰화\n",
    "    tmp = [word for word in tmp if not word in stopwords] # 불용어 제거\n",
    "    \n",
    "    tmp_non_pos = []\n",
    "    for word in tmp :\n",
    "        pos = okt.pos(word)\n",
    "        if pos[0][1]=='Noun' or pos[0][1]=='Adjective':\n",
    "            tmp_non_pos.append(pos[0][0])\n",
    "    if tmp_non_pos : \n",
    "        book_pos_X.append(tmp_non_pos)\n",
    "        book_pos_only_isbn.append(isbn)\n",
    "        book_pos_with_isbn.append([isbn,tmp_non_pos])\n",
    "    \n",
    "print(len(book_pos_X))"
   ]
  },
  {
   "cell_type": "code",
   "execution_count": 85,
   "id": "alike-plymouth",
   "metadata": {},
   "outputs": [
    {
     "name": "stdout",
     "output_type": "stream",
     "text": [
      "[['내', '가제', '일', '좋아하다', '책', '당'], ['처음', '제목', '보고', '예상', '스토리', '완전', '다르다', '좋다', '신간', '홀린', '듯', '장바구니', '이제야', '사서', '정말', '맘', '진작', '사서', '볼', '걸', '그렇다', '유쾌하다', '조금', '유치하다', '여자', '이야기'], ['덕분', '귀엽다', '그릴', '수', '기쁘다', '별', '개', '사실', '정도', '좋다', '책', '채색', '없다', '아쉽다', '채색', '책', '아니다', '별', '기대', '안', '생각', '내용', '알차다', '두고두고', '볼', '같다'], ['구매', '같다', '권', '부터', '쭉', '지리', '여행', '저희', '여행', '가기', '전', '닷'], ['요가', '궁극', '적', '인', '의미', '요가', '수행자', '위', '메시지', '방법', '과정', '알', '수', '자세', '설명', '알다', '쉬', '정리', '매우', '유익하다', '서적', '요가', '공부', '위해', '구입', '어렵다', '공부', '도움', '요가', '교과서', '말', '요가', '대한', '백과사전', '식', '명작', '자세하다', '설명', '그림', '첨부', '재미', '좋다', '실제', '응용', '위', '참고서', '로서', '훌륭하다', '아헹', '선생님', '요가', '책', '뿐', '알라딘', '쿠폰', '무료', '배송', '보아', '요', '요가', '대한', '교과서', '최고', '요가', '책', '입문', '로서', '무리', '없다'], ['기본', '적', '인', '테니스', '스킬', '개', '관할', '수'], ['한국사', '강의', '추천', '구입', '초등', '교사', '사회', '역사', '수업', '자료', '사용', '유용하다', '내용', '많다', '역사', '속', '아이', '활약', '정리', '좋다'], ['신', '경', '외과', '지원', '인턴', '이나', '의대', '생', '좋다', '법', '병원', '사생활', '개인', '항해', '일지', '던', '글', '말', '적합하다', '제목', '삽화가', '조금', '많다', '좋다', '일기', '라서', '그', '평이하다', '편안하다', '문장', '모', '의사', '낙서'], ['신심'], ['그린', '이의', '애정', '곤충', '사랑스럽다', '움', '넘치다', '책', '우리나라', '사계절', '곤충', '좋다', '책', '요', '생각']]\n"
     ]
    }
   ],
   "source": [
    "print(book_pos_X[:10])"
   ]
  },
  {
   "cell_type": "code",
   "execution_count": 86,
   "id": "novel-dietary",
   "metadata": {},
   "outputs": [],
   "source": [
    "# 저장하기\n",
    "df1 = pd.DataFrame(book_pos_X)\n",
    "df1.to_csv(f'data/detail_bestbook_unit_isbn_pos.csv', index=False)"
   ]
  },
  {
   "cell_type": "code",
   "execution_count": 87,
   "id": "demonstrated-converter",
   "metadata": {},
   "outputs": [],
   "source": [
    "import pickle\n",
    "\n",
    "with open('data/detail_bestbook_unit_isbn_pos.txt','wb') as lf :\n",
    "    pickle.dump(book_pos_X,lf)"
   ]
  },
  {
   "cell_type": "code",
   "execution_count": 88,
   "id": "weekly-making",
   "metadata": {},
   "outputs": [],
   "source": [
    "# 저장하기\n",
    "df2 = pd.DataFrame(book_pos_with_isbn)\n",
    "df2.to_csv(f'data/detail_bestbook_unit_isbn_pos(with.isbn).csv', index=False)"
   ]
  },
  {
   "cell_type": "code",
   "execution_count": 95,
   "id": "delayed-helping",
   "metadata": {},
   "outputs": [
    {
     "name": "stdout",
     "output_type": "stream",
     "text": [
      "991\n"
     ]
    }
   ],
   "source": [
    "## 품사 태깅 데이터 셋 - 불용어 처리X\n",
    "\n",
    "# test_df = new_book_data[:10]\n",
    "\n",
    "book_morphs_with_isbn_pos_non_stopword = []\n",
    "\n",
    "for i in range(0,len(new_book_data)):\n",
    "    isbn = new_book_data.iloc[i]['ISBN13']\n",
    "    sentence = new_book_data.iloc[i]['review']\n",
    "    tmp = []\n",
    "    tmp = okt.morphs(sentence, stem=True) # 형태소 단위로 토큰화\n",
    "#     tmp = [word for word in tmp if not word in stopwords] # 불용어 제거\n",
    "    \n",
    "    if tmp :\n",
    "        tmp_non_pos = []\n",
    "        for word in tmp :\n",
    "            pos = okt.pos(word)\n",
    "            tmp_non_pos.append(pos[0])\n",
    "        if tmp_non_pos : \n",
    "#             print(tmp_non_pos)\n",
    "            book_morphs_with_isbn_pos_non_stopword.append([isbn,tmp_non_pos])\n",
    "\n",
    "print(len(book_morphs_with_isbn_pos))"
   ]
  },
  {
   "cell_type": "code",
   "execution_count": 98,
   "id": "material-toyota",
   "metadata": {},
   "outputs": [
    {
     "name": "stdout",
     "output_type": "stream",
     "text": [
      "42559\n",
      "[9788974825515, [('아이', 'Noun'), ('에게', 'Josa'), ('중국어', 'Noun'), ('에', 'Josa'), ('대한', 'Noun'), ('자신감', 'Noun'), ('을', 'Josa'), ('실어', 'Noun'), ('줄', 'Noun'), ('수', 'Noun'), ('있다', 'Adjective'), ('책', 'Noun'), ('인', 'Noun'), ('것', 'Noun'), ('같다', 'Adjective'), ('열심히', 'Adverb'), ('공부', 'Noun'), ('하다', 'Verb'), ('자격증', 'Noun'), ('을', 'Josa'), ('따다', 'Verb'), ('중국어', 'Noun'), ('와', 'Verb'), ('더', 'Noun'), ('가깝다', 'Adjective'), ('지다', 'Noun'), ('하다', 'Verb')]]\n"
     ]
    }
   ],
   "source": [
    "print(len(book_morphs_with_isbn_pos_non_stopword))\n",
    "\n",
    "print(book_morphs_with_isbn_pos_non_stopword[10])"
   ]
  },
  {
   "cell_type": "code",
   "execution_count": 97,
   "id": "fiscal-trick",
   "metadata": {},
   "outputs": [],
   "source": [
    "# 불용어 제거X, ISBN, 품사 태깅 저장하기\n",
    "df1 = pd.DataFrame(book_pos_X)\n",
    "df1.to_csv(f'data/detail_bestbook_unit_isbn_with_isbn_pos_non_stopword.csv', index=False)"
   ]
  },
  {
   "cell_type": "code",
   "execution_count": 99,
   "id": "chemical-principal",
   "metadata": {},
   "outputs": [],
   "source": [
    "with open('data/detail_bestbook_unit_isbn_with_isbn_pos_non_stopword.txt','wb') as lf :\n",
    "    pickle.dump(book_morphs_with_isbn_pos_non_stopword,lf)"
   ]
  },
  {
   "cell_type": "code",
   "execution_count": 100,
   "id": "opposed-terrorist",
   "metadata": {},
   "outputs": [
    {
     "name": "stdout",
     "output_type": "stream",
     "text": [
      "[[9788959752195, [('내', 'Noun'), ('가제', 'Noun'), ('일', 'Noun'), ('좋아하다', 'Adjective'), ('책', 'Noun'), ('이', 'Noun'), ('당', 'Noun'), ('6', 'Number')]], [9791136202772, [('처음', 'Noun'), ('제목', 'Noun'), ('보고', 'Noun'), ('예상', 'Noun'), ('하다', 'Verb'), ('스토리', 'Noun'), ('와', 'Verb'), ('완전', 'Noun'), ('다르다', 'Adjective'), ('너무', 'Adverb'), ('좋다', 'Adjective'), ('우연히', 'Adverb'), ('보다', 'Verb'), ('신간', 'Noun'), ('을', 'Josa'), ('홀린', 'Noun'), ('듯', 'Noun'), ('장바구니', 'Noun'), ('에', 'Josa'), ('담다', 'Verb'), ('놓다', 'Verb'), ('이제야', 'Noun'), ('사서', 'Noun'), ('읽다', 'Verb'), ('정말', 'Noun'), ('맘', 'Noun'), ('에', 'Josa'), ('들다', 'Verb'), ('진작', 'Noun'), ('사서', 'Noun'), ('볼', 'Noun'), ('걸', 'Noun'), ('그렇다', 'Adjective'), ('유쾌하다', 'Adjective'), ('조금', 'Noun'), ('은', 'Noun'), ('유치하다', 'Adjective'), ('여자', 'Noun'), ('들', 'Verb'), ('의', 'Noun'), ('이야기', 'Noun')]], [9791127420949, [('덕분', 'Noun'), ('에', 'Josa'), ('귀엽다', 'Adjective'), ('SD', 'Alpha'), ('를', 'Noun'), ('그릴', 'Noun'), ('수', 'Noun'), ('있다', 'Adjective'), ('되어다', 'Verb'), ('너무', 'Adverb'), ('기쁘다', 'Adjective'), ('별', 'Noun'), ('5', 'Number'), ('개', 'Noun'), ('로', 'Noun'), ('도', 'Noun'), ('사실', 'Noun'), ('모자라다', 'Verb'), ('정도', 'Noun'), ('로', 'Noun'), ('좋다', 'Adjective'), ('책', 'Noun'), ('채색', 'Noun'), ('이', 'Noun'), ('없다', 'Adjective'), ('게', 'Noun'), ('좀', 'Noun'), ('아쉽다', 'Adjective'), ('채색', 'Noun'), ('책', 'Noun'), ('이', 'Noun'), ('아니다', 'Adjective'), ('별', 'Noun'), ('기대', 'Noun'), ('안', 'Noun'), ('하다', 'Verb'), ('생각', 'Noun'), ('보다', 'Verb'), ('내용', 'Noun'), ('이', 'Noun'), ('알차다', 'Adjective'), ('두고두고', 'Noun'), ('볼', 'Noun'), ('것', 'Noun'), ('같다', 'Adjective')]], [9791164383252, [('나오다', 'Verb'), ('구매', 'Noun'), ('하다', 'Verb'), ('읽다', 'Verb'), ('30분', 'Number'), ('걸리다', 'Verb'), ('것', 'Noun'), ('같다', 'Adjective'), ('1', 'Number'), ('권', 'Noun'), ('부터', 'Noun'), ('쭉', 'Noun'), ('읽다', 'Verb'), ('있다', 'Adjective'), ('그런데', 'Conjunction'), ('지리', 'Noun'), ('여행', 'Noun'), ('으로', 'Josa'), ('바뀌다', 'Verb'), ('저희', 'Noun'), ('는', 'Verb'), ('여행', 'Noun'), ('가기', 'Noun'), ('전', 'Noun'), ('에', 'Josa'), ('닷', 'Noun'), ('꺼내다', 'Verb'), ('읽다', 'Verb'), ('하다', 'Verb')]], [9788995797020, [('요가', 'Noun'), ('의', 'Noun'), ('궁극', 'Noun'), ('적', 'Noun'), ('인', 'Noun'), ('의미', 'Noun'), ('와', 'Verb'), ('요가', 'Noun'), ('수행자', 'Noun'), ('를', 'Noun'), ('위', 'Noun'), ('한', 'Verb'), ('메시지', 'Noun'), ('와', 'Verb'), ('방법', 'Noun'), ('과정', 'Noun'), ('을', 'Josa'), ('알', 'Noun'), ('수', 'Noun'), ('있다', 'Adjective'), ('자세', 'Noun'), ('설명', 'Noun'), ('도', 'Noun'), ('알다', 'Noun'), ('쉬', 'Noun'), ('정리', 'Noun'), ('되어다', 'Verb'), ('따르다', 'Verb'), ('익히다', 'Verb'), ('매우', 'Noun'), ('유익하다', 'Adjective'), ('서적', 'Noun'), ('이다', 'Josa'), ('요가', 'Noun'), ('공부', 'Noun'), ('를', 'Noun'), ('위해', 'Noun'), ('구입', 'Noun'), ('하다', 'Verb'), ('아직', 'Adverb'), ('어렵다', 'Adjective'), ('자다', 'Verb'), ('모르다', 'Verb'), ('공부', 'Noun'), ('하다', 'Verb'), ('도움', 'Noun'), ('이', 'Noun'), ('많이', 'Adverb'), ('되다', 'Verb'), ('요가', 'Noun'), ('의', 'Noun'), ('교과서', 'Noun'), ('라', 'Josa'), ('말', 'Noun'), ('하다', 'Verb'), ('하다', 'Verb'), ('요가', 'Noun'), ('에', 'Josa'), ('대한', 'Noun'), ('백과사전', 'Noun'), ('식', 'Noun'), ('명작', 'Noun'), ('자세하다', 'Adjective'), ('설명', 'Noun'), ('과', 'Noun'), ('함께', 'Adverb'), ('그림', 'Noun'), ('을', 'Josa'), ('첨부', 'Noun'), ('하다', 'Verb'), ('재미', 'Noun'), ('로', 'Noun'), ('읽다', 'Verb'), ('좋다', 'Adjective'), ('실제', 'Noun'), ('응용', 'Noun'), ('을', 'Josa'), ('위', 'Noun'), ('한', 'Verb'), ('참고서', 'Noun'), ('로서', 'Noun'), ('도', 'Noun'), ('훌륭하다', 'Adjective'), ('아헹', 'Noun'), ('가', 'Verb'), ('선생님', 'Noun'), ('의', 'Noun'), ('요가', 'Noun'), ('를', 'Noun'), ('배우다', 'Verb'), ('싶다', 'Verb'), ('이', 'Noun'), ('책', 'Noun'), ('뿐', 'Noun'), ('알라딘', 'Noun'), ('에서', 'Josa'), ('쿠폰', 'Noun'), ('과', 'Noun'), ('무료', 'Noun'), ('배송', 'Noun'), ('챙기다', 'Verb'), ('열심히', 'Adverb'), ('배우다', 'Verb'), ('보아', 'Noun'), ('요', 'Noun'), ('요가', 'Noun'), ('에', 'Josa'), ('대한', 'Noun'), ('교과서', 'Noun'), ('최고', 'Noun'), ('의', 'Noun'), ('요가', 'Noun'), ('책', 'Noun'), ('이다', 'Josa'), ('입문', 'Noun'), ('서', 'Verb'), ('로서', 'Noun'), ('도', 'Noun'), ('무리', 'Noun'), ('가', 'Verb'), ('없다', 'Adjective')]]]\n"
     ]
    }
   ],
   "source": [
    "# 불러오기\n",
    "\n",
    "readList = []\n",
    "with open('data/detail_bestbook_unit_isbn_with_isbn_pos_non_stopword.txt', 'rb') as lf:\n",
    "    readList = pickle.load(lf)\n",
    "    \n",
    "print(readList[0])"
   ]
  },
  {
   "cell_type": "code",
   "execution_count": 104,
   "id": "unique-operator",
   "metadata": {},
   "outputs": [
    {
     "name": "stdout",
     "output_type": "stream",
     "text": [
      "[('요가', 'Noun'), ('의', 'Noun'), ('궁극', 'Noun'), ('적', 'Noun'), ('인', 'Noun'), ('의미', 'Noun'), ('와', 'Verb'), ('요가', 'Noun'), ('수행자', 'Noun'), ('를', 'Noun'), ('위', 'Noun'), ('한', 'Verb'), ('메시지', 'Noun'), ('와', 'Verb'), ('방법', 'Noun'), ('과정', 'Noun'), ('을', 'Josa'), ('알', 'Noun'), ('수', 'Noun'), ('있다', 'Adjective'), ('자세', 'Noun'), ('설명', 'Noun'), ('도', 'Noun'), ('알다', 'Noun'), ('쉬', 'Noun'), ('정리', 'Noun'), ('되어다', 'Verb'), ('따르다', 'Verb'), ('익히다', 'Verb'), ('매우', 'Noun'), ('유익하다', 'Adjective'), ('서적', 'Noun'), ('이다', 'Josa'), ('요가', 'Noun'), ('공부', 'Noun'), ('를', 'Noun'), ('위해', 'Noun'), ('구입', 'Noun'), ('하다', 'Verb'), ('아직', 'Adverb'), ('어렵다', 'Adjective'), ('자다', 'Verb'), ('모르다', 'Verb'), ('공부', 'Noun'), ('하다', 'Verb'), ('도움', 'Noun'), ('이', 'Noun'), ('많이', 'Adverb'), ('되다', 'Verb'), ('요가', 'Noun'), ('의', 'Noun'), ('교과서', 'Noun'), ('라', 'Josa'), ('말', 'Noun'), ('하다', 'Verb'), ('하다', 'Verb'), ('요가', 'Noun'), ('에', 'Josa'), ('대한', 'Noun'), ('백과사전', 'Noun'), ('식', 'Noun'), ('명작', 'Noun'), ('자세하다', 'Adjective'), ('설명', 'Noun'), ('과', 'Noun'), ('함께', 'Adverb'), ('그림', 'Noun'), ('을', 'Josa'), ('첨부', 'Noun'), ('하다', 'Verb'), ('재미', 'Noun'), ('로', 'Noun'), ('읽다', 'Verb'), ('좋다', 'Adjective'), ('실제', 'Noun'), ('응용', 'Noun'), ('을', 'Josa'), ('위', 'Noun'), ('한', 'Verb'), ('참고서', 'Noun'), ('로서', 'Noun'), ('도', 'Noun'), ('훌륭하다', 'Adjective'), ('아헹', 'Noun'), ('가', 'Verb'), ('선생님', 'Noun'), ('의', 'Noun'), ('요가', 'Noun'), ('를', 'Noun'), ('배우다', 'Verb'), ('싶다', 'Verb'), ('이', 'Noun'), ('책', 'Noun'), ('뿐', 'Noun'), ('알라딘', 'Noun'), ('에서', 'Josa'), ('쿠폰', 'Noun'), ('과', 'Noun'), ('무료', 'Noun'), ('배송', 'Noun'), ('챙기다', 'Verb'), ('열심히', 'Adverb'), ('배우다', 'Verb'), ('보아', 'Noun'), ('요', 'Noun'), ('요가', 'Noun'), ('에', 'Josa'), ('대한', 'Noun'), ('교과서', 'Noun'), ('최고', 'Noun'), ('의', 'Noun'), ('요가', 'Noun'), ('책', 'Noun'), ('이다', 'Josa'), ('입문', 'Noun'), ('서', 'Verb'), ('로서', 'Noun'), ('도', 'Noun'), ('무리', 'Noun'), ('가', 'Verb'), ('없다', 'Adjective')]\n"
     ]
    }
   ],
   "source": [
    "print(readList[4][1])"
   ]
  },
  {
   "cell_type": "code",
   "execution_count": 115,
   "id": "olympic-collaboration",
   "metadata": {},
   "outputs": [
    {
     "name": "stdout",
     "output_type": "stream",
     "text": [
      "[('처음', 'Noun'), ('제목', 'Noun'), ('보고', 'Noun'), ('예상', 'Noun'), ('하다', 'Verb'), ('스토리', 'Noun'), ('와', 'Verb'), ('완전', 'Noun'), ('다르다', 'Adjective'), ('너무', 'Adverb'), ('좋다', 'Adjective'), ('우연히', 'Adverb'), ('보다', 'Verb'), ('신간', 'Noun'), ('을', 'Josa'), ('홀린', 'Noun'), ('듯', 'Noun'), ('장바구니', 'Noun'), ('에', 'Josa'), ('담다', 'Verb'), ('놓다', 'Verb'), ('이제야', 'Noun'), ('사서', 'Noun'), ('읽다', 'Verb'), ('정말', 'Noun'), ('맘', 'Noun'), ('에', 'Josa'), ('들다', 'Verb'), ('진작', 'Noun'), ('사서', 'Noun'), ('볼', 'Noun'), ('걸', 'Noun'), ('그렇다', 'Adjective'), ('유쾌하다', 'Adjective'), ('조금', 'Noun'), ('은', 'Noun'), ('유치하다', 'Adjective'), ('여자', 'Noun'), ('들', 'Verb'), ('의', 'Noun'), ('이야기', 'Noun')]\n",
      "\n",
      "['처음', '제목', '보고', '예상', '스토리', '완전', '다르다', '너무', '좋다', '우연히', '보다', '신간', '홀린', '듯', '장바구니', '담다', '놓다', '이제야', '사서', '읽다', '정말', '맘', '들다', '진작', '사서', '걸', '유쾌하다', '조금', '유치하다', '여자', '이야기']\n"
     ]
    }
   ],
   "source": [
    "# 품사 있는 데이터 버리기\n",
    "tt = book_morphs_with_isbn_pos_non_stopword[1][1]\n",
    "print(tt)\n",
    "print()\n",
    "tts = []\n",
    "tts = [word for (word,pos) in tt if not word in stopwords]\n",
    "\n",
    "print(tts)\n",
    "\n"
   ]
  },
  {
   "cell_type": "code",
   "execution_count": 190,
   "id": "productive-treatment",
   "metadata": {},
   "outputs": [
    {
     "name": "stdout",
     "output_type": "stream",
     "text": [
      "9788956553009\n",
      "[('영문', 'Noun'), ('명작', 'Noun'), ('선', 'Noun'), ('이다', 'Josa'), ('영어', 'Noun'), ('에', 'Josa'), ('재미', 'Noun'), ('를', 'Noun'), ('붙이', 'Noun'), ('수', 'Noun'), ('있다', 'Adjective')]\n",
      "\n",
      "[('영문', 'Noun'), ('명작', 'Noun'), ('선', 'Noun'), ('영어', 'Noun'), ('재미', 'Noun')]\n",
      "\n",
      "[('영문', 'Noun'), ('명작', 'Noun'), ('선', 'Noun'), ('영어', 'Noun'), ('재미', 'Noun')]\n",
      "['영문', '명작', '선', '영어', '재미']\n"
     ]
    },
    {
     "name": "stderr",
     "output_type": "stream",
     "text": [
      "d:\\project02\\field-team4_test\\machine_learning\\web_scraping\\venv\\lib\\site-packages\\ipykernel\\ipkernel.py:283: DeprecationWarning: `should_run_async` will not call `transform_cell` automatically in the future. Please pass the result to `transformed_cell` argument and any exception that happen during thetransform in `preprocessing_exc_tuple` in IPython 7.17 and above.\n",
      "  and should_run_async(code)\n"
     ]
    }
   ],
   "source": [
    "# 품사 있는 데이터 버리기\n",
    "index = 25498\n",
    "print(book_morphs_with_isbn_pos_non_stopword[index][0])\n",
    "\n",
    "sentence = new_book_data.iloc[index]['review']\n",
    "# tmp = okt.morphs(sentence)\n",
    "# print(tmp)\n",
    "\n",
    "test = book_morphs_with_isbn_pos_non_stopword[index][1]\n",
    "print(test)\n",
    "print()\n",
    "\n",
    "tts = []\n",
    "tts = [(word,pos) for (word,pos) in test if not word in stopwords]\n",
    "print(tts)\n",
    "print()\n",
    "\n",
    "\n",
    "# na = ['Noun','Adjective']\n",
    "\n",
    "tt = [(word,pos) for (word,pos) in tts if pos in 'Noun']\n",
    "na = [word for (word,pos) in tts if pos in 'Noun'] # 명사만 저장\n",
    "for (word,pos) in tts : #형용사 : 길이가 1이상\n",
    "    if pos == 'Adjective' and len(word)>1 :\n",
    "        tt.append((word,pos))\n",
    "        na.append(word)\n",
    "\n",
    "\n",
    "print(tt)\n",
    "print(na)"
   ]
  },
  {
   "cell_type": "code",
   "execution_count": 187,
   "id": "heated-waters",
   "metadata": {},
   "outputs": [
    {
     "name": "stderr",
     "output_type": "stream",
     "text": [
      "d:\\project02\\field-team4_test\\machine_learning\\web_scraping\\venv\\lib\\site-packages\\ipykernel\\ipkernel.py:283: DeprecationWarning: `should_run_async` will not call `transform_cell` automatically in the future. Please pass the result to `transformed_cell` argument and any exception that happen during thetransform in `preprocessing_exc_tuple` in IPython 7.17 and above.\n",
      "  and should_run_async(code)\n"
     ]
    }
   ],
   "source": [
    "#  도서 불용어를 정의\n",
    "stopwords = ['의','가','이','은','들','는','좀','잘','걍','과','도','를','으로','자','에','와','한','하다','것','라고','에게','라면','을','이라',\n",
    "             '라니','있다','아','랑','쯤된','에서','에선','어','이지만','으로나','때','때는','때라면','때라서','라','이다','있','죠','고','니','로','있','같',\n",
    "             '어서','어요','는데','습니다','면서','많이','마','더','그렇다','의','당','좀','책','안','볼','게','안','정말','듯','이제야','여','요','게다가','같다',\n",
    "            '임','로서','이제','만','인','붙이','그','저','수','가제','부터','닷','저희','적','알','쉬','못','꼭','살','제','권','제','분','나','내']"
   ]
  },
  {
   "cell_type": "code",
   "execution_count": 184,
   "id": "durable-thunder",
   "metadata": {},
   "outputs": [
    {
     "name": "stderr",
     "output_type": "stream",
     "text": [
      "d:\\project02\\field-team4_test\\machine_learning\\web_scraping\\venv\\lib\\site-packages\\ipykernel\\ipkernel.py:283: DeprecationWarning: `should_run_async` will not call `transform_cell` automatically in the future. Please pass the result to `transformed_cell` argument and any exception that happen during thetransform in `preprocessing_exc_tuple` in IPython 7.17 and above.\n",
      "  and should_run_async(code)\n"
     ]
    },
    {
     "name": "stdout",
     "output_type": "stream",
     "text": [
      "**********************END***************************\n"
     ]
    }
   ],
   "source": [
    "######### 태깅한 데이터 중에서 명사 + 형용사(1이상) + 불용어 처리\n",
    "\n",
    "book_train_nouns_adj = []\n",
    "book_train_na_with_isbn = []\n",
    "for (isbn, test) in book_morphs_with_isbn_pos_non_stopword :\n",
    "#     print(isbn)\n",
    "    tts = [(word,pos) for (word,pos) in test if not word in stopwords] #불용어 처리\n",
    "\n",
    "#     tt = [(word,pos) for (word,pos) in tts if pos in 'Noun'] # 태깅데이터 포함\n",
    "    na = [word for (word,pos) in tts if pos in 'Noun'] # 명사만 저장\n",
    "    for (word,pos) in tts : #형용사 : 길이가 1이상\n",
    "        if pos == 'Adjective' and len(word)>1 :\n",
    "            tt.append((word,pos))\n",
    "#             na.append(word)\n",
    "    if na : \n",
    "        book_train_nouns_adj.append(na)\n",
    "#         book_na_tag.append(tt)\n",
    "        book_train_na_with_isbn.append([isbn,na])\n",
    "\n",
    "print('**********************END***************************')"
   ]
  },
  {
   "cell_type": "code",
   "execution_count": 163,
   "id": "regular-collectible",
   "metadata": {},
   "outputs": [
    {
     "name": "stdout",
     "output_type": "stream",
     "text": [
      "['내', '일']\n",
      "[9788959752195, ['내', '일']]\n"
     ]
    }
   ],
   "source": [
    "print(book_train_nouns_adj[0])\n",
    "print(book_train_na_with_isbn[0])"
   ]
  },
  {
   "cell_type": "code",
   "execution_count": 164,
   "id": "another-capacity",
   "metadata": {},
   "outputs": [],
   "source": [
    "####### ISBN + 불용어, N, A > 1\n",
    "# 저장하기\n",
    "df = pd.DataFrame(book_train_na_with_isbn)\n",
    "df1.to_csv(f'data/detail_bestbook_unit_isbn_NA(with.isbn).csv', index=False)"
   ]
  },
  {
   "cell_type": "code",
   "execution_count": 165,
   "id": "ceramic-ranking",
   "metadata": {},
   "outputs": [],
   "source": [
    "with open('data/detail_bestbook_unit_isbn_NA(with.isbn).txt','wb') as lf :\n",
    "    pickle.dump(book_morphs_with_isbn_pos_non_stopword,lf)"
   ]
  },
  {
   "cell_type": "code",
   "execution_count": 43,
   "id": "painted-gateway",
   "metadata": {},
   "outputs": [
    {
     "name": "stdout",
     "output_type": "stream",
     "text": [
      "test\n"
     ]
    }
   ],
   "source": [
    "test = [1]\n",
    "if test : \n",
    "    print(\"test\")\n",
    "if not test :\n",
    "    print('not')"
   ]
  },
  {
   "cell_type": "markdown",
   "id": "useful-disaster",
   "metadata": {},
   "source": [
    "# 정수 인코딩과 단어 집합 만들기\n",
    "\n",
    "(인코딩값, 빈도수)"
   ]
  },
  {
   "cell_type": "markdown",
   "id": "catholic-plasma",
   "metadata": {},
   "source": [
    "#### 데이터 셋\n",
    "* 명사\n",
    "* 형용사 길이 > 1"
   ]
  },
  {
   "cell_type": "code",
   "execution_count": 166,
   "id": "chicken-dylan",
   "metadata": {},
   "outputs": [
    {
     "name": "stdout",
     "output_type": "stream",
     "text": [
      "[(6, 1), (30, 1), (36, 1), (57, 1), (64, 1), (68, 1), (78, 1), (183, 1), (206, 1), (246, 1), (263, 1), (294, 1), (314, 1), (318, 1), (437, 1), (494, 1), (495, 1), (543, 1), (552, 2), (561, 1), (641, 1), (730, 1), (987, 2), (1396, 1), (1557, 1), (1654, 1), (1706, 1), (1911, 1), (1919, 1), (1926, 1), (2093, 1), (2357, 1), (2453, 1), (2854, 1), (2996, 1), (4130, 1), (4423, 2), (4468, 1), (5584, 1), (5585, 1), (5586, 2), (5587, 1), (5588, 1), (5589, 1), (5590, 1), (5591, 1), (5592, 1)]\n"
     ]
    }
   ],
   "source": [
    "from gensim import corpora\n",
    "\n",
    "\n",
    "dictionary = corpora.Dictionary(book_train_nouns_adj)\n",
    "corpus = [dictionary.doc2bow(text) for text in book_train_nouns_adj]\n",
    "# print(corpus[513]) # 수행된 결과에서 두번째 뉴스 출력. 첫번째 문서의 인덱스는 0"
   ]
  },
  {
   "cell_type": "code",
   "execution_count": 168,
   "id": "continued-watch",
   "metadata": {},
   "outputs": [
    {
     "name": "stdout",
     "output_type": "stream",
     "text": [
      "42369\n",
      "52760\n",
      "42369\n"
     ]
    }
   ],
   "source": [
    "print(len(book_train_nouns_adj))\n",
    "print(len(dictionary))\n",
    "print(len(corpus))"
   ]
  },
  {
   "cell_type": "code",
   "execution_count": 169,
   "id": "warming-asian",
   "metadata": {},
   "outputs": [
    {
     "name": "stdout",
     "output_type": "stream",
     "text": [
      "[(11, 1), (36, 3), (43, 1), (88, 1), (90, 1), (94, 1), (182, 1), (198, 1), (206, 1), (228, 1), (314, 1), (328, 5), (426, 1), (536, 2), (544, 1), (849, 1), (891, 2), (1021, 1), (1278, 1), (1936, 1), (2229, 1), (2456, 1), (2475, 1), (2476, 1), (2477, 1), (2478, 1), (2479, 1), (2480, 1), (2481, 1), (2482, 1), (2483, 1)]\n"
     ]
    }
   ],
   "source": [
    "print(corpus[157])"
   ]
  },
  {
   "cell_type": "code",
   "execution_count": 171,
   "id": "fifty-positive",
   "metadata": {},
   "outputs": [
    {
     "name": "stdout",
     "output_type": "stream",
     "text": [
      "한자\n",
      "복습\n"
     ]
    }
   ],
   "source": [
    "print(dictionary[328])\n",
    "print(dictionary[536])"
   ]
  },
  {
   "cell_type": "markdown",
   "id": "successful-grocery",
   "metadata": {},
   "source": [
    "# LDA 모델 훈련시키기\n",
    "\n",
    "\n",
    "passes는 알고리즘의 동작 횟수를 말하는데, 알고리즘이 결정하는 토픽의 값이 적절히 수렴할 수 있도록 충분히 적당한 횟수를 정해주면 됩니다. \n",
    "여기서는 총 15회를 수행"
   ]
  },
  {
   "cell_type": "code",
   "execution_count": 172,
   "id": "exact-sweet",
   "metadata": {},
   "outputs": [
    {
     "name": "stdout",
     "output_type": "stream",
     "text": [
      "(0, '0.026*\"공부\" + 0.016*\"도움\" + 0.015*\"쉬\" + 0.012*\"영어\"')\n",
      "(1, '0.053*\"아이\" + 0.026*\"그림\" + 0.010*\"엄마\" + 0.007*\"보고\"')\n",
      "(2, '0.026*\"적\" + 0.012*\"대한\" + 0.011*\"생각\" + 0.010*\"역사\"')\n",
      "(3, '0.020*\"생각\" + 0.016*\"사람\" + 0.014*\"나\" + 0.013*\"적\"')\n",
      "(4, '0.022*\"소설\" + 0.017*\"작품\" + 0.015*\"작가\" + 0.013*\"권\"')\n"
     ]
    }
   ],
   "source": [
    "import gensim\n",
    "\n",
    "NUM_TOPICS = 5\n",
    "ldamodel = gensim.models.ldamodel.LdaModel(corpus, num_topics = NUM_TOPICS, id2word=dictionary, passes=15)\n",
    "topics = ldamodel.print_topics(num_words=4)\n",
    "for topic in topics:\n",
    "    print(topic)"
   ]
  },
  {
   "cell_type": "markdown",
   "id": "extra-uniform",
   "metadata": {},
   "source": [
    "## 시각화\n"
   ]
  },
  {
   "cell_type": "code",
   "execution_count": 173,
   "id": "sunset-iraqi",
   "metadata": {},
   "outputs": [
    {
     "data": {
      "text/html": [
       "\n",
       "<link rel=\"stylesheet\" type=\"text/css\" href=\"https://cdn.jsdelivr.net/gh/bmabey/pyLDAvis@3.2.2/pyLDAvis/js/ldavis.v1.0.0.css\">\n",
       "\n",
       "\n",
       "<div id=\"ldavis_el1301214968411282648179547808\"></div>\n",
       "<script type=\"text/javascript\">\n",
       "\n",
       "var ldavis_el1301214968411282648179547808_data = {\"mdsDat\": {\"x\": [0.09184922525388191, 0.17738709823039592, -0.013200623418185922, -0.059945408750993134, -0.196090291315099], \"y\": [-0.0724273114305074, 0.06236425818991727, -0.15794929855091494, 0.19428082017002996, -0.026268468378524944], \"topics\": [1, 2, 3, 4, 5], \"cluster\": [1, 1, 1, 1, 1], \"Freq\": [28.47702807663254, 22.159009994044748, 20.76786063999012, 16.06117052103264, 12.534930768299962]}, \"tinfo\": {\"Term\": [\"\\uc544\\uc774\", \"\\uacf5\\ubd80\", \"\\uc18c\\uc124\", \"\\uadf8\\ub9bc\", \"\\uc791\\ud488\", \"\\uc791\\uac00\", \"\\uc601\\uc5b4\", \"\\ub3c4\\uc6c0\", \"\\uc5ed\\uc0ac\", \"\\uc0b6\", \"\\uc26c\", \"\\uc5c4\\ub9c8\", \"\\uad8c\", \"\\uc124\\uba85\", \"\\ubb38\\uc81c\", \"\\uc0ac\\ud68c\", \"\\uc601\\ud654\", \"\\ub9c8\\uc74c\", \"\\uc6b0\\ub9ac\", \"\\uacf5\\uac10\", \"\\uad50\\uc7ac\", \"\\ubc88\\uc5ed\", \"\\ub300\\ud55c\", \"\\uc120\\ubb3c\", \"\\uc815\\ub9ac\", \"\\uc774\\uc57c\\uae30\", \"\\uc0ac\\uc9c4\", \"\\uc778\\uc0dd\", \"\\uad6c\\ub9e4\", \"\\ub300\\ud574\", \"\\uc5d0\\uc138\\uc774\", \"\\uc0c1\\ucc98\", \"\\uc2dc\\uc778\", \"\\uc2dc\\uc9d1\", \"\\uacb0\\ud63c\", \"\\uce58\\uc720\", \"\\uc790\\uae30\\uacc4\\ubc1c\", \"\\uc2a4\\ub2d8\", \"\\uc704\\uc548\", \"\\uc6b8\\ub9bc\", \"\\uba85\\uc0c1\", \"\\uc2ac\\ud514\", \"\\uc0b0\\ubb38\", \"\\uae40\\uc5f0\\uc218\", \"\\uc790\\uc874\\uac10\", \"\\uc81c\\uc8fc\", \"\\uc218\\uba74\", \"\\uace0\\ub3c5\", \"\\uc778\\uac04\\uad00\\uacc4\", \"\\ubc15\\ubbfc\\uaddc\", \"\\uc2dc\\uac00\", \"\\ub9c8\\uc74c\\uc18d\", \"\\ubc95\\ub95c\", \"\\ub2e4\\uc0b0\", \"\\ucf54\\uc5d8\\ub8cc\", \"\\uae40\\ud6c8\", \"\\uc5ec\\ud589\\uae30\", \"\\ud544\\uc0ac\", \"\\uc54c\\ub7ad\", \"\\ub9c8\\uc2a4\\ub2e4\", \"\\uc704\\ub85c\", \"\\uc720\\ubcd1\\uc7ac\", \"\\uacf5\\uac10\", \"\\ud589\\ubcf5\", \"\\uc778\\uc0dd\", \"\\uc0b6\", \"\\ud0c0\\uc778\", \"\\uc8fd\\uc74c\", \"\\ub204\\uad70\\uac00\", \"\\uc6a9\\uae30\", \"\\uc790\\uc2e0\", \"\\uc544\\ud514\", \"\\uac00\\uc2b4\", \"\\ub2f9\\uc2e0\", \"\\uac10\\uc815\", \"\\uae00\", \"\\ub0b4\", \"\\uc77c\\uc0c1\", \"\\ub9c8\\uc74c\", \"\\uc21c\\uac04\", \"\\uc0ac\\ub78c\", \"\\uc0ac\\ub791\", \"\\ub098\", \"\\uac00\\uc871\", \"\\ub9d0\", \"\\uafc8\", \"\\uc0dd\\uac01\", \"\\ud798\", \"\\uc81c\\ubaa9\", \"\\uc77c\", \"\\uc774\\uc57c\\uae30\", \"\\uc138\\uc0c1\", \"\\uc791\\uac00\", \"\\ubb38\\uc7a5\", \"\\uac10\\ub3d9\", \"\\uc5ec\\ud589\", \"\\uc18d\", \"\\uc801\", \"\\ub2e4\\uc2dc\", \"\\uc6b0\\ub9ac\", \"\\uc2dc\\uac04\", \"\\ub300\\ud55c\", \"\\ucc98\\ub7fc\", \"\\ubabb\", \"\\ub300\\ud574\", \"\\uc54c\\ub2e4\", \"\\uc54c\", \"\\ub0b4\\uc6a9\", \"\\uaf2d\", \"\\uc5ed\\uc0ac\", \"\\ud610\\uc624\", \"\\uc5ec\\uc131\\ud610\\uc624\", \"\\uc778\\ub958\", \"\\uc804\\uc7c1\", \"\\uc815\\uce58\", \"\\uacbd\\uc81c\\ud559\", \"\\uc778\\ubb38\\ud559\", \"\\uc0ac\\uc0c1\", \"\\uadf8\\ub9ac\\uc2a4\", \"\\uad6d\\uac00\", \"\\uc790\\ubcf8\\uc8fc\\uc758\", \"\\ud558\\ubc84\\ub4dc\", \"\\ubb38\\uba85\", \"\\uc870\\uc120\", \"\\uc774\\uc288\", \"\\ud601\\uba85\", \"\\uc138\\uacc4\\uc0ac\", \"\\uc2e0\\ud654\", \"\\uc5f0\\uad6c\", \"\\ud559\\uc790\", \"\\ub300\\ud1b5\\ub839\", \"\\ub85c\\ub9c8\", \"\\uac74\\ucd95\", \"\\uc9c0\\ub2a5\", \"\\ud0dc\\uc591\\uacc4\", \"\\ub3d9\\uc591\", \"\\ucca0\\ud559\\uc790\", \"\\uc11c\\uc591\", \"\\uacfc\\ud559\\uc790\", \"\\uacfc\\ud559\", \"\\ube44\\ud310\", \"\\uc911\\uad6d\", \"\\ucca0\\ud559\", \"\\uc0ac\\ud68c\", \"\\ubb38\\ud654\", \"\\uc8fc\\uc758\", \"\\ubbf8\\ub798\", \"\\uc9c4\\ud654\", \"\\uad00\\uc810\", \"\\uacbd\\uc81c\", \"\\ud604\\ub300\", \"\\uad50\\uc218\", \"\\ud55c\\uad6d\", \"\\uc2dc\\uac01\", \"\\uc2dc\\ub300\", \"\\uace0\\uc804\", \"\\ub300\\ud574\", \"\\ub300\\ud55c\", \"\\uc801\", \"\\ubc88\\uc5ed\", \"\\uc5ec\\uc131\", \"\\uc778\\uac04\", \"\\uc6b0\\ub9ac\", \"\\uc774\\ud574\", \"\\uc54c\", \"\\uc800\\uc790\", \"\\uc9c0\\uc2dd\", \"\\uad00\\uc2ec\", \"\\uc0dd\\uac01\", \"\\uc54c\\ub2e4\", \"\\uc26c\", \"\\ub0b4\\uc6a9\", \"\\ud1b5\\ud574\", \"\\uc138\\uacc4\", \"\\uc0ac\\ub78c\", \"\\uc0ac\\uc2e4\", \"\\ubb38\\uc81c\", \"\\uc774\\uc57c\\uae30\", \"\\uc124\\uba85\", \"\\ubabb\", \"\\ub9d0\", \"\\ub4dc\\ub77c\\ub9c8\", \"\\uacb0\\ub9d0\", \"\\ubc18\\uc804\", \"\\uc6d0\\uc791\", \"\\uc5f0\\uc8fc\", \"\\ucd94\\ub9ac\\uc18c\\uc124\", \"\\uc7a5\\ub974\", \"\\uc6f9\\ud230\", \"\\ud558\\ub8e8\\ud0a4\", \"\\ucd94\\ub9ac\", \"\\uc644\\uacb0\", \"\\ud310\\ud0c0\\uc9c0\", \"\\ubbf8\\uc2a4\\ud130\\ub9ac\", \"\\uc560\\ub2c8\", \"\\uc601\\ud654\\ub85c\", \"\\uae30\\uc6a4\", \"\\uc2a4\\ub9b4\\ub7ec\", \"\\uc815\\ubc1c\", \"\\ub85c\\ub9e8\\uc2a4\", \"\\ub4f1\\uc7a5\\uc778\\ubb3c\", \"\\ubbf8\\ubbf8\", \"\\ubc15\\uc2a4\", \"\\ubbfc\\uc74c\\uc0ac\", \"\\ubb88\\uc18c\", \"\\ud0d0\\uc815\", \"\\uc5ec\\uc0ac\", \"\\ubab0\\uc785\\ub3c4\", \"\\ubbf8\\uc720\\ud0a4\", \"\\uc791\\ud654\", \"\\ubc1c\\ub808\", \"\\uc18c\\uc124\", \"\\uc601\\ud654\", \"\\uc791\\ud488\", \"\\uba85\\uc791\", \"\\ub2e8\\ud3b8\", \"\\uae34\\uc7a5\\uac10\", \"\\uc8fc\\uc778\\uacf5\", \"\\uce74\", \"\\ub9cc\\ud654\", \"\\uc2a4\\ud1a0\\ub9ac\", \"\\uace1\", \"\\ubb18\\uc0ac\", \"\\uc804\\uac1c\", \"\\uce90\\ub9ad\\ud130\", \"\\uad8c\", \"\\ud53c\\uc544\\ub178\", \"\\uc791\\uac00\", \"\\ud45c\\uc9c0\", \"\\uc18c\\uc7ac\", \"\\uc2dc\\ub9ac\\uc988\", \"\\ub2e4\\uc74c\", \"\\uc7ac\\ubbf8\", \"\\uc778\\ubb3c\", \"\\ub9e4\\ub825\", \"\\uc5ed\\uc2dc\", \"\\uc774\\uc57c\\uae30\", \"\\uad6c\\ub9e4\", \"\\uae30\\ub300\", \"\\ucd5c\\uace0\", \"\\ub290\\ub08c\", \"\\uc774\\ubc88\", \"\\uc911\", \"\\ubc88\\uc5ed\", \"\\ub9c8\\uc9c0\\ub9c9\", \"\\ubcf4\\uace0\", \"\\uc801\", \"\\ub2e4\\uc2dc\", \"\\ub0b4\\uc6a9\", \"\\ub2e4\\ub978\", \"\\ubabb\", \"\\ucc98\\uc74c\", \"\\uc0dd\\uac01\", \"\\ub098\", \"\\uc601\\uc5b4\", \"\\uad50\\uc7ac\", \"\\ud559\\uc2b5\", \"\\uc218\\ud559\", \"\\uc2dc\\ud5d8\", \"\\ud22c\\uc790\", \"\\uc5f0\\uc0b0\", \"\\ubb38\\ubc95\", \"\\uc5b4\\ud718\", \"\\uc720\\ud615\", \"\\uc8fc\\uc2dd\", \"\\uae30\\ucd9c\", \"\\ub3c5\\ud574\", \"\\ud569\\uaca9\", \"\\ud68c\\ud654\", \"\\uc2e4\\uc804\", \"\\ub3c5\\ud559\", \"\\uc911\\uad6d\\uc5b4\", \"\\uad6d\\uc5b4\", \"\\uacbd\\uc601\", \"\\ubaa8\\uc758\\uace0\\uc0ac\", \"\\ubcf5\\uc2b5\", \"\\uc804\\uce58\\uc0ac\", \"\\uc5d0\\ub4c0\\uc70c\", \"\\ub9ac\\ub529\", \"\\ud544\\uae30\", \"\\uc7ac\\ud14c\\ud06c\", \"\\uc2e4\\uae30\", \"\\uc560\\ub85c\\uc6b0\", \"\\ub3c5\\ud574\\ub825\", \"\\uacf5\\ubd80\", \"\\uc5f0\\uc2b5\", \"\\uae30\\ucd08\", \"\\uc77c\\ubcf8\\uc5b4\", \"\\uc2e4\\ub825\", \"\\ubd80\\ub3d9\\uc0b0\", \"\\ub09c\\uc774\\ub3c4\", \"\\ud55c\\uc790\", \"\\uac15\\uc758\", \"\\uac1c\\ub150\", \"\\ub2e8\\uc5b4\", \"\\uae30\\ubcf8\", \"\\ub3c4\\uc6c0\", \"\\uc815\\ub9ac\", \"\\uc900\\ube44\", \"\\ubb38\\uc81c\", \"\\ub2e8\\uacc4\", \"\\uc124\\uba85\", \"\\uc26c\", \"\\uad6c\\uc131\", \"\\ubc29\\ubc95\", \"\\ub0b4\\uc6a9\", \"\\ucd94\\ucc9c\", \"\\uc774\\ud574\", \"\\uc2dc\\uc791\", \"\\ud480\\ub2e4\", \"\\uc801\", \"\\ubd84\", \"\\uc54c\\ub2e4\", \"\\uc81c\", \"\\ubd80\\ubd84\", \"\\uc0dd\\uac01\", \"\\uc911\", \"\\uad6c\\ub9e4\", \"\\uad8c\", \"\\uadf8\\ub9bc\\ucc45\", \"\\uc694\\ub9ac\", \"\\uc74c\\uc2dd\", \"\\ub808\\uc2dc\\ud53c\", \"\\uc5b4\\ub9b0\\uc774\", \"\\uc544\\uae30\", \"\\ub180\\uc774\", \"\\ubb38\\uc5b4\", \"\\uc7ac\\ub8cc\", \"\\ub2e4\\uc774\\uc5b4\\ud2b8\", \"\\ub3d9\\ud654\\ucc45\", \"\\uc0c9\\uce60\", \"\\uc2a4\\ud2f0\\ucee4\", \"\\uc790\\uc218\", \"\\uac15\\uc544\\uc9c0\", \"\\uc778\\ud615\", \"\\ub9c1\\ubd81\", \"\\ub3c4\\uc548\", \"\\ubca0\\uc774\", \"\\uc720\\uce58\\uc6d0\", \"\\uc774\\uc720\\uc2dd\", \"\\ud380\\ub529\", \"\\uc2dd\\ub2e8\", \"\\uac15\\uc544\\uc9c0\\ub625\", \"\\uadf8\\ub9ac\\uae30\", \"\\uceec\\ub7ec\\ub9c1\", \"\\ubc25\\uc0c1\", \"\\uc720\\uc544\", \"\\uc640\\uc778\", \"\\ud64d\\ucc28\", \"\\uc870\\uce74\", \"\\uceec\\ub7ec\", \"\\uadf8\\ub9bc\", \"\\uc544\\uc774\", \"\\uace0\\uc591\\uc774\", \"\\ube75\", \"\\uc5c4\\ub9c8\", \"\\uc0c9\\uac10\", \"\\uc721\\uc544\", \"\\ub538\\uc544\\uc774\", \"\\uc0ac\\uc9c4\", \"\\uc544\\ub4e4\", \"\\ub3d9\\ud654\", \"\\uc6b4\\ub3d9\", \"\\uc5b4\\ub978\", \"\\uc544\\ube60\", \"\\ub538\", \"\\ub098\\ubb34\", \"\\uc120\\ubb3c\", \"\\uc77c\\ub7ec\\uc2a4\\ud2b8\", \"\\ubd80\\ubaa8\", \"\\uce35\", \"\\uc9d1\", \"\\uad6c\\uc785\", \"\\ubd81\", \"\\ubcf4\\uace0\", \"\\uce5c\\uad6c\", \"\\uad6c\\ub9e4\", \"\\uc26c\", \"\\uc6b0\\ub9ac\", \"\\ub0b4\\uc6a9\", \"\\uc5ec\\ud589\", \"\\ub9c8\\uc74c\", \"\\uc0b4\", \"\\uae30\\ub300\", \"\\ud558\\ub098\", \"\\uc54c\\ub2e4\", \"\\uc0dd\\uac01\", \"\\uaf2d\", \"\\ucd94\\ucc9c\", \"\\uc124\\uba85\", \"\\uc81c\", \"\\uad8c\"], \"Freq\": [21985.0, 13069.0, 14542.0, 10691.0, 11271.0, 17206.0, 6111.0, 11656.0, 6946.0, 10402.0, 16035.0, 4265.0, 12998.0, 9502.0, 8361.0, 6641.0, 4820.0, 14432.0, 13888.0, 6765.0, 3658.0, 7058.0, 15659.0, 4909.0, 4756.0, 23155.0, 3148.0, 5145.0, 9676.0, 12346.0, 1565.427016490225, 1141.344157360253, 1048.6382147875975, 987.7813252912593, 721.7803999438382, 650.5663237654853, 599.6709871946157, 581.1481850638189, 558.2571883312461, 550.911256643448, 529.3081740545263, 492.78605115668796, 446.24794061794154, 432.3555584285272, 421.0947656735337, 403.19286110998996, 389.1433477832239, 379.7894536165207, 358.16277584869465, 360.4961477300668, 308.49489874687805, 307.6445029908662, 302.8272602491648, 295.86170835360537, 277.3607413289081, 266.7880350073665, 258.8286796846602, 251.56309914664433, 244.30573228171735, 236.07586142141113, 2197.7868920803417, 258.03384100935483, 6421.057813345506, 1437.960299239559, 4878.358183341916, 9672.489179469396, 765.0202870962887, 1659.4501057200714, 1230.9361485167797, 1038.815988205021, 5534.039074611598, 507.36486173995553, 2162.6733886089382, 1330.8118624469487, 2109.960789621313, 9084.71424377078, 10895.929356468847, 2889.022682470897, 10563.026839414333, 2223.1405112580787, 13794.585810190705, 5505.624051118859, 12207.651112159236, 2008.1724632433134, 8753.40834232489, 1223.0460227243934, 17161.11838728812, 2474.245659867568, 3596.005257554633, 4960.265543583087, 10600.784839520726, 3433.0170060414794, 7661.319184698082, 3211.9118647478604, 2818.0147133688106, 2666.972509622634, 3920.3386178303476, 11256.793869581137, 4637.188416140538, 5524.993218694028, 3721.246120414826, 5484.6460239503385, 3388.7056171754575, 4105.199523662866, 3989.7093621077934, 4143.5399293095215, 3912.6906168359715, 3943.7495247644633, 3352.094674371733, 6945.869977662026, 2288.497686995128, 2230.7180694131143, 1338.3848556329024, 1218.9447564986642, 1023.6263829426144, 964.3838987760848, 954.266022734601, 747.579448959431, 784.3760417152772, 681.7378287329183, 672.8540007415363, 709.8174039556765, 642.2376520999526, 636.4110763276562, 579.3906011525811, 574.7302297670776, 517.8644175014535, 480.39685131245994, 1079.0604914532707, 473.7111341935669, 466.26059787203405, 461.24425566798647, 460.9545405978699, 452.7480376991611, 485.07365761698617, 419.52969203499714, 408.470817634779, 408.4102386820525, 397.7240479045056, 3521.514068798544, 1224.1790003223157, 1237.2165754562816, 2866.959357942074, 5670.113120118602, 1595.0941621900538, 1631.304496771677, 2442.8782651803112, 568.4422059302383, 1641.4930350253842, 1284.1991658020247, 1272.547046402105, 1413.5999374044854, 2686.3804072941602, 1685.525120729946, 3512.687802721614, 3167.5726054728557, 6907.224575609733, 8310.596435679963, 17462.710268270628, 4241.915481209147, 2664.4398697944916, 4217.082715544446, 5991.077719935719, 4929.897705817538, 5264.260178655218, 3277.3410326472913, 1865.1047965429764, 2785.9826858147167, 7517.979830291771, 4235.273233260134, 4381.183238301826, 4589.530056481273, 2850.685453488269, 2201.6519226745245, 3862.56642703168, 2129.4931006752263, 2573.959050727323, 3408.6037932397144, 2525.065087238804, 2513.387878783758, 2516.9989560156137, 1818.7609420587, 1469.165554483234, 1206.801365243604, 1170.96393737912, 1041.1397365503467, 998.1187949285892, 960.8058662841739, 878.0761024221459, 873.721109298628, 822.50257733334, 807.2398615396053, 731.1117898302167, 723.3407248016573, 706.7953822015446, 679.9295705574802, 634.4160751193253, 565.7200135540463, 550.0366509345034, 526.1581535428526, 527.8139155885751, 416.162096661119, 417.9907160527379, 422.55130747445287, 409.6880198111968, 398.52365272169595, 392.28519911145554, 342.2395373510831, 333.9802972825955, 320.3307058853372, 323.9664026101863, 14260.522982582397, 4771.0347855623995, 10912.246279244759, 1076.7395692768857, 1776.0064671419166, 568.0148938709286, 2859.4004117401437, 467.747364497802, 3789.123208490164, 2409.5175525751497, 1295.352172779667, 1949.3248651757021, 1677.411553963822, 1598.3161102184213, 8537.207479424871, 1157.7753609136312, 9544.962085438052, 2762.7651933797533, 1473.5790348533617, 2853.8716554766474, 2189.6245546036475, 3172.9420579321754, 1707.660324504351, 2158.7525153893225, 2998.425341044186, 7735.372628231316, 4227.793928539801, 5123.299453685432, 2643.792013844713, 3483.2277652404177, 2218.853890947543, 3340.639727391002, 2815.504914635683, 1812.6465692165536, 3455.6917314205084, 5730.292897737816, 2942.907698808057, 3551.446218164011, 2630.039920943377, 2640.3155200004257, 2363.1770504463825, 2985.212878565769, 2645.818083502081, 6110.7736789867595, 3658.1139271125207, 2608.606400378672, 2571.8105019294608, 1698.2023826917161, 1538.527597539508, 1461.3674149709332, 1337.999492314108, 1183.1035402611915, 1190.975649494886, 1012.0830979613025, 965.8748974955951, 938.3468000885267, 824.911348427564, 763.7225230542862, 731.2182632603674, 714.8772229670013, 711.5962279244566, 568.9330228319129, 558.9096272882689, 460.40119533471284, 395.34376064205605, 393.13771818830025, 376.6497599389301, 363.8921539038469, 341.09204666064915, 335.28093220812565, 326.35015623818765, 337.2469741387655, 318.3961861378984, 12620.1476848793, 1794.2623259131594, 2026.0489095335058, 1264.523710534881, 1100.4364376448866, 701.6466078683163, 621.6873879076213, 963.2472356118886, 2400.839665300577, 2501.518000077505, 3049.1291589074476, 2368.688054638814, 7840.725302442714, 3564.562925938029, 2099.96343102937, 5119.791406300826, 1061.4632991065812, 5357.517434589869, 7222.976098397679, 2696.1365851689216, 2511.8182551144255, 5589.795816428786, 3869.1189572240123, 3565.54652237517, 2803.645310088441, 2114.846283274484, 5305.772389541718, 2452.4362386188054, 3159.2857447716046, 2542.8021183561987, 2326.9799287221103, 3063.601814838266, 2355.368414049358, 2342.2727470927916, 2222.646887501819, 2252.6790643176596, 1979.3590994063097, 1525.4365124276003, 1347.3111830433108, 1079.6308114389658, 1024.2416406297639, 1047.3479483502128, 939.2999373599895, 785.3722035893512, 547.238435974021, 524.7721786184588, 476.02051558243386, 420.4198510416864, 420.7193735933271, 377.7504405222884, 377.66730718249426, 362.013110666079, 347.3075145115174, 350.44639318153367, 308.5668392155062, 295.23105683568815, 292.4416660552493, 271.48993107562825, 302.8135944139855, 264.5047319194062, 258.8314092022527, 262.87815244849696, 253.18718989092665, 249.50603572405788, 249.92468911513876, 907.5297074103017, 809.2427451887502, 10089.669336620196, 20322.29172825429, 1230.1281159856856, 494.1379695746338, 3959.2384671044483, 440.91866426811805, 823.3072355308369, 524.9741508653816, 2684.9806951770383, 2154.596454714186, 1378.0389900774821, 1188.6064485772752, 2162.231068525596, 724.5044962837881, 1283.3392921001416, 893.2277189046109, 2663.695685779296, 798.1840797516121, 1032.1584856174386, 681.953520457549, 2174.8644617638474, 2244.4923840487945, 1006.1339326855029, 2878.4887015716786, 1459.4052860461602, 2345.8936801698615, 2628.687162979347, 2372.212860173136, 2613.7420251350004, 1425.5132022308687, 2173.136042828874, 1483.9810462849148, 1941.2322005671467, 1676.2697636959083, 1865.5811308304942, 2169.236366098651, 1587.6531266631343, 1573.0141135319357, 1515.4058978537184, 1461.940875366212, 1429.5388140690236], \"Total\": [21985.0, 13069.0, 14542.0, 10691.0, 11271.0, 17206.0, 6111.0, 11656.0, 6946.0, 10402.0, 16035.0, 4265.0, 12998.0, 9502.0, 8361.0, 6641.0, 4820.0, 14432.0, 13888.0, 6765.0, 3658.0, 7058.0, 15659.0, 4909.0, 4756.0, 23155.0, 3148.0, 5145.0, 9676.0, 12346.0, 1566.2246614592414, 1142.140487291928, 1049.429250555813, 988.5721198387683, 722.5892230468096, 651.362853949433, 600.4705019071585, 581.9412377447067, 559.0558373160151, 551.7099492844084, 530.1115916990149, 493.5809958733565, 447.04471005313906, 433.152835611173, 421.887110448774, 404.0075357506403, 389.94579719949417, 380.5882865058103, 358.9567900511608, 361.35114450820754, 309.2928957542167, 308.4525008026268, 303.6236020313116, 296.66472914934894, 278.1551482800403, 267.583740941171, 259.6394260343678, 252.36265866912618, 245.11048835347376, 236.87218671688993, 2215.126135880836, 258.9760631605853, 6765.035790438877, 1475.7923567836872, 5145.852501828168, 10402.447871793911, 783.4286455730827, 1753.8126369320692, 1294.152995006093, 1089.7746766183307, 6226.951244419821, 518.7629084881015, 2453.89097808619, 1458.5575181685813, 2405.173120768483, 11822.602744450509, 14622.880736026495, 3439.6392538555215, 14432.984008221792, 2644.8259712327763, 20658.585807615105, 7376.083724664355, 19103.783563269215, 2479.2676851385277, 14048.64563586194, 1397.2489085023483, 32897.14927708257, 3267.4863587992386, 5498.846274801152, 8442.110842912438, 23155.287700168363, 5357.476283321794, 17206.885071374796, 5062.17160053213, 4399.380103048195, 4093.0779681219565, 7482.508771447309, 41003.27465085685, 9898.655248780018, 13888.706766969179, 7138.620359155435, 15659.27498764202, 6318.239341172131, 11175.870260670414, 12346.097957829046, 14405.342371485593, 12953.918855127216, 20288.263640973535, 10064.816613303165, 6946.684431144688, 2289.319265125316, 2231.5579517423153, 1339.202261248935, 1219.7628877231803, 1024.4362022880077, 965.1924657484492, 955.0799480773818, 748.4097016050446, 785.2640746223926, 682.5539547448012, 673.6648419145055, 710.6785725675215, 643.0493944886404, 637.2213660923102, 580.2129863439739, 575.5556817555599, 518.671434649719, 481.2162732273668, 1080.905476855107, 474.5253906639321, 467.07624892020533, 462.0604119309304, 461.77045951402334, 453.5610303417794, 485.95868564159895, 420.3597983217257, 409.2818462475261, 409.23005380516906, 398.53987514751964, 3642.333768024268, 1243.5632566200718, 1296.357767994325, 3201.351793457669, 6641.200297838627, 1726.7963966122943, 1849.7223280058429, 2930.4480946819253, 580.9315087548185, 1889.204305759963, 1448.5603416399342, 1459.3897485089199, 1652.6210131824414, 3487.1815859381827, 2042.1888181633358, 4900.436456713559, 4397.800802419417, 12346.097957829046, 15659.27498764202, 41003.27465085685, 7058.040242693153, 3862.2786738528653, 7226.01145122912, 13888.706766969179, 10856.831478994143, 12953.918855127216, 6628.986961872844, 2653.726696021707, 5467.824175335654, 32897.14927708257, 14405.342371485593, 16035.666150720797, 20288.263640973535, 7914.377779628267, 4068.3311035341917, 20658.585807615105, 4189.685751383444, 8361.936171636356, 23155.287700168363, 9502.422506033065, 11175.870260670414, 14048.64563586194, 1819.5437633151616, 1469.946352045427, 1207.5816405190315, 1171.744606292969, 1041.937875449494, 998.8948009632692, 961.5972306900452, 878.8560318438692, 874.4977992315786, 823.2809114794416, 808.0202650626842, 731.8911615383191, 724.1189381375913, 707.5841833082086, 680.7115431568001, 635.2042911894958, 566.4952155338545, 550.8110669243471, 526.9354467947581, 528.594180953254, 416.9377389009812, 418.77266071060205, 423.3419262910637, 410.4767186340765, 399.300860628637, 393.09004993052145, 343.0277756985896, 334.75576672818215, 321.11104852709485, 324.8150037049086, 14542.153388508057, 4820.625658467483, 11271.93736221688, 1091.5194909867305, 1813.6070573916227, 572.3260778237897, 3124.197074742099, 472.06646231362157, 4446.874322528648, 2746.687838891723, 1409.6373869482884, 2187.919861780429, 1899.3456298826857, 1826.6800774637427, 12998.648342199049, 1337.6154679745184, 17206.885071374796, 3989.8776556454372, 1857.0178851020537, 4461.355447271069, 3140.367859111158, 5393.0574789540315, 2335.7327204576322, 3277.5702552872935, 5347.255417956007, 23155.287700168363, 9676.447596009953, 13319.869725095232, 5312.486787116185, 8713.615750950816, 4142.705760788562, 9775.691885188024, 7058.040242693153, 2860.8356623999784, 11924.244533916677, 41003.27465085685, 9898.655248780018, 20288.263640973535, 8972.84739228353, 11175.870260670414, 6688.419934487116, 32897.14927708257, 19103.783563269215, 6111.537737602982, 3658.8705513994278, 2609.364608837454, 2572.566668112514, 1698.969281137041, 1539.293917902381, 1462.1171126227753, 1338.7519890648161, 1183.8657866008398, 1191.7440784718758, 1012.8366772641002, 966.6294669752642, 939.1049745433454, 825.6625398759168, 764.5003854600741, 731.9722511995311, 715.6309817507533, 712.350193992791, 569.6981210669793, 559.6855090709278, 461.1525454066182, 396.10552149838696, 393.9064545181167, 377.3988744343408, 364.65656538542817, 341.843065033348, 336.0372053545271, 327.0997370268871, 338.04618738988216, 319.1607952523947, 13069.596185065582, 1832.0510644948556, 2091.8019759490244, 1310.460399182677, 1145.2370254878929, 723.5073419878414, 637.6118357192684, 1015.3091142784223, 2739.4021729086126, 2942.623556327655, 3862.657977106205, 2929.1226078407935, 11656.360629159697, 4756.722553488227, 2573.4107110029563, 8361.936171636356, 1176.5009777463856, 9502.422506033065, 16035.666150720797, 4387.07646954754, 5022.79602929328, 20288.263640973535, 11173.114271712768, 10856.831478994143, 6969.454157391377, 4413.395607393348, 41003.27465085685, 6899.423444646077, 14405.342371485593, 8079.727624864861, 7842.4387748105655, 32897.14927708257, 9775.691885188024, 9676.447596009953, 12998.648342199049, 2253.4401169628914, 1980.121202348168, 1526.2032142300282, 1348.0701318360973, 1080.4051152339148, 1025.0090412089135, 1048.1753308064644, 940.1541476664715, 786.1458524720712, 547.9996431149057, 525.5449246152283, 476.7807086696277, 421.18525947800055, 421.50800425132, 378.51673420560206, 378.4337900932452, 362.7720891699786, 348.0693883527499, 351.22122668967893, 309.333418095692, 295.9899762030718, 293.21353920724056, 272.2502204065398, 303.6727807353199, 265.2730737836512, 259.58993459285716, 263.64969023866666, 253.95578383497772, 250.27318300357075, 250.69599689175794, 913.9585927582807, 820.5394464045795, 10691.741887857188, 21985.265194495925, 1265.1620966028122, 499.1166891585708, 4265.9590943830035, 446.5845375522348, 870.8112810565483, 543.6409942071964, 3148.0477716790024, 2594.584083084743, 1643.2610450912134, 1421.542708726746, 2849.826747966981, 810.1580438231189, 1679.7571130141382, 1119.3727693744036, 4909.040347179511, 1025.8394816932125, 1580.9967785637627, 829.7956414827378, 5567.549237638521, 6280.482081447642, 1607.075566021429, 11924.244533916677, 3392.808321797247, 9676.447596009953, 16035.666150720797, 13888.706766969179, 20288.263640973535, 4093.0779681219565, 14432.984008221792, 4658.940615746807, 13319.869725095232, 8143.6121864990455, 14405.342371485593, 32897.14927708257, 10064.816613303165, 11173.114271712768, 9502.422506033065, 8079.727624864861, 12998.648342199049], \"Category\": [\"Default\", \"Default\", \"Default\", \"Default\", \"Default\", \"Default\", \"Default\", \"Default\", \"Default\", \"Default\", \"Default\", \"Default\", \"Default\", \"Default\", \"Default\", \"Default\", \"Default\", \"Default\", \"Default\", \"Default\", \"Default\", \"Default\", \"Default\", \"Default\", \"Default\", \"Default\", \"Default\", \"Default\", \"Default\", \"Default\", \"Topic1\", \"Topic1\", \"Topic1\", \"Topic1\", \"Topic1\", \"Topic1\", \"Topic1\", \"Topic1\", \"Topic1\", \"Topic1\", \"Topic1\", \"Topic1\", \"Topic1\", \"Topic1\", \"Topic1\", \"Topic1\", \"Topic1\", \"Topic1\", \"Topic1\", \"Topic1\", \"Topic1\", \"Topic1\", \"Topic1\", \"Topic1\", \"Topic1\", \"Topic1\", \"Topic1\", \"Topic1\", \"Topic1\", \"Topic1\", \"Topic1\", \"Topic1\", \"Topic1\", \"Topic1\", \"Topic1\", \"Topic1\", \"Topic1\", \"Topic1\", \"Topic1\", \"Topic1\", \"Topic1\", \"Topic1\", \"Topic1\", \"Topic1\", \"Topic1\", \"Topic1\", \"Topic1\", \"Topic1\", \"Topic1\", \"Topic1\", \"Topic1\", \"Topic1\", \"Topic1\", \"Topic1\", \"Topic1\", \"Topic1\", \"Topic1\", \"Topic1\", \"Topic1\", \"Topic1\", \"Topic1\", \"Topic1\", \"Topic1\", \"Topic1\", \"Topic1\", \"Topic1\", \"Topic1\", \"Topic1\", \"Topic1\", \"Topic1\", \"Topic1\", \"Topic1\", \"Topic1\", \"Topic1\", \"Topic1\", \"Topic1\", \"Topic1\", \"Topic1\", \"Topic1\", \"Topic2\", \"Topic2\", \"Topic2\", \"Topic2\", \"Topic2\", \"Topic2\", \"Topic2\", \"Topic2\", \"Topic2\", \"Topic2\", \"Topic2\", \"Topic2\", \"Topic2\", \"Topic2\", \"Topic2\", \"Topic2\", \"Topic2\", \"Topic2\", \"Topic2\", \"Topic2\", \"Topic2\", \"Topic2\", \"Topic2\", \"Topic2\", \"Topic2\", \"Topic2\", \"Topic2\", \"Topic2\", \"Topic2\", \"Topic2\", \"Topic2\", \"Topic2\", \"Topic2\", \"Topic2\", \"Topic2\", \"Topic2\", \"Topic2\", \"Topic2\", \"Topic2\", \"Topic2\", \"Topic2\", \"Topic2\", \"Topic2\", \"Topic2\", \"Topic2\", \"Topic2\", \"Topic2\", \"Topic2\", \"Topic2\", \"Topic2\", \"Topic2\", \"Topic2\", \"Topic2\", \"Topic2\", \"Topic2\", \"Topic2\", \"Topic2\", \"Topic2\", \"Topic2\", \"Topic2\", \"Topic2\", \"Topic2\", \"Topic2\", \"Topic2\", \"Topic2\", \"Topic2\", \"Topic2\", \"Topic2\", \"Topic2\", \"Topic2\", \"Topic2\", \"Topic2\", \"Topic3\", \"Topic3\", \"Topic3\", \"Topic3\", \"Topic3\", \"Topic3\", \"Topic3\", \"Topic3\", \"Topic3\", \"Topic3\", \"Topic3\", \"Topic3\", \"Topic3\", \"Topic3\", \"Topic3\", \"Topic3\", \"Topic3\", \"Topic3\", \"Topic3\", \"Topic3\", \"Topic3\", \"Topic3\", \"Topic3\", \"Topic3\", \"Topic3\", \"Topic3\", \"Topic3\", \"Topic3\", \"Topic3\", \"Topic3\", \"Topic3\", \"Topic3\", \"Topic3\", \"Topic3\", \"Topic3\", \"Topic3\", \"Topic3\", \"Topic3\", \"Topic3\", \"Topic3\", \"Topic3\", \"Topic3\", \"Topic3\", \"Topic3\", \"Topic3\", \"Topic3\", \"Topic3\", \"Topic3\", \"Topic3\", \"Topic3\", \"Topic3\", \"Topic3\", \"Topic3\", \"Topic3\", \"Topic3\", \"Topic3\", \"Topic3\", \"Topic3\", \"Topic3\", \"Topic3\", \"Topic3\", \"Topic3\", \"Topic3\", \"Topic3\", \"Topic3\", \"Topic3\", \"Topic3\", \"Topic3\", \"Topic3\", \"Topic3\", \"Topic3\", \"Topic3\", \"Topic3\", \"Topic4\", \"Topic4\", \"Topic4\", \"Topic4\", \"Topic4\", \"Topic4\", \"Topic4\", \"Topic4\", \"Topic4\", \"Topic4\", \"Topic4\", \"Topic4\", \"Topic4\", \"Topic4\", \"Topic4\", \"Topic4\", \"Topic4\", \"Topic4\", \"Topic4\", \"Topic4\", \"Topic4\", \"Topic4\", \"Topic4\", \"Topic4\", \"Topic4\", \"Topic4\", \"Topic4\", \"Topic4\", \"Topic4\", \"Topic4\", \"Topic4\", \"Topic4\", \"Topic4\", \"Topic4\", \"Topic4\", \"Topic4\", \"Topic4\", \"Topic4\", \"Topic4\", \"Topic4\", \"Topic4\", \"Topic4\", \"Topic4\", \"Topic4\", \"Topic4\", \"Topic4\", \"Topic4\", \"Topic4\", \"Topic4\", \"Topic4\", \"Topic4\", \"Topic4\", \"Topic4\", \"Topic4\", \"Topic4\", \"Topic4\", \"Topic4\", \"Topic4\", \"Topic4\", \"Topic4\", \"Topic4\", \"Topic4\", \"Topic4\", \"Topic4\", \"Topic4\", \"Topic5\", \"Topic5\", \"Topic5\", \"Topic5\", \"Topic5\", \"Topic5\", \"Topic5\", \"Topic5\", \"Topic5\", \"Topic5\", \"Topic5\", \"Topic5\", \"Topic5\", \"Topic5\", \"Topic5\", \"Topic5\", \"Topic5\", \"Topic5\", \"Topic5\", \"Topic5\", \"Topic5\", \"Topic5\", \"Topic5\", \"Topic5\", \"Topic5\", \"Topic5\", \"Topic5\", \"Topic5\", \"Topic5\", \"Topic5\", \"Topic5\", \"Topic5\", \"Topic5\", \"Topic5\", \"Topic5\", \"Topic5\", \"Topic5\", \"Topic5\", \"Topic5\", \"Topic5\", \"Topic5\", \"Topic5\", \"Topic5\", \"Topic5\", \"Topic5\", \"Topic5\", \"Topic5\", \"Topic5\", \"Topic5\", \"Topic5\", \"Topic5\", \"Topic5\", \"Topic5\", \"Topic5\", \"Topic5\", \"Topic5\", \"Topic5\", \"Topic5\", \"Topic5\", \"Topic5\", \"Topic5\", \"Topic5\", \"Topic5\", \"Topic5\", \"Topic5\", \"Topic5\", \"Topic5\", \"Topic5\", \"Topic5\", \"Topic5\", \"Topic5\", \"Topic5\", \"Topic5\"], \"logprob\": [30.0, 29.0, 28.0, 27.0, 26.0, 25.0, 24.0, 23.0, 22.0, 21.0, 20.0, 19.0, 18.0, 17.0, 16.0, 15.0, 14.0, 13.0, 12.0, 11.0, 10.0, 9.0, 8.0, 7.0, 6.0, 5.0, 4.0, 3.0, 2.0, 1.0, -6.3277, -6.6437, -6.7284, -6.7882, -7.1019, -7.2058, -7.2873, -7.3186, -7.3588, -7.3721, -7.4121, -7.4836, -7.5828, -7.6144, -7.6408, -7.6842, -7.7197, -7.744, -7.8027, -7.7962, -7.9519, -7.9547, -7.9705, -7.9938, -8.0583, -8.0972, -8.1275, -8.156, -8.1852, -8.2195, -5.9884, -8.1306, -4.9163, -6.4127, -5.1911, -4.5066, -7.0437, -6.2694, -6.5681, -6.7378, -5.065, -7.4544, -6.0045, -6.4901, -6.0292, -4.5693, -4.3875, -5.715, -4.4185, -5.977, -4.1516, -5.0701, -4.2738, -6.0787, -4.6064, -6.5745, -3.9332, -5.87, -5.4961, -5.1744, -4.415, -5.5424, -4.7397, -5.609, -5.7399, -5.7949, -5.4097, -4.3549, -5.2418, -5.0666, -5.4618, -5.0739, -5.5554, -5.3636, -5.3922, -5.3543, -5.4117, -5.4038, -5.5663, -4.5869, -5.6971, -5.7227, -6.2336, -6.3271, -6.5017, -6.5613, -6.5718, -6.816, -6.7679, -6.9081, -6.9213, -6.8678, -6.9678, -6.9769, -7.0708, -7.0789, -7.1831, -7.2582, -6.4489, -7.2722, -7.288, -7.2989, -7.2995, -7.3175, -7.2485, -7.3937, -7.4204, -7.4205, -7.447, -5.2661, -6.3228, -6.3122, -5.4718, -4.7898, -6.0581, -6.0357, -5.6319, -7.0899, -6.0294, -6.2749, -6.284, -6.1789, -5.5368, -6.003, -5.2687, -5.3721, -4.5925, -4.4075, -3.665, -5.08, -5.545, -5.0859, -4.7348, -4.9297, -4.8641, -5.338, -5.9017, -5.5004, -4.5077, -5.0816, -5.0477, -5.0013, -5.4775, -5.7358, -5.1737, -5.7692, -5.5796, -5.2987, -5.5988, -5.6034, -5.602, -5.862, -6.0755, -6.2722, -6.3024, -6.4199, -6.4621, -6.5002, -6.5902, -6.5952, -6.6556, -6.6743, -6.7734, -6.7841, -6.8072, -6.846, -6.9152, -7.0299, -7.058, -7.1024, -7.0992, -7.3369, -7.3325, -7.3216, -7.3526, -7.3802, -7.396, -7.5324, -7.5569, -7.5986, -7.5873, -3.8027, -4.8976, -4.0703, -6.3863, -5.8858, -7.0258, -5.4096, -7.22, -5.1281, -5.5808, -6.2014, -5.7927, -5.9429, -5.9912, -4.3158, -6.3137, -4.2042, -5.444, -6.0725, -5.4115, -5.6765, -5.3055, -5.9251, -5.6907, -5.3621, -4.4144, -5.0185, -4.8264, -5.488, -5.2122, -5.6632, -5.254, -5.4251, -5.8654, -5.2202, -4.7144, -5.3808, -5.1928, -5.4932, -5.4893, -5.6002, -5.3665, -5.4872, -4.3931, -4.9062, -5.2444, -5.2586, -5.6736, -5.7724, -5.8238, -5.912, -6.0351, -6.0284, -6.1912, -6.2379, -6.2668, -6.3957, -6.4727, -6.5162, -6.5388, -6.5434, -6.7672, -6.785, -6.9789, -7.1312, -7.1368, -7.1796, -7.2141, -7.2788, -7.296, -7.323, -7.2901, -7.3477, -3.6679, -5.6186, -5.4971, -5.9685, -6.1075, -6.5575, -6.6785, -6.2406, -5.3274, -5.2863, -5.0883, -5.3409, -4.1439, -4.9322, -5.4613, -4.5701, -6.1435, -4.5247, -4.2259, -5.2114, -5.2822, -4.4823, -4.8502, -4.9319, -5.1723, -5.4542, -4.5344, -5.3061, -5.0529, -5.2699, -5.3586, -5.0836, -5.3465, -5.3521, -5.4045, -5.1432, -5.2725, -5.533, -5.6572, -5.8787, -5.9314, -5.909, -6.0179, -6.1969, -6.5582, -6.6001, -6.6976, -6.8218, -6.8211, -6.9288, -6.9291, -6.9714, -7.0129, -7.0039, -7.1311, -7.1753, -7.1848, -7.2591, -7.1499, -7.2852, -7.3069, -7.2914, -7.3289, -7.3436, -7.3419, -6.0523, -6.167, -3.6438, -2.9436, -5.7482, -6.6603, -4.5793, -6.7742, -6.1497, -6.5997, -4.9676, -5.1877, -5.6346, -5.7825, -5.1842, -6.2776, -5.7058, -6.0682, -4.9756, -6.1807, -5.9237, -6.3381, -5.1783, -5.1468, -5.9492, -4.898, -5.5773, -5.1026, -4.9888, -5.0915, -4.9945, -5.6008, -5.1791, -5.5606, -5.292, -5.4387, -5.3317, -5.1809, -5.4931, -5.5023, -5.5396, -5.5755, -5.598], \"loglift\": [30.0, 29.0, 28.0, 27.0, 26.0, 25.0, 24.0, 23.0, 22.0, 21.0, 20.0, 19.0, 18.0, 17.0, 16.0, 15.0, 14.0, 13.0, 12.0, 11.0, 10.0, 9.0, 8.0, 7.0, 6.0, 5.0, 4.0, 3.0, 2.0, 1.0, 1.2556, 1.2554, 1.2553, 1.2553, 1.255, 1.2548, 1.2547, 1.2547, 1.2546, 1.2546, 1.2546, 1.2545, 1.2543, 1.2542, 1.2542, 1.2541, 1.254, 1.254, 1.2539, 1.2537, 1.2535, 1.2534, 1.2534, 1.2534, 1.2532, 1.2531, 1.2529, 1.2529, 1.2528, 1.2527, 1.2482, 1.2524, 1.2039, 1.2301, 1.2027, 1.1833, 1.2323, 1.2008, 1.206, 1.2082, 1.1381, 1.2339, 1.1297, 1.1644, 1.1251, 0.9927, 0.9619, 1.0816, 0.9439, 1.0824, 0.8522, 0.9636, 0.8082, 1.0453, 0.783, 1.1229, 0.6053, 0.978, 0.8314, 0.7243, 0.4748, 0.811, 0.4469, 0.8011, 0.8106, 0.8277, 0.6097, -0.0366, 0.4978, 0.3343, 0.6046, 0.207, 0.6331, 0.2546, 0.1265, 0.01, 0.0589, -0.3818, 0.1566, 1.5068, 1.5066, 1.5065, 1.5063, 1.5063, 1.5061, 1.5061, 1.5061, 1.5058, 1.5058, 1.5057, 1.5057, 1.5057, 1.5057, 1.5057, 1.5055, 1.5055, 1.5054, 1.5052, 1.5052, 1.5052, 1.5052, 1.5052, 1.5052, 1.5051, 1.5051, 1.5049, 1.5049, 1.5049, 1.5049, 1.4732, 1.4912, 1.4602, 1.3966, 1.3488, 1.4276, 1.3813, 1.3249, 1.4852, 1.3664, 1.3865, 1.3699, 1.3507, 1.246, 1.315, 1.174, 1.1788, 0.9262, 0.8734, 0.6533, 0.9978, 1.1357, 0.9684, 0.6661, 0.7174, 0.6065, 0.8025, 1.1543, 0.8326, 0.0308, 0.2828, 0.2094, 0.0207, 0.4858, 0.8929, -0.1699, 0.8302, 0.3287, -0.409, 0.1816, 0.0148, -0.2125, 1.5713, 1.5712, 1.5711, 1.5711, 1.571, 1.571, 1.5709, 1.5709, 1.5709, 1.5708, 1.5708, 1.5707, 1.5707, 1.5706, 1.5706, 1.5705, 1.5704, 1.5704, 1.5703, 1.5703, 1.5699, 1.5699, 1.5699, 1.5698, 1.5698, 1.5697, 1.5695, 1.5694, 1.5693, 1.5691, 1.5522, 1.5614, 1.5393, 1.5581, 1.5508, 1.5642, 1.4832, 1.5626, 1.4117, 1.4408, 1.4872, 1.4563, 1.4475, 1.4382, 1.1514, 1.4274, 0.9825, 1.2042, 1.3405, 1.125, 1.2112, 1.0413, 1.2586, 1.1542, 0.9933, 0.4753, 0.7437, 0.6163, 0.8739, 0.6548, 0.9474, 0.498, 0.6527, 1.1154, 0.3332, -0.3961, 0.3588, -0.1709, 0.3446, 0.1289, 0.5314, -0.828, -0.4051, 1.8286, 1.8286, 1.8285, 1.8285, 1.8283, 1.8283, 1.8283, 1.8282, 1.8281, 1.8281, 1.828, 1.828, 1.828, 1.8279, 1.8277, 1.8277, 1.8277, 1.8277, 1.8274, 1.8274, 1.8271, 1.8268, 1.8268, 1.8268, 1.8267, 1.8266, 1.8265, 1.8265, 1.8264, 1.8264, 1.7938, 1.8079, 1.7968, 1.7931, 1.7889, 1.7981, 1.8035, 1.7761, 1.6968, 1.6664, 1.5923, 1.6164, 1.4322, 1.5402, 1.6255, 1.3382, 1.7259, 1.2557, 1.0312, 1.3419, 1.1358, 0.5397, 0.7683, 0.7153, 0.9181, 1.0931, -0.2161, 0.7944, 0.3115, 0.6727, 0.6138, -0.545, 0.4056, 0.4102, 0.0626, 2.0763, 2.0763, 2.0761, 2.0761, 2.0759, 2.0759, 2.0759, 2.0757, 2.0757, 2.0753, 2.0752, 2.0751, 2.0748, 2.0748, 2.0746, 2.0746, 2.0746, 2.0745, 2.0744, 2.0742, 2.0741, 2.074, 2.0739, 2.0738, 2.0738, 2.0737, 2.0737, 2.0736, 2.0736, 2.0736, 2.0696, 2.0628, 2.0187, 1.998, 2.0486, 2.0666, 2.002, 2.0639, 2.0206, 2.0417, 1.9175, 1.8908, 1.9006, 1.8977, 1.8005, 1.9649, 1.8075, 1.851, 1.4653, 1.8257, 1.6502, 1.8804, 1.1367, 1.0477, 1.6084, 0.6553, 1.233, 0.6596, 0.2683, 0.3094, 0.0274, 1.0219, 0.1833, 0.9326, 0.1507, 0.496, 0.0326, -0.6424, 0.2299, 0.1161, 0.2408, 0.3671, -0.1308]}, \"token.table\": {\"Topic\": [1, 3, 1, 3, 5, 1, 3, 5, 1, 2, 3, 5, 5, 2, 4, 2, 4, 2, 3, 1, 4, 2, 4, 2, 1, 1, 3, 5, 1, 2, 3, 3, 4, 1, 2, 2, 4, 2, 4, 5, 2, 1, 2, 3, 4, 5, 1, 2, 1, 2, 4, 4, 1, 2, 3, 4, 5, 2, 3, 4, 5, 1, 2, 3, 4, 5, 2, 4, 1, 2, 3, 4, 5, 5, 2, 3, 4, 5, 5, 1, 2, 3, 4, 5, 1, 2, 3, 4, 5, 2, 3, 4, 5, 3, 2, 4, 4, 1, 3, 1, 1, 1, 2, 3, 4, 5, 1, 3, 5, 1, 2, 3, 4, 5, 1, 5, 4, 5, 1, 2, 3, 4, 5, 1, 2, 3, 4, 5, 5, 1, 2, 3, 5, 1, 2, 3, 4, 5, 1, 2, 3, 4, 5, 1, 1, 2, 3, 4, 5, 1, 2, 3, 4, 5, 5, 1, 2, 4, 5, 1, 2, 3, 4, 2, 3, 1, 2, 3, 2, 1, 2, 3, 4, 5, 1, 2, 4, 5, 5, 1, 2, 4, 5, 4, 4, 4, 2, 1, 3, 5, 5, 3, 3, 1, 3, 4, 5, 4, 5, 5, 2, 3, 4, 5, 1, 1, 3, 4, 5, 1, 1, 2, 3, 4, 5, 3, 4, 5, 1, 2, 3, 4, 5, 1, 2, 3, 4, 5, 1, 2, 3, 4, 3, 1, 2, 3, 4, 5, 1, 3, 2, 4, 5, 1, 2, 3, 4, 1, 2, 3, 4, 1, 2, 4, 5, 3, 1, 2, 3, 3, 3, 3, 1, 3, 3, 3, 5, 1, 2, 4, 5, 2, 3, 1, 5, 1, 2, 3, 4, 5, 4, 2, 4, 1, 5, 1, 2, 3, 4, 5, 1, 2, 3, 4, 5, 1, 2, 3, 4, 5, 1, 2, 1, 5, 1, 2, 3, 4, 5, 1, 3, 5, 2, 1, 2, 3, 4, 5, 1, 2, 4, 5, 1, 2, 1, 1, 2, 3, 5, 1, 2, 1, 3, 5, 5, 1, 2, 3, 4, 5, 2, 1, 3, 5, 1, 2, 3, 4, 5, 1, 2, 3, 5, 2, 1, 2, 3, 5, 1, 3, 1, 2, 3, 5, 1, 2, 3, 4, 5, 1, 4, 1, 3, 5, 1, 2, 3, 4, 5, 1, 3, 1, 2, 3, 4, 5, 5, 1, 1, 1, 2, 4, 5, 1, 2, 3, 4, 5, 1, 2, 3, 2, 3, 4, 5, 1, 1, 2, 3, 4, 5, 1, 4, 5, 2, 4, 3, 4, 4, 5, 1, 2, 3, 4, 5, 1, 5, 4, 5, 1, 3, 1, 2, 3, 4, 5, 1, 2, 3, 4, 5, 1, 3, 4, 1, 5, 5, 4, 1, 5, 4, 1, 3, 1, 2, 2, 1, 5, 1, 2, 1, 2, 3, 4, 5, 2, 5, 4, 4, 5, 3, 4, 1, 2, 3, 3, 5, 3, 5, 1, 4, 5, 1, 2, 5, 1, 2, 5, 1, 3, 3, 1, 5, 1, 1, 5, 5, 4, 1, 5, 5, 1, 2, 3, 4, 5, 2, 1, 2, 3, 5, 5, 1, 2, 3, 4, 5, 1, 2, 3, 1, 2, 2, 1, 2, 3, 1, 3, 5, 1, 2, 3, 4, 5, 3, 5, 3, 4, 1, 2, 3, 5, 1, 2, 5, 1, 2, 4, 5, 1, 1, 3, 1, 2, 3, 5, 3, 3, 5, 1, 2, 3, 4, 5, 4, 1, 2, 4, 1, 2, 3, 4, 5, 2, 3, 2, 4, 1, 2, 4, 5, 3, 2, 1, 2, 3, 4, 5, 1, 2, 3, 4, 5, 1, 2, 4, 5, 4, 1, 2, 3, 4, 5, 1, 3, 1, 2, 3, 1, 2, 4, 5, 1, 2, 3, 4, 5, 2, 4, 4, 2, 2, 4, 5, 2, 3, 5, 1, 3, 4, 5, 1, 2, 3, 4, 5, 1, 2, 3, 4, 5, 1, 2, 2, 1, 2, 3, 4, 5, 3, 3, 1, 2, 3, 4, 5, 2, 3, 5, 1, 1, 3, 4, 5, 2, 3, 3, 5, 4, 5, 5, 1, 1, 2, 3, 2, 1, 2, 3, 4, 5, 4, 3, 5, 1, 3, 4, 5, 1, 2, 3, 4, 5, 3, 4, 4, 1, 1, 2, 3, 4, 5, 3, 2, 4, 2, 1, 2, 3, 4, 5, 2, 3, 4, 4, 1, 5, 2, 1, 2, 3, 2, 5, 4, 1, 2, 3, 4, 5], \"Freq\": [0.8814572527125641, 0.118587175468958, 0.8099165782043435, 0.03549435203285967, 0.15448110032483245, 0.6405447890368677, 0.2870859008351895, 0.07228291089912135, 0.8772757277970197, 0.015383508022980915, 0.10685301518665122, 0.9986348444892759, 0.9977845207802595, 0.1233845849078531, 0.876468604626495, 0.14986626442641565, 0.8502616634804807, 0.9983315097400682, 0.9993561996027202, 0.9991845670707278, 0.9987751888161877, 0.8863973167637371, 0.11321585665829664, 0.9987645306083854, 0.9984542705945804, 0.003161650203353957, 0.02371237652515468, 0.9722074375313419, 0.0038655684429016383, 0.72036004865367, 0.2755922913409874, 0.9186759743961772, 0.08087186183873683, 0.9491450154742556, 0.05070187514525302, 0.034354542683810316, 0.9655998411351585, 0.9669624543800275, 0.025533080141210265, 0.007687378967246102, 0.9986453672990192, 0.08504296866339067, 0.5095262595617343, 0.01902036288385512, 0.13076499482650394, 0.2556775703041294, 0.13074287373098076, 0.8686196590791069, 0.09197511031721338, 0.8556105657140771, 0.05264364866840503, 0.9997620710032786, 0.06272963233431804, 0.01581158772182975, 0.4369372084176222, 0.24203097022565542, 0.2424443450680562, 0.05447819331598047, 0.19967739474811252, 0.6145322559827755, 0.1312947253138274, 0.12833409753383426, 0.05079227929688974, 0.22593806997581986, 0.23756138153905795, 0.35729741298501744, 0.9991884088562517, 0.9987745771994617, 0.02138683905291104, 0.04085040121257469, 0.6567605935061208, 0.17101778134755843, 0.11001143829375104, 0.9989705936612552, 0.9983902553761924, 0.05452806531572971, 0.0017770724545435068, 0.9437190034917886, 0.9998046910767328, 0.768443311204419, 0.10158507614270855, 0.07037367473000293, 0.02757430043507326, 0.03214182259303018, 0.21193900978485858, 0.1644910982779402, 0.38461337128155526, 0.09316907939886983, 0.14572214594134272, 0.1300730802391555, 0.02253234460835765, 0.8087746117757465, 0.038578105162794155, 0.9981040883914045, 0.031073687063762484, 0.9685429229412738, 0.9993488022072885, 0.0069890227878652384, 0.992441235876864, 0.9973385015255728, 0.9978184738014432, 0.3330413388326913, 0.20258690032215323, 0.12181046581410489, 0.1848021748892619, 0.15777734071190747, 0.8752914334432236, 0.06011813606641928, 0.06369659654656329, 0.639035715598887, 0.09411748170435771, 0.13850659432131843, 0.058156019006419035, 0.0701955188907362, 0.20189878312504167, 0.7977682005781515, 0.9755151412745386, 0.023525284757424565, 0.7451336160566124, 0.056350045854501526, 0.08910692930632948, 0.04465604362013288, 0.06469313516791074, 0.19439810472665697, 0.22623917360429904, 0.17502729966641958, 0.27552875391024656, 0.12884296291974678, 0.9988786887346794, 0.9512012913080684, 0.014681417168849147, 0.033226365171605966, 0.0007727061667815341, 0.37493046438770383, 0.09181033716258435, 0.3997192554216016, 0.07161206298681579, 0.06185721466329121, 0.2931065117926499, 0.17385785490362501, 0.2931065117926499, 0.1526828597551066, 0.08715182213758639, 0.9977593253122642, 0.4684474692228015, 0.12799718427976914, 0.2973131123404582, 0.08708253579255011, 0.019093502627368877, 0.07292139337613002, 0.028340628866705554, 0.6973705305402828, 0.10444636256493732, 0.0971223798241033, 0.9981758325439346, 0.041648924163123616, 0.01614958283876222, 0.9018267048382481, 0.04079894611897824, 0.1659479052505237, 0.03287891414479954, 0.011908898036699048, 0.7893528285629434, 0.020401332167958353, 0.9792639440620009, 0.9125454316475998, 0.06033358225769255, 0.02673874668238647, 0.9976957746777032, 0.3502716443978824, 0.5307397696610393, 0.004087034683949767, 0.08359263127016009, 0.03135521921592712, 0.32317903305390644, 0.5594480153642435, 0.06625575163862042, 0.05110926562832455, 0.996927657563307, 0.12679772418010274, 0.08115740668090472, 0.6726799426902473, 0.11933398804771508, 0.9991182861462905, 0.9988233748374268, 0.9963629766886728, 0.9991440705720143, 0.007302552467757129, 0.15396214786187948, 0.8385764417141104, 0.9989631245784987, 0.9997011540331567, 0.9988759222582011, 0.17978789770271872, 0.03214750488724109, 0.02381296658314155, 0.7638009031542653, 0.03311008586879986, 0.9657108378399959, 0.9992061749527529, 0.9977050361737354, 0.9982247411889857, 0.9981994966010438, 0.9978716963266244, 0.9963179015274919, 0.7318652881471188, 0.07427431495727647, 0.04323430273632511, 0.15055791641992702, 0.9985329968100458, 0.3051555919390466, 0.012933283965343328, 0.633730914301823, 0.042994430479384574, 0.005243223229193241, 0.8520591600271361, 0.014617008551534402, 0.13312721634628255, 0.6230493833267629, 0.17916317809133578, 0.11737786280199154, 0.060859959184780335, 0.01950365943465475, 0.22364127780862758, 0.04454519312422869, 0.6587196709260941, 0.007017393437378491, 0.06590247749885887, 0.9979030986750315, 0.012826156670224954, 0.9866979095594482, 0.9975007285157628, 0.9970038120193139, 0.3673092031540594, 0.22485944641319155, 0.23622321469591154, 0.06236650781933725, 0.10916375830644397, 0.10877912128204115, 0.8908004511710008, 0.9983680966071434, 0.9994382909822294, 0.9987723846463517, 0.6345102958703254, 0.06815256913924728, 0.12346479916530304, 0.17383843722474668, 0.05405446665966928, 0.3078234450928954, 0.02583133804975346, 0.6122983834015635, 0.019689640345962447, 0.9236757750532383, 0.022006068621958027, 0.03474642413993373, 0.9988386219913693, 0.16618618868690782, 0.8336609013595808, 0.9977508898487986, 0.9984547591857366, 0.9977423339541874, 0.999192316494472, 0.9962608544936354, 0.9981549399397492, 0.9995183426945929, 0.9974908680460801, 0.9975357822795903, 0.32929865962180466, 0.06609864268103939, 0.5001198506469005, 0.1043243637495923, 0.6010166921889595, 0.3989776061301532, 0.9979461345325609, 0.996522913204338, 0.25066577521940697, 0.10139007100711377, 0.28982968188634006, 0.11673695520422031, 0.24135700939493251, 0.9972090227518036, 0.029025275600248028, 0.9702734986368627, 0.34661677204543323, 0.6527527531950494, 0.21001120280212623, 0.2486471435726449, 0.18629409064596625, 0.29671892466335625, 0.05814517818929542, 0.0404461379254977, 0.01804519999752974, 0.11698267584605487, 0.19911944824860406, 0.6259817654315489, 0.2724865367495123, 0.16088300839997802, 0.12044484682917272, 0.3553920149520235, 0.09073221915169931, 0.015278675932932296, 0.98426838641627, 0.008014157985266624, 0.9897485111804282, 0.6677611008065677, 0.18699247063543104, 0.06404116972577667, 0.06772002754827026, 0.01350528069046991, 0.7464665811193117, 0.2300678874245318, 0.02345418062725044, 0.9994525704247741, 0.2840308487592558, 0.5081526697550047, 0.1162378347443341, 0.03985979138050061, 0.05179386065609959, 0.10800344361313868, 0.03653057651620867, 0.0025412574967797336, 0.8529095473566981, 0.14605793478562687, 0.8537613301386643, 0.9976630747895107, 0.5473347291401881, 0.07791470850113266, 0.056021319335525135, 0.31852734825256435, 0.9297811552822571, 0.07007965903647285, 0.9990014474536035, 0.01119608848843132, 0.9874950046796424, 0.9983625414043993, 0.5216561427696417, 0.22853044002926204, 0.09073734550244043, 0.09313876938675963, 0.06593276462137129, 0.9969942241687003, 0.43654153326143685, 0.02077799178379214, 0.5426722560002183, 0.00031570896769695387, 0.2657217144782695, 0.01062886857913078, 0.5638562163067595, 0.1594330286869617, 0.17697674591296914, 0.5412538812504973, 0.18213856766876407, 0.09954941957604514, 0.9987054720872136, 0.6407867843833811, 0.33037943733136743, 0.019785435230014095, 0.009146097417648026, 0.01932313547332408, 0.9806663166728636, 0.052234284213514344, 0.0479263020103379, 0.7937457209352592, 0.10608406175321985, 0.5238884603728665, 0.19966565300945474, 0.21196099442636895, 0.012562631447716698, 0.05198791099108293, 0.9975745418817521, 0.9997797265588729, 0.8405089878045323, 0.13082146188950436, 0.028357253299748055, 0.10326979773930772, 0.27320349269076516, 0.009167065379032752, 0.45043342335206504, 0.1639470400100483, 0.9983825897124006, 0.9991258257434922, 0.03713563607619735, 0.011286320768256057, 0.8774204210160353, 0.018931892901590804, 0.055703454114296024, 0.9971858951581793, 0.9988228965899943, 0.9958198336529394, 0.13172141459570227, 0.8255847769827288, 0.0166488033317988, 0.02644221705638633, 0.5212491788035397, 0.12873635993562293, 0.11640904799401813, 0.10702348094756901, 0.1266351135819403, 0.2493655434151931, 0.7168749214546427, 0.03367047026473557, 0.0260010665751717, 0.6397158965994831, 0.10064205941596632, 0.23356130492524926, 0.99959096760874, 0.2007330801532436, 0.10775592794502212, 0.1856673378972818, 0.4023270598639707, 0.10359491341718505, 0.999421266463734, 0.9994294887213073, 0.9954078259159059, 0.9974725018769427, 0.9966379152827117, 0.038419994307514777, 0.9604998576878694, 0.9986717376267504, 0.9990155782355603, 0.07014611751707706, 0.016958402037095553, 0.05550022484867635, 0.02697927596810656, 0.8305762815895663, 0.10491780048110956, 0.8948871217506403, 0.07559608607387126, 0.9243463665422453, 0.9773250779968373, 0.021204291633067477, 0.3020707512345747, 0.40636351507763896, 0.054886865353381706, 0.1316204014451699, 0.10506473100696553, 0.287671052386979, 0.29398815319953087, 0.06955752762831877, 0.21929364249287323, 0.12953527600243794, 0.9954694376363352, 0.9991743974469902, 0.9969051939382604, 0.24106728610435504, 0.7586426092541713, 0.9996250339542061, 0.9992686784172337, 0.07173064561329498, 0.9280445293563229, 0.9989430958559729, 0.9992180805925375, 0.9972269714516709, 0.30992067146877245, 0.6897482613139597, 0.9997499721027278, 0.6515878809960003, 0.34839307022883254, 0.9975372537055173, 0.999901473695621, 0.16120419404418507, 0.09687212588734091, 0.5606614544599383, 0.10360455162468507, 0.07760990780549513, 0.9982371475620134, 0.0009251502757757307, 0.9992359622815908, 0.9792303472145045, 0.020195943615906726, 0.9990998739256989, 0.9999120127165912, 0.0012446517164138087, 0.008920003967632296, 0.9897055565017137, 0.9989547067859312, 0.9989084607456051, 0.9987373273829895, 0.9994337708485529, 0.9534080964554168, 0.008258587938497354, 0.03854007704632099, 0.3978052163315762, 0.4313576562972802, 0.17078623948208121, 0.02954536627156194, 0.13365760932373258, 0.8364152499258845, 0.9987131838290587, 0.9993645319219138, 0.9990259703377432, 0.9922685504886493, 0.007674506532441783, 0.9981113920192944, 0.9962310680428406, 0.9962364163534909, 0.9989221400722088, 0.9993756390442234, 0.053972658625845174, 0.9450957031717144, 0.9992116290813637, 0.10476244876184215, 0.059140092042975406, 0.5356402622178058, 0.1742822304286867, 0.12624599240194342, 0.9979094119357494, 0.4578219945815193, 0.1472233920883312, 0.33404896972814374, 0.06089321878690144, 0.9966553725373706, 0.14580681325511932, 0.45409197052920924, 0.03500100381361045, 0.32845678841930226, 0.036658946099518315, 0.29033997720044263, 0.5835861219515093, 0.1259339271937096, 0.9973345258324144, 0.9991022556609084, 0.9988692589771613, 0.028256657716842208, 0.24018159059315877, 0.7312480512176741, 0.9479478858492334, 0.05188644639642175, 0.9988537226204396, 0.5875307837451769, 0.18253728583695916, 0.1073191310631311, 0.07806104566291765, 0.044538623929069855, 0.22128218308123823, 0.7778994806115777, 0.03433907657802259, 0.9653095971377461, 0.8399136615160135, 0.0375039329648895, 0.07151912797955672, 0.050877428440741564, 0.9992164445952564, 0.9990130969094126, 0.9987947933462797, 0.8887174128686494, 0.08896809662617126, 0.016701592146429262, 0.005620728126202156, 0.9978972800381828, 0.4452287539680708, 0.554719808983845, 0.02067080329784367, 0.003371203971322144, 0.9680678351333483, 0.007806998670430229, 0.996539986611513, 0.9993789180428311, 0.998542442895974, 0.051176906806031194, 0.11143956880588676, 0.5883490046939746, 0.03467420859683998, 0.21434965314410168, 0.9969134210795711, 0.3631022377693689, 0.49434401045709264, 0.14240486599679444, 0.274539048304152, 0.4258928134081377, 0.13974493619816922, 0.1294042986854251, 0.03043659343373738, 0.11635586305250309, 0.8829356666925234, 0.9993745606372693, 0.9976988076541534, 0.04793216283611112, 0.19572299824745373, 0.7494656162751585, 0.006937549884173978, 0.9985275043058304, 0.9995742025837885, 0.2226560205400599, 0.11708315476981472, 0.16460950934868243, 0.3147383325366161, 0.1809466937351682, 0.6539553608688649, 0.15857871932081483, 0.11220535529924627, 0.03418898994531329, 0.04109953046617448, 0.9975061461446052, 0.9980832938798018, 0.006564848831818851, 0.9934804565485861, 0.9991739267713327, 0.06487460208655758, 0.8817539666931284, 0.04162786967220778, 0.002162486736218586, 0.009731190312983636, 0.08450171153872969, 0.9151151260955613, 0.9459391300213664, 0.004561490681236245, 0.049036024823289635, 0.10336476756806909, 0.01554357407038633, 0.8160376386952823, 0.06528301109562258, 0.19640553554159723, 0.13809764217768555, 0.34176609075233144, 0.24090366468774035, 0.08285858530661133, 0.9542118931518718, 0.04551212748258726, 0.9995083962975736, 0.9987630543537733, 0.7027852577267605, 0.23702516198934712, 0.05991574047107502, 0.9777400458402812, 0.012049613240989382, 0.008606866600706701, 0.18302487441174556, 0.10812656957396548, 0.3180932802582938, 0.39065662595245004, 0.5363836057801646, 0.11173998987335387, 0.1471929045073925, 0.10145231375186944, 0.10319330509550527, 0.16476238196675133, 0.052478762314273786, 0.35329719472543863, 0.3021640417012744, 0.12723483398702848, 0.10433092691736268, 0.8955591840481402, 0.9968680598485404, 0.1261179607307223, 0.11312969313308073, 0.49769535548064137, 0.1778827953590038, 0.08508256455266637, 0.999658790243373, 0.9991042090093909, 0.2519440803650242, 0.1417688892711184, 0.11921474779616774, 0.34627767208961935, 0.14078438309562452, 0.15063949935509557, 0.026512551886496823, 0.8218891084814015, 0.9994429311600549, 0.44240636594668764, 0.07958009247542015, 0.0474533144020098, 0.43002724045051116, 0.008473383134221817, 0.9913858267039526, 0.8748110956674724, 0.12481660188497103, 0.013405814977207423, 0.9859367560509823, 0.9977274365672829, 0.9958471080359896, 0.976476931655209, 0.022975927803651975, 0.9992465314796384, 0.9980272280958756, 0.3900496142534397, 0.36023046654893315, 0.00037905696234542244, 0.18131558032189374, 0.06810390090139423, 0.9998090566726974, 0.998782385161687, 0.9958612442981944, 0.18421617488947792, 0.6925024370335068, 0.02807103617363473, 0.09524101558911784, 0.15181054670866392, 0.2587576781213346, 0.10649396560160007, 0.47922284520720027, 0.004078492299635747, 0.8657196539103269, 0.13382022284106088, 0.9975337658721678, 0.9985629463921536, 0.3198826196953142, 0.123286813886409, 0.2366271816325798, 0.1144455284284195, 0.20580547816097755, 0.9994307598806812, 0.9990451765485626, 0.9998602691106413, 0.9988928081104427, 0.05018379332629976, 0.7702495364253781, 0.16316901944379752, 0.0022941162663451323, 0.014051462131363934, 0.032502416787081656, 0.018713512695592467, 0.9484796171502919, 0.9991975657803049, 0.9743918196825121, 0.025071277696977014, 0.9990345299800273, 0.04590960027535817, 0.8722824052318052, 0.08154093183235257, 0.9994237303877125, 0.9972237415021092, 0.9993454738943356, 0.7571569482876632, 0.0918136962353674, 0.0884471940400706, 0.0459068481176837, 0.016526465322366134], \"Term\": [\"\\uac00\\uc2b4\", \"\\uac00\\uc2b4\", \"\\uac00\\uc871\", \"\\uac00\\uc871\", \"\\uac00\\uc871\", \"\\uac10\\ub3d9\", \"\\uac10\\ub3d9\", \"\\uac10\\ub3d9\", \"\\uac10\\uc815\", \"\\uac10\\uc815\", \"\\uac10\\uc815\", \"\\uac15\\uc544\\uc9c0\", \"\\uac15\\uc544\\uc9c0\\ub625\", \"\\uac15\\uc758\", \"\\uac15\\uc758\", \"\\uac1c\\ub150\", \"\\uac1c\\ub150\", \"\\uac74\\ucd95\", \"\\uacb0\\ub9d0\", \"\\uacb0\\ud63c\", \"\\uacbd\\uc601\", \"\\uacbd\\uc81c\", \"\\uacbd\\uc81c\", \"\\uacbd\\uc81c\\ud559\", \"\\uace0\\ub3c5\", \"\\uace0\\uc591\\uc774\", \"\\uace0\\uc591\\uc774\", \"\\uace0\\uc591\\uc774\", \"\\uace0\\uc804\", \"\\uace0\\uc804\", \"\\uace0\\uc804\", \"\\uace1\", \"\\uace1\", \"\\uacf5\\uac10\", \"\\uacf5\\uac10\", \"\\uacf5\\ubd80\", \"\\uacf5\\ubd80\", \"\\uacfc\\ud559\", \"\\uacfc\\ud559\", \"\\uacfc\\ud559\", \"\\uacfc\\ud559\\uc790\", \"\\uad00\\uc2ec\", \"\\uad00\\uc2ec\", \"\\uad00\\uc2ec\", \"\\uad00\\uc2ec\", \"\\uad00\\uc2ec\", \"\\uad00\\uc810\", \"\\uad00\\uc810\", \"\\uad50\\uc218\", \"\\uad50\\uc218\", \"\\uad50\\uc218\", \"\\uad50\\uc7ac\", \"\\uad6c\\ub9e4\", \"\\uad6c\\ub9e4\", \"\\uad6c\\ub9e4\", \"\\uad6c\\ub9e4\", \"\\uad6c\\ub9e4\", \"\\uad6c\\uc131\", \"\\uad6c\\uc131\", \"\\uad6c\\uc131\", \"\\uad6c\\uc131\", \"\\uad6c\\uc785\", \"\\uad6c\\uc785\", \"\\uad6c\\uc785\", \"\\uad6c\\uc785\", \"\\uad6c\\uc785\", \"\\uad6d\\uac00\", \"\\uad6d\\uc5b4\", \"\\uad8c\", \"\\uad8c\", \"\\uad8c\", \"\\uad8c\", \"\\uad8c\", \"\\uadf8\\ub9ac\\uae30\", \"\\uadf8\\ub9ac\\uc2a4\", \"\\uadf8\\ub9bc\", \"\\uadf8\\ub9bc\", \"\\uadf8\\ub9bc\", \"\\uadf8\\ub9bc\\ucc45\", \"\\uae00\", \"\\uae00\", \"\\uae00\", \"\\uae00\", \"\\uae00\", \"\\uae30\\ub300\", \"\\uae30\\ub300\", \"\\uae30\\ub300\", \"\\uae30\\ub300\", \"\\uae30\\ub300\", \"\\uae30\\ubcf8\", \"\\uae30\\ubcf8\", \"\\uae30\\ubcf8\", \"\\uae30\\ubcf8\", \"\\uae30\\uc6a4\", \"\\uae30\\ucd08\", \"\\uae30\\ucd08\", \"\\uae30\\ucd9c\", \"\\uae34\\uc7a5\\uac10\", \"\\uae34\\uc7a5\\uac10\", \"\\uae40\\uc5f0\\uc218\", \"\\uae40\\ud6c8\", \"\\uaf2d\", \"\\uaf2d\", \"\\uaf2d\", \"\\uaf2d\", \"\\uaf2d\", \"\\uafc8\", \"\\uafc8\", \"\\uafc8\", \"\\ub098\", \"\\ub098\", \"\\ub098\", \"\\ub098\", \"\\ub098\", \"\\ub098\\ubb34\", \"\\ub098\\ubb34\", \"\\ub09c\\uc774\\ub3c4\", \"\\ub09c\\uc774\\ub3c4\", \"\\ub0b4\", \"\\ub0b4\", \"\\ub0b4\", \"\\ub0b4\", \"\\ub0b4\", \"\\ub0b4\\uc6a9\", \"\\ub0b4\\uc6a9\", \"\\ub0b4\\uc6a9\", \"\\ub0b4\\uc6a9\", \"\\ub0b4\\uc6a9\", \"\\ub180\\uc774\", \"\\ub204\\uad70\\uac00\", \"\\ub204\\uad70\\uac00\", \"\\ub204\\uad70\\uac00\", \"\\ub204\\uad70\\uac00\", \"\\ub290\\ub08c\", \"\\ub290\\ub08c\", \"\\ub290\\ub08c\", \"\\ub290\\ub08c\", \"\\ub290\\ub08c\", \"\\ub2e4\\ub978\", \"\\ub2e4\\ub978\", \"\\ub2e4\\ub978\", \"\\ub2e4\\ub978\", \"\\ub2e4\\ub978\", \"\\ub2e4\\uc0b0\", \"\\ub2e4\\uc2dc\", \"\\ub2e4\\uc2dc\", \"\\ub2e4\\uc2dc\", \"\\ub2e4\\uc2dc\", \"\\ub2e4\\uc2dc\", \"\\ub2e4\\uc74c\", \"\\ub2e4\\uc74c\", \"\\ub2e4\\uc74c\", \"\\ub2e4\\uc74c\", \"\\ub2e4\\uc74c\", \"\\ub2e4\\uc774\\uc5b4\\ud2b8\", \"\\ub2e8\\uacc4\", \"\\ub2e8\\uacc4\", \"\\ub2e8\\uacc4\", \"\\ub2e8\\uacc4\", \"\\ub2e8\\uc5b4\", \"\\ub2e8\\uc5b4\", \"\\ub2e8\\uc5b4\", \"\\ub2e8\\uc5b4\", \"\\ub2e8\\ud3b8\", \"\\ub2e8\\ud3b8\", \"\\ub2f9\\uc2e0\", \"\\ub2f9\\uc2e0\", \"\\ub2f9\\uc2e0\", \"\\ub300\\ud1b5\\ub839\", \"\\ub300\\ud55c\", \"\\ub300\\ud55c\", \"\\ub300\\ud55c\", \"\\ub300\\ud55c\", \"\\ub300\\ud55c\", \"\\ub300\\ud574\", \"\\ub300\\ud574\", \"\\ub300\\ud574\", \"\\ub300\\ud574\", \"\\ub3c4\\uc548\", \"\\ub3c4\\uc6c0\", \"\\ub3c4\\uc6c0\", \"\\ub3c4\\uc6c0\", \"\\ub3c4\\uc6c0\", \"\\ub3c5\\ud559\", \"\\ub3c5\\ud574\", \"\\ub3c5\\ud574\\ub825\", \"\\ub3d9\\uc591\", \"\\ub3d9\\ud654\", \"\\ub3d9\\ud654\", \"\\ub3d9\\ud654\", \"\\ub3d9\\ud654\\ucc45\", \"\\ub4dc\\ub77c\\ub9c8\", \"\\ub4f1\\uc7a5\\uc778\\ubb3c\", \"\\ub538\", \"\\ub538\", \"\\ub538\", \"\\ub538\", \"\\ub538\\uc544\\uc774\", \"\\ub538\\uc544\\uc774\", \"\\ub808\\uc2dc\\ud53c\", \"\\ub85c\\ub9c8\", \"\\ub85c\\ub9e8\\uc2a4\", \"\\ub9ac\\ub529\", \"\\ub9c1\\ubd81\", \"\\ub9c8\\uc2a4\\ub2e4\", \"\\ub9c8\\uc74c\", \"\\ub9c8\\uc74c\", \"\\ub9c8\\uc74c\", \"\\ub9c8\\uc74c\", \"\\ub9c8\\uc74c\\uc18d\", \"\\ub9c8\\uc9c0\\ub9c9\", \"\\ub9c8\\uc9c0\\ub9c9\", \"\\ub9c8\\uc9c0\\ub9c9\", \"\\ub9c8\\uc9c0\\ub9c9\", \"\\ub9c8\\uc9c0\\ub9c9\", \"\\ub9cc\\ud654\", \"\\ub9cc\\ud654\", \"\\ub9cc\\ud654\", \"\\ub9d0\", \"\\ub9d0\", \"\\ub9d0\", \"\\ub9d0\", \"\\ub9d0\", \"\\ub9e4\\ub825\", \"\\ub9e4\\ub825\", \"\\ub9e4\\ub825\", \"\\ub9e4\\ub825\", \"\\ub9e4\\ub825\", \"\\uba85\\uc0c1\", \"\\uba85\\uc791\", \"\\uba85\\uc791\", \"\\ubaa8\\uc758\\uace0\\uc0ac\", \"\\ubab0\\uc785\\ub3c4\", \"\\ubabb\", \"\\ubabb\", \"\\ubabb\", \"\\ubabb\", \"\\ubabb\", \"\\ubb18\\uc0ac\", \"\\ubb18\\uc0ac\", \"\\ubb38\\uba85\", \"\\ubb38\\ubc95\", \"\\ubb38\\uc5b4\", \"\\ubb38\\uc7a5\", \"\\ubb38\\uc7a5\", \"\\ubb38\\uc7a5\", \"\\ubb38\\uc7a5\", \"\\ubb38\\uc81c\", \"\\ubb38\\uc81c\", \"\\ubb38\\uc81c\", \"\\ubb38\\uc81c\", \"\\ubb38\\ud654\", \"\\ubb38\\ud654\", \"\\ubb38\\ud654\", \"\\ubb38\\ud654\", \"\\ubb88\\uc18c\", \"\\ubbf8\\ub798\", \"\\ubbf8\\ub798\", \"\\ubbf8\\ubbf8\", \"\\ubbf8\\uc2a4\\ud130\\ub9ac\", \"\\ubbf8\\uc720\\ud0a4\", \"\\ubbfc\\uc74c\\uc0ac\", \"\\ubc15\\ubbfc\\uaddc\", \"\\ubc15\\uc2a4\", \"\\ubc18\\uc804\", \"\\ubc1c\\ub808\", \"\\ubc25\\uc0c1\", \"\\ubc29\\ubc95\", \"\\ubc29\\ubc95\", \"\\ubc29\\ubc95\", \"\\ubc29\\ubc95\", \"\\ubc88\\uc5ed\", \"\\ubc88\\uc5ed\", \"\\ubc95\\ub95c\", \"\\ubca0\\uc774\", \"\\ubcf4\\uace0\", \"\\ubcf4\\uace0\", \"\\ubcf4\\uace0\", \"\\ubcf4\\uace0\", \"\\ubcf4\\uace0\", \"\\ubcf5\\uc2b5\", \"\\ubd80\\ub3d9\\uc0b0\", \"\\ubd80\\ub3d9\\uc0b0\", \"\\ubd80\\ubaa8\", \"\\ubd80\\ubaa8\", \"\\ubd80\\ubd84\", \"\\ubd80\\ubd84\", \"\\ubd80\\ubd84\", \"\\ubd80\\ubd84\", \"\\ubd80\\ubd84\", \"\\ubd81\", \"\\ubd81\", \"\\ubd81\", \"\\ubd81\", \"\\ubd81\", \"\\ubd84\", \"\\ubd84\", \"\\ubd84\", \"\\ubd84\", \"\\ubd84\", \"\\ube44\\ud310\", \"\\ube44\\ud310\", \"\\ube75\", \"\\ube75\", \"\\uc0ac\\ub78c\", \"\\uc0ac\\ub78c\", \"\\uc0ac\\ub78c\", \"\\uc0ac\\ub78c\", \"\\uc0ac\\ub78c\", \"\\uc0ac\\ub791\", \"\\uc0ac\\ub791\", \"\\uc0ac\\ub791\", \"\\uc0ac\\uc0c1\", \"\\uc0ac\\uc2e4\", \"\\uc0ac\\uc2e4\", \"\\uc0ac\\uc2e4\", \"\\uc0ac\\uc2e4\", \"\\uc0ac\\uc2e4\", \"\\uc0ac\\uc9c4\", \"\\uc0ac\\uc9c4\", \"\\uc0ac\\uc9c4\", \"\\uc0ac\\uc9c4\", \"\\uc0ac\\ud68c\", \"\\uc0ac\\ud68c\", \"\\uc0b0\\ubb38\", \"\\uc0b4\", \"\\uc0b4\", \"\\uc0b4\", \"\\uc0b4\", \"\\uc0b6\", \"\\uc0b6\", \"\\uc0c1\\ucc98\", \"\\uc0c9\\uac10\", \"\\uc0c9\\uac10\", \"\\uc0c9\\uce60\", \"\\uc0dd\\uac01\", \"\\uc0dd\\uac01\", \"\\uc0dd\\uac01\", \"\\uc0dd\\uac01\", \"\\uc0dd\\uac01\", \"\\uc11c\\uc591\", \"\\uc120\\ubb3c\", \"\\uc120\\ubb3c\", \"\\uc120\\ubb3c\", \"\\uc124\\uba85\", \"\\uc124\\uba85\", \"\\uc124\\uba85\", \"\\uc124\\uba85\", \"\\uc124\\uba85\", \"\\uc138\\uacc4\", \"\\uc138\\uacc4\", \"\\uc138\\uacc4\", \"\\uc138\\uacc4\", \"\\uc138\\uacc4\\uc0ac\", \"\\uc138\\uc0c1\", \"\\uc138\\uc0c1\", \"\\uc138\\uc0c1\", \"\\uc138\\uc0c1\", \"\\uc18c\\uc124\", \"\\uc18c\\uc124\", \"\\uc18c\\uc7ac\", \"\\uc18c\\uc7ac\", \"\\uc18c\\uc7ac\", \"\\uc18c\\uc7ac\", \"\\uc18d\", \"\\uc18d\", \"\\uc18d\", \"\\uc18d\", \"\\uc18d\", \"\\uc218\\uba74\", \"\\uc218\\ud559\", \"\\uc21c\\uac04\", \"\\uc21c\\uac04\", \"\\uc21c\\uac04\", \"\\uc26c\", \"\\uc26c\", \"\\uc26c\", \"\\uc26c\", \"\\uc26c\", \"\\uc2a4\\ub2d8\", \"\\uc2a4\\ub9b4\\ub7ec\", \"\\uc2a4\\ud1a0\\ub9ac\", \"\\uc2a4\\ud1a0\\ub9ac\", \"\\uc2a4\\ud1a0\\ub9ac\", \"\\uc2a4\\ud1a0\\ub9ac\", \"\\uc2a4\\ud1a0\\ub9ac\", \"\\uc2a4\\ud2f0\\ucee4\", \"\\uc2ac\\ud514\", \"\\uc2dc\\uac00\", \"\\uc2dc\\uac01\", \"\\uc2dc\\uac01\", \"\\uc2dc\\uac01\", \"\\uc2dc\\uac01\", \"\\uc2dc\\uac04\", \"\\uc2dc\\uac04\", \"\\uc2dc\\uac04\", \"\\uc2dc\\uac04\", \"\\uc2dc\\uac04\", \"\\uc2dc\\ub300\", \"\\uc2dc\\ub300\", \"\\uc2dc\\ub300\", \"\\uc2dc\\ub9ac\\uc988\", \"\\uc2dc\\ub9ac\\uc988\", \"\\uc2dc\\ub9ac\\uc988\", \"\\uc2dc\\ub9ac\\uc988\", \"\\uc2dc\\uc778\", \"\\uc2dc\\uc791\", \"\\uc2dc\\uc791\", \"\\uc2dc\\uc791\", \"\\uc2dc\\uc791\", \"\\uc2dc\\uc791\", \"\\uc2dc\\uc9d1\", \"\\uc2dc\\ud5d8\", \"\\uc2dd\\ub2e8\", \"\\uc2e0\\ud654\", \"\\uc2e4\\uae30\", \"\\uc2e4\\ub825\", \"\\uc2e4\\ub825\", \"\\uc2e4\\uc804\", \"\\uc544\\uae30\", \"\\uc544\\ub4e4\", \"\\uc544\\ub4e4\", \"\\uc544\\ub4e4\", \"\\uc544\\ub4e4\", \"\\uc544\\ub4e4\", \"\\uc544\\ube60\", \"\\uc544\\ube60\", \"\\uc544\\uc774\", \"\\uc544\\uc774\", \"\\uc544\\ud514\", \"\\uc544\\ud514\", \"\\uc54c\", \"\\uc54c\", \"\\uc54c\", \"\\uc54c\", \"\\uc54c\", \"\\uc54c\\ub2e4\", \"\\uc54c\\ub2e4\", \"\\uc54c\\ub2e4\", \"\\uc54c\\ub2e4\", \"\\uc54c\\ub2e4\", \"\\uc54c\\ub7ad\", \"\\uc560\\ub2c8\", \"\\uc560\\ub85c\\uc6b0\", \"\\uc5b4\\ub978\", \"\\uc5b4\\ub978\", \"\\uc5b4\\ub9b0\\uc774\", \"\\uc5b4\\ud718\", \"\\uc5c4\\ub9c8\", \"\\uc5c4\\ub9c8\", \"\\uc5d0\\ub4c0\\uc70c\", \"\\uc5d0\\uc138\\uc774\", \"\\uc5ec\\uc0ac\", \"\\uc5ec\\uc131\", \"\\uc5ec\\uc131\", \"\\uc5ec\\uc131\\ud610\\uc624\", \"\\uc5ec\\ud589\", \"\\uc5ec\\ud589\", \"\\uc5ec\\ud589\\uae30\", \"\\uc5ed\\uc0ac\", \"\\uc5ed\\uc2dc\", \"\\uc5ed\\uc2dc\", \"\\uc5ed\\uc2dc\", \"\\uc5ed\\uc2dc\", \"\\uc5ed\\uc2dc\", \"\\uc5f0\\uad6c\", \"\\uc5f0\\uad6c\", \"\\uc5f0\\uc0b0\", \"\\uc5f0\\uc2b5\", \"\\uc5f0\\uc2b5\", \"\\uc5f0\\uc8fc\", \"\\uc601\\uc5b4\", \"\\uc601\\ud654\", \"\\uc601\\ud654\", \"\\uc601\\ud654\", \"\\uc601\\ud654\\ub85c\", \"\\uc640\\uc778\", \"\\uc644\\uacb0\", \"\\uc694\\ub9ac\", \"\\uc6a9\\uae30\", \"\\uc6a9\\uae30\", \"\\uc6a9\\uae30\", \"\\uc6b0\\ub9ac\", \"\\uc6b0\\ub9ac\", \"\\uc6b0\\ub9ac\", \"\\uc6b4\\ub3d9\", \"\\uc6b4\\ub3d9\", \"\\uc6b4\\ub3d9\", \"\\uc6b8\\ub9bc\", \"\\uc6d0\\uc791\", \"\\uc6f9\\ud230\", \"\\uc704\\ub85c\", \"\\uc704\\ub85c\", \"\\uc704\\uc548\", \"\\uc720\\ubcd1\\uc7ac\", \"\\uc720\\uc544\", \"\\uc720\\uce58\\uc6d0\", \"\\uc720\\ud615\", \"\\uc721\\uc544\", \"\\uc721\\uc544\", \"\\uc74c\\uc2dd\", \"\\uc774\\ubc88\", \"\\uc774\\ubc88\", \"\\uc774\\ubc88\", \"\\uc774\\ubc88\", \"\\uc774\\ubc88\", \"\\uc774\\uc288\", \"\\uc774\\uc57c\\uae30\", \"\\uc774\\uc57c\\uae30\", \"\\uc774\\uc57c\\uae30\", \"\\uc774\\uc57c\\uae30\", \"\\uc774\\uc720\\uc2dd\", \"\\uc774\\ud574\", \"\\uc774\\ud574\", \"\\uc774\\ud574\", \"\\uc774\\ud574\", \"\\uc774\\ud574\", \"\\uc778\\uac04\", \"\\uc778\\uac04\", \"\\uc778\\uac04\", \"\\uc778\\uac04\\uad00\\uacc4\", \"\\uc778\\ub958\", \"\\uc778\\ubb38\\ud559\", \"\\uc778\\ubb3c\", \"\\uc778\\ubb3c\", \"\\uc778\\ubb3c\", \"\\uc778\\uc0dd\", \"\\uc778\\uc0dd\", \"\\uc778\\ud615\", \"\\uc77c\", \"\\uc77c\", \"\\uc77c\", \"\\uc77c\", \"\\uc77c\", \"\\uc77c\\ub7ec\\uc2a4\\ud2b8\", \"\\uc77c\\ub7ec\\uc2a4\\ud2b8\", \"\\uc77c\\ubcf8\\uc5b4\", \"\\uc77c\\ubcf8\\uc5b4\", \"\\uc77c\\uc0c1\", \"\\uc77c\\uc0c1\", \"\\uc77c\\uc0c1\", \"\\uc77c\\uc0c1\", \"\\uc790\\uae30\\uacc4\\ubc1c\", \"\\uc790\\ubcf8\\uc8fc\\uc758\", \"\\uc790\\uc218\", \"\\uc790\\uc2e0\", \"\\uc790\\uc2e0\", \"\\uc790\\uc2e0\", \"\\uc790\\uc2e0\", \"\\uc790\\uc874\\uac10\", \"\\uc791\\uac00\", \"\\uc791\\uac00\", \"\\uc791\\ud488\", \"\\uc791\\ud488\", \"\\uc791\\ud488\", \"\\uc791\\ud488\", \"\\uc791\\ud654\", \"\\uc7a5\\ub974\", \"\\uc7ac\\ub8cc\", \"\\uc7ac\\ubbf8\", \"\\uc7ac\\ubbf8\", \"\\uc7ac\\ubbf8\", \"\\uc7ac\\ubbf8\", \"\\uc7ac\\ubbf8\", \"\\uc7ac\\ud14c\\ud06c\", \"\\uc800\\uc790\", \"\\uc800\\uc790\", \"\\uc800\\uc790\", \"\\uc801\", \"\\uc801\", \"\\uc801\", \"\\uc801\", \"\\uc801\", \"\\uc804\\uac1c\", \"\\uc804\\uac1c\", \"\\uc804\\uc7c1\", \"\\uc804\\uce58\\uc0ac\", \"\\uc815\\ub9ac\", \"\\uc815\\ub9ac\", \"\\uc815\\ub9ac\", \"\\uc815\\ub9ac\", \"\\uc815\\ubc1c\", \"\\uc815\\uce58\", \"\\uc81c\", \"\\uc81c\", \"\\uc81c\", \"\\uc81c\", \"\\uc81c\", \"\\uc81c\\ubaa9\", \"\\uc81c\\ubaa9\", \"\\uc81c\\ubaa9\", \"\\uc81c\\ubaa9\", \"\\uc81c\\ubaa9\", \"\\uc81c\\uc8fc\", \"\\uc870\\uc120\", \"\\uc870\\uce74\", \"\\uc870\\uce74\", \"\\uc8fc\\uc2dd\", \"\\uc8fc\\uc758\", \"\\uc8fc\\uc758\", \"\\uc8fc\\uc758\", \"\\uc8fc\\uc758\", \"\\uc8fc\\uc758\", \"\\uc8fc\\uc778\\uacf5\", \"\\uc8fc\\uc778\\uacf5\", \"\\uc8fd\\uc74c\", \"\\uc8fd\\uc74c\", \"\\uc8fd\\uc74c\", \"\\uc900\\ube44\", \"\\uc900\\ube44\", \"\\uc900\\ube44\", \"\\uc900\\ube44\", \"\\uc911\", \"\\uc911\", \"\\uc911\", \"\\uc911\", \"\\uc911\", \"\\uc911\\uad6d\", \"\\uc911\\uad6d\", \"\\uc911\\uad6d\\uc5b4\", \"\\uc9c0\\ub2a5\", \"\\uc9c0\\uc2dd\", \"\\uc9c0\\uc2dd\", \"\\uc9c0\\uc2dd\", \"\\uc9c4\\ud654\", \"\\uc9c4\\ud654\", \"\\uc9c4\\ud654\", \"\\uc9d1\", \"\\uc9d1\", \"\\uc9d1\", \"\\uc9d1\", \"\\ucc98\\ub7fc\", \"\\ucc98\\ub7fc\", \"\\ucc98\\ub7fc\", \"\\ucc98\\ub7fc\", \"\\ucc98\\ub7fc\", \"\\ucc98\\uc74c\", \"\\ucc98\\uc74c\", \"\\ucc98\\uc74c\", \"\\ucc98\\uc74c\", \"\\ucc98\\uc74c\", \"\\ucca0\\ud559\", \"\\ucca0\\ud559\", \"\\ucca0\\ud559\\uc790\", \"\\ucd5c\\uace0\", \"\\ucd5c\\uace0\", \"\\ucd5c\\uace0\", \"\\ucd5c\\uace0\", \"\\ucd5c\\uace0\", \"\\ucd94\\ub9ac\", \"\\ucd94\\ub9ac\\uc18c\\uc124\", \"\\ucd94\\ucc9c\", \"\\ucd94\\ucc9c\", \"\\ucd94\\ucc9c\", \"\\ucd94\\ucc9c\", \"\\ucd94\\ucc9c\", \"\\uce35\", \"\\uce35\", \"\\uce35\", \"\\uce58\\uc720\", \"\\uce5c\\uad6c\", \"\\uce5c\\uad6c\", \"\\uce5c\\uad6c\", \"\\uce5c\\uad6c\", \"\\uce74\", \"\\uce74\", \"\\uce90\\ub9ad\\ud130\", \"\\uce90\\ub9ad\\ud130\", \"\\uceec\\ub7ec\", \"\\uceec\\ub7ec\", \"\\uceec\\ub7ec\\ub9c1\", \"\\ucf54\\uc5d8\\ub8cc\", \"\\ud0c0\\uc778\", \"\\ud0c0\\uc778\", \"\\ud0d0\\uc815\", \"\\ud0dc\\uc591\\uacc4\", \"\\ud1b5\\ud574\", \"\\ud1b5\\ud574\", \"\\ud1b5\\ud574\", \"\\ud1b5\\ud574\", \"\\ud1b5\\ud574\", \"\\ud22c\\uc790\", \"\\ud310\\ud0c0\\uc9c0\", \"\\ud380\\ub529\", \"\\ud45c\\uc9c0\", \"\\ud45c\\uc9c0\", \"\\ud45c\\uc9c0\", \"\\ud45c\\uc9c0\", \"\\ud480\\ub2e4\", \"\\ud480\\ub2e4\", \"\\ud480\\ub2e4\", \"\\ud480\\ub2e4\", \"\\ud480\\ub2e4\", \"\\ud53c\\uc544\\ub178\", \"\\ud53c\\uc544\\ub178\", \"\\ud544\\uae30\", \"\\ud544\\uc0ac\", \"\\ud558\\ub098\", \"\\ud558\\ub098\", \"\\ud558\\ub098\", \"\\ud558\\ub098\", \"\\ud558\\ub098\", \"\\ud558\\ub8e8\\ud0a4\", \"\\ud558\\ubc84\\ub4dc\", \"\\ud559\\uc2b5\", \"\\ud559\\uc790\", \"\\ud55c\\uad6d\", \"\\ud55c\\uad6d\", \"\\ud55c\\uad6d\", \"\\ud55c\\uad6d\", \"\\ud55c\\uad6d\", \"\\ud55c\\uc790\", \"\\ud55c\\uc790\", \"\\ud55c\\uc790\", \"\\ud569\\uaca9\", \"\\ud589\\ubcf5\", \"\\ud589\\ubcf5\", \"\\ud601\\uba85\", \"\\ud604\\ub300\", \"\\ud604\\ub300\", \"\\ud604\\ub300\", \"\\ud610\\uc624\", \"\\ud64d\\ucc28\", \"\\ud68c\\ud654\", \"\\ud798\", \"\\ud798\", \"\\ud798\", \"\\ud798\", \"\\ud798\"]}, \"R\": 30, \"lambda.step\": 0.01, \"plot.opts\": {\"xlab\": \"PC1\", \"ylab\": \"PC2\"}, \"topic.order\": [4, 3, 5, 1, 2]};\n",
       "\n",
       "function LDAvis_load_lib(url, callback){\n",
       "  var s = document.createElement('script');\n",
       "  s.src = url;\n",
       "  s.async = true;\n",
       "  s.onreadystatechange = s.onload = callback;\n",
       "  s.onerror = function(){console.warn(\"failed to load library \" + url);};\n",
       "  document.getElementsByTagName(\"head\")[0].appendChild(s);\n",
       "}\n",
       "\n",
       "if(typeof(LDAvis) !== \"undefined\"){\n",
       "   // already loaded: just create the visualization\n",
       "   !function(LDAvis){\n",
       "       new LDAvis(\"#\" + \"ldavis_el1301214968411282648179547808\", ldavis_el1301214968411282648179547808_data);\n",
       "   }(LDAvis);\n",
       "}else if(typeof define === \"function\" && define.amd){\n",
       "   // require.js is available: use it to load d3/LDAvis\n",
       "   require.config({paths: {d3: \"https://d3js.org/d3.v5\"}});\n",
       "   require([\"d3\"], function(d3){\n",
       "      window.d3 = d3;\n",
       "      LDAvis_load_lib(\"https://cdn.jsdelivr.net/gh/bmabey/pyLDAvis@3.2.2/pyLDAvis/js/ldavis.v3.0.0.js\", function(){\n",
       "        new LDAvis(\"#\" + \"ldavis_el1301214968411282648179547808\", ldavis_el1301214968411282648179547808_data);\n",
       "      });\n",
       "    });\n",
       "}else{\n",
       "    // require.js not available: dynamically load d3 & LDAvis\n",
       "    LDAvis_load_lib(\"https://d3js.org/d3.v5.js\", function(){\n",
       "         LDAvis_load_lib(\"https://cdn.jsdelivr.net/gh/bmabey/pyLDAvis@3.2.2/pyLDAvis/js/ldavis.v3.0.0.js\", function(){\n",
       "                 new LDAvis(\"#\" + \"ldavis_el1301214968411282648179547808\", ldavis_el1301214968411282648179547808_data);\n",
       "            })\n",
       "         });\n",
       "}\n",
       "</script>"
      ],
      "text/plain": [
       "<IPython.core.display.HTML object>"
      ]
     },
     "execution_count": 173,
     "metadata": {},
     "output_type": "execute_result"
    }
   ],
   "source": [
    "import pyLDAvis.gensim\n",
    "\n",
    "pyLDAvis.enable_notebook()\n",
    "vis = pyLDAvis.gensim.prepare(ldamodel, corpus, dictionary)\n",
    "pyLDAvis.display(vis)"
   ]
  },
  {
   "cell_type": "code",
   "execution_count": 74,
   "id": "prostate-island",
   "metadata": {},
   "outputs": [
    {
     "name": "stdout",
     "output_type": "stream",
     "text": [
      "0 번째 문서의 topic 비율은 [(0, 0.30006546), (1, 0.014294099), (2, 0.014291131), (3, 0.1570159), (4, 0.014291131), (5, 0.014291131), (6, 0.01429433), (7, 0.15718687), (8, 0.29997322), (9, 0.014296708)]\n",
      "1 번째 문서의 topic 비율은 [(0, 0.3884414), (3, 0.3679789), (6, 0.20238101)]\n",
      "2 번째 문서의 topic 비율은 [(0, 0.3501626), (1, 0.016682936), (2, 0.016682936), (3, 0.18336561), (4, 0.016682936), (5, 0.016682936), (6, 0.1828772), (7, 0.18349701), (8, 0.016682936), (9, 0.016682936)]\n",
      "3 번째 문서의 topic 비율은 [(0, 0.091721125), (3, 0.5087478), (6, 0.091096915), (7, 0.17508632), (9, 0.09163542)]\n",
      "4 번째 문서의 topic 비율은 [(2, 0.08384413), (6, 0.32060724), (7, 0.19374393), (8, 0.08468219), (9, 0.27861086)]\n",
      "d:\\project02\\field-team4_Test\\machine_learning\\web_scraping\\venv\\lib\\site-packages\\ipykernel\\ipkernel.py:283: DeprecationWarning: `should_run_async` will not call `transform_cell` automatically in the future. Please pass the result to `transformed_cell` argument and any exception that happen during thetransform in `preprocessing_exc_tuple` in IPython 7.17 and above.\n",
      "  and should_run_async(code)\n"
     ]
    }
   ],
   "source": [
    "for i, topic_list in enumerate(ldamodel[corpus]):\n",
    "    if i==5:\n",
    "        break\n",
    "    print(i,'번째 문서의 topic 비율은',topic_list)"
   ]
  },
  {
   "cell_type": "markdown",
   "id": "timely-moses",
   "metadata": {},
   "source": []
  }
 ],
 "metadata": {
  "accelerator": "GPU",
  "colab": {
   "collapsed_sections": [
    "excessive-democrat",
    "confident-respondent",
    "hawaiian-coalition"
   ],
   "name": "NaverMovieReview+AllBookReview+TestData+Mecab.ipynb",
   "provenance": []
  },
  "kernelspec": {
   "display_name": "Python 3",
   "language": "python",
   "name": "python3"
  },
  "language_info": {
   "codemirror_mode": {
    "name": "ipython",
    "version": 3
   },
   "file_extension": ".py",
   "mimetype": "text/x-python",
   "name": "python",
   "nbconvert_exporter": "python",
   "pygments_lexer": "ipython3",
   "version": "3.7.8"
  }
 },
 "nbformat": 4,
 "nbformat_minor": 5
}