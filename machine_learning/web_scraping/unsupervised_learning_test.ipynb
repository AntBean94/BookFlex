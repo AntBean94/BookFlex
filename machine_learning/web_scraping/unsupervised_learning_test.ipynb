{
 "cells": [
  {
   "cell_type": "markdown",
   "id": "bUU-2N7ntHgk",
   "metadata": {
    "id": "bUU-2N7ntHgk"
   },
   "source": [
    "# 비지도학습 군집화 테스트\n",
    "\n",
    "###  \"사용 데이터 : 장르별 베스트셀러 리뷰 모음\"\n",
    "\n",
    "### 조건\n",
    "    * ISBN을 고려X, 각각의 리뷰로 보고 테스트"
   ]
  },
  {
   "cell_type": "code",
   "execution_count": 20,
   "id": "dated-teens",
   "metadata": {},
   "outputs": [
    {
     "output_type": "stream",
     "name": "stdout",
     "text": [
      "Package                  Version\n------------------------ -------------------\n-ip                      20.1.1\nabsl-py                  0.11.0\nappdirs                  1.4.4\nargon2-cffi              20.1.0\nastor                    0.8.1\nastunparse               1.6.3\nasync-generator          1.10\nattrs                    20.3.0\nAutomat                  20.2.0\nbackcall                 0.2.0\nbeautifulsoup4           4.9.3\nblack                    20.8b1\nbleach                   3.3.0\nbs4                      0.0.1\ncachetools               4.2.1\ncertifi                  2020.12.5\ncffi                     1.14.5\nchardet                  4.0.0\nclick                    7.1.2\ncmake                    3.18.4.post1\ncolorama                 0.4.4\nconstantly               15.1.0\ncryptography             3.4.6\ncssselect                1.1.0\ncycler                   0.10.0\nCython                   0.29.14\ndecorator                4.4.2\ndefusedxml               0.6.0\nentrypoints              0.3\nflake8                   3.8.4\nflatbuffers              1.12\nfuncy                    1.15\nfuture                   0.18.2\ngast                     0.2.2\ngensim                   3.8.3\ngoogle-auth              1.27.0\ngoogle-auth-oauthlib     0.4.2\ngoogle-pasta             0.2.0\ngrpcio                   1.32.0\nh5py                     2.10.0\nhyperlink                21.0.0\nidna                     2.10\nimportlib-metadata       3.7.0\nincremental              21.3.0\nipykernel                5.5.0\nipython                  7.21.0\nipython-genutils         0.2.0\nipywidgets               7.6.3\nitemadapter              0.2.0\nitemloaders              1.0.4\njedi                     0.18.0\nJinja2                   2.11.3\njmespath                 0.10.0\njoblib                   1.0.1\nJPype1                   1.1.2\njsonschema               3.2.0\njupyter                  1.0.0\njupyter-client           6.1.11\njupyter-console          6.2.0\njupyter-core             4.7.1\njupyterlab-pygments      0.1.2\njupyterlab-widgets       1.0.0\nKeras                    2.4.3\nKeras-Applications       1.0.8\nKeras-Preprocessing      1.1.2\nkiwisolver               1.3.1\nkonlpy                   0.5.2\nlangdetect               1.0.8\nlxml                     4.6.2\nMarkdown                 3.3.4\nMarkupSafe               1.1.1\nmatplotlib               3.3.4\nmccabe                   0.6.1\nmecab-python             0.996-ko-0.9.2-msvc\nmistune                  0.8.4\nmypy-extensions          0.4.3\nnbclient                 0.5.3\nnbconvert                6.0.7\nnbformat                 5.1.2\nnest-asyncio             1.5.1\nnltk                     3.5\nnotebook                 6.2.0\nnumexpr                  2.7.3\nnumpy                    1.19.2\noauthlib                 3.1.0\nopt-einsum               3.3.0\npackaging                20.9\npad-sequences            0.5.0\npandas                   1.2.3\npandocfilters            1.4.3\nparsel                   1.6.0\nparso                    0.8.1\npathspec                 0.8.1\npickleshare              0.7.5\nPillow                   8.1.1\npip                      21.0.1\nprometheus-client        0.9.0\nprompt-toolkit           3.0.16\nProtego                  0.1.16\nprotobuf                 3.15.3\npyasn1                   0.4.8\npyasn1-modules           0.2.8\npycodestyle              2.6.0\npycparser                2.20\nPyDispatcher             2.0.5\npyflakes                 2.2.0\nPygments                 2.8.0\npyLDAvis                 3.2.2\npyOpenSSL                20.0.1\npyparsing                2.4.7\npyrsistent               0.17.3\nPySocks                  1.7.1\npython-dateutil          2.8.1\npytz                     2021.1\npywin32                  300\npywinpty                 0.5.7\nPyYAML                   5.4.1\npyzmq                    22.0.3\nqtconsole                5.0.2\nQtPy                     1.9.0\nqueuelib                 1.5.0\nregex                    2020.11.13\nrequests                 2.25.1\nrequests-oauthlib        1.3.0\nrope                     0.18.0\nrsa                      4.7.2\nscikit-learn             0.24.1\nscipy                    1.4.1\nScrapy                   2.4.1\nselenium                 3.141.0\nSend2Trash               1.5.0\nservice-identity         18.1.0\nsetuptools               47.1.0\nsix                      1.15.0\nsklearn                  0.0\nsmart-open               4.2.0\nsoupsieve                2.2\ntensorboard              2.1.1\ntensorboard-plugin-wit   1.8.0\ntensorflow               2.4.1\ntensorflow-estimator     2.1.0\ntensorflow-gpu           2.1.0\ntensorflow-gpu-estimator 2.1.0\ntermcolor                1.1.0\nterminado                0.9.2\ntestpath                 0.4.4\nthreadpoolctl            2.1.0\ntokenizer                2.5.0\ntoml                     0.10.2\ntornado                  6.1\ntqdm                     4.58.0\ntraitlets                5.0.5\ntweepy                   3.10.0\nTwisted                  21.2.0\ntwisted-iocpsupport      1.0.1\ntyped-ast                1.4.2\ntyping-extensions        3.7.4.3\nurllib3                  1.26.3\nw3lib                    1.22.0\nwcwidth                  0.2.5\nwebencodings             0.5.1\nWerkzeug                 1.0.1\nwheel                    0.36.2\nwidgetsnbextension       3.5.1\nwordcloud                1.8.1\nwrapt                    1.12.1\nxlrd                     2.0.1\nzipp                     3.4.0\nzope.interface           5.2.0\nNote: you may need to restart the kernel to use updated packages.\n"
     ]
    }
   ],
   "source": [
    "pip list"
   ]
  },
  {
   "cell_type": "code",
   "execution_count": 21,
   "id": "greek-psychology",
   "metadata": {
    "executionInfo": {
     "elapsed": 2188,
     "status": "ok",
     "timestamp": 1615857430818,
     "user": {
      "displayName": "HJ W",
      "photoUrl": "",
      "userId": "17133817769772810518"
     },
     "user_tz": -540
    },
    "id": "greek-psychology"
   },
   "outputs": [],
   "source": [
    "import pandas as pd\n",
    "import numpy as np\n",
    "import tensorflow as tf\n",
    "\n",
    "%matplotlib inline\n",
    "\n",
    "import matplotlib.pyplot as plt\n",
    "import re\n",
    "import urllib.request\n",
    "from konlpy.tag import Okt\n",
    "\n",
    "\n",
    "from tensorflow.keras.preprocessing.text import Tokenizer\n",
    "from tensorflow.keras.preprocessing.sequence import pad_sequences\n",
    "\n",
    "import urllib"
   ]
  },
  {
   "cell_type": "code",
   "execution_count": 22,
   "id": "3bY23j9WV_4L",
   "metadata": {
    "executionInfo": {
     "elapsed": 590,
     "status": "ok",
     "timestamp": 1615857432997,
     "user": {
      "displayName": "HJ W",
      "photoUrl": "",
      "userId": "17133817769772810518"
     },
     "user_tz": -540
    },
    "id": "3bY23j9WV_4L"
   },
   "outputs": [],
   "source": [
    "import konlpy\n",
    "from konlpy.tag import Okt"
   ]
  },
  {
   "cell_type": "code",
   "execution_count": 23,
   "id": "present-livestock",
   "metadata": {},
   "outputs": [
    {
     "output_type": "stream",
     "name": "stdout",
     "text": [
      "INFO:tensorflow:Using MirroredStrategy with devices ('/job:localhost/replica:0/task:0/device:GPU:0',)\n"
     ]
    }
   ],
   "source": [
    "mirrored_strategy = tf.distribute.MirroredStrategy()"
   ]
  },
  {
   "source": [
    "# 데이터 전처리"
   ],
   "cell_type": "markdown",
   "metadata": {}
  },
  {
   "cell_type": "markdown",
   "id": "lesser-gossip",
   "metadata": {
    "id": "lesser-gossip"
   },
   "source": [
    "## 도서 리뷰 추가"
   ]
  },
  {
   "cell_type": "code",
   "execution_count": 31,
   "id": "manufactured-brand",
   "metadata": {
    "executionInfo": {
     "elapsed": 586,
     "status": "ok",
     "timestamp": 1615862813046,
     "user": {
      "displayName": "HJ W",
      "photoUrl": "",
      "userId": "17133817769772810518"
     },
     "user_tz": -540
    },
    "id": "manufactured-brand"
   },
   "outputs": [],
   "source": [
    "import glob\n",
    "import pandas as pd\n",
    "from pandas.core.dtypes.missing import notnull\n",
    "import nltk\n",
    "from konlpy.tag import Okt\n",
    "from wordcloud import WordCloud, STOPWORDS\n",
    "import numpy as np\n",
    "from PIL import Image\n",
    "import matplotlib.pyplot as plt\n",
    "import platform\n",
    "from matplotlib import font_manager, rc\n",
    "import re\n",
    "from gensim.models import Word2Vec\n",
    "from pandas import DataFrame\n",
    "from tensorflow.keras.preprocessing.text import Tokenizer\n",
    "from tensorflow.keras.preprocessing.sequence import pad_sequences"
   ]
  },
  {
   "cell_type": "code",
   "execution_count": 25,
   "id": "vocational-davis",
   "metadata": {
    "executionInfo": {
     "elapsed": 4231,
     "status": "ok",
     "timestamp": 1615863631869,
     "user": {
      "displayName": "HJ W",
      "photoUrl": "",
      "userId": "17133817769772810518"
     },
     "user_tz": -540
    },
    "id": "vocational-davis"
   },
   "outputs": [],
   "source": [
    "# 데이터 불러오기\n",
    "book_data = pd.DataFrame()\n",
    "df = pd.read_csv('data\\detail_bestbook_review.csv', encoding=\"utf-8\")\n",
    "book_data = pd.concat([book_data,df])"
   ]
  },
  {
   "cell_type": "code",
   "execution_count": 26,
   "id": "substantial-mentor",
   "metadata": {
    "colab": {
     "base_uri": "https://localhost:8080/"
    },
    "executionInfo": {
     "elapsed": 584,
     "status": "ok",
     "timestamp": 1615858818773,
     "user": {
      "displayName": "HJ W",
      "photoUrl": "",
      "userId": "17133817769772810518"
     },
     "user_tz": -540
    },
    "id": "substantial-mentor",
    "outputId": "08b3dfc8-347a-4dc8-dead-ee08fca7541c"
   },
   "outputs": [
    {
     "output_type": "stream",
     "name": "stdout",
     "text": [
      "          ISBN13  rating                                             review\n0  8809474876010      10                배송빠르고..가성비 좋네요.. 진짜 다이어리가 2개가 왔네요 .\n1  8809474876010      10  주문한 다음날 오전에 받았어요. 배송 진짜 빠름빠름. 다이어리 대만족! 표지만 살짝...\n2  8809474876003      10                             2개 세트는 아니었지만 양장에 퀄리티 굿\n3  8809474876003      10  군더더기없이 깔끔하고 하나는 양장이고, 하나는 일반입니다. 2개세트라 내년까지 쓸수...\n4  8809474876003      10  깔끔하고 심플하고, A5사이즈로 적당하고 양장인데 잘 펼쳐지고 종이 질도 매끔한거 ...\n"
     ]
    }
   ],
   "source": [
    "# 코드 확인\n",
    "print(book_data.head())"
   ]
  },
  {
   "cell_type": "code",
   "execution_count": 27,
   "id": "gXwZFWLsnxoW",
   "metadata": {
    "colab": {
     "base_uri": "https://localhost:8080/"
    },
    "executionInfo": {
     "elapsed": 557,
     "status": "ok",
     "timestamp": 1615858833947,
     "user": {
      "displayName": "HJ W",
      "photoUrl": "",
      "userId": "17133817769772810518"
     },
     "user_tz": -540
    },
    "id": "gXwZFWLsnxoW",
    "outputId": "38c08de2-204f-458d-f033-7ecc3202b48d"
   },
   "outputs": [
    {
     "output_type": "execute_result",
     "data": {
      "text/plain": [
       "<AxesSubplot:>"
      ]
     },
     "metadata": {},
     "execution_count": 27
    },
    {
     "output_type": "display_data",
     "data": {
      "text/plain": "<Figure size 432x288 with 1 Axes>",
      "image/svg+xml": "<?xml version=\"1.0\" encoding=\"utf-8\" standalone=\"no\"?>\r\n<!DOCTYPE svg PUBLIC \"-//W3C//DTD SVG 1.1//EN\"\r\n  \"http://www.w3.org/Graphics/SVG/1.1/DTD/svg11.dtd\">\r\n<!-- Created with matplotlib (https://matplotlib.org/) -->\r\n<svg height=\"251.565pt\" version=\"1.1\" viewBox=\"0 0 394.375 251.565\" width=\"394.375pt\" xmlns=\"http://www.w3.org/2000/svg\" xmlns:xlink=\"http://www.w3.org/1999/xlink\">\r\n <metadata>\r\n  <rdf:RDF xmlns:cc=\"http://creativecommons.org/ns#\" xmlns:dc=\"http://purl.org/dc/elements/1.1/\" xmlns:rdf=\"http://www.w3.org/1999/02/22-rdf-syntax-ns#\">\r\n   <cc:Work>\r\n    <dc:type rdf:resource=\"http://purl.org/dc/dcmitype/StillImage\"/>\r\n    <dc:date>2021-03-22T10:12:48.038266</dc:date>\r\n    <dc:format>image/svg+xml</dc:format>\r\n    <dc:creator>\r\n     <cc:Agent>\r\n      <dc:title>Matplotlib v3.3.4, https://matplotlib.org/</dc:title>\r\n     </cc:Agent>\r\n    </dc:creator>\r\n   </cc:Work>\r\n  </rdf:RDF>\r\n </metadata>\r\n <defs>\r\n  <style type=\"text/css\">*{stroke-linecap:butt;stroke-linejoin:round;}</style>\r\n </defs>\r\n <g id=\"figure_1\">\r\n  <g id=\"patch_1\">\r\n   <path d=\"M 0 251.565 \r\nL 394.375 251.565 \r\nL 394.375 0 \r\nL 0 0 \r\nz\r\n\" style=\"fill:none;\"/>\r\n  </g>\r\n  <g id=\"axes_1\">\r\n   <g id=\"patch_2\">\r\n    <path d=\"M 52.375 224.64 \r\nL 387.175 224.64 \r\nL 387.175 7.2 \r\nL 52.375 7.2 \r\nz\r\n\" style=\"fill:#ffffff;\"/>\r\n   </g>\r\n   <g id=\"patch_3\">\r\n    <path clip-path=\"url(#peff1d7505e)\" d=\"M 69.115 224.64 \r\nL 102.595 224.64 \r\nL 102.595 17.554286 \r\nL 69.115 17.554286 \r\nz\r\n\" style=\"fill:#1f77b4;\"/>\r\n   </g>\r\n   <g id=\"patch_4\">\r\n    <path clip-path=\"url(#peff1d7505e)\" d=\"M 136.075 224.64 \r\nL 169.555 224.64 \r\nL 169.555 171.283855 \r\nL 136.075 171.283855 \r\nz\r\n\" style=\"fill:#1f77b4;\"/>\r\n   </g>\r\n   <g id=\"patch_5\">\r\n    <path clip-path=\"url(#peff1d7505e)\" d=\"M 203.035 224.64 \r\nL 236.515 224.64 \r\nL 236.515 205.157697 \r\nL 203.035 205.157697 \r\nz\r\n\" style=\"fill:#1f77b4;\"/>\r\n   </g>\r\n   <g id=\"patch_6\">\r\n    <path clip-path=\"url(#peff1d7505e)\" d=\"M 269.995 224.64 \r\nL 303.475 224.64 \r\nL 303.475 215.762144 \r\nL 269.995 215.762144 \r\nz\r\n\" style=\"fill:#1f77b4;\"/>\r\n   </g>\r\n   <g id=\"patch_7\">\r\n    <path clip-path=\"url(#peff1d7505e)\" d=\"M 336.955 224.64 \r\nL 370.435 224.64 \r\nL 370.435 218.273594 \r\nL 336.955 218.273594 \r\nz\r\n\" style=\"fill:#1f77b4;\"/>\r\n   </g>\r\n   <g id=\"matplotlib.axis_1\">\r\n    <g id=\"xtick_1\">\r\n     <g id=\"line2d_1\">\r\n      <defs>\r\n       <path d=\"M 0 0 \r\nL 0 3.5 \r\n\" id=\"ma8f6624358\" style=\"stroke:#000000;stroke-width:0.8;\"/>\r\n      </defs>\r\n      <g>\r\n       <use style=\"stroke:#000000;stroke-width:0.8;\" x=\"85.855\" xlink:href=\"#ma8f6624358\" y=\"224.64\"/>\r\n      </g>\r\n     </g>\r\n     <g id=\"text_1\">\r\n      <!-- 10 -->\r\n      <g transform=\"translate(88.614375 244.365)rotate(-90)scale(0.1 -0.1)\">\r\n       <defs>\r\n        <path d=\"M 12.40625 8.296875 \r\nL 28.515625 8.296875 \r\nL 28.515625 63.921875 \r\nL 10.984375 60.40625 \r\nL 10.984375 69.390625 \r\nL 28.421875 72.90625 \r\nL 38.28125 72.90625 \r\nL 38.28125 8.296875 \r\nL 54.390625 8.296875 \r\nL 54.390625 0 \r\nL 12.40625 0 \r\nz\r\n\" id=\"DejaVuSans-49\"/>\r\n        <path d=\"M 31.78125 66.40625 \r\nQ 24.171875 66.40625 20.328125 58.90625 \r\nQ 16.5 51.421875 16.5 36.375 \r\nQ 16.5 21.390625 20.328125 13.890625 \r\nQ 24.171875 6.390625 31.78125 6.390625 \r\nQ 39.453125 6.390625 43.28125 13.890625 \r\nQ 47.125 21.390625 47.125 36.375 \r\nQ 47.125 51.421875 43.28125 58.90625 \r\nQ 39.453125 66.40625 31.78125 66.40625 \r\nz\r\nM 31.78125 74.21875 \r\nQ 44.046875 74.21875 50.515625 64.515625 \r\nQ 56.984375 54.828125 56.984375 36.375 \r\nQ 56.984375 17.96875 50.515625 8.265625 \r\nQ 44.046875 -1.421875 31.78125 -1.421875 \r\nQ 19.53125 -1.421875 13.0625 8.265625 \r\nQ 6.59375 17.96875 6.59375 36.375 \r\nQ 6.59375 54.828125 13.0625 64.515625 \r\nQ 19.53125 74.21875 31.78125 74.21875 \r\nz\r\n\" id=\"DejaVuSans-48\"/>\r\n       </defs>\r\n       <use xlink:href=\"#DejaVuSans-49\"/>\r\n       <use x=\"63.623047\" xlink:href=\"#DejaVuSans-48\"/>\r\n      </g>\r\n     </g>\r\n    </g>\r\n    <g id=\"xtick_2\">\r\n     <g id=\"line2d_2\">\r\n      <g>\r\n       <use style=\"stroke:#000000;stroke-width:0.8;\" x=\"152.815\" xlink:href=\"#ma8f6624358\" y=\"224.64\"/>\r\n      </g>\r\n     </g>\r\n     <g id=\"text_2\">\r\n      <!-- 8 -->\r\n      <g transform=\"translate(155.574375 238.0025)rotate(-90)scale(0.1 -0.1)\">\r\n       <defs>\r\n        <path d=\"M 31.78125 34.625 \r\nQ 24.75 34.625 20.71875 30.859375 \r\nQ 16.703125 27.09375 16.703125 20.515625 \r\nQ 16.703125 13.921875 20.71875 10.15625 \r\nQ 24.75 6.390625 31.78125 6.390625 \r\nQ 38.8125 6.390625 42.859375 10.171875 \r\nQ 46.921875 13.96875 46.921875 20.515625 \r\nQ 46.921875 27.09375 42.890625 30.859375 \r\nQ 38.875 34.625 31.78125 34.625 \r\nz\r\nM 21.921875 38.8125 \r\nQ 15.578125 40.375 12.03125 44.71875 \r\nQ 8.5 49.078125 8.5 55.328125 \r\nQ 8.5 64.0625 14.71875 69.140625 \r\nQ 20.953125 74.21875 31.78125 74.21875 \r\nQ 42.671875 74.21875 48.875 69.140625 \r\nQ 55.078125 64.0625 55.078125 55.328125 \r\nQ 55.078125 49.078125 51.53125 44.71875 \r\nQ 48 40.375 41.703125 38.8125 \r\nQ 48.828125 37.15625 52.796875 32.3125 \r\nQ 56.78125 27.484375 56.78125 20.515625 \r\nQ 56.78125 9.90625 50.3125 4.234375 \r\nQ 43.84375 -1.421875 31.78125 -1.421875 \r\nQ 19.734375 -1.421875 13.25 4.234375 \r\nQ 6.78125 9.90625 6.78125 20.515625 \r\nQ 6.78125 27.484375 10.78125 32.3125 \r\nQ 14.796875 37.15625 21.921875 38.8125 \r\nz\r\nM 18.3125 54.390625 \r\nQ 18.3125 48.734375 21.84375 45.5625 \r\nQ 25.390625 42.390625 31.78125 42.390625 \r\nQ 38.140625 42.390625 41.71875 45.5625 \r\nQ 45.3125 48.734375 45.3125 54.390625 \r\nQ 45.3125 60.0625 41.71875 63.234375 \r\nQ 38.140625 66.40625 31.78125 66.40625 \r\nQ 25.390625 66.40625 21.84375 63.234375 \r\nQ 18.3125 60.0625 18.3125 54.390625 \r\nz\r\n\" id=\"DejaVuSans-56\"/>\r\n       </defs>\r\n       <use xlink:href=\"#DejaVuSans-56\"/>\r\n      </g>\r\n     </g>\r\n    </g>\r\n    <g id=\"xtick_3\">\r\n     <g id=\"line2d_3\">\r\n      <g>\r\n       <use style=\"stroke:#000000;stroke-width:0.8;\" x=\"219.775\" xlink:href=\"#ma8f6624358\" y=\"224.64\"/>\r\n      </g>\r\n     </g>\r\n     <g id=\"text_3\">\r\n      <!-- 6 -->\r\n      <g transform=\"translate(222.534375 238.0025)rotate(-90)scale(0.1 -0.1)\">\r\n       <defs>\r\n        <path d=\"M 33.015625 40.375 \r\nQ 26.375 40.375 22.484375 35.828125 \r\nQ 18.609375 31.296875 18.609375 23.390625 \r\nQ 18.609375 15.53125 22.484375 10.953125 \r\nQ 26.375 6.390625 33.015625 6.390625 \r\nQ 39.65625 6.390625 43.53125 10.953125 \r\nQ 47.40625 15.53125 47.40625 23.390625 \r\nQ 47.40625 31.296875 43.53125 35.828125 \r\nQ 39.65625 40.375 33.015625 40.375 \r\nz\r\nM 52.59375 71.296875 \r\nL 52.59375 62.3125 \r\nQ 48.875 64.0625 45.09375 64.984375 \r\nQ 41.3125 65.921875 37.59375 65.921875 \r\nQ 27.828125 65.921875 22.671875 59.328125 \r\nQ 17.53125 52.734375 16.796875 39.40625 \r\nQ 19.671875 43.65625 24.015625 45.921875 \r\nQ 28.375 48.1875 33.59375 48.1875 \r\nQ 44.578125 48.1875 50.953125 41.515625 \r\nQ 57.328125 34.859375 57.328125 23.390625 \r\nQ 57.328125 12.15625 50.6875 5.359375 \r\nQ 44.046875 -1.421875 33.015625 -1.421875 \r\nQ 20.359375 -1.421875 13.671875 8.265625 \r\nQ 6.984375 17.96875 6.984375 36.375 \r\nQ 6.984375 53.65625 15.1875 63.9375 \r\nQ 23.390625 74.21875 37.203125 74.21875 \r\nQ 40.921875 74.21875 44.703125 73.484375 \r\nQ 48.484375 72.75 52.59375 71.296875 \r\nz\r\n\" id=\"DejaVuSans-54\"/>\r\n       </defs>\r\n       <use xlink:href=\"#DejaVuSans-54\"/>\r\n      </g>\r\n     </g>\r\n    </g>\r\n    <g id=\"xtick_4\">\r\n     <g id=\"line2d_4\">\r\n      <g>\r\n       <use style=\"stroke:#000000;stroke-width:0.8;\" x=\"286.735\" xlink:href=\"#ma8f6624358\" y=\"224.64\"/>\r\n      </g>\r\n     </g>\r\n     <g id=\"text_4\">\r\n      <!-- 2 -->\r\n      <g transform=\"translate(289.494375 238.0025)rotate(-90)scale(0.1 -0.1)\">\r\n       <defs>\r\n        <path d=\"M 19.1875 8.296875 \r\nL 53.609375 8.296875 \r\nL 53.609375 0 \r\nL 7.328125 0 \r\nL 7.328125 8.296875 \r\nQ 12.9375 14.109375 22.625 23.890625 \r\nQ 32.328125 33.6875 34.8125 36.53125 \r\nQ 39.546875 41.84375 41.421875 45.53125 \r\nQ 43.3125 49.21875 43.3125 52.78125 \r\nQ 43.3125 58.59375 39.234375 62.25 \r\nQ 35.15625 65.921875 28.609375 65.921875 \r\nQ 23.96875 65.921875 18.8125 64.3125 \r\nQ 13.671875 62.703125 7.8125 59.421875 \r\nL 7.8125 69.390625 \r\nQ 13.765625 71.78125 18.9375 73 \r\nQ 24.125 74.21875 28.421875 74.21875 \r\nQ 39.75 74.21875 46.484375 68.546875 \r\nQ 53.21875 62.890625 53.21875 53.421875 \r\nQ 53.21875 48.921875 51.53125 44.890625 \r\nQ 49.859375 40.875 45.40625 35.40625 \r\nQ 44.1875 33.984375 37.640625 27.21875 \r\nQ 31.109375 20.453125 19.1875 8.296875 \r\nz\r\n\" id=\"DejaVuSans-50\"/>\r\n       </defs>\r\n       <use xlink:href=\"#DejaVuSans-50\"/>\r\n      </g>\r\n     </g>\r\n    </g>\r\n    <g id=\"xtick_5\">\r\n     <g id=\"line2d_5\">\r\n      <g>\r\n       <use style=\"stroke:#000000;stroke-width:0.8;\" x=\"353.695\" xlink:href=\"#ma8f6624358\" y=\"224.64\"/>\r\n      </g>\r\n     </g>\r\n     <g id=\"text_5\">\r\n      <!-- 4 -->\r\n      <g transform=\"translate(356.454375 238.0025)rotate(-90)scale(0.1 -0.1)\">\r\n       <defs>\r\n        <path d=\"M 37.796875 64.3125 \r\nL 12.890625 25.390625 \r\nL 37.796875 25.390625 \r\nz\r\nM 35.203125 72.90625 \r\nL 47.609375 72.90625 \r\nL 47.609375 25.390625 \r\nL 58.015625 25.390625 \r\nL 58.015625 17.1875 \r\nL 47.609375 17.1875 \r\nL 47.609375 0 \r\nL 37.796875 0 \r\nL 37.796875 17.1875 \r\nL 4.890625 17.1875 \r\nL 4.890625 26.703125 \r\nz\r\n\" id=\"DejaVuSans-52\"/>\r\n       </defs>\r\n       <use xlink:href=\"#DejaVuSans-52\"/>\r\n      </g>\r\n     </g>\r\n    </g>\r\n   </g>\r\n   <g id=\"matplotlib.axis_2\">\r\n    <g id=\"ytick_1\">\r\n     <g id=\"line2d_6\">\r\n      <defs>\r\n       <path d=\"M 0 0 \r\nL -3.5 0 \r\n\" id=\"m9cbe9bedf6\" style=\"stroke:#000000;stroke-width:0.8;\"/>\r\n      </defs>\r\n      <g>\r\n       <use style=\"stroke:#000000;stroke-width:0.8;\" x=\"52.375\" xlink:href=\"#m9cbe9bedf6\" y=\"224.64\"/>\r\n      </g>\r\n     </g>\r\n     <g id=\"text_6\">\r\n      <!-- 0 -->\r\n      <g transform=\"translate(39.0125 228.439219)scale(0.1 -0.1)\">\r\n       <use xlink:href=\"#DejaVuSans-48\"/>\r\n      </g>\r\n     </g>\r\n    </g>\r\n    <g id=\"ytick_2\">\r\n     <g id=\"line2d_7\">\r\n      <g>\r\n       <use style=\"stroke:#000000;stroke-width:0.8;\" x=\"52.375\" xlink:href=\"#m9cbe9bedf6\" y=\"200.051688\"/>\r\n      </g>\r\n     </g>\r\n     <g id=\"text_7\">\r\n      <!-- 50000 -->\r\n      <g transform=\"translate(13.5625 203.850907)scale(0.1 -0.1)\">\r\n       <defs>\r\n        <path d=\"M 10.796875 72.90625 \r\nL 49.515625 72.90625 \r\nL 49.515625 64.59375 \r\nL 19.828125 64.59375 \r\nL 19.828125 46.734375 \r\nQ 21.96875 47.46875 24.109375 47.828125 \r\nQ 26.265625 48.1875 28.421875 48.1875 \r\nQ 40.625 48.1875 47.75 41.5 \r\nQ 54.890625 34.8125 54.890625 23.390625 \r\nQ 54.890625 11.625 47.5625 5.09375 \r\nQ 40.234375 -1.421875 26.90625 -1.421875 \r\nQ 22.3125 -1.421875 17.546875 -0.640625 \r\nQ 12.796875 0.140625 7.71875 1.703125 \r\nL 7.71875 11.625 \r\nQ 12.109375 9.234375 16.796875 8.0625 \r\nQ 21.484375 6.890625 26.703125 6.890625 \r\nQ 35.15625 6.890625 40.078125 11.328125 \r\nQ 45.015625 15.765625 45.015625 23.390625 \r\nQ 45.015625 31 40.078125 35.4375 \r\nQ 35.15625 39.890625 26.703125 39.890625 \r\nQ 22.75 39.890625 18.8125 39.015625 \r\nQ 14.890625 38.140625 10.796875 36.28125 \r\nz\r\n\" id=\"DejaVuSans-53\"/>\r\n       </defs>\r\n       <use xlink:href=\"#DejaVuSans-53\"/>\r\n       <use x=\"63.623047\" xlink:href=\"#DejaVuSans-48\"/>\r\n       <use x=\"127.246094\" xlink:href=\"#DejaVuSans-48\"/>\r\n       <use x=\"190.869141\" xlink:href=\"#DejaVuSans-48\"/>\r\n       <use x=\"254.492188\" xlink:href=\"#DejaVuSans-48\"/>\r\n      </g>\r\n     </g>\r\n    </g>\r\n    <g id=\"ytick_3\">\r\n     <g id=\"line2d_8\">\r\n      <g>\r\n       <use style=\"stroke:#000000;stroke-width:0.8;\" x=\"52.375\" xlink:href=\"#m9cbe9bedf6\" y=\"175.463376\"/>\r\n      </g>\r\n     </g>\r\n     <g id=\"text_8\">\r\n      <!-- 100000 -->\r\n      <g transform=\"translate(7.2 179.262595)scale(0.1 -0.1)\">\r\n       <use xlink:href=\"#DejaVuSans-49\"/>\r\n       <use x=\"63.623047\" xlink:href=\"#DejaVuSans-48\"/>\r\n       <use x=\"127.246094\" xlink:href=\"#DejaVuSans-48\"/>\r\n       <use x=\"190.869141\" xlink:href=\"#DejaVuSans-48\"/>\r\n       <use x=\"254.492188\" xlink:href=\"#DejaVuSans-48\"/>\r\n       <use x=\"318.115234\" xlink:href=\"#DejaVuSans-48\"/>\r\n      </g>\r\n     </g>\r\n    </g>\r\n    <g id=\"ytick_4\">\r\n     <g id=\"line2d_9\">\r\n      <g>\r\n       <use style=\"stroke:#000000;stroke-width:0.8;\" x=\"52.375\" xlink:href=\"#m9cbe9bedf6\" y=\"150.875064\"/>\r\n      </g>\r\n     </g>\r\n     <g id=\"text_9\">\r\n      <!-- 150000 -->\r\n      <g transform=\"translate(7.2 154.674283)scale(0.1 -0.1)\">\r\n       <use xlink:href=\"#DejaVuSans-49\"/>\r\n       <use x=\"63.623047\" xlink:href=\"#DejaVuSans-53\"/>\r\n       <use x=\"127.246094\" xlink:href=\"#DejaVuSans-48\"/>\r\n       <use x=\"190.869141\" xlink:href=\"#DejaVuSans-48\"/>\r\n       <use x=\"254.492188\" xlink:href=\"#DejaVuSans-48\"/>\r\n       <use x=\"318.115234\" xlink:href=\"#DejaVuSans-48\"/>\r\n      </g>\r\n     </g>\r\n    </g>\r\n    <g id=\"ytick_5\">\r\n     <g id=\"line2d_10\">\r\n      <g>\r\n       <use style=\"stroke:#000000;stroke-width:0.8;\" x=\"52.375\" xlink:href=\"#m9cbe9bedf6\" y=\"126.286752\"/>\r\n      </g>\r\n     </g>\r\n     <g id=\"text_10\">\r\n      <!-- 200000 -->\r\n      <g transform=\"translate(7.2 130.085971)scale(0.1 -0.1)\">\r\n       <use xlink:href=\"#DejaVuSans-50\"/>\r\n       <use x=\"63.623047\" xlink:href=\"#DejaVuSans-48\"/>\r\n       <use x=\"127.246094\" xlink:href=\"#DejaVuSans-48\"/>\r\n       <use x=\"190.869141\" xlink:href=\"#DejaVuSans-48\"/>\r\n       <use x=\"254.492188\" xlink:href=\"#DejaVuSans-48\"/>\r\n       <use x=\"318.115234\" xlink:href=\"#DejaVuSans-48\"/>\r\n      </g>\r\n     </g>\r\n    </g>\r\n    <g id=\"ytick_6\">\r\n     <g id=\"line2d_11\">\r\n      <g>\r\n       <use style=\"stroke:#000000;stroke-width:0.8;\" x=\"52.375\" xlink:href=\"#m9cbe9bedf6\" y=\"101.69844\"/>\r\n      </g>\r\n     </g>\r\n     <g id=\"text_11\">\r\n      <!-- 250000 -->\r\n      <g transform=\"translate(7.2 105.497659)scale(0.1 -0.1)\">\r\n       <use xlink:href=\"#DejaVuSans-50\"/>\r\n       <use x=\"63.623047\" xlink:href=\"#DejaVuSans-53\"/>\r\n       <use x=\"127.246094\" xlink:href=\"#DejaVuSans-48\"/>\r\n       <use x=\"190.869141\" xlink:href=\"#DejaVuSans-48\"/>\r\n       <use x=\"254.492188\" xlink:href=\"#DejaVuSans-48\"/>\r\n       <use x=\"318.115234\" xlink:href=\"#DejaVuSans-48\"/>\r\n      </g>\r\n     </g>\r\n    </g>\r\n    <g id=\"ytick_7\">\r\n     <g id=\"line2d_12\">\r\n      <g>\r\n       <use style=\"stroke:#000000;stroke-width:0.8;\" x=\"52.375\" xlink:href=\"#m9cbe9bedf6\" y=\"77.110128\"/>\r\n      </g>\r\n     </g>\r\n     <g id=\"text_12\">\r\n      <!-- 300000 -->\r\n      <g transform=\"translate(7.2 80.909347)scale(0.1 -0.1)\">\r\n       <defs>\r\n        <path d=\"M 40.578125 39.3125 \r\nQ 47.65625 37.796875 51.625 33 \r\nQ 55.609375 28.21875 55.609375 21.1875 \r\nQ 55.609375 10.40625 48.1875 4.484375 \r\nQ 40.765625 -1.421875 27.09375 -1.421875 \r\nQ 22.515625 -1.421875 17.65625 -0.515625 \r\nQ 12.796875 0.390625 7.625 2.203125 \r\nL 7.625 11.71875 \r\nQ 11.71875 9.328125 16.59375 8.109375 \r\nQ 21.484375 6.890625 26.8125 6.890625 \r\nQ 36.078125 6.890625 40.9375 10.546875 \r\nQ 45.796875 14.203125 45.796875 21.1875 \r\nQ 45.796875 27.640625 41.28125 31.265625 \r\nQ 36.765625 34.90625 28.71875 34.90625 \r\nL 20.21875 34.90625 \r\nL 20.21875 43.015625 \r\nL 29.109375 43.015625 \r\nQ 36.375 43.015625 40.234375 45.921875 \r\nQ 44.09375 48.828125 44.09375 54.296875 \r\nQ 44.09375 59.90625 40.109375 62.90625 \r\nQ 36.140625 65.921875 28.71875 65.921875 \r\nQ 24.65625 65.921875 20.015625 65.03125 \r\nQ 15.375 64.15625 9.8125 62.3125 \r\nL 9.8125 71.09375 \r\nQ 15.4375 72.65625 20.34375 73.4375 \r\nQ 25.25 74.21875 29.59375 74.21875 \r\nQ 40.828125 74.21875 47.359375 69.109375 \r\nQ 53.90625 64.015625 53.90625 55.328125 \r\nQ 53.90625 49.265625 50.4375 45.09375 \r\nQ 46.96875 40.921875 40.578125 39.3125 \r\nz\r\n\" id=\"DejaVuSans-51\"/>\r\n       </defs>\r\n       <use xlink:href=\"#DejaVuSans-51\"/>\r\n       <use x=\"63.623047\" xlink:href=\"#DejaVuSans-48\"/>\r\n       <use x=\"127.246094\" xlink:href=\"#DejaVuSans-48\"/>\r\n       <use x=\"190.869141\" xlink:href=\"#DejaVuSans-48\"/>\r\n       <use x=\"254.492188\" xlink:href=\"#DejaVuSans-48\"/>\r\n       <use x=\"318.115234\" xlink:href=\"#DejaVuSans-48\"/>\r\n      </g>\r\n     </g>\r\n    </g>\r\n    <g id=\"ytick_8\">\r\n     <g id=\"line2d_13\">\r\n      <g>\r\n       <use style=\"stroke:#000000;stroke-width:0.8;\" x=\"52.375\" xlink:href=\"#m9cbe9bedf6\" y=\"52.521816\"/>\r\n      </g>\r\n     </g>\r\n     <g id=\"text_13\">\r\n      <!-- 350000 -->\r\n      <g transform=\"translate(7.2 56.321035)scale(0.1 -0.1)\">\r\n       <use xlink:href=\"#DejaVuSans-51\"/>\r\n       <use x=\"63.623047\" xlink:href=\"#DejaVuSans-53\"/>\r\n       <use x=\"127.246094\" xlink:href=\"#DejaVuSans-48\"/>\r\n       <use x=\"190.869141\" xlink:href=\"#DejaVuSans-48\"/>\r\n       <use x=\"254.492188\" xlink:href=\"#DejaVuSans-48\"/>\r\n       <use x=\"318.115234\" xlink:href=\"#DejaVuSans-48\"/>\r\n      </g>\r\n     </g>\r\n    </g>\r\n    <g id=\"ytick_9\">\r\n     <g id=\"line2d_14\">\r\n      <g>\r\n       <use style=\"stroke:#000000;stroke-width:0.8;\" x=\"52.375\" xlink:href=\"#m9cbe9bedf6\" y=\"27.933504\"/>\r\n      </g>\r\n     </g>\r\n     <g id=\"text_14\">\r\n      <!-- 400000 -->\r\n      <g transform=\"translate(7.2 31.732723)scale(0.1 -0.1)\">\r\n       <use xlink:href=\"#DejaVuSans-52\"/>\r\n       <use x=\"63.623047\" xlink:href=\"#DejaVuSans-48\"/>\r\n       <use x=\"127.246094\" xlink:href=\"#DejaVuSans-48\"/>\r\n       <use x=\"190.869141\" xlink:href=\"#DejaVuSans-48\"/>\r\n       <use x=\"254.492188\" xlink:href=\"#DejaVuSans-48\"/>\r\n       <use x=\"318.115234\" xlink:href=\"#DejaVuSans-48\"/>\r\n      </g>\r\n     </g>\r\n    </g>\r\n   </g>\r\n   <g id=\"patch_8\">\r\n    <path d=\"M 52.375 224.64 \r\nL 52.375 7.2 \r\n\" style=\"fill:none;stroke:#000000;stroke-linecap:square;stroke-linejoin:miter;stroke-width:0.8;\"/>\r\n   </g>\r\n   <g id=\"patch_9\">\r\n    <path d=\"M 387.175 224.64 \r\nL 387.175 7.2 \r\n\" style=\"fill:none;stroke:#000000;stroke-linecap:square;stroke-linejoin:miter;stroke-width:0.8;\"/>\r\n   </g>\r\n   <g id=\"patch_10\">\r\n    <path d=\"M 52.375 224.64 \r\nL 387.175 224.64 \r\n\" style=\"fill:none;stroke:#000000;stroke-linecap:square;stroke-linejoin:miter;stroke-width:0.8;\"/>\r\n   </g>\r\n   <g id=\"patch_11\">\r\n    <path d=\"M 52.375 7.2 \r\nL 387.175 7.2 \r\n\" style=\"fill:none;stroke:#000000;stroke-linecap:square;stroke-linejoin:miter;stroke-width:0.8;\"/>\r\n   </g>\r\n  </g>\r\n </g>\r\n <defs>\r\n  <clipPath id=\"peff1d7505e\">\r\n   <rect height=\"217.44\" width=\"334.8\" x=\"52.375\" y=\"7.2\"/>\r\n  </clipPath>\r\n </defs>\r\n</svg>\r\n",
      "image/png": "[encoded data removed]"
     },
     "metadata": {
      "needs_background": "light"
     }
    }
   ],
   "source": [
    "# 점수별 그래프\n",
    "book_data['rating'].value_counts().plot(kind = 'bar')"
   ]
  },
  {
   "source": [
    "## <전처리>"
   ],
   "cell_type": "markdown",
   "metadata": {}
  },
  {
   "cell_type": "code",
   "execution_count": 38,
   "id": "exciting-storm",
   "metadata": {},
   "outputs": [],
   "source": [
    "def cleansing(text):\n",
    "    # text = str(text)\n",
    "    pattern = \"([a-zA-Z0-9_.+-]+@[a-zA-Z0-9-]+.[a-zA-Z0-9-.]+)\"  # e-mail 주소 제거\n",
    "    text = re.sub(pattern=pattern, repl=\" \", string=text)\n",
    "\n",
    "    pattern = \"(http|ftp|https)://(?:[-\\w.]|(?:\\da-fA-F]{2}))+\"  # url 제거\n",
    "    text = re.sub(pattern=pattern, repl=\" \", string=text)\n",
    "\n",
    "    pattern = \"([^ㄷㅋㅎㅜㅠ가-힣a-zA-Z0-9])+\"  # 한글 자음, 모음 제거 - without 'ㄷ,ㅋ,ㅎ,ㅜ,ㅠ'\n",
    "    text = re.sub(pattern=pattern, repl=\" \", string=text)\n",
    "\n",
    "    pattern = \"<[^>]*>\"  # html tag 제거\n",
    "    text = re.sub(pattern=pattern, repl=\" \", string=text)\n",
    "\n",
    "    pattern = \"[\\r|\\n]\"  # \\r, \\n 제거\n",
    "    text = re.sub(pattern=pattern, repl=\" \", string=text)\n",
    "\n",
    "    pattern = re.compile(r\"\\s+\")  # 이중 space 제거\n",
    "    text = re.sub(pattern=pattern, repl=\" \", string=text)\n",
    "\n",
    "    return text"
   ]
  },
  {
   "cell_type": "code",
   "execution_count": 16,
   "metadata": {},
   "outputs": [
    {
     "output_type": "stream",
     "name": "stdout",
     "text": [
      "<class 'str'>\n배송빠르고 가성비 좋네요 진짜 다이어리가 2개가 왔네요 \n배송빠르고 가성비 좋네요 진짜 다이어리가 2개가 왔네요 \n배송빠르고 가성비 좋네요 진짜 다이어리가 2개가 왔네요 \n"
     ]
    }
   ],
   "source": [
    "print(type(book_data.iloc[0]['review']))\n",
    "print(cleansing(str(book_data.iloc[0]['review'])))\n",
    "print(cleansing(book_data.iloc[0]['review']))\n",
    "print(cleansing('배송빠르고..가성비 좋네요.. 진짜 다이어리가 2개가 왔네요 .'))"
   ]
  },
  {
   "cell_type": "code",
   "execution_count": 40,
   "id": "consecutive-holly",
   "metadata": {},
   "outputs": [
    {
     "output_type": "stream",
     "name": "stdout",
     "text": [
      "          ISBN13  rating                                             review\n0  8809474876010      10                    배송빠르고 가성비 좋네요 진짜 다이어리가 2개가 왔네요 \n1  8809474876010      10  주문한 다음날 오전에 받았어요 배송 진짜 빠름빠름 다이어리 대만족 표지만 살짝 다른...\n2  8809474876003      10                             2개 세트는 아니었지만 양장에 퀄리티 굿\n3  8809474876003      10  군더더기없이 깔끔하고 하나는 양장이고 하나는 일반입니다 2개세트라 내년까지 쓸수 있...\n4  8809474876003      10  깔끔하고 심플하고 A5사이즈로 적당하고 양장인데 잘 펼쳐지고 종이 질도 매끔한거 같...\n"
     ]
    }
   ],
   "source": [
    "# 전처리\n",
    "\n",
    "book_data.drop_duplicates(subset=[\"review\"], inplace=True)\n",
    "book_data = book_data.dropna(how = 'any') # Null 값이 존재하는 행 제거\n",
    " # 정규 표현식을 통한 한글 외 문자 제거\n",
    "book_data[\"review\"] = [cleansing(str(text)) for text in book_data[\"review\"]]\n",
    "book_data = book_data.dropna(how = 'any') # Null 값이 존재하는 행 제거\n",
    "\n",
    "# 코드 확인\n",
    "print(book_data.head())"
   ]
  },
  {
   "cell_type": "code",
   "execution_count": 41,
   "metadata": {},
   "outputs": [
    {
     "output_type": "stream",
     "name": "stdout",
     "text": [
      "전처리 후 테스트용 샘플의 개수 : 298322\nFalse\n"
     ]
    }
   ],
   "source": [
    "print('전처리 후 테스트용 샘플의 개수 :',len(book_data))\n",
    "\n",
    "print(book_data.isnull().values.any())\n",
    "# book_data = book_data.dropna(how = 'any') # Null 값이 존재하는 행 제거\n",
    "# print(book_data.isnull().values.any())"
   ]
  },
  {
   "cell_type": "code",
   "execution_count": 42,
   "metadata": {},
   "outputs": [
    {
     "output_type": "stream",
     "name": "stdout",
     "text": [
      "False\n"
     ]
    }
   ],
   "source": [
    "print(book_data.isnull().values.any())"
   ]
  },
  {
   "cell_type": "code",
   "execution_count": 80,
   "metadata": {},
   "outputs": [
    {
     "output_type": "stream",
     "name": "stderr",
     "text": [
      "d:\\project02\\field-team4_Test\\machine_learning\\web_scraping\\venv\\lib\\site-packages\\ipykernel\\ipkernel.py:283: DeprecationWarning: `should_run_async` will not call `transform_cell` automatically in the future. Please pass the result to `transformed_cell` argument and any exception that happen during thetransform in `preprocessing_exc_tuple` in IPython 7.17 and above.\n  and should_run_async(code)\n"
     ]
    }
   ],
   "source": [
    "# 전처리한 리뷰 저장\n",
    "book_data.to_csv(f'data/detail_bestbook_cleaning.csv', index=False)"
   ]
  },
  {
   "source": [
    "## <토큰화>"
   ],
   "cell_type": "markdown",
   "metadata": {}
  },
  {
   "cell_type": "code",
   "execution_count": 43,
   "metadata": {},
   "outputs": [],
   "source": [
    "#  도서 불용어를 정의\n",
    "stopwords = ['의','가','이','은','들','는','좀','잘','걍','과','도','를','으로','자','에','와','한','하다',\n",
    "             '것','라고','에게','라면','게','을','이라','라니','있다','아','랑','쯤된','에서','에선','어','이지만','으로나','때','때는','때라면','때라서','라','이다','있',\n",
    "             '죠','고','니','로','있','같','어서','어요','는데','습니다','면서']\n"
   ]
  },
  {
   "cell_type": "code",
   "execution_count": 58,
   "metadata": {},
   "outputs": [
    {
     "output_type": "stream",
     "name": "stdout",
     "text": [
      "END\n[['배송', '가성', '비', '진짜', '다이어리', '개'], ['주문', '다음', '날', '오전', '배송', '진짜', '다이어리', '만족', '표지', '살짝', '하나', '더', '권', '세트', '완전', '득템'], ['개', '세트', '양장', '퀄리티', '굿'], ['군더더기', '하나', '양장', '하나', '일반', '개', '세트', '내년', '쿠폰', '무료', '배송'], ['심플', '사이즈', '양장', '종이', '질도', '매', '거', '내년', '거', '보고', '걸', '정착'], ['보고', '작년', '은행', '거', '사용', '내년', '걸', '미리', '구매', '공간', '여유'], ['글씨', '날짜', '표지', '심플', '바'], ['매년', '겨울', '초입', '가계부', '때문', '월간지', '올해', '화장품', '성품', '맘', '처음', '아르고', '나인', '가계부', '구매', '군더더기', '내용', '기입', '란', '가독성', '장점', '무료', '배송', '점', '가장', '결정', '요인', '이구'], ['가계부', '왜', '가요'], ['성인', '이후', '가계부', '처음', '구매', '별로', '고민', '유라', '책', '구매', '구매', '건데', '말', '일단', '앞', '함축', '돈', '대해', '설명', '가계부', '권', '종이', '젤펜', '뒤', '보이', '가계부', '저'], ['편집', '가계부', '김유라', '작가', '별로', '우선', '품목', '금액', '칸', '통장', '자동', '이체', '등등', '정리', '표', '아쉬움', '투성이', '뭔가', '책', '테아블', '색도', '빨강', '색인', '느낌', '다시', '가계부'], ['유튜브', '김유라', '작가', '알', '절약', '방법', '시청', '작가', '가계부', '강조', '저', '가계부', '이번', '가계부', '작가', '노하우', '가계부', '방법', '마인드', '컨트롤', '내년'], ['유투브', '시청', '문득', '가계부', '열씨', '서치', '구매', '정보', '도움', '요한', '책', '가계부', '열씨'], ['마음', '구입', '설레임', '기대'], ['책', '내용', '함축', '정말', '제목', '가계', '내용', '전체', '정도', '전부', '가계부', '가계부', '돈', '돈', '가계부', '선물', '곳도'], ['한해', '부탁'], ['돈', '대한', '자세'], ['부의', '기운', '내집마련', '위해', '요', '가게', '부로', '부의', '기운', '화이팅'], ['일반', '가계부', '내의', '삶', '자체', '설계', '재무관리', '표', '현재', '내', '나이', '세', '남편', '나이', '세', '아이', '살', '살이', '그', '아이', '돈', '우리', '노후', '비', '준비', '수', '설계', '지금', '수입', '지출', '제대로', '파악', '수', '체계'], ['이보', '체계', '가계부', '페이지', '가계부', '사용', '체계', '가계부', '관리', '도움', '무엇', '저자', '강연', '회', '더', '왜', '가계부', '이유', '알', '시작', '지속', '수', '바로', '구매', '해', '강력', '추천'], ['정답', '가계부', '세상', '한장', '한장', '전체', '볼', '수', '시스템', '보이', '절로', '무릎', '탁', '치', '손', '가계부', '덕분', '다시', '이제', '년', '월간', '전체', '수입', '지출', '파악'], ['매년', '도전', '가계부', '쓰기', '지출', '관리', '시스템', '관리', '수', '페이지', '가계부', '기대', '그동안', '돈', '페이지', '통해', '로드', '확립', '마인드', '셋', '바로'], ['매년', '연말', '가계부', '작성', '다짐', '고참', '종류', '가계부', '중도', '부클윤쌤', '가계부', '만년', '퍼스', '널', '재무관리', '시스템', '반복', '가계부', '난민', '구', '장의', '시스템', '그녀', '가계부', '기대'], ['페이지', '가계부', '매우', '매우', '복잡', '아이러니', '최고봉'], ['정말', '목', '배송'], ['가계부', '기대'], ['가계', '북', '쌍맘', '신혼', '처음', '가계', '북', '왜', '신년', '가계부', '년도', '자료', '년도', '자료', '년도', '빼', '제테크', '자료', '가계부', '관', '정보', '팁'], ['작년', '가계', '북', '년도', '기록', '안'], ['여태껏', '가계부', '중', '제일', '방법', '정리', '적', '수', '뭔가', '날짜', '라서', '시험', '건가'], ['진짜', '그동안', '다이어트', '책', '알', '고난', '뒤', '음식', '살이', '질리', '요리', '다이어트', '미니', '말씀', '무작정', '삶', '최고', '지우'], ['다이어트', '샐러드', '닭', '가슴', '살', '분', '책', '꼭'], ['다이어트', '약과', '푸드', '다이어트', '요요', '반복', '지금', '몸', '책', '알', '처음'], ['편', '모두', '구입', '이번', '편도', '구매', '생각', '치도', '못', '레시피', '다이어트', '메뉴', '다이어트', '메뉴', '수', '요리', '책', '메뉴', '도장'], ['꼭', '다이어터', '식단', '닭', '야만', '장창', '입', '분', '강추', '과정', '정말', '단지', '고루', '수', '밀프렙', '디저트', '팬', '등', '우리', '상상', '레시피', '하나', '하나', '도장', '마력', '책'], ['하나', '도장', '중', '진짜', '요리', '거', '맛', '책', '분', '책', '왕', '추천', '최고', '권', '조만간', '구매'], ['다이어트', '필수', '템', '생각', '진짜'], ['책', '저', '구매', '확'], ['지우', '언니', '레시피', '얼마나', '다이어트', '효과', '판매량', '증명', '생각', '베스트셀러', '얼마나', '알', '전공자', '로서', '정말', '언니', '영향력', '레시피', '생각', '사람', '앞', '계속', '레시피', '북'], ['단백', '저', '탄수화물', '제목', '책', '다이어트', '식단', '현대인', '책', '수', '저', '거', '고구마', '닭', '가슴', '살', '채소', '샐러드', '질리', '기도', '질리', '금방', '포기', '책'], ['별', '개', '말', '강박', '일반', '멀리', '미니', '레시피', '북', '강박', '이별', '체중감량', '마인드', '수', '덕분', '요리', '취미', '다이어트', '신분', '무조건', '추천'], ['진짜', '요', '사실', '권', '몇개', '월', '뭐', '책', '친구', '권', '집', '요리', '한적', '그때', '권', '바로', '사', '레시피', '꿀팁', '미니', '스토리', '대박', '추천'], ['구매', '확', '탈출'], ['권', '권', '보유', '권', '기대', '다용'], ['이전', '두', '권', '카테고리', '보기', '언니', '운동', '팁', '등', '더', '효율', '더', '이상', '레시피', '북', '국한', '다이어터', '인생', '책', '말', '수'], ['지우', '책', '정말', '스트레스', '식단', '살', '지금', '얼마나', '더', '살', '수', '기대', '책', '목차', '메뉴', '쓱', '진짜', '군침', '요', '읍'], ['지우', '레시피', '다이어트', '식단', '수', '사실', '영양', '잡', '수', '다이어트', '레시피', '천재', '지우', '영혼', '수', '책', '이번', '지우', '다이어트', '사람', '여기', '여기'], ['닭', '가슴', '살', '고구마', '계란', '다이어트', '줄기', '빛', '책', '다이어트', '식단', '고정관념', '완전', '책', '이지우', '다이어트', '수', '여러분', '여러', '다이어트', '광고', '보고', '혹', '제품', '사지', '책', '권', '사서', '변화', '몸', '볼', '수'], ['권', '소식', '후다닥', '구매', '작가', '레시피', '덕', '다이어트', '레시피', '대한', '고정관념', '재료', '성질', '대해', '더', '수', '권', '얼마나', '더', '무한', '응용', '작가', '무지', '자랑', '덤', '다이어트', '성공'], ['고민', '중이', '이번', '책', '레시피', '레시피', '똥손', '요리', '수'], ['보고', '음식', '책', '나볼', '수', '무기', '레시피', '꿀팁']]\n"
     ]
    }
   ],
   "source": [
    "# 도서 train 데이터 토큰화\n",
    "\n",
    "okt = Okt()\n",
    "book_train_X = []\n",
    "\n",
    "for sentence in book_data['review']:\n",
    "    temp_X = []\n",
    "    # temp_X = okt.morphs(sentence, stem=True) # 형태소 단위로 토큰화\n",
    "    temp_X = okt.nouns(sentence) # 명사 단위로 토큰화\n",
    "    temp_X = [word for word in temp_X if not word in stopwords] # 불용어 제거\n",
    "    # print(temp_X)\n",
    "    if temp_X : \n",
    "        book_train_X.append(temp_X) #빈 list는 추가X\n",
    "\n",
    "print('END')\n",
    "print(book_train_X[:50])"
   ]
  },
  {
   "cell_type": "code",
   "execution_count": 59,
   "metadata": {},
   "outputs": [],
   "source": [
    "# 저장하기\n",
    "df = pd.DataFrame(book_train_X)\n",
    "df.to_csv(f'data/detail_bestbook_nouns.csv', index=False)"
   ]
  },
  {
   "cell_type": "code",
   "execution_count": 57,
   "metadata": {},
   "outputs": [
    {
     "output_type": "stream",
     "name": "stdout",
     "text": [
      "test\n"
     ]
    }
   ],
   "source": [
    "test = [1]\n",
    "if test : \n",
    "    print(\"test\")\n",
    "if not test :\n",
    "    print('not')"
   ]
  },
  {
   "cell_type": "code",
   "execution_count": 60,
   "metadata": {},
   "outputs": [],
   "source": [
    "# 명사 토큰화 데이터 txt로 저장\n",
    "import pickle\n",
    "\n",
    "with open('data/detail_bestbook_nouns.txt','wb') as lf :\n",
    "    pickle.dump(book_train_X,lf)"
   ]
  },
  {
   "cell_type": "code",
   "execution_count": 61,
   "metadata": {},
   "outputs": [
    {
     "output_type": "stream",
     "name": "stdout",
     "text": [
      "[['배송', '가성', '비', '진짜', '다이어리', '개'], ['주문', '다음', '날', '오전', '배송', '진짜', '다이어리', '만족', '표지', '살짝', '하나', '더', '권', '세트', '완전', '득템'], ['개', '세트', '양장', '퀄리티', '굿'], ['군더더기', '하나', '양장', '하나', '일반', '개', '세트', '내년', '쿠폰', '무료', '배송'], ['심플', '사이즈', '양장', '종이', '질도', '매', '거', '내년', '거', '보고', '걸', '정착']]\n"
     ]
    }
   ],
   "source": [
    "with open('data/detail_bestbook_nouns.txt', 'rb') as lf:\n",
    "    readList = pickle.load(lf)\n",
    "    print(readList[:5])"
   ]
  },
  {
   "source": [
    "# 정수 인코딩과 단어 집합 만들기\n",
    "\n",
    "(인코딩값, 빈도수)"
   ],
   "cell_type": "markdown",
   "metadata": {}
  },
  {
   "cell_type": "code",
   "execution_count": 63,
   "metadata": {},
   "outputs": [
    {
     "output_type": "stream",
     "name": "stdout",
     "text": [
      "[(2, 1), (3, 1), (5, 1), (6, 1), (7, 1), (8, 1), (9, 1), (10, 1), (11, 1), (12, 1), (13, 1), (14, 1), (15, 1), (16, 1), (17, 1), (18, 1)]\n"
     ]
    }
   ],
   "source": [
    "from gensim import corpora\n",
    "\n",
    "\n",
    "dictionary = corpora.Dictionary(book_train_X)\n",
    "corpus = [dictionary.doc2bow(text) for text in book_train_X]\n",
    "print(corpus[513]) # 수행된 결과에서 두번째 뉴스 출력. 첫번째 문서의 인덱스는 0"
   ]
  },
  {
   "cell_type": "code",
   "execution_count": 70,
   "metadata": {},
   "outputs": [
    {
     "output_type": "stream",
     "name": "stdout",
     "text": [
      "[(48, 1), (91, 1), (142, 1), (152, 1), (249, 2), (474, 1), (665, 1), (1039, 1), (1249, 2), (1307, 1), (1811, 1), (1943, 1), (2434, 1), (2809, 1), (5626, 1), (6328, 1), (6483, 1), (7773, 1), (9378, 1), (9379, 1), (9757, 1), (14170, 1), (15858, 1), (15859, 1), (15860, 1), (15861, 2)]\n중\n"
     ]
    },
    {
     "output_type": "execute_result",
     "data": {
      "text/plain": [
       "54474"
      ]
     },
     "metadata": {},
     "execution_count": 70
    }
   ],
   "source": [
    "print(corpus[24838])\n",
    "print(dictionary[249])\n",
    "len(dictionary)"
   ]
  },
  {
   "source": [
    "# LDA 모델 훈련시키기\n",
    "\n",
    "\n",
    "passes는 알고리즘의 동작 횟수를 말하는데, 알고리즘이 결정하는 토픽의 값이 적절히 수렴할 수 있도록 충분히 적당한 횟수를 정해주면 됩니다. \n",
    "여기서는 총 15회를 수행"
   ],
   "cell_type": "markdown",
   "metadata": {}
  },
  {
   "cell_type": "code",
   "execution_count": 71,
   "metadata": {},
   "outputs": [
    {
     "output_type": "stream",
     "name": "stdout",
     "text": [
      "(0, '0.110*\"책\" + 0.064*\"아이\" + 0.064*\"공부\" + 0.030*\"추천\"')\n(1, '0.032*\"철학\" + 0.029*\"교육\" + 0.026*\"문학\" + 0.025*\"세상\"')\n(2, '0.092*\"수\" + 0.050*\"책\" + 0.028*\"이해\" + 0.020*\"방법\"')\n(3, '0.057*\"교재\" + 0.055*\"연산\" + 0.035*\"학년\" + 0.035*\"중\"')\n(4, '0.065*\"단어\" + 0.039*\"이야기\" + 0.032*\"독서\" + 0.017*\"속\"')\n(5, '0.070*\"책\" + 0.034*\"생각\" + 0.024*\"사람\" + 0.024*\"아이\"')\n(6, '0.091*\"책\" + 0.027*\"어휘\" + 0.021*\"글\" + 0.020*\"문장\"')\n(7, '0.118*\"문제\" + 0.047*\"개념\" + 0.023*\"부모\" + 0.016*\"대비\"')\n(8, '0.107*\"내용\" + 0.043*\"구성\" + 0.041*\"책\" + 0.036*\"설명\"')\n(9, '0.078*\"영어\" + 0.076*\"학습\" + 0.029*\"엄마\" + 0.026*\"선물\"')\n"
     ]
    }
   ],
   "source": [
    "import gensim\r\n",
    "\r\n",
    "NUM_TOPICS = 10\r\n",
    "ldamodel = gensim.models.ldamodel.LdaModel(corpus, num_topics = NUM_TOPICS, id2word=dictionary, passes=15)\r\n",
    "topics = ldamodel.print_topics(num_words=4)\r\n",
    "for topic in topics:\r\n",
    "    print(topic)"
   ]
  },
  {
   "source": [
    "## 시각화\n"
   ],
   "cell_type": "markdown",
   "metadata": {}
  },
  {
   "cell_type": "code",
   "execution_count": 72,
   "metadata": {},
   "outputs": [
    {
     "output_type": "execute_result",
     "data": {
      "text/plain": [
       "<IPython.core.display.HTML object>"
      ],
      "text/html": "\n<link rel=\"stylesheet\" type=\"text/css\" href=\"https://cdn.jsdelivr.net/gh/bmabey/pyLDAvis@3.2.2/pyLDAvis/js/ldavis.v1.0.0.css\">\n\n\n<div id=\"ldavis_el1985226094976744402282611576\"></div>\n<script type=\"text/javascript\">\n\nvar ldavis_el1985226094976744402282611576_data = {\"mdsDat\": {\"x\": [-0.20296198295038087, -0.19846035220532443, -0.12098116831096799, -0.22933739857842972, 0.06836723513997278, -0.07890899851253694, 0.14849711100960453, 0.1949798179078437, 0.2644779542439677, 0.15432778225625118], \"y\": [0.02270548970307467, 0.12184043390203322, -0.2036783604435873, 0.05473013035051193, 0.13273145579309137, -0.13188281272280675, -0.16165008550809737, -0.15898558602333793, 0.019883520847680334, 0.3043058141014377], \"topics\": [1, 2, 3, 4, 5, 6, 7, 8, 9, 10], \"cluster\": [1, 1, 1, 1, 1, 1, 1, 1, 1, 1], \"Freq\": [20.19549685146419, 13.31578120265651, 11.9943561865155, 11.79673076536713, 9.360323591517334, 7.334284610768028, 6.623983314671289, 6.59855827218329, 6.4548865842565295, 6.325598620600189]}, \"tinfo\": {\"Term\": [\"\\ucc45\", \"\\uc218\", \"\\ubb38\\uc81c\", \"\\ub0b4\\uc6a9\", \"\\uc544\\uc774\", \"\\uacf5\\ubd80\", \"\\ub2e8\\uc5b4\", \"\\uc601\\uc5b4\", \"\\ud559\\uc2b5\", \"\\uad50\\uc7ac\", \"\\uc5f0\\uc0b0\", \"\\uc774\\uc57c\\uae30\", \"\\uac1c\\ub150\", \"\\uc124\\uba85\", \"\\uad6c\\uc131\", \"\\ub3c4\\uc6c0\", \"\\ucd94\\ucc9c\", \"\\uc774\\ud574\", \"\\uc5b4\\ud718\", \"\\uc5c4\\ub9c8\", \"\\ub3c5\\uc11c\", \"\\uc0dd\\uac01\", \"\\uc0ac\\ub78c\", \"\\uc6b0\\ub9ac\", \"\\ud559\\ub144\", \"\\ub9d0\", \"\\uc911\", \"\\uadf8\\ub9bc\", \"\\uc218\\ud559\", \"\\uc815\\ub9d0\", \"\\uc6b0\\ub9ac\", \"\\uc77c\", \"\\uc778\\uc0dd\", \"\\uccad\\uc18c\\ub144\", \"\\uacf5\\uac10\", \"\\uc721\\uc544\", \"\\uc0ac\\ud68c\", \"\\uc18c\\uc124\", \"\\uc2dc\\ub300\", \"\\ud480\\uc774\", \"\\uc5b8\\uc5b4\", \"\\ubd84\\uc11d\", \"\\uc5b4\\ub978\", \"\\uc9d1\\uc911\", \"\\ub538\", \"\\uacc4\\uc0b0\", \"\\uc778\\ubb38\\ud559\", \"\\ud589\\ub3d9\", \"\\ub9ac\\ub529\", \"\\uc790\\uc874\\uac10\", \"\\uace0\\uc804\", \"\\uc0ac\\ub840\", \"\\uae38\", \"\\uc874\\uc7ac\", \"\\uc6a9\\uae30\", \"\\uc790\\uae30\\uacc4\\ubc1c\", \"\\ud589\\ubcf5\", \"\\ubaa9\\ud45c\", \"\\uc2a4\\ud2b8\\ub808\\uc2a4\", \"\\uc815\\ub2f5\", \"\\ub098\", \"\\ub0b4\", \"\\uc0b6\", \"\\uc0ac\\ub78c\", \"\\uc790\\uc2e0\", \"\\uc0dd\\uac01\", \"\\ub9d0\", \"\\ubb34\\uc5c7\", \"\\uadf8\", \"\\uc9c0\\uae08\", \"\\ucc45\", \"\\uace0\\ubbfc\", \"\\uc544\\uc774\", \"\\uc2dc\\uac04\", \"\\uc704\\ud574\", \"\\ub9c8\\uc74c\", \"\\uc218\", \"\\uc5c4\\ub9c8\", \"\\uc704\", \"\\ub300\\ud574\", \"\\uc774\\uc57c\\uae30\", \"\\ub354\", \"\\ub300\\ud55c\", \"\\uc5b4\\ud718\", \"\\ubb38\\uc7a5\", \"\\uad6d\\uc5b4\", \"\\ubc88\\uc5ed\", \"\\uc0ac\\ub791\", \"\\ub9d8\", \"\\ud45c\\uc9c0\", \"\\ub514\\uc790\\uc778\", \"\\uc131\\uacbd\", \"\\uac10\\uc0ac\", \"\\uc21c\\uac04\", \"\\uba87\", \"\\ub4e3\\uae30\", \"\\uc18c\\uc7a5\", \"\\ub2ec\\ub77c\", \"\\uc7a1\\uace0\", \"\\uc2e4\\ub9dd\", \"\\uc11c\\uc810\", \"\\ubc14\\ud0d5\", \"\\uc2a4\\ub2d8\", \"\\uac1c\\uc815\\ud310\", \"\\ubc8c\\uc368\", \"\\uc774\\uac74\", \"\\ud310\", \"\\uc751\\uc6d0\", \"\\uc694\\uc57d\", \"\\ub208\\ubb3c\", \"\\ub098\\uc911\", \"\\ubcf4\\uc9c0\", \"\\ub450\\uace0\\ub450\\uace0\", \"\\uc704\\ub85c\", \"\\uc791\\uac00\", \"\\uae00\", \"\\uc560\", \"\\uac04\", \"\\ucc45\", \"\\ubb50\", \"\\uadf8\\ub0e5\", \"\\ub9c8\\uc74c\", \"\\uc548\", \"\\uc774\\ub984\", \"\\uae30\\ubd84\", \"\\ub9d0\", \"\\ub2e4\\uc2dc\", \"\\uc815\\ub9d0\", \"\\uc5ed\\uc2dc\", \"\\ubcf4\\uace0\", \"\\ubc88\", \"\\ub290\\ub08c\", \"\\ub610\", \"\\ub354\", \"\\uc81c\\ubaa9\", \"\\ub2e4\\ub978\", \"\\uc0dd\\uac01\", \"\\ubc29\\ubc95\", \"\\ubb38\\ubc95\", \"\\ubcfc\", \"\\ub3c5\\ud574\", \"\\uac15\\uc758\", \"\\uad50\\uacfc\\uc11c\", \"\\uc5ed\\uc0ac\", \"\\ud559\\uad50\", \"\\uc2b5\\uad00\", \"\\ud574\\uc124\", \"\\uc2dc\\ud5d8\", \"\\uc811\\uadfc\", \"\\ub3c5\\ud574\\ub825\", \"\\ud6a8\\uacfc\", \"\\uc218\\uc5c5\", \"\\uc801\\uc6a9\", \"\\uc0c1\\ud669\", \"\\uc601\\ubb38\\ubc95\", \"\\ubcc0\\ud654\", \"\\uad6c\\uccb4\", \"\\uc2ec\\ub9ac\\ud559\", \"\\uc554\\uae30\", \"\\uc2ec\\ub9ac\", \"\\uc120\\ud589\", \"\\ud30c\\uc545\", \"\\ud544\\ub3c5\", \"\\uc9c4\\ud589\", \"\\uc608\\ubb38\", \"\\uace0\\ub4f1\\ud559\\uad50\", \"\\ud3c9\\uac00\", \"\\uc774\\ud574\", \"\\uc218\", \"\\ud575\\uc2ec\", \"\\uc11c\\uc220\", \"\\uc54c\", \"\\uc9c0\\uc2dd\", \"\\ud798\", \"\\ub300\\ud55c\", \"\\ub300\\ud574\", \"\\ud1b5\\ud574\", \"\\ubc95\", \"\\uc815\\ub9ac\", \"\\uc124\\uba85\", \"\\ud65c\\uc6a9\", \"\\ucc45\", \"\\ub3c4\\uc6c0\", \"\\uc0dd\\uac01\", \"\\uc2a4\\uc2a4\\ub85c\", \"\\uae30\\ubcf8\", \"\\ubd80\\ubd84\", \"\\uc0ac\\ub78c\", \"\\uad50\\uc7ac\", \"\\ub354\", \"\\uacf5\\ubd80\", \"\\ucd94\\ucc9c\", \"\\uc218\\ud559\", \"\\uc5f0\\uc2b5\", \"\\uc9c0\\ubb38\", \"\\uc785\\ubb38\", \"\\ub3c4\\uc11c\", \"\\uc0c1\\uc704\", \"\\ud559\\uae30\", \"\\ubc30\\uc1a1\", \"\\ub09c\\uc774\\ub3c4\", \"\\ucf54\\ub4dc\", \"\\uc911\\ud559\\uc0dd\", \"\\ud55c\\uae00\", \"\\ub3d9\\uc601\\uc0c1\", \"\\ubcf5\\uc2b5\", \"\\uc911\\uac04\", \"\\uc608\\uc2b5\", \"\\uc911\\ud559\", \"\\ucc28\\uadfc\\ucc28\\uadfc\", \"\\uc544\\ube60\", \"\\ud55c\\uad6d\\uc0ac\", \"\\ub0b4\\uc2e0\", \"\\uc544\\uae30\", \"\\ucd08\\ubcf4\", \"\\ub3c4\\ud615\", \"\\uacfc\\ubaa9\", \"\\ub9ac\\ubdf0\", \"\\uc720\\ud29c\\ube0c\", \"\\uc785\\uc7a5\", \"\\ubd84\", \"\\uc544\\uc774\", \"\\ub3c4\\uc6c0\", \"\\uaf2d\", \"\\uad6c\\ub9e4\", \"\\uc815\\ub9d0\", \"\\uc811\", \"\\uae30\\ucd08\", \"\\ubcf4\\uace0\", \"\\uad6c\\uc785\", \"\\ucc45\", \"\\uc2dc\\uc791\", \"\\ucc98\\uc74c\", \"\\uc694\", \"\\uc6a9\", \"\\uae30\\ub300\", \"\\uc900\\ube44\", \"\\uad8c\", \"\\uc800\", \"\\uac1c\\ub150\", \"\\uc9d1\", \"\\ub354\", \"\\ud55c\\ubc88\", \"\\uc0dd\\uac01\", \"\\uc704\\ud574\", \"\\ub2e8\\uc5b4\", \"\\ub3c5\\uc11c\", \"\\uc778\\uac04\", \"\\uc911\\ud559\\uad50\", \"\\uadf8\\ub9bc\\ucc45\", \"\\ub73b\", \"\\ubc29\\ud559\", \"\\uc5ec\\ud589\", \"\\ud480\\uae30\", \"\\uc0c1\\ucc98\", \"\\uc790\\ub140\", \"\\uc790\\uc5f0\", \"\\uac00\\uc2b4\", \"\\ubc29\\ud5a5\", \"\\ud76c\\ub9dd\", \"\\ucd08\\ub4f1\\ud559\\uc0dd\", \"\\uc131\\uc7a5\", \"\\uc8fc\\uc778\\uacf5\", \"\\uc870\\uce74\", \"\\uc9c4\\ub85c\", \"\\uc8fd\\uc74c\", \"\\ud615\\uc2dd\", \"\\uc810\\uc810\", \"\\uacc4\", \"\\uc6cc\", \"\\ud1b5\\ucc30\", \"\\ub300\\ud559\", \"\\ub3d9\\ud654\", \"\\uc18c\\uc7ac\", \"\\ubd88\\uad50\", \"\\uc774\\uc57c\\uae30\", \"\\uc18d\", \"\\ub2f5\", \"\\ud45c\\ud604\", \"\\uadf8\\ub9bc\", \"\\uc791\\uac00\", \"\\ub300\\ud55c\", \"\\uadf8\", \"\\uae30\\ub300\", \"\\ub9c8\\uc74c\", \"\\uae00\", \"\\ub0b4\\uc6a9\", \"\\uad6c\\uc131\", \"\\ubcc4\\ub85c\", \"\\ub9e4\\uc6b0\", \"\\uc6d0\\ub9ac\", \"\\ud765\\ubbf8\", \"\\uc8fc\\uc81c\", \"\\uc751\\uc6a9\", \"\\ud398\\uc774\\uc9c0\", \"\\uc11c\\uc801\", \"\\uafc8\", \"\\uc0ac\\uc9c4\", \"\\uc790\\ub8cc\", \"\\uc57d\\uac04\", \"\\uc131\\uc801\", \"\\ubc30\\uacbd\", \"\\ucc28\", \"\\uc885\\uc774\", \"\\ud301\", \"\\ubcf8\\uae30\", \"\\uc6a9\\uc774\", \"\\uae00\\uc528\", \"\\ub178\\ud2b8\", \"\\ubaa9\\ucc28\", \"\\uc138\\uacc4\\uc0ac\", \"\\uc5ed\\ud560\", \"\\uac00\\ub3c5\\uc131\", \"\\uc3d9\\uc3d9\", \"\\ub4dc\\ub124\", \"\\uae09\", \"\\ubc18\\ubcf5\", \"\\uadf8\\ub9bc\", \"\\uc124\\uba85\", \"\\uc544\\uc8fc\", \"\\ubd80\\ubd84\", \"\\uc81c\\ubaa9\", \"\\ubcf4\\uae30\", \"\\ubd81\", \"\\ub290\\ub08c\", \"\\uac10\", \"\\uc815\\ub9ac\", \"\\uc774\\ud574\", \"\\ucc45\", \"\\uc870\\uae08\", \"\\ubd80\\ub2f4\", \"\\ub4ef\", \"\\uc815\\ub3c4\", \"\\ub2e4\\ub978\", \"\\ub9c8\\uc74c\", \"\\ubb38\\uc81c\", \"\\ubd80\\ubaa8\", \"\\ub300\\ube44\", \"\\ud55c\\uc7a5\", \"\\uc218\\uc900\", \"\\uae30\\ucd9c\", \"\\ucd5c\", \"\\ubcc4\", \"\\uac1c\", \"\\ud5a5\\uc0c1\", \"\\uc2e4\\uc804\", \"\\ubd84\\ub7c9\", \"\\uc608\\ube44\", \"\\ucabd\", \"\\uc608\\uc81c\", \"\\ucd9c\\ud310\\uc0ac\", \"\\uad00\\uc810\", \"\\uad50\\uc218\", \"\\ub9d0\\uc500\", \"\\uc815\\uc2e0\", \"\\uc0c1\\ud0dc\", \"\\uae30\\ub2a5\", \"\\uce58\\uc720\", \"\\uac15\\ub825\", \"\\uc2e0\\uc559\", \"\\uc778\", \"\\uc3d9\", \"\\uccb4\\ud06c\", \"\\ud06c\\uae30\", \"\\uad6c\", \"\\uac1c\\ub150\", \"\\uc810\", \"\\uc2e4\\ub825\", \"\\ucd08\", \"\\uac71\\uc815\", \"\\uac00\\uaca9\", \"\\uc9d1\", \"\\ud655\\uc778\", \"\\ubd80\\ubd84\", \"\\uc815\\ub3c4\", \"\\uc5f0\\uc0b0\", \"\\ud559\\ub144\", \"\\uc911\", \"\\ud558\\ub098\", \"\\ucd08\\ub4f1\", \"\\uc720\\ud615\", \"\\ud480\", \"\\ud559\\uc0dd\", \"\\uc218\\ub2a5\", \"\\ud55c\\uc790\", \"\\uccb4\\uacc4\", \"\\ud559\\uc6d0\", \"\\uc2ec\\ud654\", \"\\uc81c\\uc77c\", \"\\ub514\\ub524\\ub3cc\", \"\\uae30\\uc801\", \"\\ub85c\\uc11c\", \"\\ub180\\uc774\", \"\\ucd08\\ub4f1\\ud559\\uad50\", \"\\uad50\\uacfc\", \"\\uace0\\ub4f1\", \"\\ubb34\\ub8cc\", \"\\uc785\\ud559\", \"\\uc9c1\\uc5c5\", \"\\uc911\\ub4f1\", \"\\uae0d\\uc815\", \"\\uace0\\ud559\\ub144\", \"\\uc791\\uc131\", \"\\uc9c0\\ud61c\", \"\\uc774\\ud6c4\", \"\\uad50\\uc7ac\", \"\\ud558\\ub8e8\", \"\\uae30\\ub3c4\", \"\\uc120\\ud0dd\", \"\\uc790\\uc2e0\\uac10\", \"\\uac00\\uc7a5\", \"\\uc218\", \"\\uc9d1\", \"\\uc791\\ud488\", \"\\ucd08\", \"\\ucd5c\\uace0\", \"\\ucca0\\ud559\", \"\\uad50\\uc721\", \"\\ubb38\\ud559\", \"\\uc138\\uc0c1\", \"\\uc790\\uae30\", \"\\uacfc\\ud559\", \"\\ub2a5\\ub825\", \"\\uc9c8\\ubb38\", \"\\uac10\\uc815\", \"\\ud574\\uc11d\", \"\\uae30\\uc220\", \"\\ubbf8\\ub798\", \"\\ubbf8\\uad6d\", \"\\uc911\\uc2ec\", \"\\uc2dc\\uac01\", \"\\ub0a8\", \"\\uc601\\ud654\", \"\\uc9c0\\ub3c4\", \"\\uc608\\uc2dc\", \"\\ub09c\", \"\\uc8fc\\uc758\", \"\\uad50\\uc0ac\", \"\\uc2dc\\uc120\", \"\\uc804\\ubc18\", \"\\uc601\\uc5ed\", \"\\ub9de\\ucda4\\ubc95\", \"\\uac8c\\uc784\", \"\\ub17c\\ub9ac\", \"\\ubc84\\uc804\", \"\\uc5f0\\uad6c\", \"\\uc138\\uacc4\", \"\\uc800\\uc790\", \"\\ubc1c\\uacac\", \"\\uc18d\", \"\\ube44\", \"\\uadf8\", \"\\uc601\\uc5b4\", \"\\ud559\\uc2b5\", \"\\uc120\\ubb3c\", \"\\uce5c\\uad6c\", \"\\uc544\\ub4e4\", \"\\uac15\\ucd94\", \"\\uc7a5\", \"\\uae00\\uc4f0\\uae30\", \"\\uae30\\ud0c4\", \"\\ud6c8\\ub828\", \"\\uae00\\uc790\", \"\\ud6a8\\uc728\", \"\\ub098\\uc774\", \"\\ud558\\ub098\\ub2d8\", \"\\ub3c4\\uc11c\\uad00\", \"\\ub9c8\\ubb34\\ub9ac\", \"\\ub2ec\", \"\\ubab0\\uc785\", \"\\ub3d9\\uc0dd\", \"\\ubb34\\uc870\\uac74\", \"\\uc0b0\", \"\\uc9c0\\uc778\", \"\\uc790\\ub9ac\", \"\\uace0\\ub4f1\\ud559\\uc0dd\", \"\\ub9e4\", \"\\ubcf8\\uc9c8\", \"\\uc790\\uafb8\", \"\\uc911\\uad6d\\uc5b4\", \"\\ud5a5\", \"\\ub0a8\\uc790\", \"\\ucd5c\\uace0\", \"\\uc4f0\\uae30\", \"\\ub05d\", \"\\uc5c4\\ub9c8\", \"\\uc138\", \"\\uc2dc\\ub9ac\\uc988\", \"\\uad8c\", \"\\ub3c8\", \"\\ub9e4\\uc77c\", \"\\uac10\\ub3d9\", \"\\ub9c8\\uc9c0\\ub9c9\", \"\\uc801\\uadf9\", \"\\uc9c4\\uc9dc\", \"\\uc815\\ub9d0\"], \"Freq\": [152300.0, 55709.0, 24618.0, 24652.0, 39087.0, 23916.0, 19287.0, 15633.0, 15118.0, 14597.0, 11373.0, 17198.0, 14129.0, 14927.0, 9951.0, 15774.0, 10976.0, 14078.0, 11352.0, 11749.0, 9379.0, 33228.0, 18275.0, 12690.0, 7217.0, 17935.0, 7194.0, 9695.0, 8719.0, 14423.0, 12689.84360389085, 5773.9869661563, 5245.096997265209, 5137.369739525915, 4904.700817826638, 4501.2136157097375, 4091.534885129399, 3902.615872888729, 3814.3450782049936, 3502.3664724620726, 3097.311817306009, 3027.270744621642, 2849.5018211396987, 2779.240427303592, 2705.103101065875, 2328.9167438997347, 2278.9738233319836, 2140.5718120759816, 2058.1854899302107, 1958.445689396636, 1942.2958227920262, 1924.0121324890013, 1851.420760927728, 1715.048639906231, 1574.2865532172545, 1569.3956015661072, 1532.4354681128436, 1521.4505460856367, 1448.0867161121384, 1346.0191618219549, 12248.322388036666, 11596.171778885746, 8454.1833985556, 15441.9780058893, 7106.750830583216, 21616.68970868523, 12745.986059208846, 4514.081201252959, 10037.216078785745, 4715.407882339206, 44832.65833617603, 4444.204109183547, 15133.483321023625, 5055.182536698305, 4635.051153898799, 8193.612567336819, 14546.934446787622, 5987.819467233786, 4522.434427154063, 4869.635653848738, 5712.348046681297, 5590.746783494333, 4236.899993673642, 11351.41487073128, 8349.615402481662, 7879.689486834454, 6557.274760832069, 6076.188473233509, 4717.671560875341, 3944.980524406297, 2449.786887744789, 2371.482455384259, 2231.9257990735728, 2182.6441601255783, 2007.143293362838, 1876.2070771156918, 1802.5234399392518, 1448.5357076641305, 1436.903069876816, 1365.644304168205, 1346.610065158749, 1317.3054372595473, 1299.0766211899597, 1234.9889448340632, 1208.1586536299724, 1204.6645120909836, 1168.5122739637216, 1130.2026285224697, 1108.7518274213087, 1094.1638866973303, 1086.8249479469032, 1070.423314808386, 1047.2625418581918, 2859.063155846909, 8090.816461579733, 8903.475010662894, 1769.2695122041769, 1748.861097898479, 38143.99206501291, 1853.0467929523286, 2995.549253286218, 7515.608990803917, 3196.20504551164, 1609.347357071541, 2005.5999000657573, 5189.114279816033, 3491.1583752028873, 4493.509227895584, 2518.661058020433, 3352.2044908120006, 2699.81249606249, 2987.726904360084, 2519.5041175462766, 3855.8273705777638, 2494.6964262482284, 2557.546592105788, 3173.1194479760297, 7437.288073565085, 6274.180212045689, 5689.367146387475, 5670.618579272695, 4916.921531892854, 3658.5330218775944, 3633.8413678566603, 2871.9496373490333, 2836.2928770354724, 2717.245692622096, 2618.7675485454793, 2419.4598084758413, 2259.215897980905, 1931.4847527047996, 1926.1946903422363, 1754.3921749808057, 1553.3497283970441, 1527.0922595926504, 1524.6481725872688, 1382.6768856178317, 1364.3116270033552, 1304.9619457289205, 1243.6021182461398, 1122.5152888080604, 1090.523514272385, 1074.8556802592868, 1004.7885946934556, 975.6996797996381, 942.0115912391872, 922.6957662886718, 10534.890623731706, 34723.595989712194, 2411.1807675388914, 1950.2386031896733, 7244.554959240144, 2044.7556285946487, 2526.4519273462447, 6917.190303736211, 5664.374692495868, 5152.4608629422555, 3490.5067072345237, 4982.620239008981, 6514.046623201894, 2470.28952713705, 19030.670899813966, 5432.002565705349, 5452.744724468848, 2342.4430659448226, 2566.485431445491, 2687.0869833404568, 2832.8542836661054, 2720.996357051669, 2755.2364697307517, 23915.901925023198, 10975.977026973023, 8718.486354427287, 3605.6969764563264, 2626.943199470632, 2533.957851905855, 2308.6215801901562, 2234.7108784474094, 2199.8103251077887, 1683.6958665575996, 1652.8132798658814, 1591.7426810506258, 1497.0070402161566, 1454.8235001263372, 1383.895052156072, 1371.783040050862, 1314.145389029636, 1314.4251241736788, 1216.9048628790206, 1208.3227965125238, 1206.5583865776675, 1169.164379822524, 1103.6622740148441, 1037.7577133420352, 1006.0092467834004, 947.6601331589817, 849.0518493830199, 845.6350967815401, 825.9326490836074, 816.3631089981084, 4027.5919618062553, 23953.46507194438, 10341.47744298958, 5794.00871485372, 5085.448082313271, 8808.614073257439, 2725.1879141646455, 3621.7452864042275, 5285.060152677648, 3768.6680732164746, 40786.255597268835, 4310.141085508651, 3900.7446317524345, 3983.8677132915063, 2210.517858937165, 4120.222227609243, 2427.6862108680425, 4098.390761630814, 3495.4345628372457, 4407.167090311961, 3159.227215399577, 3749.3931959229194, 2692.4306689813016, 2984.890384471128, 2346.1249694489925, 19286.79077322531, 9378.807151386989, 4838.165945658174, 3919.3679196355647, 3666.0209323766007, 2773.548141102306, 2682.5337793554627, 2555.7701270470616, 2530.786552395712, 2477.3394979859495, 2475.4307727834653, 2353.1423444125126, 2339.2859450091114, 1986.4048757194632, 1983.4912110958558, 1859.8269008123116, 1723.0071198791588, 1659.324031797838, 1638.7818715793421, 1628.722856777369, 1543.0762349144698, 1526.539538931371, 1517.3426664965623, 1433.9750251425623, 1409.8790187053285, 1393.2675569884918, 1302.8007442916698, 1294.322667422025, 1288.9470936284797, 1274.4987530206504, 11485.100805273245, 4998.404855751614, 2609.098710753732, 3064.9822224722416, 2973.2564867588044, 3070.5805816598845, 2651.5810404620133, 2446.12068104008, 2116.200663354564, 1907.1078437438596, 1785.8775429171121, 24651.89081977202, 9950.993523931114, 5327.8330254220455, 3293.645162911707, 3193.9158440193874, 2673.443957512209, 2553.2561330086246, 2359.800931257719, 2097.544422776661, 1969.856718472305, 1858.7014009782185, 1665.2893824419496, 1505.206944321207, 1264.3010355911756, 1193.4663486646211, 1166.447332781936, 1107.572780977334, 1088.0229535832725, 976.699964604926, 963.141942852627, 962.0059335479011, 955.4711609031591, 923.4586146896233, 897.7152805041402, 876.3538041828432, 876.2990444206428, 868.3045498946267, 785.8477630350035, 782.8220304124908, 740.9305431070653, 3779.517710190957, 6721.262103212231, 8412.415000556706, 3340.5102581172905, 5428.8227341999, 3598.136147572544, 2471.0284002575568, 1502.3468370954777, 2963.559131563027, 1630.3199167584007, 3124.327332054847, 3543.1175014618484, 9506.560924757867, 1781.1495165550684, 1609.1790948181242, 1908.854235692124, 1768.6515834932352, 1603.1682282561856, 1524.0593789522193, 24617.915771932476, 4777.353562325162, 3406.2905613029016, 3116.647662389808, 3076.000968920152, 2839.031679683334, 2751.030693534058, 2678.2605462949764, 2264.705144156193, 2179.187776796258, 1753.1557304871205, 1751.175137871749, 1637.341248393874, 1600.7947239915045, 1402.4500057991706, 1337.1879035186537, 1293.8203753203093, 1217.9586401090796, 1114.3822246137304, 1017.4524266170002, 976.5120094340062, 833.1707524255705, 808.5746009972394, 777.1300672215078, 746.0250177575006, 720.0984048932052, 719.0927902130522, 684.5667348242229, 666.1474861019385, 655.8316564147759, 9721.594324922644, 2792.016628166669, 1776.4700016035977, 1501.342306142835, 1188.8651117839013, 1086.3276223501018, 2338.391475958072, 1195.7366905238948, 1669.5086634607933, 1108.5782634900663, 11372.28902027613, 7216.851806753104, 7193.907605949612, 5915.112550914308, 5020.858797940768, 4638.011454086422, 4502.788943976376, 4222.658792307731, 3861.7441573965784, 2662.2609154623515, 2562.3819074294834, 1723.0542939664117, 1582.9766229269326, 1549.429972194687, 1548.7650422485922, 1473.7435435687537, 1422.088960154714, 1404.7740409668413, 1351.0096638028147, 1315.502230286209, 1293.211720630364, 1137.4380018104575, 1102.3498917393854, 1059.2357293975156, 1033.013481122631, 995.820421611248, 995.8221655627312, 979.8229608827949, 903.8497491240566, 896.9296527522347, 11875.862374422008, 4754.431454393363, 1777.649082695057, 2486.1336357673554, 1537.1966369704924, 2427.1766430618827, 6438.568114603822, 2630.130159562137, 1522.9270446171888, 1425.8198536945965, 1387.167688108875, 6421.296167949418, 5803.731375483216, 5320.246761292453, 5019.117391741681, 4617.655921156317, 4054.873182223413, 3201.214014078748, 3010.3004359888337, 2990.6447020555056, 2792.6734843345616, 2767.192397054987, 2750.4559741617977, 1994.5868071647496, 1859.7050078005007, 1821.0304391673271, 1804.2830221802265, 1802.3579184256878, 1673.4618345361157, 1646.3888782795211, 1516.9550315550116, 1516.0574964744935, 1456.3459186953764, 1455.9022690953866, 1364.649773204788, 1338.0723093875754, 1306.440879554669, 1303.5396708588153, 1253.1104255243495, 1190.710697007246, 1137.6860872963384, 1737.5754096066516, 2741.778222105597, 1391.2284691187322, 1802.5865197577057, 1490.3431638059901, 1779.0000181443986, 15632.80601610722, 15117.576399895117, 5097.9545284841715, 4696.4310404462685, 4187.401611036508, 2663.555891589713, 2649.1996857949016, 2638.2671615554264, 1744.1475812113358, 1650.630604657952, 1439.3207598696988, 1389.5849633639943, 1300.800695761121, 1253.1135169122463, 1245.9282623822714, 1165.1802007067467, 1077.9954839623729, 1038.7998935666405, 972.5486555003371, 947.9460178009557, 906.6251851137251, 888.2786469804103, 880.112690005023, 843.0929605988424, 784.6477759208468, 775.3081152990272, 764.1244480145294, 748.3605315829252, 745.5618748506217, 722.7902408456113, 3219.4617647743817, 2002.5139608855552, 2119.0944880824504, 5760.358055726803, 1299.477643735844, 2703.7125871000517, 3181.374584548509, 1264.305636126144, 1813.6681370234976, 1602.3019150797975, 1307.3485262089985, 1065.2544325880297, 1169.643283821569, 1120.8731434693786], \"Total\": [152300.0, 55709.0, 24618.0, 24652.0, 39087.0, 23916.0, 19287.0, 15633.0, 15118.0, 14597.0, 11373.0, 17198.0, 14129.0, 14927.0, 9951.0, 15774.0, 10976.0, 14078.0, 11352.0, 11749.0, 9379.0, 33228.0, 18275.0, 12690.0, 7217.0, 17935.0, 7194.0, 9695.0, 8719.0, 14423.0, 12690.783182324072, 5774.926508441851, 5246.036511676405, 5138.30991261933, 4905.6403616682965, 4502.153650538696, 4092.4745545359274, 3903.555639685812, 3815.284644048883, 3503.3070050319275, 3098.25156119873, 3028.2108937413695, 2850.4413751107663, 2780.180183993182, 2706.042790377093, 2329.858776430467, 2279.913472869704, 2141.5113688860297, 2059.125874765154, 1959.385261869975, 1943.235448105398, 1924.951832098646, 1852.3603238599073, 1715.9881762201903, 1575.2260761616003, 1570.3352277247182, 1533.3749709676088, 1522.3903219897459, 1449.0263431438084, 1346.959260957388, 13662.946559809418, 13370.387348878694, 9550.318010280595, 18275.69352166221, 8014.690776006144, 33228.09637389539, 17935.894283718964, 5853.694513995044, 17299.78256734189, 6341.61903366265, 152300.69352940112, 6248.697155731478, 39087.824558766064, 7724.5309023145055, 6982.052239684551, 19140.937059915694, 55709.877651088005, 11749.011858364735, 7433.506483238332, 10534.871561754973, 17198.23911062368, 18190.802149176583, 13806.383311521286, 11352.320615889503, 8350.520803113557, 7880.595271054773, 6558.1800033316, 6077.093731957788, 4718.576917134676, 3945.8858152406992, 2450.692247896334, 2372.3881193866573, 2232.831092256735, 2183.549437787446, 2008.0485853997302, 1877.1126613401475, 1803.428663951531, 1449.4410348795684, 1437.8087481291875, 1366.5495718697869, 1347.5153611052215, 1318.2109336608846, 1299.9821274397486, 1235.894224203396, 1209.0639973933792, 1205.56982495969, 1169.4175552843615, 1131.107929827415, 1109.657245354559, 1095.0691410054799, 1087.7302991647825, 1071.3285955679341, 1048.1678134534195, 3165.3633995830787, 11162.153017322697, 13623.487338965217, 2044.3969279064875, 2024.3623053308095, 152300.69352940112, 2250.0879893777233, 4524.279421915426, 19140.937059915694, 5667.755696765418, 1890.287078887086, 2894.1778861406838, 17935.894283718964, 8641.135005349526, 14423.732949221723, 4666.27056841223, 8638.10643263597, 5470.0902616594385, 7190.804121482192, 5256.410727545412, 18190.802149176583, 6093.641486690945, 8627.731262973912, 33228.09637389539, 7438.260719658802, 6275.153086412517, 5690.339748503249, 5671.59208312116, 4917.894237836787, 3659.5059848715687, 3634.81390511574, 2872.922460423653, 2837.2656008185368, 2718.2185129452005, 2619.7403595181318, 2420.4324475660237, 2260.1899624237853, 1932.4574586054207, 1927.1673883655285, 1755.3648525168815, 1554.3223336619158, 1528.065356561058, 1525.6207908342938, 1383.6495228112624, 1365.28422066575, 1305.9348671240516, 1244.574752718885, 1123.4887475247788, 1091.4962018632095, 1075.8283023514332, 1005.7613961930987, 976.6726558520701, 942.9845241247573, 923.6685314279292, 14078.88441641883, 55709.877651088005, 2801.432432153906, 2247.230175299293, 11200.241985760384, 2438.422441965994, 3359.402903419519, 13806.383311521286, 10534.871561754973, 9230.038863554628, 5446.1864105764425, 9718.301444651375, 14927.337940094816, 3392.0881121276134, 152300.69352940112, 15774.389153904156, 33228.09637389539, 3962.3465783832257, 5867.269847500134, 9786.209094870026, 18275.69352166221, 14597.74931827661, 18190.802149176583, 23916.889437178015, 10976.964510782582, 8719.474094299769, 3606.6846301256264, 2627.932167378021, 2534.9453432631744, 2309.609045334643, 2235.700004393334, 2200.7984834753383, 1684.6832799987972, 1653.800954720619, 1592.7303341479546, 1497.994713274814, 1455.81095475483, 1384.8825476728625, 1372.770768754955, 1315.1328749610332, 1315.4133261072575, 1217.8938291541028, 1209.3103166577712, 1207.5458455876806, 1170.152017943804, 1104.651015334533, 1038.7452669392203, 1006.9966810375447, 948.648036062111, 850.0396387295825, 846.622580957987, 826.9200385938875, 817.3506408436247, 4723.299735049751, 39087.824558766064, 15774.389153904156, 8074.423207445202, 7263.031822614695, 14423.732949221723, 3510.2441804452433, 5162.968201849163, 8638.10643263597, 5560.0066082102585, 152300.69352940112, 7154.334605439848, 6475.764467951124, 6925.29479206617, 2908.790602404245, 8242.2538630749, 3506.3198442741564, 9336.033297348016, 7051.4242954922165, 14129.663557896629, 9254.053602819324, 18190.802149176583, 7061.750324113675, 33228.09637389539, 6982.052239684551, 19287.692583259046, 9379.708852009455, 4839.067559553515, 3920.2700851098743, 3666.9225216453683, 2774.449888657651, 2683.435954326131, 2556.671677831062, 2531.689376201203, 2478.2411593497577, 2476.3326329764623, 2354.0440487629403, 2340.1875708859493, 1987.3066039432, 1984.3928809526656, 1860.7287241275542, 1723.908810999121, 1660.2257180546703, 1639.6835222490242, 1629.624853905945, 1543.9778121248048, 1527.441276614914, 1518.2444064583408, 1434.8774624460716, 1410.7809162117367, 1394.1692046227915, 1303.7025464846133, 1295.224252035225, 1289.8487523526255, 1275.4004907021229, 17198.23911062368, 6801.759754031866, 3192.150224379975, 4150.545459574783, 9695.323831619673, 11162.153017322697, 13806.383311521286, 17299.78256734189, 8242.2538630749, 19140.937059915694, 13623.487338965217, 24652.84536648596, 9951.948189570267, 5328.787647463698, 3294.5997400176016, 3194.870735185295, 2674.39854143464, 2554.2107211823914, 2360.755802232557, 2098.498964146806, 1970.8112898385543, 1859.65597510239, 1666.2438739116267, 1506.1615117451454, 1265.2555945415331, 1194.4211779116276, 1167.401986321893, 1108.5273662761663, 1088.977484820151, 977.6545822299518, 964.096753983651, 962.960509736361, 956.4257565973578, 924.4132406396756, 898.6698539158115, 877.308376698979, 877.2536678686431, 869.259116771136, 786.8023530913497, 783.7766042448349, 741.8851316929424, 4714.576928553034, 9695.323831619673, 14927.337940094816, 4792.920435029538, 9786.209094870026, 6093.641486690945, 3820.491455771543, 2137.9724072200543, 7190.804121482192, 2708.6494806748815, 9718.301444651375, 14078.88441641883, 152300.69352940112, 4636.9467276378955, 3848.1736068354126, 7958.567857283583, 5872.1235651742645, 8627.731262973912, 19140.937059915694, 24618.88128296507, 4778.319125860834, 3407.256134013586, 3117.6132013663087, 3076.966411459571, 2839.9974139350743, 2751.996702336525, 2679.2259381211175, 2265.6705459346763, 2180.153380332355, 1754.1211482758958, 1752.14060402066, 1638.3069086460612, 1601.760117533803, 1403.4166078728147, 1338.1532683927119, 1294.7857161827437, 1218.923982536532, 1115.3476188896173, 1018.4177806421951, 977.4773747031905, 834.1364287432524, 809.539980910376, 778.0954968603509, 746.9906196167628, 721.0638248856391, 720.0583283269864, 685.5322141599265, 667.1128750167303, 656.7970466957227, 14129.663557896629, 5507.614607558624, 3600.998404524122, 2928.045416474193, 1869.9236232262897, 1590.6595531276298, 9254.053602819324, 2064.2169881927766, 9786.209094870026, 5872.1235651742645, 11373.259747999187, 7217.820632512316, 7194.876366360269, 5916.081264219953, 5021.827633087169, 4638.980441324839, 4503.75789248045, 4223.627670720953, 3862.7134327592335, 2663.2296767263056, 2563.350744450296, 1724.0231053130426, 1583.9456137043087, 1550.3987188079766, 1549.7342034501949, 1474.712269155048, 1423.0576982893415, 1405.7428350550204, 1351.9784227138007, 1316.4712712807543, 1294.1811838694807, 1138.4069080476322, 1103.3186779205678, 1060.204470898167, 1033.982484423528, 996.7891524915119, 996.7910438786375, 980.7918833531095, 904.8184815045222, 897.8983969469272, 14597.74931827661, 6560.4489733214805, 2172.17204413142, 4018.6617200530973, 2155.0514857141256, 5789.556398532987, 55709.877651088005, 9254.053602819324, 3480.5470723086573, 2928.045416474193, 4607.4928959295175, 6422.21376671689, 5804.649139121293, 5321.164555376663, 5020.035009214283, 4618.573592591831, 4055.7908658086535, 3202.13173516137, 3011.2180838427084, 2991.5623269624302, 2793.5911869393635, 2768.1100938351437, 2751.3736281881734, 1995.5045886380892, 1860.6227446364974, 1821.9480527052253, 1805.200662199802, 1803.2754827544388, 1674.3795792359044, 1647.306679245328, 1517.8726837823415, 1516.975100947984, 1457.2637305240546, 1456.8198766719547, 1365.5675116966931, 1338.9900996662025, 1307.3587480923497, 1304.457484680334, 1254.0280551739875, 1191.6285228112426, 1138.6037068209107, 2606.5257020295194, 8510.58332205085, 1884.3701689198515, 6801.759754031866, 2986.859690466717, 17299.78256734189, 15633.751708271922, 15118.522323337223, 5098.900090494747, 4697.3766701177865, 4188.347229765265, 2664.5015514713555, 2650.145374312527, 2639.2128128563127, 1745.0952144173982, 1651.5764404691708, 1440.2664208553563, 1390.5307809439798, 1301.7462974574996, 1254.0594970483437, 1246.8738528567123, 1166.126109584808, 1078.9411286307911, 1039.745491343425, 973.4942736829041, 948.8916411413338, 907.5708075256232, 889.2242561441352, 881.0583226057163, 844.0388340356836, 785.5937051674634, 776.2538131641966, 765.0700703543425, 749.3062685592365, 746.5075218290735, 723.7358227163849, 4607.4928959295175, 2669.5023363062046, 2887.4871757025285, 11749.011858364735, 1568.9737767603303, 4346.970511179758, 9336.033297348016, 1791.7750103670273, 4416.498009624877, 3333.280362408458, 2114.661054082838, 1389.816776890158, 3639.593546440972, 14423.732949221723], \"Category\": [\"Default\", \"Default\", \"Default\", \"Default\", \"Default\", \"Default\", \"Default\", \"Default\", \"Default\", \"Default\", \"Default\", \"Default\", \"Default\", \"Default\", \"Default\", \"Default\", \"Default\", \"Default\", \"Default\", \"Default\", \"Default\", \"Default\", \"Default\", \"Default\", \"Default\", \"Default\", \"Default\", \"Default\", \"Default\", \"Default\", \"Topic1\", \"Topic1\", \"Topic1\", \"Topic1\", \"Topic1\", \"Topic1\", \"Topic1\", \"Topic1\", \"Topic1\", \"Topic1\", \"Topic1\", \"Topic1\", \"Topic1\", \"Topic1\", \"Topic1\", \"Topic1\", \"Topic1\", \"Topic1\", \"Topic1\", \"Topic1\", \"Topic1\", \"Topic1\", \"Topic1\", \"Topic1\", \"Topic1\", \"Topic1\", \"Topic1\", \"Topic1\", \"Topic1\", \"Topic1\", \"Topic1\", \"Topic1\", \"Topic1\", \"Topic1\", \"Topic1\", \"Topic1\", \"Topic1\", \"Topic1\", \"Topic1\", \"Topic1\", \"Topic1\", \"Topic1\", \"Topic1\", \"Topic1\", \"Topic1\", \"Topic1\", \"Topic1\", \"Topic1\", \"Topic1\", \"Topic1\", \"Topic1\", \"Topic1\", \"Topic1\", \"Topic2\", \"Topic2\", \"Topic2\", \"Topic2\", \"Topic2\", \"Topic2\", \"Topic2\", \"Topic2\", \"Topic2\", \"Topic2\", \"Topic2\", \"Topic2\", \"Topic2\", \"Topic2\", \"Topic2\", \"Topic2\", \"Topic2\", \"Topic2\", \"Topic2\", \"Topic2\", \"Topic2\", \"Topic2\", \"Topic2\", \"Topic2\", \"Topic2\", \"Topic2\", \"Topic2\", \"Topic2\", \"Topic2\", \"Topic2\", \"Topic2\", \"Topic2\", \"Topic2\", \"Topic2\", \"Topic2\", \"Topic2\", \"Topic2\", \"Topic2\", \"Topic2\", \"Topic2\", \"Topic2\", \"Topic2\", \"Topic2\", \"Topic2\", \"Topic2\", \"Topic2\", \"Topic2\", \"Topic2\", \"Topic2\", \"Topic2\", \"Topic2\", \"Topic2\", \"Topic2\", \"Topic2\", \"Topic3\", \"Topic3\", \"Topic3\", \"Topic3\", \"Topic3\", \"Topic3\", \"Topic3\", \"Topic3\", \"Topic3\", \"Topic3\", \"Topic3\", \"Topic3\", \"Topic3\", \"Topic3\", \"Topic3\", \"Topic3\", \"Topic3\", \"Topic3\", \"Topic3\", \"Topic3\", \"Topic3\", \"Topic3\", \"Topic3\", \"Topic3\", \"Topic3\", \"Topic3\", \"Topic3\", \"Topic3\", \"Topic3\", \"Topic3\", \"Topic3\", \"Topic3\", \"Topic3\", \"Topic3\", \"Topic3\", \"Topic3\", \"Topic3\", \"Topic3\", \"Topic3\", \"Topic3\", \"Topic3\", \"Topic3\", \"Topic3\", \"Topic3\", \"Topic3\", \"Topic3\", \"Topic3\", \"Topic3\", \"Topic3\", \"Topic3\", \"Topic3\", \"Topic3\", \"Topic3\", \"Topic4\", \"Topic4\", \"Topic4\", \"Topic4\", \"Topic4\", \"Topic4\", \"Topic4\", \"Topic4\", \"Topic4\", \"Topic4\", \"Topic4\", \"Topic4\", \"Topic4\", \"Topic4\", \"Topic4\", \"Topic4\", \"Topic4\", \"Topic4\", \"Topic4\", \"Topic4\", \"Topic4\", \"Topic4\", \"Topic4\", \"Topic4\", \"Topic4\", \"Topic4\", \"Topic4\", \"Topic4\", \"Topic4\", \"Topic4\", \"Topic4\", \"Topic4\", \"Topic4\", \"Topic4\", \"Topic4\", \"Topic4\", \"Topic4\", \"Topic4\", \"Topic4\", \"Topic4\", \"Topic4\", \"Topic4\", \"Topic4\", \"Topic4\", \"Topic4\", \"Topic4\", \"Topic4\", \"Topic4\", \"Topic4\", \"Topic4\", \"Topic4\", \"Topic4\", \"Topic4\", \"Topic4\", \"Topic4\", \"Topic5\", \"Topic5\", \"Topic5\", \"Topic5\", \"Topic5\", \"Topic5\", \"Topic5\", \"Topic5\", \"Topic5\", \"Topic5\", \"Topic5\", \"Topic5\", \"Topic5\", \"Topic5\", \"Topic5\", \"Topic5\", \"Topic5\", \"Topic5\", \"Topic5\", \"Topic5\", \"Topic5\", \"Topic5\", \"Topic5\", \"Topic5\", \"Topic5\", \"Topic5\", \"Topic5\", \"Topic5\", \"Topic5\", \"Topic5\", \"Topic5\", \"Topic5\", \"Topic5\", \"Topic5\", \"Topic5\", \"Topic5\", \"Topic5\", \"Topic5\", \"Topic5\", \"Topic5\", \"Topic5\", \"Topic6\", \"Topic6\", \"Topic6\", \"Topic6\", \"Topic6\", \"Topic6\", \"Topic6\", \"Topic6\", \"Topic6\", \"Topic6\", \"Topic6\", \"Topic6\", \"Topic6\", \"Topic6\", \"Topic6\", \"Topic6\", \"Topic6\", \"Topic6\", \"Topic6\", \"Topic6\", \"Topic6\", \"Topic6\", \"Topic6\", \"Topic6\", \"Topic6\", \"Topic6\", \"Topic6\", \"Topic6\", \"Topic6\", \"Topic6\", \"Topic6\", \"Topic6\", \"Topic6\", \"Topic6\", \"Topic6\", \"Topic6\", \"Topic6\", \"Topic6\", \"Topic6\", \"Topic6\", \"Topic6\", \"Topic6\", \"Topic6\", \"Topic6\", \"Topic6\", \"Topic6\", \"Topic6\", \"Topic6\", \"Topic6\", \"Topic7\", \"Topic7\", \"Topic7\", \"Topic7\", \"Topic7\", \"Topic7\", \"Topic7\", \"Topic7\", \"Topic7\", \"Topic7\", \"Topic7\", \"Topic7\", \"Topic7\", \"Topic7\", \"Topic7\", \"Topic7\", \"Topic7\", \"Topic7\", \"Topic7\", \"Topic7\", \"Topic7\", \"Topic7\", \"Topic7\", \"Topic7\", \"Topic7\", \"Topic7\", \"Topic7\", \"Topic7\", \"Topic7\", \"Topic7\", \"Topic7\", \"Topic7\", \"Topic7\", \"Topic7\", \"Topic7\", \"Topic7\", \"Topic7\", \"Topic7\", \"Topic7\", \"Topic7\", \"Topic8\", \"Topic8\", \"Topic8\", \"Topic8\", \"Topic8\", \"Topic8\", \"Topic8\", \"Topic8\", \"Topic8\", \"Topic8\", \"Topic8\", \"Topic8\", \"Topic8\", \"Topic8\", \"Topic8\", \"Topic8\", \"Topic8\", \"Topic8\", \"Topic8\", \"Topic8\", \"Topic8\", \"Topic8\", \"Topic8\", \"Topic8\", \"Topic8\", \"Topic8\", \"Topic8\", \"Topic8\", \"Topic8\", \"Topic8\", \"Topic8\", \"Topic8\", \"Topic8\", \"Topic8\", \"Topic8\", \"Topic8\", \"Topic8\", \"Topic8\", \"Topic8\", \"Topic8\", \"Topic8\", \"Topic9\", \"Topic9\", \"Topic9\", \"Topic9\", \"Topic9\", \"Topic9\", \"Topic9\", \"Topic9\", \"Topic9\", \"Topic9\", \"Topic9\", \"Topic9\", \"Topic9\", \"Topic9\", \"Topic9\", \"Topic9\", \"Topic9\", \"Topic9\", \"Topic9\", \"Topic9\", \"Topic9\", \"Topic9\", \"Topic9\", \"Topic9\", \"Topic9\", \"Topic9\", \"Topic9\", \"Topic9\", \"Topic9\", \"Topic9\", \"Topic9\", \"Topic9\", \"Topic9\", \"Topic9\", \"Topic9\", \"Topic9\", \"Topic10\", \"Topic10\", \"Topic10\", \"Topic10\", \"Topic10\", \"Topic10\", \"Topic10\", \"Topic10\", \"Topic10\", \"Topic10\", \"Topic10\", \"Topic10\", \"Topic10\", \"Topic10\", \"Topic10\", \"Topic10\", \"Topic10\", \"Topic10\", \"Topic10\", \"Topic10\", \"Topic10\", \"Topic10\", \"Topic10\", \"Topic10\", \"Topic10\", \"Topic10\", \"Topic10\", \"Topic10\", \"Topic10\", \"Topic10\", \"Topic10\", \"Topic10\", \"Topic10\", \"Topic10\", \"Topic10\", \"Topic10\", \"Topic10\", \"Topic10\", \"Topic10\", \"Topic10\", \"Topic10\", \"Topic10\", \"Topic10\", \"Topic10\"], \"logprob\": [30.0, 29.0, 28.0, 27.0, 26.0, 25.0, 24.0, 23.0, 22.0, 21.0, 20.0, 19.0, 18.0, 17.0, 16.0, 15.0, 14.0, 13.0, 12.0, 11.0, 10.0, 9.0, 8.0, 7.0, 6.0, 5.0, 4.0, 3.0, 2.0, 1.0, -3.9156, -4.7031, -4.7991, -4.8199, -4.8662, -4.9521, -5.0475, -5.0948, -5.1177, -5.203, -5.3259, -5.3488, -5.4093, -5.4343, -5.4613, -5.611, -5.6327, -5.6954, -5.7346, -5.7843, -5.7926, -5.802, -5.8405, -5.917, -6.0026, -6.0058, -6.0296, -6.0368, -6.0862, -6.1593, -3.9511, -4.0058, -4.3218, -3.7194, -4.4954, -3.383, -3.9112, -4.9492, -4.1501, -4.9056, -2.6535, -4.9648, -3.7395, -4.836, -4.9228, -4.3531, -3.7791, -4.6667, -4.9474, -4.8734, -4.7138, -4.7353, -5.0126, -3.6106, -3.9177, -3.9756, -4.1594, -4.2356, -4.4886, -4.6675, -5.1439, -5.1764, -5.2371, -5.2594, -5.3432, -5.4107, -5.4507, -5.6694, -5.6774, -5.7283, -5.7423, -5.7643, -5.7783, -5.8289, -5.8508, -5.8537, -5.8842, -5.9175, -5.9367, -5.9499, -5.9567, -5.9719, -5.9938, -4.9894, -3.9492, -3.8535, -5.4694, -5.481, -2.3986, -5.4231, -4.9428, -4.023, -4.878, -5.5641, -5.344, -4.3934, -4.7897, -4.5373, -5.1162, -4.8303, -5.0468, -4.9454, -5.1159, -4.6903, -5.1258, -5.1009, -4.8852, -3.9289, -4.099, -4.1968, -4.2001, -4.3427, -4.6384, -4.6451, -4.8804, -4.8929, -4.9358, -4.9727, -5.0519, -5.1204, -5.2771, -5.2799, -5.3733, -5.495, -5.5121, -5.5137, -5.6114, -5.6248, -5.6692, -5.7174, -5.8198, -5.8488, -5.8632, -5.9306, -5.96, -5.9952, -6.0159, -3.5807, -2.388, -5.0553, -5.2675, -3.9552, -5.2201, -5.0086, -4.0014, -4.2012, -4.2959, -4.6854, -4.3295, -4.0615, -5.0311, -2.9894, -4.2431, -4.2393, -5.0842, -4.9929, -4.947, -4.8941, -4.9344, -4.9219, -2.7443, -3.5231, -3.7534, -4.6363, -4.953, -4.989, -5.0822, -5.1147, -5.1304, -5.3978, -5.4163, -5.454, -5.5153, -5.5439, -5.5939, -5.6027, -5.6456, -5.6454, -5.7225, -5.7296, -5.731, -5.7625, -5.8202, -5.8817, -5.9128, -5.9726, -6.0824, -6.0865, -6.11, -6.1217, -4.5256, -2.7427, -3.5826, -4.162, -4.2924, -3.7431, -4.9163, -4.6318, -4.2539, -4.5921, -2.2105, -4.4578, -4.5576, -4.5366, -5.1256, -4.5029, -5.0319, -4.5082, -4.6673, -4.4356, -4.7685, -4.5972, -4.9284, -4.8252, -5.066, -2.728, -3.449, -4.1109, -4.3215, -4.3884, -4.6673, -4.7007, -4.7491, -4.7589, -4.7803, -4.781, -4.8317, -4.8376, -5.0011, -5.0026, -5.067, -5.1434, -5.1811, -5.1935, -5.1997, -5.2537, -5.2645, -5.2705, -5.327, -5.344, -5.3558, -5.4229, -5.4295, -5.4336, -5.4449, -3.2464, -4.0783, -4.7285, -4.5674, -4.5978, -4.5656, -4.7123, -4.793, -4.9378, -5.0419, -5.1076, -2.2387, -3.1459, -3.7706, -4.2515, -4.2823, -4.4602, -4.5062, -4.585, -4.7028, -4.7656, -4.8237, -4.9335, -5.0346, -5.209, -5.2667, -5.2896, -5.3414, -5.3592, -5.4671, -5.4811, -5.4823, -5.4891, -5.5232, -5.5514, -5.5755, -5.5756, -5.5848, -5.6845, -5.6884, -5.7434, -4.1139, -3.5383, -3.3138, -4.2374, -3.7518, -4.1631, -4.5389, -5.0365, -4.3572, -4.9548, -4.3043, -4.1785, -3.1916, -4.8663, -4.9678, -4.797, -4.8733, -4.9716, -5.0222, -2.1382, -3.7778, -4.1161, -4.2049, -4.218, -4.2982, -4.3297, -4.3565, -4.5242, -4.5627, -4.7803, -4.7814, -4.8486, -4.8712, -5.0035, -5.0511, -5.0841, -5.1445, -5.2334, -5.3244, -5.3654, -5.5242, -5.5542, -5.5938, -5.6347, -5.67, -5.6714, -5.7206, -5.7479, -5.7635, -3.0673, -4.3149, -4.7671, -4.9353, -5.1687, -5.2589, -4.4922, -5.1629, -4.8292, -5.2386, -2.9067, -3.3614, -3.3646, -3.5603, -3.7242, -3.8035, -3.8331, -3.8974, -3.9867, -4.3587, -4.3969, -4.7937, -4.8785, -4.8999, -4.9004, -4.95, -4.9857, -4.998, -5.037, -5.0636, -5.0807, -5.2091, -5.2404, -5.2803, -5.3054, -5.342, -5.342, -5.3582, -5.4389, -5.4466, -2.8633, -3.7788, -4.7625, -4.4271, -4.9079, -4.4511, -3.4755, -4.3708, -4.9172, -4.9831, -5.0106, -3.4562, -3.5573, -3.6443, -3.7026, -3.7859, -3.9159, -4.1523, -4.2138, -4.2203, -4.2888, -4.298, -4.3041, -4.6254, -4.6954, -4.7164, -4.7257, -4.7267, -4.8009, -4.8172, -4.8991, -4.8997, -4.9399, -4.9402, -5.0049, -5.0246, -5.0485, -5.0507, -5.0902, -5.1413, -5.1868, -4.7633, -4.3072, -4.9856, -4.7266, -4.9168, -4.7398, -2.5462, -2.5797, -3.6667, -3.7488, -3.8635, -4.3159, -4.3213, -4.3255, -4.7393, -4.7944, -4.9314, -4.9666, -5.0326, -5.07, -5.0757, -5.1427, -5.2205, -5.2575, -5.3234, -5.349, -5.3936, -5.4141, -5.4233, -5.4663, -5.5381, -5.5501, -5.5646, -5.5855, -5.5892, -5.6202, -4.1264, -4.6012, -4.5446, -3.5446, -5.0336, -4.301, -4.1383, -5.0611, -4.7002, -4.8241, -5.0276, -5.2324, -5.1389, -5.1815], \"loglift\": [30.0, 29.0, 28.0, 27.0, 26.0, 25.0, 24.0, 23.0, 22.0, 21.0, 20.0, 19.0, 18.0, 17.0, 16.0, 15.0, 14.0, 13.0, 12.0, 11.0, 10.0, 9.0, 8.0, 7.0, 6.0, 5.0, 4.0, 3.0, 2.0, 1.0, 1.5996, 1.5995, 1.5995, 1.5995, 1.5995, 1.5995, 1.5995, 1.5995, 1.5995, 1.5994, 1.5994, 1.5994, 1.5994, 1.5994, 1.5994, 1.5993, 1.5993, 1.5993, 1.5993, 1.5992, 1.5992, 1.5992, 1.5992, 1.5992, 1.5991, 1.5991, 1.5991, 1.5991, 1.5991, 1.599, 1.4904, 1.4573, 1.4778, 1.4312, 1.4795, 1.1698, 1.2581, 1.3398, 1.0553, 1.3034, 0.3768, 1.2589, 0.6508, 1.1757, 1.19, 0.7512, 0.2569, 0.9257, 1.1028, 0.828, 0.4975, 0.4199, 0.4184, 2.0161, 2.0161, 2.0161, 2.0161, 2.0161, 2.016, 2.016, 2.0159, 2.0158, 2.0158, 2.0158, 2.0158, 2.0157, 2.0157, 2.0156, 2.0156, 2.0156, 2.0155, 2.0155, 2.0155, 2.0155, 2.0155, 2.0155, 2.0154, 2.0154, 2.0154, 2.0154, 2.0154, 2.0154, 2.0154, 1.9144, 1.6944, 1.5909, 1.8717, 1.8699, 0.6317, 1.8221, 1.6039, 1.0814, 1.4434, 1.8553, 1.6495, 0.776, 1.1099, 0.85, 1.3996, 1.0697, 1.3101, 1.1379, 1.2808, 0.4649, 1.1231, 0.8003, -0.3325, 2.1206, 2.1206, 2.1206, 2.1206, 2.1205, 2.1205, 2.1205, 2.1204, 2.1204, 2.1204, 2.1204, 2.1203, 2.1203, 2.1202, 2.1202, 2.1202, 2.1201, 2.1201, 2.1201, 2.12, 2.12, 2.12, 2.12, 2.1199, 2.1198, 2.1198, 2.1198, 2.1197, 2.1197, 2.1197, 1.8308, 1.648, 1.9707, 1.979, 1.685, 1.9447, 1.8358, 1.4296, 1.5002, 1.5377, 1.6759, 1.4527, 1.2915, 1.8036, 0.0409, 1.0547, 0.3135, 1.5951, 1.2939, 0.8282, 0.2564, 0.4409, 0.2333, 2.1373, 2.1373, 2.1372, 2.1371, 2.137, 2.137, 2.1369, 2.1369, 2.1369, 2.1368, 2.1368, 2.1367, 2.1367, 2.1367, 2.1366, 2.1366, 2.1366, 2.1366, 2.1365, 2.1365, 2.1365, 2.1365, 2.1365, 2.1364, 2.1364, 2.1363, 2.1362, 2.1362, 2.1362, 2.1361, 1.978, 1.6476, 1.7151, 1.8055, 1.7809, 1.6442, 1.8842, 1.7828, 1.646, 1.7485, 0.8198, 1.6306, 1.6304, 1.5844, 1.8628, 1.444, 1.7697, 1.3141, 1.4356, 0.9723, 1.0626, 0.558, 1.1731, -0.2725, 1.0468, 2.3686, 2.3686, 2.3685, 2.3685, 2.3684, 2.3684, 2.3684, 2.3683, 2.3683, 2.3683, 2.3683, 2.3683, 2.3683, 2.3682, 2.3682, 2.3682, 2.3682, 2.3681, 2.3681, 2.3681, 2.3681, 2.3681, 2.3681, 2.3681, 2.3681, 2.368, 2.368, 2.368, 2.368, 2.368, 1.9649, 2.0606, 2.167, 2.0655, 1.1867, 1.078, 0.7187, 0.4125, 1.009, 0.0624, 0.3368, 2.6126, 2.6125, 2.6124, 2.6123, 2.6123, 2.6123, 2.6122, 2.6122, 2.6122, 2.6121, 2.6121, 2.612, 2.612, 2.6119, 2.6118, 2.6118, 2.6117, 2.6117, 2.6116, 2.6116, 2.6116, 2.6116, 2.6116, 2.6115, 2.6115, 2.6115, 2.6115, 2.6114, 2.6114, 2.6113, 2.3915, 2.2462, 2.0391, 2.2516, 2.0234, 2.0858, 2.1769, 2.2598, 1.7262, 2.1049, 1.4778, 1.2329, -0.1613, 1.6558, 1.7407, 1.1849, 1.4126, 0.9296, 0.0822, 2.7144, 2.7143, 2.7142, 2.7142, 2.7142, 2.7141, 2.7141, 2.7141, 2.714, 2.714, 2.7139, 2.7139, 2.7139, 2.7139, 2.7138, 2.7138, 2.7137, 2.7137, 2.7136, 2.7135, 2.7135, 2.7133, 2.7133, 2.7132, 2.7132, 2.7131, 2.7131, 2.7131, 2.713, 2.713, 2.3405, 2.0351, 2.0079, 2.0465, 2.2616, 2.3331, 1.3389, 2.1685, 0.946, 1.0473, 2.7182, 2.7182, 2.7182, 2.7182, 2.7181, 2.7181, 2.7181, 2.7181, 2.7181, 2.718, 2.7179, 2.7178, 2.7177, 2.7177, 2.7177, 2.7177, 2.7176, 2.7176, 2.7176, 2.7176, 2.7176, 2.7175, 2.7174, 2.7174, 2.7174, 2.7173, 2.7173, 2.7173, 2.7172, 2.7172, 2.512, 2.3963, 2.5179, 2.2381, 2.3805, 1.849, 0.5605, 1.4603, 1.8918, 1.9987, 1.5179, 2.7402, 2.7402, 2.7402, 2.7401, 2.7401, 2.7401, 2.74, 2.74, 2.74, 2.74, 2.74, 2.74, 2.7399, 2.7398, 2.7398, 2.7398, 2.7398, 2.7398, 2.7398, 2.7397, 2.7397, 2.7397, 2.7397, 2.7397, 2.7396, 2.7396, 2.7396, 2.7396, 2.7396, 2.7395, 2.3348, 1.6076, 2.4369, 1.4124, 2.0451, 0.4657, 2.7605, 2.7605, 2.7604, 2.7604, 2.7603, 2.7602, 2.7602, 2.7602, 2.76, 2.76, 2.7599, 2.7599, 2.7598, 2.7598, 2.7598, 2.7598, 2.7597, 2.7597, 2.7596, 2.7596, 2.7595, 2.7595, 2.7595, 2.7594, 2.7594, 2.7593, 2.7593, 2.7593, 2.7593, 2.7593, 2.4021, 2.4731, 2.4512, 2.0478, 2.5721, 2.2857, 1.684, 2.4119, 1.8706, 2.028, 2.2797, 2.4946, 1.6254, 0.2058]}, \"token.table\": {\"Topic\": [2, 7, 6, 5, 1, 3, 8, 2, 4, 6, 9, 10, 2, 10, 2, 9, 7, 3, 10, 7, 4, 7, 2, 2, 7, 8, 9, 5, 1, 8, 3, 10, 1, 3, 4, 1, 8, 1, 4, 4, 9, 7, 8, 3, 9, 7, 9, 3, 8, 7, 2, 4, 6, 2, 4, 3, 2, 2, 4, 10, 1, 2, 3, 5, 9, 1, 2, 6, 5, 6, 5, 1, 2, 5, 10, 6, 10, 6, 8, 7, 2, 4, 5, 3, 8, 3, 4, 6, 2, 5, 10, 9, 8, 3, 4, 7, 10, 1, 1, 4, 6, 5, 10, 1, 2, 10, 2, 9, 4, 9, 10, 1, 2, 4, 6, 6, 9, 8, 2, 2, 5, 6, 9, 1, 2, 3, 4, 5, 6, 7, 1, 2, 4, 5, 10, 2, 5, 10, 7, 5, 1, 3, 5, 1, 3, 1, 2, 3, 4, 5, 6, 4, 10, 3, 4, 4, 5, 3, 3, 7, 10, 10, 4, 5, 2, 6, 2, 1, 2, 4, 5, 6, 8, 2, 1, 1, 2, 4, 5, 5, 8, 1, 4, 10, 1, 2, 5, 6, 5, 10, 1, 2, 7, 2, 9, 10, 6, 1, 4, 10, 2, 6, 1, 10, 8, 1, 3, 10, 3, 2, 7, 9, 1, 2, 9, 9, 2, 1, 6, 8, 9, 3, 5, 5, 6, 4, 9, 1, 2, 4, 10, 2, 2, 1, 3, 3, 7, 6, 2, 4, 4, 6, 2, 4, 6, 10, 3, 4, 6, 7, 3, 6, 7, 2, 6, 8, 4, 10, 7, 1, 5, 6, 9, 1, 3, 2, 1, 6, 1, 10, 1, 5, 4, 5, 7, 3, 1, 2, 3, 4, 3, 9, 6, 2, 10, 3, 8, 9, 3, 3, 6, 2, 5, 6, 1, 10, 5, 9, 6, 9, 1, 2, 5, 5, 9, 1, 3, 8, 8, 3, 7, 4, 2, 2, 3, 7, 8, 1, 3, 9, 1, 3, 4, 5, 1, 2, 10, 9, 1, 4, 5, 3, 7, 4, 7, 2, 7, 3, 3, 8, 7, 6, 8, 10, 4, 10, 4, 1, 4, 4, 6, 1, 2, 7, 1, 3, 3, 2, 5, 6, 1, 2, 1, 1, 10, 5, 3, 2, 4, 5, 8, 10, 6, 9, 8, 4, 3, 10, 9, 9, 3, 7, 4, 9, 7, 1, 2, 4, 2, 4, 10, 1, 6, 1, 5, 6, 1, 3, 4, 7, 2, 10, 1, 4, 4, 8, 1, 6, 2, 2, 2, 8, 1, 5, 3, 6, 8, 7, 5, 1, 1, 1, 4, 4, 8, 9, 1, 10, 5, 6, 10, 1, 9, 1, 8, 5, 1, 2, 5, 8, 2, 8, 2, 10, 1, 2, 4, 1, 2, 3, 6, 9, 1, 10, 3, 9, 3, 6, 7, 5, 4, 8, 3, 1, 1, 2, 3, 4, 6, 7, 10, 3, 4, 6, 2, 4, 10, 7, 2, 6, 8, 1, 3, 4, 6, 5, 1, 6, 9, 5, 6, 5, 3, 4, 8, 8, 4, 10, 8, 9, 4, 5, 4, 1, 2, 10, 9, 4, 3, 6, 10, 8, 8, 5, 2, 4, 10, 3, 9, 1, 4, 5, 7, 8, 10, 1, 7, 6, 4, 1, 2, 3, 4, 6, 2, 4, 6, 9, 1, 8, 7, 7, 8, 8, 8, 5, 4, 7, 8, 10, 4, 7, 7, 10, 4, 7, 5, 1, 3, 5, 6, 3, 2, 6, 3, 2, 5, 6, 8, 5, 1, 3, 8, 10, 1, 8, 3, 4, 8, 8, 10, 8, 4, 4, 1, 2, 4, 8, 7, 9, 3, 3, 7, 1, 1, 10, 7, 5, 2, 3, 7, 3, 6, 3, 10, 10, 6, 5, 3, 10], \"Freq\": [0.3168496986102472, 0.6827356601006517, 0.998551505820482, 0.9994925317522733, 0.36911290829492455, 0.21158788613068907, 0.41920310174627134, 0.8639757791351428, 0.13584524829168912, 0.6017759077464215, 0.21265209991529987, 0.18533221207895925, 0.5190082477040696, 0.4806076374693177, 0.999627785433651, 0.9998120289999102, 0.9985920791666688, 0.9998181665173058, 0.9998117653671177, 0.9997040408474748, 0.311897023021264, 0.6880560149336802, 0.9992764557145071, 0.08449542967289395, 0.63585484734855, 0.2796905678412882, 0.9996492912297207, 0.9993884756928472, 0.9996314040837347, 0.9990873118198573, 0.9989559487991905, 0.9987692106171033, 0.7111882508058244, 0.08001667988364361, 0.20868350113654252, 0.9993642313870907, 0.9992064095243478, 0.9998694642042454, 0.9999628113354644, 0.9987769526476009, 0.9998050033064276, 0.9993931689445416, 0.9996420193201058, 0.9998617341046413, 0.9991328058898439, 0.9992419686955298, 0.9998881691027769, 0.18639859752854268, 0.8135500713888176, 0.9987864642514267, 0.29973708682117256, 0.7001208481789906, 0.9999047232208002, 0.32194206340632264, 0.6778768921667208, 0.9995305727349635, 0.9999244636941376, 0.22022200805389427, 0.43894444990508696, 0.3407228636281312, 0.580180702325566, 0.10300707497700096, 0.0725442643637128, 0.1413890602658498, 0.1028336623928646, 0.1365963377519154, 0.6622048995222306, 0.2011370021913317, 0.3066426714189844, 0.6932207852697592, 0.9997484207424829, 0.21528995675073445, 0.6535037452955298, 0.13109712334020177, 0.9995404641677985, 0.9985092866983944, 0.9991207037552093, 0.9988069154440087, 0.9992083054981694, 0.9986375984741913, 0.2432587048771152, 0.49986327386220186, 0.2567258950224318, 0.1813852641481479, 0.8185355321203223, 0.4373413984177487, 0.3874033509756597, 0.17503882158029146, 0.6931156545719284, 0.20316650293534091, 0.10365637904864332, 0.999598970489788, 0.9995170114401665, 0.29827803306021433, 0.7015344387948678, 0.999648797590385, 0.9993724042055987, 0.9992656267560985, 0.28237311092359824, 0.7175744757418107, 0.9996472599711064, 0.26597520725374124, 0.7338560731389033, 0.8964391353200788, 0.10349158534802347, 0.9994266951563778, 0.9993286027194946, 0.9994250612770981, 0.9995156885607468, 0.9993348871264323, 0.9989832993016386, 0.8672897573885544, 0.13260647980768428, 0.9994106597237538, 0.9999657091717653, 0.9984712025125282, 0.9991801976281585, 0.9994715711604596, 0.9990236771675456, 0.415530718056064, 0.17230340015778559, 0.41219312192709967, 0.9996465682067533, 0.27005940831736885, 0.2964858225218152, 0.09701275740842821, 0.05575046154534524, 0.0067225088765696965, 0.18579623670933143, 0.08820395267361274, 0.43582237723037043, 0.40399785419841294, 0.1600484194661716, 0.999964091958846, 0.9991277293952215, 0.9996957207165001, 0.8173174244977012, 0.18232224647668152, 0.9996313356072511, 0.9994611144340343, 0.306887032208085, 0.5010001420305226, 0.1920850624063822, 0.46227426423305357, 0.5376430046439457, 0.30735313122258767, 0.21197525916549778, 0.15145016571601305, 0.20609316561500288, 0.05799634295114112, 0.06508783891388728, 0.9997362993811125, 0.9992991649839233, 0.3443556480699338, 0.65555628805066, 0.9993168846216126, 0.9999244270775737, 0.9998956054821146, 0.9994735122075716, 0.2941217490761015, 0.7054457131540651, 0.9994922685255927, 0.9993627274209315, 0.9990547953118534, 0.9988858525911305, 0.9990091510251405, 0.9994072485029465, 0.21473712741368967, 0.25469406510681625, 0.10805964281788948, 0.18269618681071081, 0.23986727690622212, 0.9995262391134168, 0.9997175296502742, 0.9996146437961732, 0.2889804619033886, 0.47941459117612856, 0.13221950034421007, 0.09949755205758541, 0.9998378458160335, 0.9992567425125397, 0.9994532268381686, 0.9992646298693303, 0.9990343157780688, 0.42808771453303607, 0.39266625121189885, 0.099629396096473, 0.07961992640326421, 0.3816214416215315, 0.6180659531590356, 0.7106420119553218, 0.2893081280430068, 0.9987917498842568, 0.9998777349305082, 0.9989606922397296, 0.9992442592607882, 0.999817962707179, 0.21963102844970794, 0.3695235447731169, 0.41073266557502086, 0.9994778087505679, 0.9992546162387748, 0.9990867506383456, 0.9992830059378648, 0.9987641430865479, 0.7711369271505208, 0.22874442743787052, 0.9990603340753836, 0.9998162456920751, 0.9999376322596115, 0.9999642029645888, 0.9997811465207392, 0.1759931175444905, 0.8235233505301539, 0.9997471373200733, 0.9995007482175083, 0.9990813809611473, 0.1981089743903398, 0.8017686543848871, 0.26109519674789883, 0.7381776802364376, 0.9998305088102827, 0.9998375387624108, 0.9993425252346028, 0.998799054363176, 0.9995944163470313, 0.9994725513872731, 0.24277478733909047, 0.493593317632187, 0.1904904581380514, 0.07312493594550919, 0.9998200715242642, 0.9991199825686042, 0.35896678016812067, 0.6409989921058359, 0.9995930896864913, 0.9995424282425479, 0.999852190119816, 0.3880480086857551, 0.6118239039093722, 0.3530959342840806, 0.6467754289221372, 0.998759861751632, 0.9994385306181497, 0.9988624025761739, 0.9983847896874275, 0.999764557379267, 0.581574593210841, 0.4181204291672222, 0.9997239351692325, 0.2745700581248092, 0.5547602700258986, 0.1706483055706853, 0.1131913579346264, 0.7025347918091275, 0.18381902342276105, 0.8527936455333959, 0.147142895641934, 0.9993490225510198, 0.9996001289923789, 0.9989019208379386, 0.5008604872786107, 0.4988516885328408, 0.8449474150842249, 0.1550146371540998, 0.999820023845932, 0.999505529394152, 0.9992534862806688, 0.9998840421535666, 0.9993710600639751, 0.8852061251677227, 0.1146558678801344, 0.999686896993354, 0.9994991773318448, 0.9995116258283364, 0.9991492539010229, 0.6505639010058584, 0.09549147698069059, 0.1641081071464563, 0.08983361449333799, 0.867734877109459, 0.13171770442276917, 0.9995883472746796, 0.9996175471389069, 0.9998234735965066, 0.26725314913687476, 0.6186139001436411, 0.11396828892429109, 0.9995649733690207, 0.43638055399706616, 0.5635298158156771, 0.999414885205623, 0.9994728195637017, 0.9988101534551552, 0.17144964688666767, 0.8279297074564361, 0.3330103360669527, 0.6667879770557186, 0.9985086467498441, 0.9997938243035391, 0.9998576580591902, 0.9997623061227209, 0.9993419752889031, 0.7348098405030177, 0.2650784598693359, 0.2611206596271514, 0.6233005970229741, 0.11558093952974688, 0.9998153026954619, 0.9993942465130035, 0.9996859206990457, 0.9998309422926398, 0.9997483740107104, 0.9992445069674282, 0.5910638945055677, 0.18196288127178237, 0.22663338055764295, 0.9992917015286406, 0.9995539364315517, 0.9994796488825147, 0.654408670756352, 0.16415236291178129, 0.09825839388804573, 0.08311184305154856, 0.9996632901162731, 0.37773433147913504, 0.6220424070155792, 0.9994372147956769, 0.3058285809467646, 0.6024319853201808, 0.0915528887203523, 0.9997173920249609, 0.9986738526686305, 0.5065261894335786, 0.4931965528695371, 0.9995978397848861, 0.999360849005784, 0.999538193493296, 0.99905937485667, 0.9994030011534947, 0.9985302186151428, 0.9989802355214149, 0.2494847039248317, 0.7503271200622191, 0.9992825315667465, 0.9996783385685669, 0.9995479711269969, 0.3871538048183903, 0.6127995167392389, 0.30294681910175536, 0.6970697814180198, 0.3059412036742501, 0.563891630301559, 0.13003383339557226, 0.3531173705914797, 0.646861024003861, 0.9992841395481611, 0.8652918500574638, 0.1340248541072612, 0.9990076356532626, 0.999845155520608, 0.9998836699619236, 0.9995960427441063, 0.5096598822254852, 0.49025399492631844, 0.9997372842837482, 0.9997760806641037, 0.5398315342132268, 0.17101451540379317, 0.1090806871435222, 0.0902219435902217, 0.08979333578219215, 0.9985709174956328, 0.9994697831938416, 0.9998892359774506, 0.9998101774355573, 0.9993028069404992, 0.9999519176019966, 0.9992605623697671, 0.99929268557875, 0.9993112780950305, 0.9992022809406687, 0.9989255650074338, 0.9992067783966452, 0.9989906006065, 0.1848296770653586, 0.23970098744413695, 0.5752823698659286, 0.9994077041741397, 0.7601097164479664, 0.2396184859177895, 0.9992216506696056, 0.9990025450403734, 0.999938287313492, 0.9994464652854579, 0.9997274583989564, 0.6083266369911117, 0.22546560008781583, 0.1228222511218233, 0.043317376627850054, 0.9032138301645142, 0.09667136482348421, 0.6638449328201259, 0.33600436081898927, 0.9988873911007744, 0.9997886515502188, 0.9997437558492572, 0.9996798473472596, 0.9990204915037735, 0.9995273397294021, 0.8511934604913584, 0.14812564881142345, 0.33212702552039697, 0.6678009257881231, 0.7482837196755487, 0.2516534616811077, 0.9989994447590262, 0.9985246453241392, 0.9997793873426282, 0.9995993387992246, 0.9998024200414736, 0.9998395635960914, 0.9996270754848081, 0.9983475380379826, 0.9988048077613867, 0.9998758074153564, 0.9991497180339941, 0.9986013433333669, 0.9994618521927482, 0.9992288265660171, 0.9987988052793301, 0.8867466254938332, 0.11316718577781155, 0.2863040647010542, 0.713208018550276, 0.9995564871594103, 0.9992930119987465, 0.7248601580217963, 0.27512613339326863, 0.9991926081704487, 0.5622679306853666, 0.43757488933766653, 0.9994375134173862, 0.9995678069876358, 0.25923840679514787, 0.24505687469475682, 0.49564454690866616, 0.2730717639504845, 0.15087097457505255, 0.25368413871303613, 0.00023500151802967686, 0.32218708121868694, 0.2331242544970421, 0.7662880587634254, 0.9992224679018015, 0.9995844132993557, 0.32318891695093127, 0.1697649648028768, 0.506934525914045, 0.9991803648654675, 0.7762992714809822, 0.22334628581324406, 0.9994081852738901, 0.9992878322417069, 0.0057900688946062725, 0.24130963598991437, 0.0827639259640779, 0.10149650179956879, 0.3012538786634852, 0.1888584236505399, 0.0786768185090617, 0.5127439222151804, 0.16576970874747252, 0.32145535079274, 0.31156982840856656, 0.610729554617504, 0.07771913165242615, 0.9986078594962265, 0.4094431885186061, 0.5904515399959699, 0.9990978328406696, 0.27065223598963123, 0.1731742992029274, 0.17209600344201254, 0.3840889500378751, 0.9995831376971535, 0.9994241357639381, 0.9991023828924136, 0.9993572070185104, 0.9992617160176831, 0.9995259900945718, 0.9993666928908395, 0.16313400528308328, 0.6924639245232976, 0.14402565151740745, 0.9998781957721516, 0.9991385851706682, 0.9982566960746929, 0.999049805544747, 0.9996653031151572, 0.9992660861458477, 0.9996760210183736, 0.9993359701032325, 0.7435009853117613, 0.1936414019009211, 0.06275999833596628, 0.9991760654196857, 0.9996452848404566, 0.8386569795310796, 0.16116977650646178, 0.9986232312763893, 0.9990954191130565, 0.9988639258452224, 0.9996165657976759, 0.39262625943420737, 0.2857461930101999, 0.32146446713647486, 0.9992429653832603, 0.9995954846813506, 0.06029790013643326, 0.3413639185143238, 0.035551987714850436, 0.2526460403565967, 0.2841997802129381, 0.025826519950909586, 0.9995755008973962, 0.999525448582792, 0.9995242640892684, 0.9989164760775443, 0.2943716076469812, 0.250451912700164, 0.12495675206052907, 0.2677991744806231, 0.06242256538486942, 0.264988019328462, 0.6023999203964628, 0.132494009664231, 0.99981100493366, 0.9997450693629606, 0.9994730551590646, 0.9992236482123912, 0.5126286605920989, 0.4870143038003551, 0.9998351928525552, 0.9992763030109336, 0.9996083662717166, 0.9990102439697043, 0.9996378257518701, 0.3010313919800816, 0.6986445932111628, 0.9999121331966014, 0.9991381641999073, 0.9993329780824799, 0.999706927884548, 0.9995414577519519, 0.9983318040193687, 0.9991613610321368, 0.3299011028028678, 0.5581774980756568, 0.11180884666422317, 0.9993304565417587, 0.9995453929547693, 0.9996429373900925, 0.9997622280709542, 0.9992762214959345, 0.9997755091550602, 0.7384571569814836, 0.2614114242495627, 0.9998317199772848, 0.9997277011122758, 0.9996269224963584, 0.9992300794191575, 0.9998172330345609, 0.9991551461068335, 0.27513360858992386, 0.7246455264468133, 0.9996789121751943, 0.9996371846485111, 0.9998863046681128, 0.9998513906125523, 0.9999654514293095, 0.9994065593959329, 0.9990154971951181, 0.9994429532542112, 0.4211420488550434, 0.19754309285567773, 0.3812086064283043, 0.9995382761250179, 0.9998033106332627, 0.999788377432558, 0.9995517236971945, 0.8606311443843324, 0.13885753428681266, 0.999761211220515, 0.9991033041534901, 0.9993201383586464, 0.9994709636749598, 0.9997111007659215, 0.17827583151623233, 0.24173815197445636, 0.5793964524277551, 0.7281650471192348, 0.27151417344000617, 0.9992458004190827, 0.9996182889647222, 0.9996509756042493, 0.9994770631927246, 0.9992980820652829, 0.7519193358524509, 0.24766305915646838], \"Term\": [\"\\uac00\\uaca9\", \"\\uac00\\uaca9\", \"\\uac00\\ub3c5\\uc131\", \"\\uac00\\uc2b4\", \"\\uac00\\uc7a5\", \"\\uac00\\uc7a5\", \"\\uac00\\uc7a5\", \"\\uac04\", \"\\uac04\", \"\\uac10\", \"\\uac10\", \"\\uac10\", \"\\uac10\\ub3d9\", \"\\uac10\\ub3d9\", \"\\uac10\\uc0ac\", \"\\uac10\\uc815\", \"\\uac15\\ub825\", \"\\uac15\\uc758\", \"\\uac15\\ucd94\", \"\\uac1c\", \"\\uac1c\\ub150\", \"\\uac1c\\ub150\", \"\\uac1c\\uc815\\ud310\", \"\\uac71\\uc815\", \"\\uac71\\uc815\", \"\\uac71\\uc815\", \"\\uac8c\\uc784\", \"\\uacc4\", \"\\uacc4\\uc0b0\", \"\\uace0\\ub4f1\", \"\\uace0\\ub4f1\\ud559\\uad50\", \"\\uace0\\ub4f1\\ud559\\uc0dd\", \"\\uace0\\ubbfc\", \"\\uace0\\ubbfc\", \"\\uace0\\ubbfc\", \"\\uace0\\uc804\", \"\\uace0\\ud559\\ub144\", \"\\uacf5\\uac10\", \"\\uacf5\\ubd80\", \"\\uacfc\\ubaa9\", \"\\uacfc\\ud559\", \"\\uad00\\uc810\", \"\\uad50\\uacfc\", \"\\uad50\\uacfc\\uc11c\", \"\\uad50\\uc0ac\", \"\\uad50\\uc218\", \"\\uad50\\uc721\", \"\\uad50\\uc7ac\", \"\\uad50\\uc7ac\", \"\\uad6c\", \"\\uad6c\\ub9e4\", \"\\uad6c\\ub9e4\", \"\\uad6c\\uc131\", \"\\uad6c\\uc785\", \"\\uad6c\\uc785\", \"\\uad6c\\uccb4\", \"\\uad6d\\uc5b4\", \"\\uad8c\", \"\\uad8c\", \"\\uad8c\", \"\\uadf8\", \"\\uadf8\", \"\\uadf8\", \"\\uadf8\", \"\\uadf8\", \"\\uadf8\\ub0e5\", \"\\uadf8\\ub0e5\", \"\\uadf8\\ub0e5\", \"\\uadf8\\ub9bc\", \"\\uadf8\\ub9bc\", \"\\uadf8\\ub9bc\\ucc45\", \"\\uae00\", \"\\uae00\", \"\\uae00\", \"\\uae00\\uc4f0\\uae30\", \"\\uae00\\uc528\", \"\\uae00\\uc790\", \"\\uae09\", \"\\uae0d\\uc815\", \"\\uae30\\ub2a5\", \"\\uae30\\ub300\", \"\\uae30\\ub300\", \"\\uae30\\ub300\", \"\\uae30\\ub3c4\", \"\\uae30\\ub3c4\", \"\\uae30\\ubcf8\", \"\\uae30\\ubcf8\", \"\\uae30\\ubcf8\", \"\\uae30\\ubd84\", \"\\uae30\\ubd84\", \"\\uae30\\ubd84\", \"\\uae30\\uc220\", \"\\uae30\\uc801\", \"\\uae30\\ucd08\", \"\\uae30\\ucd08\", \"\\uae30\\ucd9c\", \"\\uae30\\ud0c4\", \"\\uae38\", \"\\uaf2d\", \"\\uaf2d\", \"\\uafc8\", \"\\ub05d\", \"\\ub05d\", \"\\ub098\", \"\\ub098\", \"\\ub098\\uc774\", \"\\ub098\\uc911\", \"\\ub09c\", \"\\ub09c\\uc774\\ub3c4\", \"\\ub0a8\", \"\\ub0a8\\uc790\", \"\\ub0b4\", \"\\ub0b4\", \"\\ub0b4\\uc2e0\", \"\\ub0b4\\uc6a9\", \"\\ub178\\ud2b8\", \"\\ub17c\\ub9ac\", \"\\ub180\\uc774\", \"\\ub208\\ubb3c\", \"\\ub290\\ub08c\", \"\\ub290\\ub08c\", \"\\ub290\\ub08c\", \"\\ub2a5\\ub825\", \"\\ub2e4\\ub978\", \"\\ub2e4\\ub978\", \"\\ub2e4\\ub978\", \"\\ub2e4\\ub978\", \"\\ub2e4\\ub978\", \"\\ub2e4\\ub978\", \"\\ub2e4\\ub978\", \"\\ub2e4\\uc2dc\", \"\\ub2e4\\uc2dc\", \"\\ub2e4\\uc2dc\", \"\\ub2e8\\uc5b4\", \"\\ub2ec\", \"\\ub2ec\\ub77c\", \"\\ub2f5\", \"\\ub2f5\", \"\\ub300\\ube44\", \"\\ub300\\ud559\", \"\\ub300\\ud55c\", \"\\ub300\\ud55c\", \"\\ub300\\ud55c\", \"\\ub300\\ud574\", \"\\ub300\\ud574\", \"\\ub354\", \"\\ub354\", \"\\ub354\", \"\\ub354\", \"\\ub354\", \"\\ub354\", \"\\ub3c4\\uc11c\", \"\\ub3c4\\uc11c\\uad00\", \"\\ub3c4\\uc6c0\", \"\\ub3c4\\uc6c0\", \"\\ub3c4\\ud615\", \"\\ub3c5\\uc11c\", \"\\ub3c5\\ud574\", \"\\ub3c5\\ud574\\ub825\", \"\\ub3c8\", \"\\ub3c8\", \"\\ub3d9\\uc0dd\", \"\\ub3d9\\uc601\\uc0c1\", \"\\ub3d9\\ud654\", \"\\ub450\\uace0\\ub450\\uace0\", \"\\ub4dc\\ub124\", \"\\ub4e3\\uae30\", \"\\ub4ef\", \"\\ub4ef\", \"\\ub4ef\", \"\\ub4ef\", \"\\ub4ef\", \"\\ub514\\ub524\\ub3cc\", \"\\ub514\\uc790\\uc778\", \"\\ub538\", \"\\ub610\", \"\\ub610\", \"\\ub610\", \"\\ub610\", \"\\ub73b\", \"\\ub85c\\uc11c\", \"\\ub9ac\\ub529\", \"\\ub9ac\\ubdf0\", \"\\ub9c8\\ubb34\\ub9ac\", \"\\ub9c8\\uc74c\", \"\\ub9c8\\uc74c\", \"\\ub9c8\\uc74c\", \"\\ub9c8\\uc74c\", \"\\ub9c8\\uc9c0\\ub9c9\", \"\\ub9c8\\uc9c0\\ub9c9\", \"\\ub9d0\", \"\\ub9d0\", \"\\ub9d0\\uc500\", \"\\ub9d8\", \"\\ub9de\\ucda4\\ubc95\", \"\\ub9e4\", \"\\ub9e4\\uc6b0\", \"\\ub9e4\\uc77c\", \"\\ub9e4\\uc77c\", \"\\ub9e4\\uc77c\", \"\\uba87\", \"\\ubaa9\\ucc28\", \"\\ubaa9\\ud45c\", \"\\ubab0\\uc785\", \"\\ubb34\\ub8cc\", \"\\ubb34\\uc5c7\", \"\\ubb34\\uc5c7\", \"\\ubb34\\uc870\\uac74\", \"\\ubb38\\ubc95\", \"\\ubb38\\uc7a5\", \"\\ubb38\\uc81c\", \"\\ubb38\\ud559\", \"\\ubb50\", \"\\ubb50\", \"\\ubbf8\\uad6d\", \"\\ubbf8\\ub798\", \"\\ubc14\\ud0d5\", \"\\ubc18\\ubcf5\", \"\\ubc18\\ubcf5\", \"\\ubc1c\\uacac\", \"\\ubc1c\\uacac\", \"\\ubc29\\ubc95\", \"\\ubc29\\ud559\", \"\\ubc29\\ud5a5\", \"\\ubc30\\uacbd\", \"\\ubc30\\uc1a1\", \"\\ubc84\\uc804\", \"\\ubc88\", \"\\ubc88\", \"\\ubc88\", \"\\ubc88\", \"\\ubc88\\uc5ed\", \"\\ubc8c\\uc368\", \"\\ubc95\", \"\\ubc95\", \"\\ubcc0\\ud654\", \"\\ubcc4\", \"\\ubcc4\\ub85c\", \"\\ubcf4\\uace0\", \"\\ubcf4\\uace0\", \"\\ubcf4\\uae30\", \"\\ubcf4\\uae30\", \"\\ubcf4\\uc9c0\", \"\\ubcf5\\uc2b5\", \"\\ubcf8\\uae30\", \"\\ubcf8\\uc9c8\", \"\\ubcfc\", \"\\ubd80\\ub2f4\", \"\\ubd80\\ub2f4\", \"\\ubd80\\ubaa8\", \"\\ubd80\\ubd84\", \"\\ubd80\\ubd84\", \"\\ubd80\\ubd84\", \"\\ubd81\", \"\\ubd81\", \"\\ubd81\", \"\\ubd84\", \"\\ubd84\", \"\\ubd84\\ub7c9\", \"\\ubd84\\uc11d\", \"\\ubd88\\uad50\", \"\\ube44\", \"\\ube44\", \"\\uc0ac\\ub78c\", \"\\uc0ac\\ub78c\", \"\\uc0ac\\ub791\", \"\\uc0ac\\ub840\", \"\\uc0ac\\uc9c4\", \"\\uc0ac\\ud68c\", \"\\uc0b0\", \"\\uc0b6\", \"\\uc0b6\", \"\\uc0c1\\uc704\", \"\\uc0c1\\ucc98\", \"\\uc0c1\\ud0dc\", \"\\uc0c1\\ud669\", \"\\uc0dd\\uac01\", \"\\uc0dd\\uac01\", \"\\uc0dd\\uac01\", \"\\uc0dd\\uac01\", \"\\uc11c\\uc220\", \"\\uc11c\\uc220\", \"\\uc11c\\uc801\", \"\\uc11c\\uc810\", \"\\uc120\\ubb3c\", \"\\uc120\\ud0dd\", \"\\uc120\\ud0dd\", \"\\uc120\\ud0dd\", \"\\uc120\\ud589\", \"\\uc124\\uba85\", \"\\uc124\\uba85\", \"\\uc131\\uacbd\", \"\\uc131\\uc7a5\", \"\\uc131\\uc801\", \"\\uc138\", \"\\uc138\", \"\\uc138\\uacc4\", \"\\uc138\\uacc4\", \"\\uc138\\uacc4\\uc0ac\", \"\\uc138\\uc0c1\", \"\\uc18c\\uc124\", \"\\uc18c\\uc7a5\", \"\\uc18c\\uc7ac\", \"\\uc18d\", \"\\uc18d\", \"\\uc218\", \"\\uc218\", \"\\uc218\", \"\\uc218\\ub2a5\", \"\\uc218\\uc5c5\", \"\\uc218\\uc900\", \"\\uc218\\ud559\", \"\\uc21c\\uac04\", \"\\uc2a4\\ub2d8\", \"\\uc2a4\\uc2a4\\ub85c\", \"\\uc2a4\\uc2a4\\ub85c\", \"\\uc2a4\\uc2a4\\ub85c\", \"\\uc2a4\\ud2b8\\ub808\\uc2a4\", \"\\uc2b5\\uad00\", \"\\uc2dc\\uac01\", \"\\uc2dc\\uac04\", \"\\uc2dc\\uac04\", \"\\uc2dc\\uac04\", \"\\uc2dc\\uac04\", \"\\uc2dc\\ub300\", \"\\uc2dc\\ub9ac\\uc988\", \"\\uc2dc\\ub9ac\\uc988\", \"\\uc2dc\\uc120\", \"\\uc2dc\\uc791\", \"\\uc2dc\\uc791\", \"\\uc2dc\\uc791\", \"\\uc2dc\\ud5d8\", \"\\uc2e0\\uc559\", \"\\uc2e4\\ub825\", \"\\uc2e4\\ub825\", \"\\uc2e4\\ub9dd\", \"\\uc2e4\\uc804\", \"\\uc2ec\\ub9ac\", \"\\uc2ec\\ub9ac\\ud559\", \"\\uc2ec\\ud654\", \"\\uc3d9\", \"\\uc3d9\\uc3d9\", \"\\uc4f0\\uae30\", \"\\uc4f0\\uae30\", \"\\uc544\\uae30\", \"\\uc544\\ub4e4\", \"\\uc544\\ube60\", \"\\uc544\\uc774\", \"\\uc544\\uc774\", \"\\uc544\\uc8fc\", \"\\uc544\\uc8fc\", \"\\uc548\", \"\\uc548\", \"\\uc548\", \"\\uc54c\", \"\\uc54c\", \"\\uc554\\uae30\", \"\\uc560\", \"\\uc560\", \"\\uc57d\\uac04\", \"\\uc5b4\\ub978\", \"\\uc5b4\\ud718\", \"\\uc5b8\\uc5b4\", \"\\uc5c4\\ub9c8\", \"\\uc5c4\\ub9c8\", \"\\uc5ec\\ud589\", \"\\uc5ed\\uc0ac\", \"\\uc5ed\\uc2dc\", \"\\uc5ed\\uc2dc\", \"\\uc5ed\\uc2dc\", \"\\uc5ed\\uc2dc\", \"\\uc5ed\\uc2dc\", \"\\uc5ed\\ud560\", \"\\uc5f0\\uad6c\", \"\\uc5f0\\uc0b0\", \"\\uc5f0\\uc2b5\", \"\\uc601\\ubb38\\ubc95\", \"\\uc601\\uc5b4\", \"\\uc601\\uc5ed\", \"\\uc601\\ud654\", \"\\uc608\\ubb38\", \"\\uc608\\ube44\", \"\\uc608\\uc2b5\", \"\\uc608\\uc2dc\", \"\\uc608\\uc81c\", \"\\uc694\", \"\\uc694\", \"\\uc694\", \"\\uc694\\uc57d\", \"\\uc6a9\", \"\\uc6a9\", \"\\uc6a9\\uae30\", \"\\uc6a9\\uc774\", \"\\uc6b0\\ub9ac\", \"\\uc6cc\", \"\\uc6d0\\ub9ac\", \"\\uc704\", \"\\uc704\", \"\\uc704\", \"\\uc704\", \"\\uc704\\ub85c\", \"\\uc704\\ub85c\", \"\\uc704\\ud574\", \"\\uc704\\ud574\", \"\\uc720\\ud29c\\ube0c\", \"\\uc720\\ud615\", \"\\uc721\\uc544\", \"\\uc751\\uc6a9\", \"\\uc751\\uc6d0\", \"\\uc774\\uac74\", \"\\uc774\\ub984\", \"\\uc774\\ub984\", \"\\uc774\\uc57c\\uae30\", \"\\uc774\\uc57c\\uae30\", \"\\uc774\\ud574\", \"\\uc774\\ud574\", \"\\uc774\\ud6c4\", \"\\uc778\", \"\\uc778\\uac04\", \"\\uc778\\ubb38\\ud559\", \"\\uc778\\uc0dd\", \"\\uc77c\", \"\\uc785\\ubb38\", \"\\uc785\\uc7a5\", \"\\uc785\\ud559\", \"\\uc790\\uae30\", \"\\uc790\\uae30\\uacc4\\ubc1c\", \"\\uc790\\uafb8\", \"\\uc790\\ub140\", \"\\uc790\\ub8cc\", \"\\uc790\\ub9ac\", \"\\uc790\\uc2e0\", \"\\uc790\\uc2e0\", \"\\uc790\\uc2e0\\uac10\", \"\\uc790\\uc2e0\\uac10\", \"\\uc790\\uc5f0\", \"\\uc790\\uc874\\uac10\", \"\\uc791\\uac00\", \"\\uc791\\uac00\", \"\\uc791\\uc131\", \"\\uc791\\ud488\", \"\\uc791\\ud488\", \"\\uc7a1\\uace0\", \"\\uc7a5\", \"\\uc800\", \"\\uc800\", \"\\uc800\", \"\\uc800\\uc790\", \"\\uc800\\uc790\", \"\\uc800\\uc790\", \"\\uc800\\uc790\", \"\\uc800\\uc790\", \"\\uc801\\uadf9\", \"\\uc801\\uadf9\", \"\\uc801\\uc6a9\", \"\\uc804\\ubc18\", \"\\uc810\", \"\\uc810\", \"\\uc810\", \"\\uc810\\uc810\", \"\\uc811\", \"\\uc811\", \"\\uc811\\uadfc\", \"\\uc815\\ub2f5\", \"\\uc815\\ub3c4\", \"\\uc815\\ub3c4\", \"\\uc815\\ub3c4\", \"\\uc815\\ub3c4\", \"\\uc815\\ub3c4\", \"\\uc815\\ub3c4\", \"\\uc815\\ub3c4\", \"\\uc815\\ub9ac\", \"\\uc815\\ub9ac\", \"\\uc815\\ub9ac\", \"\\uc815\\ub9d0\", \"\\uc815\\ub9d0\", \"\\uc815\\ub9d0\", \"\\uc815\\uc2e0\", \"\\uc81c\\ubaa9\", \"\\uc81c\\ubaa9\", \"\\uc81c\\uc77c\", \"\\uc870\\uae08\", \"\\uc870\\uae08\", \"\\uc870\\uae08\", \"\\uc870\\uae08\", \"\\uc870\\uce74\", \"\\uc874\\uc7ac\", \"\\uc885\\uc774\", \"\\uc8fc\\uc758\", \"\\uc8fc\\uc778\\uacf5\", \"\\uc8fc\\uc81c\", \"\\uc8fd\\uc74c\", \"\\uc900\\ube44\", \"\\uc900\\ube44\", \"\\uc900\\ube44\", \"\\uc911\", \"\\uc911\\uac04\", \"\\uc911\\uad6d\\uc5b4\", \"\\uc911\\ub4f1\", \"\\uc911\\uc2ec\", \"\\uc911\\ud559\", \"\\uc911\\ud559\\uad50\", \"\\uc911\\ud559\\uc0dd\", \"\\uc9c0\\uae08\", \"\\uc9c0\\uae08\", \"\\uc9c0\\uae08\", \"\\uc9c0\\ub3c4\", \"\\uc9c0\\ubb38\", \"\\uc9c0\\uc2dd\", \"\\uc9c0\\uc2dd\", \"\\uc9c0\\uc778\", \"\\uc9c0\\ud61c\", \"\\uc9c1\\uc5c5\", \"\\uc9c4\\ub85c\", \"\\uc9c4\\uc9dc\", \"\\uc9c4\\uc9dc\", \"\\uc9c4\\uc9dc\", \"\\uc9c4\\ud589\", \"\\uc9c8\\ubb38\", \"\\uc9d1\", \"\\uc9d1\", \"\\uc9d1\", \"\\uc9d1\", \"\\uc9d1\", \"\\uc9d1\", \"\\uc9d1\\uc911\", \"\\ucabd\", \"\\ucc28\", \"\\ucc28\\uadfc\\ucc28\\uadfc\", \"\\ucc45\", \"\\ucc45\", \"\\ucc45\", \"\\ucc45\", \"\\ucc45\", \"\\ucc98\\uc74c\", \"\\ucc98\\uc74c\", \"\\ucc98\\uc74c\", \"\\ucca0\\ud559\", \"\\uccad\\uc18c\\ub144\", \"\\uccb4\\uacc4\", \"\\uccb4\\ud06c\", \"\\ucd08\", \"\\ucd08\", \"\\ucd08\\ub4f1\", \"\\ucd08\\ub4f1\\ud559\\uad50\", \"\\ucd08\\ub4f1\\ud559\\uc0dd\", \"\\ucd08\\ubcf4\", \"\\ucd5c\", \"\\ucd5c\\uace0\", \"\\ucd5c\\uace0\", \"\\ucd94\\ucc9c\", \"\\ucd9c\\ud310\\uc0ac\", \"\\uce58\\uc720\", \"\\uce5c\\uad6c\", \"\\ucf54\\ub4dc\", \"\\ud06c\\uae30\", \"\\ud1b5\\ucc30\", \"\\ud1b5\\ud574\", \"\\ud1b5\\ud574\", \"\\ud1b5\\ud574\", \"\\ud301\", \"\\ud30c\\uc545\", \"\\ud310\", \"\\ud398\\uc774\\uc9c0\", \"\\ud3c9\\uac00\", \"\\ud45c\\uc9c0\", \"\\ud45c\\ud604\", \"\\ud45c\\ud604\", \"\\ud480\", \"\\ud480\\uae30\", \"\\ud480\\uc774\", \"\\ud544\\ub3c5\", \"\\ud558\\ub098\", \"\\ud558\\ub098\\ub2d8\", \"\\ud558\\ub8e8\", \"\\ud558\\ub8e8\", \"\\ud559\\uad50\", \"\\ud559\\uae30\", \"\\ud559\\ub144\", \"\\ud559\\uc0dd\", \"\\ud559\\uc2b5\", \"\\ud559\\uc6d0\", \"\\ud55c\\uad6d\\uc0ac\", \"\\ud55c\\uae00\", \"\\ud55c\\ubc88\", \"\\ud55c\\ubc88\", \"\\ud55c\\ubc88\", \"\\ud55c\\uc790\", \"\\ud55c\\uc7a5\", \"\\ud574\\uc11d\", \"\\ud574\\uc124\", \"\\ud575\\uc2ec\", \"\\ud575\\uc2ec\", \"\\ud589\\ub3d9\", \"\\ud589\\ubcf5\", \"\\ud5a5\", \"\\ud5a5\\uc0c1\", \"\\ud615\\uc2dd\", \"\\ud655\\uc778\", \"\\ud655\\uc778\", \"\\ud655\\uc778\", \"\\ud65c\\uc6a9\", \"\\ud65c\\uc6a9\", \"\\ud6a8\\uacfc\", \"\\ud6a8\\uc728\", \"\\ud6c8\\ub828\", \"\\ud765\\ubbf8\", \"\\ud76c\\ub9dd\", \"\\ud798\", \"\\ud798\"]}, \"R\": 30, \"lambda.step\": 0.01, \"plot.opts\": {\"xlab\": \"PC1\", \"ylab\": \"PC2\"}, \"topic.order\": [6, 7, 3, 1, 5, 9, 8, 4, 2, 10]};\n\nfunction LDAvis_load_lib(url, callback){\n  var s = document.createElement('script');\n  s.src = url;\n  s.async = true;\n  s.onreadystatechange = s.onload = callback;\n  s.onerror = function(){console.warn(\"failed to load library \" + url);};\n  document.getElementsByTagName(\"head\")[0].appendChild(s);\n}\n\nif(typeof(LDAvis) !== \"undefined\"){\n   // already loaded: just create the visualization\n   !function(LDAvis){\n       new LDAvis(\"#\" + \"ldavis_el1985226094976744402282611576\", ldavis_el1985226094976744402282611576_data);\n   }(LDAvis);\n}else if(typeof define === \"function\" && define.amd){\n   // require.js is available: use it to load d3/LDAvis\n   require.config({paths: {d3: \"https://d3js.org/d3.v5\"}});\n   require([\"d3\"], function(d3){\n      window.d3 = d3;\n      LDAvis_load_lib(\"https://cdn.jsdelivr.net/gh/bmabey/pyLDAvis@3.2.2/pyLDAvis/js/ldavis.v3.0.0.js\", function(){\n        new LDAvis(\"#\" + \"ldavis_el1985226094976744402282611576\", ldavis_el1985226094976744402282611576_data);\n      });\n    });\n}else{\n    // require.js not available: dynamically load d3 & LDAvis\n    LDAvis_load_lib(\"https://d3js.org/d3.v5.js\", function(){\n         LDAvis_load_lib(\"https://cdn.jsdelivr.net/gh/bmabey/pyLDAvis@3.2.2/pyLDAvis/js/ldavis.v3.0.0.js\", function(){\n                 new LDAvis(\"#\" + \"ldavis_el1985226094976744402282611576\", ldavis_el1985226094976744402282611576_data);\n            })\n         });\n}\n</script>"
     },
     "metadata": {},
     "execution_count": 72
    }
   ],
   "source": [
    "import pyLDAvis.gensim\n",
    "\n",
    "pyLDAvis.enable_notebook()\n",
    "vis = pyLDAvis.gensim.prepare(ldamodel, corpus, dictionary)\n",
    "pyLDAvis.display(vis)"
   ]
  },
  {
   "cell_type": "code",
   "execution_count": 74,
   "metadata": {},
   "outputs": [
    {
     "output_type": "stream",
     "name": "stdout",
     "text": [
      "0 번째 문서의 topic 비율은 [(0, 0.30006546), (1, 0.014294099), (2, 0.014291131), (3, 0.1570159), (4, 0.014291131), (5, 0.014291131), (6, 0.01429433), (7, 0.15718687), (8, 0.29997322), (9, 0.014296708)]\n",
      "1 번째 문서의 topic 비율은 [(0, 0.3884414), (3, 0.3679789), (6, 0.20238101)]\n",
      "2 번째 문서의 topic 비율은 [(0, 0.3501626), (1, 0.016682936), (2, 0.016682936), (3, 0.18336561), (4, 0.016682936), (5, 0.016682936), (6, 0.1828772), (7, 0.18349701), (8, 0.016682936), (9, 0.016682936)]\n",
      "3 번째 문서의 topic 비율은 [(0, 0.091721125), (3, 0.5087478), (6, 0.091096915), (7, 0.17508632), (9, 0.09163542)]\n",
      "4 번째 문서의 topic 비율은 [(2, 0.08384413), (6, 0.32060724), (7, 0.19374393), (8, 0.08468219), (9, 0.27861086)]\n",
      "d:\\project02\\field-team4_Test\\machine_learning\\web_scraping\\venv\\lib\\site-packages\\ipykernel\\ipkernel.py:283: DeprecationWarning: `should_run_async` will not call `transform_cell` automatically in the future. Please pass the result to `transformed_cell` argument and any exception that happen during thetransform in `preprocessing_exc_tuple` in IPython 7.17 and above.\n",
      "  and should_run_async(code)\n"
     ]
    }
   ],
   "source": [
    "for i, topic_list in enumerate(ldamodel[corpus]):\n",
    "    if i==5:\n",
    "        break\n",
    "    print(i,'번째 문서의 topic 비율은',topic_list)"
   ]
  },
  {
   "source": [
    "## 테스트 결과\n",
    "\n",
    "* 여기서의 문서들은 각각의 리뷰를 말하는 것 같다.\n",
    "* 테스트 해볼 조건들\n",
    "    * topic의 수\n",
    "    * ISBN끼리 리뷰를 한 곳에 모으기\n",
    "    * 리뷰에 책 설명을 합치기"
   ],
   "cell_type": "markdown",
   "metadata": {}
  }
 ],
 "metadata": {
  "accelerator": "GPU",
  "colab": {
   "collapsed_sections": [
    "excessive-democrat",
    "confident-respondent",
    "hawaiian-coalition"
   ],
   "name": "NaverMovieReview+AllBookReview+TestData+Mecab.ipynb",
   "provenance": []
  },
  "kernelspec": {
   "display_name": "Python 3",
   "language": "python",
   "name": "python3"
  },
  "language_info": {
   "codemirror_mode": {
    "name": "ipython",
    "version": 3
   },
   "file_extension": ".py",
   "mimetype": "text/x-python",
   "name": "python",
   "nbconvert_exporter": "python",
   "pygments_lexer": "ipython3",
   "version": "3.7.8"
  }
 },
 "nbformat": 4,
 "nbformat_minor": 5
}